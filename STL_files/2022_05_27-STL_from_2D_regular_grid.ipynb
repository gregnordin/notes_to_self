{
 "cells": [
  {
   "cell_type": "markdown",
   "id": "33a5b7b8-61b2-4742-9213-984ec5925b13",
   "metadata": {},
   "source": [
    "# Purpose\n",
    "\n",
    "Define a 2D regular grid and turn it into a 2D STL file."
   ]
  },
  {
   "cell_type": "code",
   "execution_count": 1,
   "id": "3f0de490-5f62-4d3c-92b3-3fefec2778bc",
   "metadata": {},
   "outputs": [],
   "source": [
    "from pathlib import Path\n",
    "\n",
    "import numpy as np\n",
    "from stl import mesh\n"
   ]
  },
  {
   "cell_type": "code",
   "execution_count": 6,
   "id": "a24f58e8-34c1-4772-a919-bd448046d41d",
   "metadata": {},
   "outputs": [
    {
     "name": "stdout",
     "output_type": "stream",
     "text": [
      "(n_x, n_y): (5, 4)\n",
      "n_points=20\n",
      "n_faces=24\n"
     ]
    }
   ],
   "source": [
    "n_x = 5\n",
    "n_y = 4\n",
    "n_points = n_x * n_y\n",
    "n_faces = 2 * (n_x - 1) * (n_y - 1)\n",
    "\n",
    "print(f\"(n_x, n_y): {n_x, n_y}\")\n",
    "print(f\"{n_points=}\")\n",
    "print(f\"{n_faces=}\")"
   ]
  },
  {
   "cell_type": "code",
   "execution_count": 19,
   "id": "ac2c09e7-da84-4913-b551-d9a1e0318ad4",
   "metadata": {},
   "outputs": [
    {
     "name": "stdout",
     "output_type": "stream",
     "text": [
      "x range = 0, 0.4\n",
      "y range = 0, 0.30000000000000004\n"
     ]
    }
   ],
   "source": [
    "dx = 0.1\n",
    "dy = 0.1\n",
    "\n",
    "print(f\"x range = 0, {dx * (n_x - 1)}\")\n",
    "print(f\"y range = 0, {dy * (n_y - 1)}\")"
   ]
  },
  {
   "cell_type": "code",
   "execution_count": null,
   "id": "da700fe2-b735-4f75-bd39-6451d2a73b64",
   "metadata": {},
   "outputs": [],
   "source": []
  },
  {
   "cell_type": "code",
   "execution_count": 16,
   "id": "0a35d23d-49c3-4cdc-9642-01db610251b1",
   "metadata": {},
   "outputs": [
    {
     "data": {
      "text/plain": [
       "array([[0., 0., 0.],\n",
       "       [0., 0., 0.],\n",
       "       [0., 0., 0.],\n",
       "       [0., 0., 0.],\n",
       "       [0., 0., 0.],\n",
       "       [0., 0., 0.],\n",
       "       [0., 0., 0.],\n",
       "       [0., 0., 0.],\n",
       "       [0., 0., 0.],\n",
       "       [0., 0., 0.],\n",
       "       [0., 0., 0.],\n",
       "       [0., 0., 0.],\n",
       "       [0., 0., 0.],\n",
       "       [0., 0., 0.],\n",
       "       [0., 0., 0.],\n",
       "       [0., 0., 0.],\n",
       "       [0., 0., 0.],\n",
       "       [0., 0., 0.],\n",
       "       [0., 0., 0.],\n",
       "       [0., 0., 0.]])"
      ]
     },
     "execution_count": 16,
     "metadata": {},
     "output_type": "execute_result"
    }
   ],
   "source": [
    "points = np.zeros((n_points, 3), dtype=np.float)\n",
    "points"
   ]
  },
  {
   "cell_type": "code",
   "execution_count": 17,
   "id": "540aa55d-ebee-471d-b753-28ed54dbd3e9",
   "metadata": {},
   "outputs": [
    {
     "name": "stdout",
     "output_type": "stream",
     "text": [
      "0 0 0\n",
      "1 1 0\n",
      "2 2 0\n",
      "3 3 0\n",
      "4 4 0\n",
      "5 0 1\n",
      "6 1 1\n",
      "7 2 1\n",
      "8 3 1\n",
      "9 4 1\n",
      "10 0 2\n",
      "11 1 2\n",
      "12 2 2\n",
      "13 3 2\n",
      "14 4 2\n",
      "15 0 3\n",
      "16 1 3\n",
      "17 2 3\n",
      "18 3 3\n",
      "19 4 3\n"
     ]
    },
    {
     "data": {
      "text/plain": [
       "array([[0., 0., 0.],\n",
       "       [1., 0., 0.],\n",
       "       [2., 0., 0.],\n",
       "       [3., 0., 0.],\n",
       "       [4., 0., 0.],\n",
       "       [0., 1., 0.],\n",
       "       [1., 1., 0.],\n",
       "       [2., 1., 0.],\n",
       "       [3., 1., 0.],\n",
       "       [4., 1., 0.],\n",
       "       [0., 2., 0.],\n",
       "       [1., 2., 0.],\n",
       "       [2., 2., 0.],\n",
       "       [3., 2., 0.],\n",
       "       [4., 2., 0.],\n",
       "       [0., 3., 0.],\n",
       "       [1., 3., 0.],\n",
       "       [2., 3., 0.],\n",
       "       [3., 3., 0.],\n",
       "       [4., 3., 0.]])"
      ]
     },
     "execution_count": 17,
     "metadata": {},
     "output_type": "execute_result"
    }
   ],
   "source": [
    "for j in range(n_y):\n",
    "    for i in range(n_x):\n",
    "        index = i + n_x * j\n",
    "        print(index, i, j)\n",
    "        points[index] = [i, j, 0]\n",
    "points"
   ]
  },
  {
   "cell_type": "code",
   "execution_count": null,
   "id": "67c9aadb-8b56-419f-ae4b-ba19755882fd",
   "metadata": {},
   "outputs": [],
   "source": []
  }
 ],
 "metadata": {
  "kernelspec": {
   "display_name": "anaconda_py38",
   "language": "python",
   "name": "anaconda_py38"
  },
  "language_info": {
   "codemirror_mode": {
    "name": "ipython",
    "version": 3
   },
   "file_extension": ".py",
   "mimetype": "text/x-python",
   "name": "python",
   "nbconvert_exporter": "python",
   "pygments_lexer": "ipython3",
   "version": "3.8.5"
  }
 },
 "nbformat": 4,
 "nbformat_minor": 5
}
