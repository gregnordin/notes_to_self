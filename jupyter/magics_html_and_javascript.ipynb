{
 "cells": [
  {
   "cell_type": "markdown",
   "metadata": {},
   "source": [
    "# Magics\n",
    "\n",
    "## HTML"
   ]
  },
  {
   "cell_type": "code",
   "execution_count": 1,
   "metadata": {},
   "outputs": [
    {
     "data": {
      "text/html": [
       "<iframe width=\"560\" height=\"315\" src=\"https://www.youtube.com/embed/YJC6ldI3hWk\" frameborder=\"0\" allowfullscreen></iframe>"
      ],
      "text/plain": [
       "<IPython.core.display.HTML object>"
      ]
     },
     "metadata": {},
     "output_type": "display_data"
    }
   ],
   "source": [
    "%%HTML\n",
    "<iframe width=\"560\" height=\"315\" src=\"https://www.youtube.com/embed/YJC6ldI3hWk\" frameborder=\"0\" allowfullscreen></iframe>"
   ]
  },
  {
   "cell_type": "markdown",
   "metadata": {},
   "source": [
    "## Javascript in HTML"
   ]
  },
  {
   "cell_type": "code",
   "execution_count": 5,
   "metadata": {},
   "outputs": [
    {
     "data": {
      "text/html": [
       "\n",
       "<p>Normal HTML here.</p>\n",
       "<svg>\n",
       "  <circle r=\"50\" cx=\"50\" cy=\"50\" fill=\"red\"/>\n",
       "  <rect x=\"120\" y=\"5\" width=\"90\" height=\"90\"\n",
       "        stroke=\"blue\" fill=\"none\"/>\n",
       "</svg>"
      ],
      "text/plain": [
       "<IPython.core.display.HTML object>"
      ]
     },
     "metadata": {},
     "output_type": "display_data"
    }
   ],
   "source": [
    "%%HTML\n",
    "\n",
    "<p>Normal HTML here.</p>\n",
    "<svg>\n",
    "  <circle r=\"50\" cx=\"50\" cy=\"50\" fill=\"red\"/>\n",
    "  <rect x=\"120\" y=\"5\" width=\"90\" height=\"90\"\n",
    "        stroke=\"blue\" fill=\"none\"/>\n",
    "</svg>"
   ]
  },
  {
   "cell_type": "markdown",
   "metadata": {},
   "source": [
    "Examples: [Drawing on Canvas](https://eloquentjavascript.net/16_canvas.html)"
   ]
  },
  {
   "cell_type": "code",
   "execution_count": 19,
   "metadata": {},
   "outputs": [
    {
     "data": {
      "text/html": [
       "\n",
       "<p>Before canvas.</p>\n",
       "<canvas width=\"120\" height=\"60\"></canvas>\n",
       "<p>After canvas.</p>\n",
       "<script>\n",
       "  var canvas = document.querySelector(\"canvas\");\n",
       "  var context = canvas.getContext(\"2d\");\n",
       "  context.fillStyle = \"red\";\n",
       "  context.fillRect(10, 10, 100, 50);\n",
       "</script>"
      ],
      "text/plain": [
       "<IPython.core.display.HTML object>"
      ]
     },
     "metadata": {},
     "output_type": "display_data"
    }
   ],
   "source": [
    "%%HTML\n",
    "\n",
    "<p>Before canvas.</p>\n",
    "<canvas width=\"120\" height=\"60\"></canvas>\n",
    "<p>After canvas.</p>\n",
    "<script>\n",
    "  var canvas = document.querySelector(\"canvas\");\n",
    "  var context = canvas.getContext(\"2d\");\n",
    "  context.fillStyle = \"red\";\n",
    "  context.fillRect(10, 10, 100, 50);\n",
    "</script>"
   ]
  },
  {
   "cell_type": "markdown",
   "metadata": {},
   "source": [
    "The code below draws a blue square on the canvas above even though it also has a canvas tag. I suppose it just stops with the first canvas tag it finds in the document DOM."
   ]
  },
  {
   "cell_type": "code",
   "execution_count": 21,
   "metadata": {},
   "outputs": [
    {
     "data": {
      "text/html": [
       "\n",
       "<canvas></canvas>\n",
       "<script>\n",
       "  var cx = document.querySelector(\"canvas\").getContext(\"2d\");\n",
       "  cx.strokeStyle = \"blue\";\n",
       "  cx.strokeRect(5, 5, 50, 50);\n",
       "  cx.lineWidth = 5;\n",
       "  cx.strokeRect(135, 5, 50, 50);\n",
       "</script>"
      ],
      "text/plain": [
       "<IPython.core.display.HTML object>"
      ]
     },
     "metadata": {},
     "output_type": "display_data"
    }
   ],
   "source": [
    "%%HTML\n",
    "\n",
    "<canvas></canvas>\n",
    "<script>\n",
    "  var cx = document.querySelector(\"canvas\").getContext(\"2d\");\n",
    "  cx.strokeStyle = \"blue\";\n",
    "  cx.strokeRect(5, 5, 50, 50);\n",
    "  cx.lineWidth = 5;\n",
    "  cx.strokeRect(135, 5, 50, 50);\n",
    "</script>\n"
   ]
  },
  {
   "cell_type": "markdown",
   "metadata": {},
   "source": [
    "[Basic animations](https://developer.mozilla.org/en-US/docs/Web/API/Canvas_API/Tutorial/Basic_animations):"
   ]
  },
  {
   "cell_type": "code",
   "execution_count": 18,
   "metadata": {},
   "outputs": [
    {
     "data": {
      "text/html": [
       "\n",
       "<canvas width=\"300\" height=\"300\" id=\"canvas\"></canvas>\n",
       "\n",
       "<script>\n",
       "    var sun = new Image();\n",
       "    var moon = new Image();\n",
       "    var earth = new Image();\n",
       "    function init() {\n",
       "      sun.src = 'https://mdn.mozillademos.org/files/1456/Canvas_sun.png';\n",
       "      moon.src = 'https://mdn.mozillademos.org/files/1443/Canvas_moon.png';\n",
       "      earth.src = 'https://mdn.mozillademos.org/files/1429/Canvas_earth.png';\n",
       "      window.requestAnimationFrame(draw);\n",
       "    }\n",
       "\n",
       "    function draw() {\n",
       "      var ctx = document.getElementById('canvas').getContext('2d');\n",
       "\n",
       "      ctx.globalCompositeOperation = 'destination-over';\n",
       "      ctx.clearRect(0, 0, 300, 300); // clear canvas\n",
       "\n",
       "      ctx.fillStyle = 'rgba(0, 0, 0, 0.4)';\n",
       "      ctx.strokeStyle = 'rgba(0, 153, 255, 0.4)';\n",
       "      ctx.save();\n",
       "      ctx.translate(150, 150);\n",
       "\n",
       "      // Earth\n",
       "      var time = new Date();\n",
       "      ctx.rotate(((2 * Math.PI) / 60) * time.getSeconds() + ((2 * Math.PI) / 60000) * time.getMilliseconds());\n",
       "      ctx.translate(105, 0);\n",
       "      ctx.fillRect(0, -12, 50, 24); // Shadow\n",
       "      ctx.drawImage(earth, -12, -12);\n",
       "\n",
       "      // Moon\n",
       "      ctx.save();\n",
       "      ctx.rotate(((2 * Math.PI) / 6) * time.getSeconds() + ((2 * Math.PI) / 6000) * time.getMilliseconds());\n",
       "      ctx.translate(0, 28.5);\n",
       "      ctx.drawImage(moon, -3.5, -3.5);\n",
       "      ctx.restore();\n",
       "\n",
       "      ctx.restore();\n",
       "\n",
       "      ctx.beginPath();\n",
       "      ctx.arc(150, 150, 105, 0, Math.PI * 2, false); // Earth orbit\n",
       "      ctx.stroke();\n",
       "\n",
       "      ctx.drawImage(sun, 0, 0, 300, 300);\n",
       "\n",
       "      window.requestAnimationFrame(draw);\n",
       "    }\n",
       "\n",
       "    init();\n",
       "</script>"
      ],
      "text/plain": [
       "<IPython.core.display.HTML object>"
      ]
     },
     "metadata": {},
     "output_type": "display_data"
    }
   ],
   "source": [
    "%%HTML\n",
    "\n",
    "<canvas width=\"300\" height=\"300\" id=\"canvas\"></canvas>\n",
    "\n",
    "<script>\n",
    "    var sun = new Image();\n",
    "    var moon = new Image();\n",
    "    var earth = new Image();\n",
    "    function init() {\n",
    "      sun.src = 'https://mdn.mozillademos.org/files/1456/Canvas_sun.png';\n",
    "      moon.src = 'https://mdn.mozillademos.org/files/1443/Canvas_moon.png';\n",
    "      earth.src = 'https://mdn.mozillademos.org/files/1429/Canvas_earth.png';\n",
    "      window.requestAnimationFrame(draw);\n",
    "    }\n",
    "\n",
    "    function draw() {\n",
    "      var ctx = document.getElementById('canvas').getContext('2d');\n",
    "\n",
    "      ctx.globalCompositeOperation = 'destination-over';\n",
    "      ctx.clearRect(0, 0, 300, 300); // clear canvas\n",
    "\n",
    "      ctx.fillStyle = 'rgba(0, 0, 0, 0.4)';\n",
    "      ctx.strokeStyle = 'rgba(0, 153, 255, 0.4)';\n",
    "      ctx.save();\n",
    "      ctx.translate(150, 150);\n",
    "\n",
    "      // Earth\n",
    "      var time = new Date();\n",
    "      ctx.rotate(((2 * Math.PI) / 60) * time.getSeconds() + ((2 * Math.PI) / 60000) * time.getMilliseconds());\n",
    "      ctx.translate(105, 0);\n",
    "      ctx.fillRect(0, -12, 50, 24); // Shadow\n",
    "      ctx.drawImage(earth, -12, -12);\n",
    "\n",
    "      // Moon\n",
    "      ctx.save();\n",
    "      ctx.rotate(((2 * Math.PI) / 6) * time.getSeconds() + ((2 * Math.PI) / 6000) * time.getMilliseconds());\n",
    "      ctx.translate(0, 28.5);\n",
    "      ctx.drawImage(moon, -3.5, -3.5);\n",
    "      ctx.restore();\n",
    "\n",
    "      ctx.restore();\n",
    "\n",
    "      ctx.beginPath();\n",
    "      ctx.arc(150, 150, 105, 0, Math.PI * 2, false); // Earth orbit\n",
    "      ctx.stroke();\n",
    "\n",
    "      ctx.drawImage(sun, 0, 0, 300, 300);\n",
    "\n",
    "      window.requestAnimationFrame(draw);\n",
    "    }\n",
    "\n",
    "    init();\n",
    "</script>"
   ]
  },
  {
   "cell_type": "code",
   "execution_count": null,
   "metadata": {
    "collapsed": true
   },
   "outputs": [],
   "source": []
  }
 ],
 "metadata": {
  "kernelspec": {
   "display_name": "Python [conda root]",
   "language": "python",
   "name": "conda-root-py"
  },
  "language_info": {
   "codemirror_mode": {
    "name": "ipython",
    "version": 3
   },
   "file_extension": ".py",
   "mimetype": "text/x-python",
   "name": "python",
   "nbconvert_exporter": "python",
   "pygments_lexer": "ipython3",
   "version": "3.6.2"
  },
  "toc": {
   "colors": {
    "hover_highlight": "#DAA520",
    "navigate_num": "#000000",
    "navigate_text": "#333333",
    "running_highlight": "#FF0000",
    "selected_highlight": "#FFD700",
    "sidebar_border": "#EEEEEE",
    "wrapper_background": "#FFFFFF"
   },
   "moveMenuLeft": true,
   "nav_menu": {
    "height": "66px",
    "width": "252px"
   },
   "navigate_menu": true,
   "number_sections": true,
   "sideBar": true,
   "threshold": 4,
   "toc_cell": false,
   "toc_section_display": "block",
   "toc_window_display": true,
   "widenNotebook": false
  }
 },
 "nbformat": 4,
 "nbformat_minor": 2
}
