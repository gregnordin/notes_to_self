{
 "cells": [
  {
   "cell_type": "markdown",
   "metadata": {},
   "source": [
    "Basic method to transfer data from javascript to python adapted from [A little exchange - python variable -> javascript variable -> python variable](https://michhar.github.io/javascript-and-python-have-a-party/).\n",
    "\n",
    "Here is a jupyter notebook that implements the method in this blog post: [Jupyter_and_JavaScript.ipynb](https://github.com/michhar/python-jupyter-notebooks/blob/master/primers/Jupyter_and_JavaScript.ipynb)."
   ]
  },
  {
   "cell_type": "code",
   "execution_count": 1,
   "metadata": {},
   "outputs": [],
   "source": [
    "import numpy as np\n",
    "import matplotlib.pyplot as plt\n",
    "%matplotlib inline"
   ]
  },
  {
   "cell_type": "code",
   "execution_count": 12,
   "metadata": {},
   "outputs": [
    {
     "data": {
      "application/javascript": [
       "\n",
       "const range = (start, stop, step) => Array.from({ length: (stop - start) / step + 1}, (_, i) => start + (i * step));\n",
       "const fill_zeros = (start, stop, step) => Array.from({ length: (stop - start) / step + 1}, (_, i) => 0);\n",
       "\n",
       "var layer_info = [\n",
       "    [10, 300],\n",
       "    [10, 300],\n",
       "    [10, 300],\n",
       "    [10, 300],\n",
       "    [10, 300],\n",
       "    [10, 300],\n",
       "    [10, 300],\n",
       "    [10, 300],\n",
       "    [10, 300],\n",
       "    [10, 300],\n",
       "]\n",
       "\n",
       "var z_min = 0;\n",
       "var z_max = 100;\n",
       "var z_step = 0.25;\n",
       "\n",
       "var h_a = 10;\n",
       "\n",
       "var z_values = range(z_min, z_max, z_step);\n",
       "var dose = fill_zeros(z_min, z_max, z_step);\n",
       "\n",
       "\n",
       "var z_current = 0;\n",
       "for (var i=0; i<layer_info.length; i++) {\n",
       "    z_current += layer_info[i][0]\n",
       "    // console.log(layer_info[i]);\n",
       "    var j = 0;\n",
       "    while (z_current >= z_values[j]){\n",
       "        var delta_z = z_current - z_values[j];\n",
       "        dose[j] += layer_info[i][1] * Math.exp(-delta_z/h_a)\n",
       "        // console.log(i, j, z_current, z_values[j], dose[j]);\n",
       "        j++;\n",
       "    }\n",
       "}\n",
       "\n",
       "var data = {\n",
       "    'z': z_values,\n",
       "    'dose': dose\n",
       "}\n",
       "\n",
       "var data_json = JSON.stringify(data);\n",
       "\n",
       "IPython.notebook.kernel.execute('data_json=' + data_json);\n"
      ],
      "text/plain": [
       "<IPython.core.display.Javascript object>"
      ]
     },
     "metadata": {},
     "output_type": "display_data"
    }
   ],
   "source": [
    "%%javascript\n",
    "\n",
    "// Helper functions\n",
    "const range = (start, stop, step) => Array.from({ length: (stop - start) / step + 1}, (_, i) => start + (i * step));\n",
    "const fill_zeros = (start, stop, step) => Array.from({ length: (stop - start) / step + 1}, (_, i) => 0);\n",
    "\n",
    "var layer_info = [\n",
    "    [10, 300],\n",
    "    [10, 300],\n",
    "    [10, 300],\n",
    "    [10, 300],\n",
    "    [10, 300],\n",
    "    [10, 300],\n",
    "    [10, 300],\n",
    "    [10, 300],\n",
    "    [10, 300],\n",
    "    [10, 300],\n",
    "]\n",
    "\n",
    "var z_min = 0;\n",
    "var z_max = 100;\n",
    "var z_step = 0.25;\n",
    "\n",
    "var h_a = 10;\n",
    "\n",
    "var z_values = range(z_min, z_max, z_step);\n",
    "var dose = fill_zeros(z_min, z_max, z_step);\n",
    "\n",
    "\n",
    "var z_current = 0;\n",
    "for (var i=0; i<layer_info.length; i++) {\n",
    "    z_current += layer_info[i][0]\n",
    "    // console.log(layer_info[i]);\n",
    "    var j = 0;\n",
    "    while (z_current >= z_values[j]){\n",
    "        var delta_z = z_current - z_values[j];\n",
    "        dose[j] += layer_info[i][1] * Math.exp(-delta_z/h_a)\n",
    "        // console.log(i, j, z_current, z_values[j], dose[j]);\n",
    "        j++;\n",
    "    }\n",
    "}\n",
    "\n",
    "var data = {\n",
    "    'z': z_values,\n",
    "    'dose': dose\n",
    "}\n",
    "\n",
    "var data_json = JSON.stringify(data);\n",
    "\n",
    "IPython.notebook.kernel.execute('data_json=' + data_json);\n"
   ]
  },
  {
   "cell_type": "code",
   "execution_count": 13,
   "metadata": {},
   "outputs": [],
   "source": [
    "# data_json"
   ]
  },
  {
   "cell_type": "code",
   "execution_count": 14,
   "metadata": {},
   "outputs": [],
   "source": [
    "# type(data_json)"
   ]
  },
  {
   "cell_type": "code",
   "execution_count": 16,
   "metadata": {},
   "outputs": [
    {
     "data": {
      "text/plain": [
       "Text(0, 0.5, 'Dose')"
      ]
     },
     "execution_count": 16,
     "metadata": {},
     "output_type": "execute_result"
    },
    {
     "data": {
      "image/png": "[encoded data removed]",
      "text/plain": [
       "<Figure size 432x288 with 1 Axes>"
      ]
     },
     "metadata": {
      "needs_background": "light"
     },
     "output_type": "display_data"
    }
   ],
   "source": [
    "fix, ax = plt.subplots()\n",
    "ax.plot(data_json['z'], data_json['dose'])\n",
    "ax.set_ylim(0,)\n",
    "ax.set_xlabel(\"z ($\\mu$m)\")\n",
    "ax.set_ylabel(\"Dose\")"
   ]
  },
  {
   "cell_type": "code",
   "execution_count": null,
   "metadata": {},
   "outputs": [],
   "source": []
  }
 ],
 "metadata": {
  "kernelspec": {
   "display_name": "anaconda_py37",
   "language": "python",
   "name": "anaconda_py37"
  },
  "language_info": {
   "codemirror_mode": {
    "name": "ipython",
    "version": 3
   },
   "file_extension": ".py",
   "mimetype": "text/x-python",
   "name": "python",
   "nbconvert_exporter": "python",
   "pygments_lexer": "ipython3",
   "version": "3.7.6"
  },
  "toc": {
   "base_numbering": 1,
   "nav_menu": {},
   "number_sections": true,
   "sideBar": true,
   "skip_h1_title": false,
   "title_cell": "Table of Contents",
   "title_sidebar": "Contents",
   "toc_cell": false,
   "toc_position": {},
   "toc_section_display": true,
   "toc_window_display": false
  }
 },
 "nbformat": 4,
 "nbformat_minor": 4
}
