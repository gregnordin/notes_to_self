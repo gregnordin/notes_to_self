{
 "cells": [
  {
   "cell_type": "markdown",
   "id": "supposed-holocaust",
   "metadata": {},
   "source": [
    "Markdown cell"
   ]
  },
  {
   "cell_type": "markdown",
   "id": "flexible-happening",
   "metadata": {
    "tags": [
     "nbconvert-hide"
    ]
   },
   "source": [
    "Markdown cell with cell tag `nbconvert-hide`."
   ]
  },
  {
   "cell_type": "code",
   "execution_count": 2,
   "id": "finite-special",
   "metadata": {},
   "outputs": [],
   "source": [
    "import ipywidgets as widgets\n",
    "from IPython.display import display"
   ]
  },
  {
   "cell_type": "code",
   "execution_count": 1,
   "id": "biological-credit",
   "metadata": {},
   "outputs": [
    {
     "name": "stdout",
     "output_type": "stream",
     "text": [
      "Hello world\n"
     ]
    }
   ],
   "source": [
    "# Code cell\n",
    "\n",
    "print('Hello world')"
   ]
  },
  {
   "cell_type": "code",
   "execution_count": 6,
   "id": "smaller-chapel",
   "metadata": {
    "tags": [
     "nbval-ignore-output"
    ]
   },
   "outputs": [
    {
     "name": "stdout",
     "output_type": "stream",
     "text": [
      "Hello from code cell with tag nbval-ignore-output\n"
     ]
    }
   ],
   "source": [
    "# Code cell with tag nbval-ignore-output\n",
    "\n",
    "print('Hello from code cell with tag nbval-ignore-output')"
   ]
  },
  {
   "cell_type": "code",
   "execution_count": 3,
   "id": "analyzed-arizona",
   "metadata": {},
   "outputs": [
    {
     "data": {
      "application/vnd.jupyter.widget-view+json": {
       "model_id": "50a6c1189e4b4ca9a6e555f11eac5501",
       "version_major": 2,
       "version_minor": 0
      },
      "text/plain": [
       "IntSlider(value=5, max=10)"
      ]
     },
     "metadata": {},
     "output_type": "display_data"
    }
   ],
   "source": [
    "test_slider = widgets.IntSlider(value=5, min=0, max=10, step=1)\n",
    "test_slider"
   ]
  },
  {
   "cell_type": "code",
   "execution_count": 4,
   "id": "piano-collective",
   "metadata": {},
   "outputs": [
    {
     "name": "stdout",
     "output_type": "stream",
     "text": [
      "/Users/nordin/opt/miniconda3/envs/jupyter_py38/bin/python\n"
     ]
    }
   ],
   "source": [
    "!which python"
   ]
  },
  {
   "cell_type": "code",
   "execution_count": null,
   "id": "binary-cleaning",
   "metadata": {},
   "outputs": [],
   "source": []
  }
 ],
 "metadata": {
  "kernelspec": {
   "display_name": "voila_opencv",
   "language": "python",
   "name": "voila_opencv"
  },
  "language_info": {
   "codemirror_mode": {
    "name": "ipython",
    "version": 3
   },
   "file_extension": ".py",
   "mimetype": "text/x-python",
   "name": "python",
   "nbconvert_exporter": "python",
   "pygments_lexer": "ipython3",
   "version": "3.8.1"
  }
 },
 "nbformat": 4,
 "nbformat_minor": 5
}
