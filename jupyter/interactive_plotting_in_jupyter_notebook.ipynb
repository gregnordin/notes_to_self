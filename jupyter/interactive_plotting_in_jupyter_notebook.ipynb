{
 "cells": [
  {
   "cell_type": "markdown",
   "metadata": {},
   "source": [
    "# Smooth slider interaction with matplotlib and bqplot\n",
    "\n",
    "See this Project Jupyter group thread: [Smooth interaction with graphics](https://groups.google.com/forum/#!topic/jupyter/XBhFrNDC0UQ)\n",
    "\n",
    "## Matplotlib - flickers a lot"
   ]
  },
  {
   "cell_type": "code",
   "execution_count": 1,
   "metadata": {
    "collapsed": false
   },
   "outputs": [
    {
     "data": {
      "image/png": "[encoded data removed]",
      "text/plain": [
       "<matplotlib.figure.Figure at 0x11128bc88>"
      ]
     },
     "metadata": {},
     "output_type": "display_data"
    }
   ],
   "source": [
    "%matplotlib inline\n",
    "import matplotlib.pyplot as plt\n",
    "import numpy as np\n",
    "from ipywidgets import interact, FloatSlider\n",
    "\n",
    "def myplot(a):\n",
    "    xs = np.linspace(-3,3,100)\n",
    "    ys = np.sin(a*xs)\n",
    "    plt.plot(xs,ys)\n",
    "demo = interact(myplot, a=FloatSlider(value=1, min=-3, max=3, step=0.01))"
   ]
  },
  {
   "cell_type": "markdown",
   "metadata": {
    "collapsed": true
   },
   "source": [
    "Here is Fernando Perez's approach as shared at [google group](https://groups.google.com/forum/#!topic/jupyter/XBhFrNDC0UQ). Note that it still flickers pretty badly.\n",
    "\n",
    "> This is the matplotlib version with manual data assignment, which is probably the most efficient you can make something like this without making the code a lot uglier and harder to understand.  It's the MPL equivalent of what Sylvain did:\n"
   ]
  },
  {
   "cell_type": "code",
   "execution_count": 1,
   "metadata": {
    "collapsed": false
   },
   "outputs": [
    {
     "data": {
      "image/png": "[encoded data removed]",
      "text/plain": [
       "<matplotlib.figure.Figure at 0x1072773c8>"
      ]
     },
     "metadata": {},
     "output_type": "display_data"
    }
   ],
   "source": [
    "#### Start\n",
    "%matplotlib inline\n",
    "import matplotlib.pyplot as plt\n",
    "import numpy as np\n",
    "from ipywidgets import interact, FloatSlider\n",
    "from IPython.display import display\n",
    "\n",
    "# setup\n",
    "xs = np.linspace(-3,3,100)\n",
    "fig, ax = plt.subplots()\n",
    "line, = ax.plot(xs, xs)\n",
    "ax.set_xlim(-3, 3)\n",
    "ax.set_ylim(-1.1, 1.1)\n",
    "plt.close(fig) # we'll display it manually\n",
    "\n",
    "# Plot function only updates the data\n",
    "def myplot(a):\n",
    "    line.set_ydata(np.sin(a*xs))\n",
    "    # we now call the display manually with the new image\n",
    "    display(fig)\n",
    "    \n",
    "interact(myplot, a=FloatSlider(value=1.5, min=-3, max=3, step=0.01));\n",
    "#### End\n"
   ]
  },
  {
   "cell_type": "markdown",
   "metadata": {},
   "source": [
    "Sylvain Corely says\n",
    "\n",
    ">The problem is that the rendering logic for matplotlib resides in the backend. I would recommand using the \"notebook\" backend for matplotlib which should improve the situation.\n",
    ">\n",
    ">Or you can use a plotting library for the notebook such as bqplot.\n",
    "\n",
    "Brian Granger says\n",
    "\n",
    ">The main thing I have found with using matplotlib with interact is \n",
    "that you have to do a bit of extra work to make sure that the overall \n",
    "frame/ticks/limits/etc are the same as you vary your parameter. \n",
    "Because each call to plt.plot is new, matplotlib has no way of knowing \n",
    "it should hold those things invariant. \n",
    "\n",
    "## Try bqplot\n",
    "\n",
    "I had to install (`pip install bqplot`) and enable (jupyter nbextension enable --py --sys-prefix bqplot) it."
   ]
  },
  {
   "cell_type": "code",
   "execution_count": 2,
   "metadata": {
    "collapsed": false
   },
   "outputs": [
    {
     "name": "stderr",
     "output_type": "stream",
     "text": [
      "Widget Javascript not detected.  It may not be installed properly. Did you enable the widgetsnbextension? If not, then run \"jupyter nbextension enable --py --sys-prefix widgetsnbextension\"\n"
     ]
    }
   ],
   "source": [
    "import numpy as np\n",
    "import bqplot.pyplot as plt\n",
    "from ipywidgets import interact, FloatSlider\n",
    "\n",
    "fig = plt.figure()\n",
    "xs = np.linspace(-3,3,100)\n",
    "lines = plt.plot(xs, [])\n",
    "\n",
    "def freq(a): \n",
    "    lines.y = np.sin(a * xs)\n",
    "\n",
    "demo = interact(freq, a=FloatSlider(value=1, min=-3, max=3, step=0.01))\n",
    "plt.ylim(-1.1,1.1)\n",
    "plt.show()"
   ]
  },
  {
   "cell_type": "markdown",
   "metadata": {},
   "source": [
    "Problem: get error message:\n",
    "\n",
    "    Widget Javascript not detected.  It may not be installed properly. Did you enable the widgetsnbextension? If not, then run \"jupyter nbextension enable --py --sys-prefix widgetsnbextension\"\n",
    "    \n",
    "I ran `jupyter nbextension enable --py --sys-prefix widgetsnbextension`, but I still get the same error message."
   ]
  }
 ],
 "metadata": {
  "anaconda-cloud": {},
  "kernelspec": {
   "display_name": "Python [Root]",
   "language": "python",
   "name": "Python [Root]"
  },
  "language_info": {
   "codemirror_mode": {
    "name": "ipython",
    "version": 3
   },
   "file_extension": ".py",
   "mimetype": "text/x-python",
   "name": "python",
   "nbconvert_exporter": "python",
   "pygments_lexer": "ipython3",
   "version": "3.5.2"
  },
  "widgets": {
   "state": {
    "1d3967c53269411ea1218c5a070d3f46": {
     "views": [
      {
       "cell_index": 3
      }
     ]
    }
   },
   "version": "1.2.0"
  }
 },
 "nbformat": 4,
 "nbformat_minor": 0
}
