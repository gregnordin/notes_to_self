{
 "cells": [
  {
   "cell_type": "markdown",
   "id": "silent-strap",
   "metadata": {},
   "source": [
    "# Purpose\n",
    "\n",
    "Create a side-by-side image viewer with ipywidget button to make plotted region the same."
   ]
  },
  {
   "cell_type": "markdown",
   "id": "usual-adapter",
   "metadata": {},
   "source": [
    "# Imports"
   ]
  },
  {
   "cell_type": "code",
   "execution_count": 1,
   "id": "rental-decimal",
   "metadata": {},
   "outputs": [
    {
     "data": {
      "text/plain": [
       "'/Users/nordin/python_envs/voila_opencv/.venv/bin/python'"
      ]
     },
     "execution_count": 1,
     "metadata": {},
     "output_type": "execute_result"
    }
   ],
   "source": [
    "from pathlib import Path\n",
    "\n",
    "import numpy as np\n",
    "import matplotlib.pyplot as plt\n",
    "import ipywidgets as widgets\n",
    "%matplotlib widget\n",
    "from IPython.display import display, display_html, HTML\n",
    "\n",
    "import cv2\n",
    "import imutils\n",
    "from PIL import Image\n",
    "\n",
    "import pandas as pd\n",
    "from scipy import stats\n",
    "\n",
    "import sys\n",
    "sys.executable"
   ]
  },
  {
   "cell_type": "markdown",
   "id": "hybrid-stephen",
   "metadata": {},
   "source": [
    "# Code"
   ]
  },
  {
   "cell_type": "code",
   "execution_count": 2,
   "id": "crude-clear",
   "metadata": {},
   "outputs": [],
   "source": [
    "class SideBySideImageViewerBit(widgets.VBox):\n",
    "    \n",
    "    def __init__(self, img_l, img_r, title_left='', title_right='', vmin=0, vmax=None):\n",
    "        \n",
    "        super().__init__()\n",
    "        output = widgets.Output()\n",
    "        self.image_left = img_l\n",
    "        self.image_right = img_r\n",
    "        self.title_left = title_left\n",
    "        self.title_right = title_right\n",
    "        if vmax:\n",
    "            self.vmax_initial = vmax\n",
    "        else:\n",
    "            self.vmax_initial = np.max(self.image_left)\n",
    "\n",
    "        with output:\n",
    "            self.fig, self.ax = plt.subplots(ncols=2, constrained_layout=True, figsize=(10, 3.5))\n",
    "        self.ax_left, self.ax_right = self.ax\n",
    "        \n",
    "        self.axesimage_left = self.ax_left.imshow(\n",
    "            self.image_left, interpolation=None, cmap=\"gray\", vmin=vmin, vmax=self.vmax_initial\n",
    "        )\n",
    "        self.ax_left.set_title(self.title_left)\n",
    "        self.axesimage_right = self.ax_right.imshow(\n",
    "            self.image_right, interpolation=None, cmap=\"gray\", vmin=vmin, vmax=self.vmax_initial\n",
    "        )\n",
    "        self.ax_right.set_title(self.title_right)\n",
    "       \n",
    "        style_HTML = {'description_width': 'initial'}\n",
    "        self.min_max_text_left = widgets.HTML(\n",
    "            value=f\"{np.min(self.image_left)}, {np.max(self.image_left)}\",\n",
    "            placeholder=\"Some HTML\",\n",
    "            description=\"Left image min, max:\",\n",
    "            style=style_HTML,\n",
    "        )\n",
    "        \n",
    "        self.min_max_text_right = widgets.HTML(\n",
    "            value=f\"{np.min(self.image_right)}, {np.max(self.image_right)}\",\n",
    "            placeholder=\"Some HTML\",\n",
    "            description=\"Right image min, max:\",\n",
    "            style=style_HTML,\n",
    "        )\n",
    "\n",
    "        self.vmax_slider = widgets.IntSlider(\n",
    "            value=self.vmax_initial,\n",
    "            min=0,\n",
    "            max=1023,\n",
    "            step=1,\n",
    "            description=\"vmax\",\n",
    "            continuous_update=False,\n",
    "            # readout_format=\".4f\",\n",
    "        )\n",
    "        \n",
    "        self.xylimits_button = widgets.Button(\n",
    "            description='Left image range = Right image range',\n",
    "            tooltip='Make left image x,y limits the same as the right image',\n",
    "            # button_style='info',\n",
    "            layout=widgets.Layout(width='300px')\n",
    "        )\n",
    "        self.xylimits_button.on_click(self.xylimits_button_click)\n",
    "        \n",
    "        self.right_xylim = widgets.HTML(\n",
    "            value=f\"{self.ax_right.get_xlim()}, {self.ax_right.get_ylim()}\",\n",
    "            placeholder=\"Some HTML\",\n",
    "            description=\"Right image xlim, ylim:\",\n",
    "            style=style_HTML,\n",
    "        )\n",
    "        self.left_xylim = widgets.HTML(\n",
    "            value=f\"{self.ax_left.get_xlim()}, {self.ax_left.get_ylim()}\",\n",
    "            placeholder=\"Some HTML\",\n",
    "            description=\"Left image xlim, ylim:\",\n",
    "            style=style_HTML,\n",
    "        )\n",
    "#         self.msg = widgets.HTML(\n",
    "#             value=f\"msg\",\n",
    "#             placeholder=\"Some HTML\",\n",
    "#             description=\"msg\",\n",
    "#             style=style_HTML,\n",
    "#         )\n",
    "\n",
    "        controls = widgets.VBox(\n",
    "            [\n",
    "                self.vmax_slider,\n",
    "                self.min_max_text_left,\n",
    "                self.min_max_text_right,\n",
    "                self.xylimits_button,\n",
    "            ]\n",
    "        )\n",
    "\n",
    "        # observe stuff\n",
    "        self.vmax_slider.observe(self.update_vmax, \"value\")\n",
    "\n",
    "        # add to children\n",
    "        self.children = [controls, output, self.left_xylim, self.right_xylim] #, self.msg]\n",
    "        \n",
    "    def update_vmax(self, change):\n",
    "        self.axesimage_left.set_clim(vmax=change.new)\n",
    "        self.axesimage_right.set_clim(vmax=change.new)\n",
    "        self.fig.canvas.draw()\n",
    "        \n",
    "    def xylimits_button_click(self, value):\n",
    "        # self.msg.value = f\"value: {value}\"\n",
    "        xlim = self.ax_right.get_xlim()\n",
    "        ylim = self.ax_right.get_ylim()\n",
    "        self.ax_left.set_xlim(*xlim)\n",
    "        self.ax_left.set_ylim(*ylim)\n",
    "        self.fig.canvas.draw()\n",
    "        self.update_xylim_display()\n",
    "        \n",
    "    def update_xylim_display(self):\n",
    "        self.left_xylim.value = \"({:.1f}, {:.1f}), ({:.1f}, {:.1f})\".format(*self.ax_left.get_xlim(), *self.ax_left.get_ylim())\n",
    "        self.right_xylim.value = \"({:.1f}, {:.1f}), ({:.1f}, {:.1f})\".format(*self.ax_right.get_xlim(), *self.ax_right.get_ylim())"
   ]
  },
  {
   "cell_type": "markdown",
   "id": "joined-membership",
   "metadata": {},
   "source": [
    "# Example"
   ]
  },
  {
   "cell_type": "markdown",
   "id": "charming-remark",
   "metadata": {},
   "source": [
    "## Create images"
   ]
  },
  {
   "cell_type": "code",
   "execution_count": 3,
   "id": "bigger-background",
   "metadata": {},
   "outputs": [
    {
     "data": {
      "application/vnd.jupyter.widget-view+json": {
       "model_id": "f8579083d8fe4215b8b1b82dd5a6e0fa",
       "version_major": 2,
       "version_minor": 0
      },
      "text/plain": [
       "Canvas(toolbar=Toolbar(toolitems=[('Home', 'Reset original view', 'home', 'home'), ('Back', 'Back to previous …"
      ]
     },
     "metadata": {},
     "output_type": "display_data"
    }
   ],
   "source": [
    "x = np.linspace(-3.2, 3.2, 1600)\n",
    "y = np.linspace(-2.4, 2.4, 1200)\n",
    "num_y, num_x = len(y), len(x)\n",
    "\n",
    "img1 = np.zeros((len(y), len(x)), dtype='uint16')\n",
    "\n",
    "size = 100\n",
    "img1[num_y//2 - size//2: num_y//2 + size//2, num_x//2 - size//2: num_x//2 + size//2] = 1000\n",
    "\n",
    "fig, ax = plt.subplots()\n",
    "ax.imshow(img1, interpolation=None, cmap=\"gray\");"
   ]
  },
  {
   "cell_type": "code",
   "execution_count": 4,
   "id": "secret-television",
   "metadata": {},
   "outputs": [
    {
     "data": {
      "application/vnd.jupyter.widget-view+json": {
       "model_id": "8d075d6c25ff494e91e8b0444235b1a8",
       "version_major": 2,
       "version_minor": 0
      },
      "text/plain": [
       "Canvas(toolbar=Toolbar(toolitems=[('Home', 'Reset original view', 'home', 'home'), ('Back', 'Back to previous …"
      ]
     },
     "metadata": {},
     "output_type": "display_data"
    }
   ],
   "source": [
    "img2 = np.zeros((len(y), len(x)), dtype='uint16')\n",
    "\n",
    "size_y, size_x = 200, 80\n",
    "img2[num_y//2 - size_y//2: num_y//2 + size_y//2, num_x//2 - size_x//2: num_x//2 + size_x//2] = 500\n",
    "\n",
    "fig, ax = plt.subplots()\n",
    "ax.imshow(img2, interpolation=None, cmap=\"gray\");"
   ]
  },
  {
   "cell_type": "markdown",
   "id": "painted-reserve",
   "metadata": {},
   "source": [
    "## Side-by-side images\n",
    "\n",
    "Procedure:\n",
    "\n",
    "- Click on rectangle selection tool in toolbar\n",
    "- Go to right image and select a region\n",
    "- Click button \"Left image range = Right image range\"\n",
    "\n",
    "Outcome: left image range will be the same as the right image range"
   ]
  },
  {
   "cell_type": "code",
   "execution_count": 5,
   "id": "increasing-conversion",
   "metadata": {},
   "outputs": [
    {
     "data": {
      "application/vnd.jupyter.widget-view+json": {
       "model_id": "01e3d2c177584902a05b31a60a057221",
       "version_major": 2,
       "version_minor": 0
      },
      "text/plain": [
       "SideBySideImageViewerBit(children=(VBox(children=(IntSlider(value=1000, continuous_update=False, description='…"
      ]
     },
     "metadata": {},
     "output_type": "display_data"
    }
   ],
   "source": [
    "SideBySideImageViewerBit(img1, img2, title_left='img1', title_right='img2')"
   ]
  },
  {
   "cell_type": "code",
   "execution_count": null,
   "id": "considered-mexican",
   "metadata": {},
   "outputs": [],
   "source": []
  }
 ],
 "metadata": {
  "kernelspec": {
   "display_name": "voila_opencv",
   "language": "python",
   "name": "voila_opencv"
  },
  "language_info": {
   "codemirror_mode": {
    "name": "ipython",
    "version": 3
   },
   "file_extension": ".py",
   "mimetype": "text/x-python",
   "name": "python",
   "nbconvert_exporter": "python",
   "pygments_lexer": "ipython3",
   "version": "3.8.1"
  }
 },
 "nbformat": 4,
 "nbformat_minor": 5
}
