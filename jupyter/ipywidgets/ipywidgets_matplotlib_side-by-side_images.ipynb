{
 "cells": [
  {
   "cell_type": "markdown",
   "id": "committed-forestry",
   "metadata": {},
   "source": [
    "# Purpose\n",
    "\n",
    "Create a side-by-side image viewer with ipywidget button to make plotted region the same."
   ]
  },
  {
   "cell_type": "markdown",
   "id": "interracial-oxford",
   "metadata": {},
   "source": [
    "# Imports"
   ]
  },
  {
   "cell_type": "code",
   "execution_count": 1,
   "id": "simplified-worship",
   "metadata": {},
   "outputs": [
    {
     "data": {
      "text/plain": [
       "'/Users/nordin/python_envs/voila_opencv/.venv/bin/python'"
      ]
     },
     "execution_count": 1,
     "metadata": {},
     "output_type": "execute_result"
    }
   ],
   "source": [
    "from pathlib import Path\n",
    "\n",
    "import numpy as np\n",
    "import matplotlib.pyplot as plt\n",
    "import ipywidgets as widgets\n",
    "%matplotlib widget\n",
    "from IPython.display import display, display_html, HTML\n",
    "\n",
    "import cv2\n",
    "import imutils\n",
    "from PIL import Image\n",
    "\n",
    "import pandas as pd\n",
    "from scipy import stats\n",
    "\n",
    "import sys\n",
    "sys.executable"
   ]
  },
  {
   "cell_type": "markdown",
   "id": "together-brazil",
   "metadata": {},
   "source": [
    "# Create images"
   ]
  },
  {
   "cell_type": "code",
   "execution_count": 5,
   "id": "printable-wyoming",
   "metadata": {},
   "outputs": [
    {
     "data": {
      "application/vnd.jupyter.widget-view+json": {
       "model_id": "2e72ef754b104395b41ba9d0dc029ba3",
       "version_major": 2,
       "version_minor": 0
      },
      "text/plain": [
       "Canvas(toolbar=Toolbar(toolitems=[('Home', 'Reset original view', 'home', 'home'), ('Back', 'Back to previous …"
      ]
     },
     "metadata": {},
     "output_type": "display_data"
    },
    {
     "data": {
      "text/plain": [
       "<matplotlib.image.AxesImage at 0x7f9a906f0040>"
      ]
     },
     "execution_count": 5,
     "metadata": {},
     "output_type": "execute_result"
    }
   ],
   "source": [
    "x = np.linspace(-3.2, 3.2, 1600)\n",
    "y = np.linspace(-2.4, 2.4, 1200)\n",
    "num_y, num_x = len(y), len(x)\n",
    "\n",
    "img1 = np.zeros((len(y), len(x)), dtype='uint16')\n",
    "\n",
    "size = 100\n",
    "img1[num_y//2 - size//2: num_y//2 + size//2, num_x//2 - size//2: num_x//2 + size//2] = 1000\n",
    "\n",
    "fig, ax = plt.subplots()\n",
    "ax.imshow(img1, interpolation=None, cmap=\"gray\");"
   ]
  },
  {
   "cell_type": "code",
   "execution_count": 6,
   "id": "hollywood-split",
   "metadata": {},
   "outputs": [
    {
     "data": {
      "application/vnd.jupyter.widget-view+json": {
       "model_id": "866d24fbf5724c6ba9579a8ece118df6",
       "version_major": 2,
       "version_minor": 0
      },
      "text/plain": [
       "Canvas(toolbar=Toolbar(toolitems=[('Home', 'Reset original view', 'home', 'home'), ('Back', 'Back to previous …"
      ]
     },
     "metadata": {},
     "output_type": "display_data"
    },
    {
     "data": {
      "text/plain": [
       "<matplotlib.image.AxesImage at 0x7f9a611434f0>"
      ]
     },
     "execution_count": 6,
     "metadata": {},
     "output_type": "execute_result"
    }
   ],
   "source": [
    "img2 = np.zeros((len(y), len(x)), dtype='uint16')\n",
    "\n",
    "size_y, size_x = 200, 80\n",
    "img2[num_y//2 - size_y//2: num_y//2 + size_y//2, num_x//2 - size_x//2: num_x//2 + size_x//2] = 1000\n",
    "\n",
    "fig, ax = plt.subplots()\n",
    "ax.imshow(img2, interpolation=None, cmap=\"gray\");"
   ]
  },
  {
   "cell_type": "code",
   "execution_count": null,
   "id": "rolled-activation",
   "metadata": {},
   "outputs": [],
   "source": []
  }
 ],
 "metadata": {
  "kernelspec": {
   "display_name": "voila_opencv",
   "language": "python",
   "name": "voila_opencv"
  },
  "language_info": {
   "codemirror_mode": {
    "name": "ipython",
    "version": 3
   },
   "file_extension": ".py",
   "mimetype": "text/x-python",
   "name": "python",
   "nbconvert_exporter": "python",
   "pygments_lexer": "ipython3",
   "version": "3.8.1"
  }
 },
 "nbformat": 4,
 "nbformat_minor": 5
}
