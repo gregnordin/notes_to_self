{
 "cells": [
  {
   "cell_type": "markdown",
   "id": "presidential-fraud",
   "metadata": {},
   "source": [
    "# Purpose\n",
    "\n",
    "Create a side-by-side image viewer with ipywidget button to make plotted region the same."
   ]
  },
  {
   "cell_type": "markdown",
   "id": "pressing-banana",
   "metadata": {},
   "source": [
    "# Imports"
   ]
  },
  {
   "cell_type": "code",
   "execution_count": 1,
   "id": "comparable-andrew",
   "metadata": {},
   "outputs": [
    {
     "data": {
      "text/plain": [
       "'/Users/nordin/python_envs/voila_opencv/.venv/bin/python'"
      ]
     },
     "execution_count": 1,
     "metadata": {},
     "output_type": "execute_result"
    }
   ],
   "source": [
    "from pathlib import Path\n",
    "\n",
    "import numpy as np\n",
    "import matplotlib.pyplot as plt\n",
    "import ipywidgets as widgets\n",
    "%matplotlib widget\n",
    "from IPython.display import display, display_html, HTML\n",
    "\n",
    "import cv2\n",
    "import imutils\n",
    "from PIL import Image\n",
    "\n",
    "import pandas as pd\n",
    "from scipy import stats\n",
    "\n",
    "import sys\n",
    "sys.executable"
   ]
  },
  {
   "cell_type": "markdown",
   "id": "arabic-validity",
   "metadata": {},
   "source": [
    "# Code"
   ]
  },
  {
   "cell_type": "code",
   "execution_count": 2,
   "id": "tribal-egypt",
   "metadata": {},
   "outputs": [],
   "source": [
    "class SideBySideImageViewerBit(widgets.VBox):\n",
    "    \n",
    "    def __init__(self, img_l, img_r, title_left='', title_right='', vmin=0, vmax=None):\n",
    "        \n",
    "        super().__init__()\n",
    "        output = widgets.Output()\n",
    "        self.image_left = img_l\n",
    "        self.image_right = img_r\n",
    "        self.title_left = title_left\n",
    "        self.title_right = title_right\n",
    "        if vmax:\n",
    "            self.vmax_initial = vmax\n",
    "        else:\n",
    "            self.vmax_initial = np.max(self.image_left)\n",
    "\n",
    "        with output:\n",
    "            self.fig, self.ax = plt.subplots(ncols=2, constrained_layout=True, figsize=(10, 3.5))\n",
    "        self.ax_left, self.ax_right = self.ax\n",
    "        \n",
    "        self.axesimage_left = self.ax_left.imshow(\n",
    "            self.image_left, interpolation=None, cmap=\"gray\", vmin=vmin, vmax=self.vmax_initial\n",
    "        )\n",
    "        self.ax_left.set_title(self.title_left)\n",
    "        self.axesimage_right = self.ax_right.imshow(\n",
    "            self.image_right, interpolation=None, cmap=\"gray\", vmin=vmin, vmax=self.vmax_initial\n",
    "        )\n",
    "        self.ax_right.set_title(self.title_right)\n",
    "       \n",
    "        style_HTML = {'description_width': 'initial'}\n",
    "        self.min_max_text_left = widgets.HTML(\n",
    "            value=f\"{np.min(self.image_left)}, {np.max(self.image_left)}\",\n",
    "            placeholder=\"Some HTML\",\n",
    "            description=\"Left image min, max:\",\n",
    "            style=style_HTML,\n",
    "        )\n",
    "        \n",
    "        self.min_max_text_right = widgets.HTML(\n",
    "            value=f\"{np.min(self.image_right)}, {np.max(self.image_right)}\",\n",
    "            placeholder=\"Some HTML\",\n",
    "            description=\"Right image min, max:\",\n",
    "            style=style_HTML,\n",
    "        )\n",
    "\n",
    "        self.vmax_slider = widgets.IntSlider(\n",
    "            value=self.vmax_initial,\n",
    "            min=0,\n",
    "            max=1023,\n",
    "            step=1,\n",
    "            description=\"vmax\",\n",
    "            continuous_update=False,\n",
    "            # readout_format=\".4f\",\n",
    "        )\n",
    "        \n",
    "        self.xylimits_button_right_to_left = widgets.Button(\n",
    "            description='Left image range = Right image range',\n",
    "            tooltip='Make left image x,y limits the same as the right image',\n",
    "            # button_style='info',\n",
    "            layout=widgets.Layout(width='300px')\n",
    "        )\n",
    "        self.xylimits_button_right_to_left.on_click(self.xylimits_right_to_left_button_click)\n",
    "        self.xylimits_button_left_to_right = widgets.Button(\n",
    "            description='Right image range = Left image range',\n",
    "            tooltip='Make right image x,y limits the same as the left image',\n",
    "            # button_style='info',\n",
    "            layout=widgets.Layout(width='300px')\n",
    "        )\n",
    "        self.xylimits_button_left_to_right.on_click(self.xylimits_left_to_right_button_click)\n",
    "        \n",
    "        self.right_xylim = widgets.HTML(\n",
    "            value=f\"{self.ax_right.get_xlim()}, {self.ax_right.get_ylim()}\",\n",
    "            placeholder=\"Some HTML\",\n",
    "            description=\"Right image xlim, ylim:\",\n",
    "            style=style_HTML,\n",
    "        )\n",
    "        self.left_xylim = widgets.HTML(\n",
    "            value=f\"{self.ax_left.get_xlim()}, {self.ax_left.get_ylim()}\",\n",
    "            placeholder=\"Some HTML\",\n",
    "            description=\"Left image xlim, ylim:\",\n",
    "            style=style_HTML,\n",
    "        )\n",
    "\n",
    "        controls = widgets.VBox(\n",
    "            [\n",
    "                self.vmax_slider,\n",
    "                self.min_max_text_left,\n",
    "                self.min_max_text_right,\n",
    "            ]\n",
    "        )\n",
    "\n",
    "        # observe stuff\n",
    "        self.vmax_slider.observe(self.update_vmax, \"value\")\n",
    "\n",
    "        # add to children\n",
    "        self.children = [controls, output, \n",
    "                         self.xylimits_button_right_to_left, \n",
    "                         self.xylimits_button_left_to_right, \n",
    "                         self.left_xylim, \n",
    "                         self.right_xylim,\n",
    "                        ]\n",
    "        \n",
    "    def update_vmax(self, change):\n",
    "        self.axesimage_left.set_clim(vmax=change.new)\n",
    "        self.axesimage_right.set_clim(vmax=change.new)\n",
    "        self.fig.canvas.draw()\n",
    "        \n",
    "    def xylimits_right_to_left_button_click(self, value):\n",
    "        xlim = self.ax_right.get_xlim()\n",
    "        ylim = self.ax_right.get_ylim()\n",
    "        self.ax_left.set_xlim(*xlim)\n",
    "        self.ax_left.set_ylim(*ylim)\n",
    "        self.fig.canvas.draw()\n",
    "        self.update_xylim_display()\n",
    "        \n",
    "    def xylimits_left_to_right_button_click(self, value):\n",
    "        xlim = self.ax_left.get_xlim()\n",
    "        ylim = self.ax_left.get_ylim()\n",
    "        self.ax_right.set_xlim(*xlim)\n",
    "        self.ax_right.set_ylim(*ylim)\n",
    "        self.fig.canvas.draw()\n",
    "        self.update_xylim_display()\n",
    "        \n",
    "    def update_xylim_display(self):\n",
    "        self.left_xylim.value = \"({:.1f}, {:.1f}), ({:.1f}, {:.1f})\".format(*self.ax_left.get_xlim(), *self.ax_left.get_ylim())\n",
    "        self.right_xylim.value = \"({:.1f}, {:.1f}), ({:.1f}, {:.1f})\".format(*self.ax_right.get_xlim(), *self.ax_right.get_ylim())"
   ]
  },
  {
   "cell_type": "markdown",
   "id": "serial-institution",
   "metadata": {},
   "source": [
    "# Example"
   ]
  },
  {
   "cell_type": "markdown",
   "id": "sorted-japan",
   "metadata": {},
   "source": [
    "## Create images"
   ]
  },
  {
   "cell_type": "code",
   "execution_count": 3,
   "id": "literary-crest",
   "metadata": {},
   "outputs": [
    {
     "data": {
      "application/vnd.jupyter.widget-view+json": {
       "model_id": "a54f8c5356b041ecad1608425aa3f079",
       "version_major": 2,
       "version_minor": 0
      },
      "text/plain": [
       "Canvas(toolbar=Toolbar(toolitems=[('Home', 'Reset original view', 'home', 'home'), ('Back', 'Back to previous …"
      ]
     },
     "metadata": {},
     "output_type": "display_data"
    }
   ],
   "source": [
    "x = np.linspace(-3.2, 3.2, 1600)\n",
    "y = np.linspace(-2.4, 2.4, 1200)\n",
    "num_y, num_x = len(y), len(x)\n",
    "\n",
    "img1 = np.zeros((len(y), len(x)), dtype='uint16')\n",
    "\n",
    "size = 100\n",
    "img1[num_y//2 - size//2: num_y//2 + size//2, num_x//2 - size//2: num_x//2 + size//2] = 1000\n",
    "\n",
    "fig, ax = plt.subplots()\n",
    "ax.imshow(img1, interpolation=None, cmap=\"gray\");"
   ]
  },
  {
   "cell_type": "code",
   "execution_count": 4,
   "id": "atlantic-mileage",
   "metadata": {},
   "outputs": [
    {
     "data": {
      "application/vnd.jupyter.widget-view+json": {
       "model_id": "0dd06e46f9794e20ab3de26870a1d0ac",
       "version_major": 2,
       "version_minor": 0
      },
      "text/plain": [
       "Canvas(toolbar=Toolbar(toolitems=[('Home', 'Reset original view', 'home', 'home'), ('Back', 'Back to previous …"
      ]
     },
     "metadata": {},
     "output_type": "display_data"
    }
   ],
   "source": [
    "img2 = np.zeros((len(y), len(x)), dtype='uint16')\n",
    "\n",
    "size_y, size_x = 200, 80\n",
    "img2[num_y//2 - size_y//2: num_y//2 + size_y//2, num_x//2 - size_x//2: num_x//2 + size_x//2] = 500\n",
    "\n",
    "fig, ax = plt.subplots()\n",
    "ax.imshow(img2, interpolation=None, cmap=\"gray\");"
   ]
  },
  {
   "cell_type": "markdown",
   "id": "understanding-modification",
   "metadata": {},
   "source": [
    "## Side-by-side images\n",
    "\n",
    "Procedure:\n",
    "\n",
    "- Click on rectangle selection tool in toolbar\n",
    "- Go to right image and select a region\n",
    "- Click button \"Left image range = Right image range\"\n",
    "\n",
    "Outcome: left image range will be the same as the right image range"
   ]
  },
  {
   "cell_type": "code",
   "execution_count": 5,
   "id": "political-graham",
   "metadata": {},
   "outputs": [
    {
     "data": {
      "application/vnd.jupyter.widget-view+json": {
       "model_id": "58811af7dad4488f886c35aca6326d27",
       "version_major": 2,
       "version_minor": 0
      },
      "text/plain": [
       "SideBySideImageViewerBit(children=(VBox(children=(IntSlider(value=1000, continuous_update=False, description='…"
      ]
     },
     "metadata": {},
     "output_type": "display_data"
    }
   ],
   "source": [
    "SideBySideImageViewerBit(img1, img2, title_left='img1', title_right='img2')"
   ]
  },
  {
   "cell_type": "code",
   "execution_count": null,
   "id": "played-celebrity",
   "metadata": {},
   "outputs": [],
   "source": []
  }
 ],
 "metadata": {
  "kernelspec": {
   "display_name": "voila_opencv",
   "language": "python",
   "name": "voila_opencv"
  },
  "language_info": {
   "codemirror_mode": {
    "name": "ipython",
    "version": 3
   },
   "file_extension": ".py",
   "mimetype": "text/x-python",
   "name": "python",
   "nbconvert_exporter": "python",
   "pygments_lexer": "ipython3",
   "version": "3.8.1"
  }
 },
 "nbformat": 4,
 "nbformat_minor": 5
}
