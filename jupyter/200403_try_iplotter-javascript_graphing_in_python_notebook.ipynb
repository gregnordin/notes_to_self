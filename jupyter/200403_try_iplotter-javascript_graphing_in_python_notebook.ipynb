{
 "cells": [
  {
   "cell_type": "markdown",
   "metadata": {},
   "source": [
    "# How to use IPlotter\n",
    "\n",
    "[IPlotter](https://github.com/niloch/iplotter) - JavaScript charting in ipython/jupyter notebooks.\n",
    "\n",
    "The purpose of this notebook is to document how to use the iplotter package in a **python** jupyter notebook to plot python-generated data with a javascript plotting library like C3.js, plotly.js, Chart.js, Chartist.js, and Google Charts.\n",
    "\n",
    "1. Be sure to install iplotter **in the environment that is used as the python kernel**: `pip install iplotter`.\n",
    "2. cd into the directory in which you will create the jupyter notebook.\n",
    "3. Install javascript package in that directory: `npm install chart.js --save`\n",
    "4. Create jupyter notebook."
   ]
  },
  {
   "cell_type": "code",
   "execution_count": 1,
   "metadata": {},
   "outputs": [
    {
     "name": "stdout",
     "output_type": "stream",
     "text": [
      "/Users/nordin/Documents/Projects/Javascript/200401_jupyter_notebook_javascript\r\n"
     ]
    }
   ],
   "source": [
    "! pwd"
   ]
  },
  {
   "cell_type": "markdown",
   "metadata": {},
   "source": [
    "# How to use IPlotter with Chart.js\n",
    "\n",
    "## Example from documentation\n",
    "\n",
    "This example comes from the [IPlotter documentation](http://niloch.github.io/iplotter/#chartjs)."
   ]
  },
  {
   "cell_type": "code",
   "execution_count": 2,
   "metadata": {},
   "outputs": [
    {
     "data": {
      "text/html": [
       "\n",
       "        <iframe\n",
       "            width=\"800\"\n",
       "            height=\"420\"\n",
       "            src=\"chart.html\"\n",
       "            frameborder=\"0\"\n",
       "            allowfullscreen\n",
       "        ></iframe>\n",
       "        "
      ],
      "text/plain": [
       "<IPython.lib.display.IFrame at 0x7fef303117d0>"
      ]
     },
     "execution_count": 2,
     "metadata": {},
     "output_type": "execute_result"
    }
   ],
   "source": [
    "from iplotter import ChartJSPlotter\n",
    "\n",
    "plotter = ChartJSPlotter()\n",
    "\n",
    "data = {\n",
    "    \"labels\": [\"Eating\", \"Drinking\", \"Sleeping\", \"Designing\", \"Coding\",\n",
    "               \"Cycling\", \"Running\"],\n",
    "    \"datasets\": [\n",
    "        {\n",
    "            \"label\": \"Trace 1\",\n",
    "            \"backgroundColor\": \"rgba(179,181,198,0.2)\",\n",
    "            \"borderColor\": \"rgba(179,181,198,1)\",\n",
    "            \"pointBackgroundColor\": \"rgba(179,181,198,1)\",\n",
    "            \"pointBorderColor\": \"#fff\",\n",
    "            \"pointHoverBackgroundColor\": \"#fff\",\n",
    "            \"pointHoverBorderColor\": \"rgba(179,181,198,1)\",\n",
    "            \"data\": [65, 59, 30, 81, 56, 55, 40]\n",
    "        }, {\n",
    "            \"label\": \"Trace 2\",\n",
    "            \"backgroundColor\": \"rgba(255,99,132,0.2)\",\n",
    "            \"borderColor\": \"rgba(255,99,132,1)\",\n",
    "            \"pointBackgroundColor\": \"rgba(255,99,132,1)\",\n",
    "            \"pointBorderColor\": \"#fff\",\n",
    "            \"pointHoverBackgroundColor\": \"#fff\",\n",
    "            \"pointHoverBorderColor\": \"rgba(255,99,132,1)\",\n",
    "            \"data\": [28, 48, 40, 19, 96, 27, 100]\n",
    "        }\n",
    "    ]\n",
    "}\n",
    "\n",
    "plotter.plot_and_save(data, 'radar', options=None)"
   ]
  },
  {
   "cell_type": "markdown",
   "metadata": {},
   "source": [
    "## `help` for `ChartJSPlotter`."
   ]
  },
  {
   "cell_type": "code",
   "execution_count": 3,
   "metadata": {},
   "outputs": [
    {
     "name": "stdout",
     "output_type": "stream",
     "text": [
      "Help on class ChartJSPlotter in module iplotter.chartjs_plotter:\n",
      "\n",
      "class ChartJSPlotter(iplotter.base_plotter.IPlotter)\n",
      " |  Class for creating charts.js charts in ipython  notebook\n",
      " |  \n",
      " |  Method resolution order:\n",
      " |      ChartJSPlotter\n",
      " |      iplotter.base_plotter.IPlotter\n",
      " |      builtins.object\n",
      " |  \n",
      " |  Methods defined here:\n",
      " |  \n",
      " |  __init__(self)\n",
      " |      Initialize self.  See help(type(self)) for accurate signature.\n",
      " |  \n",
      " |  plot(self, data, chart_type, options=None, w=800, h=420)\n",
      " |      output an iframe containing the plot in the notebook without saving\n",
      " |  \n",
      " |  plot_and_save(self, data, chart_type, options=None, w=800, h=420, filename='chart', overwrite=True)\n",
      " |      save the rendered html to a file and return an IFrame to display the plot in the notebook\n",
      " |  \n",
      " |  render(self, data, chart_type, options=None, div_id='chart', head='', w=800, h=420)\n",
      " |      render the data in HTML template\n",
      " |  \n",
      " |  save(self, data, chart_type, options=None, filename='chart', w=800, h=420, overwrite=True)\n",
      " |      save the rendered html to a file in the same directory as the notebook\n",
      " |  \n",
      " |  ----------------------------------------------------------------------\n",
      " |  Data and other attributes defined here:\n",
      " |  \n",
      " |  head = \"\\n        <!-- Load Charts.js -->\\n       <script ...hart.js/2...\n",
      " |  \n",
      " |  template = \"\\n        <canvas id='{{div_id}}'></canvas>\\n     ..., opt...\n",
      " |  \n",
      " |  ----------------------------------------------------------------------\n",
      " |  Class methods inherited from iplotter.base_plotter.IPlotter:\n",
      " |  \n",
      " |  is_valid_name(name) from builtins.type\n",
      " |      check whether plot div id or filenname are valid\n",
      " |  \n",
      " |  ----------------------------------------------------------------------\n",
      " |  Data descriptors inherited from iplotter.base_plotter.IPlotter:\n",
      " |  \n",
      " |  __dict__\n",
      " |      dictionary for instance variables (if defined)\n",
      " |  \n",
      " |  __weakref__\n",
      " |      list of weak references to the object (if defined)\n",
      " |  \n",
      " |  ----------------------------------------------------------------------\n",
      " |  Data and other attributes inherited from iplotter.base_plotter.IPlotter:\n",
      " |  \n",
      " |  __metaclass__ = <class 'abc.ABCMeta'>\n",
      " |      Metaclass for defining Abstract Base Classes (ABCs).\n",
      " |      \n",
      " |      Use this metaclass to create an ABC.  An ABC can be subclassed\n",
      " |      directly, and then acts as a mix-in class.  You can also register\n",
      " |      unrelated concrete classes (even built-in classes) and unrelated\n",
      " |      ABCs as 'virtual subclasses' -- these and their descendants will\n",
      " |      be considered subclasses of the registering ABC by the built-in\n",
      " |      issubclass() function, but the registering ABC won't show up in\n",
      " |      their MRO (Method Resolution Order) nor will method\n",
      " |      implementations defined by the registering ABC be callable (not\n",
      " |      even via super()).\n",
      " |  \n",
      " |  iframe = '<iframe srcdoc=\"{source}\" src=\"\" width=\"{w}\" hei...\" framebo...\n",
      " |  \n",
      " |  invalid_name_pattern = re.compile('[^a-zA-Z0-9_\\\\-\\\\. ]+')\n",
      "\n"
     ]
    }
   ],
   "source": [
    "help(ChartJSPlotter)"
   ]
  },
  {
   "cell_type": "markdown",
   "metadata": {},
   "source": [
    "## Don't save an html file"
   ]
  },
  {
   "cell_type": "code",
   "execution_count": 6,
   "metadata": {},
   "outputs": [
    {
     "data": {
      "text/html": [
       "<iframe srcdoc=\"\n",
       "        <!-- Load Charts.js -->\n",
       "       <script src='https://cdnjs.cloudflare.com/ajax/libs/Chart.js/2.5.0/Chart.bundle.min.js'></script>\n",
       "    \n",
       "        <canvas id='chart'></canvas>\n",
       "        <script>\n",
       "            var ctx = document.getElementById('chart').getContext('2d');\n",
       "            ctx.canvas.width  = 800 - (.1 * 800);\n",
       "            ctx.canvas.height = 420 - (.15 * 420);\n",
       "            var myNewChart = new Chart(ctx,{ type: 'radar', data: {\n",
       "    'labels': [\n",
       "        'Eating',\n",
       "        'Drinking',\n",
       "        'Sleeping',\n",
       "        'Designing',\n",
       "        'Coding',\n",
       "        'Cycling',\n",
       "        'Running'\n",
       "    ],\n",
       "    'datasets': [\n",
       "        {\n",
       "            'label': 'Trace 1',\n",
       "            'backgroundColor': 'rgba(179,181,198,0.2)',\n",
       "            'borderColor': 'rgba(179,181,198,1)',\n",
       "            'pointBackgroundColor': 'rgba(179,181,198,1)',\n",
       "            'pointBorderColor': '#fff',\n",
       "            'pointHoverBackgroundColor': '#fff',\n",
       "            'pointHoverBorderColor': 'rgba(179,181,198,1)',\n",
       "            'data': [\n",
       "                65,\n",
       "                59,\n",
       "                30,\n",
       "                81,\n",
       "                56,\n",
       "                55,\n",
       "                40\n",
       "            ]\n",
       "        },\n",
       "        {\n",
       "            'label': 'Trace 2',\n",
       "            'backgroundColor': 'rgba(255,99,132,0.2)',\n",
       "            'borderColor': 'rgba(255,99,132,1)',\n",
       "            'pointBackgroundColor': 'rgba(255,99,132,1)',\n",
       "            'pointBorderColor': '#fff',\n",
       "            'pointHoverBackgroundColor': '#fff',\n",
       "            'pointHoverBorderColor': 'rgba(255,99,132,1)',\n",
       "            'data': [\n",
       "                28,\n",
       "                48,\n",
       "                40,\n",
       "                19,\n",
       "                96,\n",
       "                27,\n",
       "                100\n",
       "            ]\n",
       "        }\n",
       "    ]\n",
       "}, options: null });\n",
       "        </script>\n",
       "    \" src=\"\" width=\"800\" height=\"420\" frameborder=0 sandbox=\"allow-scripts\"></iframe>"
      ],
      "text/plain": [
       "<IPython.core.display.HTML object>"
      ]
     },
     "execution_count": 6,
     "metadata": {},
     "output_type": "execute_result"
    }
   ],
   "source": [
    "plotter.plot(data, 'radar', options=None)"
   ]
  },
  {
   "cell_type": "markdown",
   "metadata": {},
   "source": [
    "## Change to a line plot"
   ]
  },
  {
   "cell_type": "code",
   "execution_count": 5,
   "metadata": {},
   "outputs": [
    {
     "data": {
      "text/html": [
       "<iframe srcdoc=\"\n",
       "        <!-- Load Charts.js -->\n",
       "       <script src='https://cdnjs.cloudflare.com/ajax/libs/Chart.js/2.5.0/Chart.bundle.min.js'></script>\n",
       "    \n",
       "        <canvas id='chart'></canvas>\n",
       "        <script>\n",
       "            var ctx = document.getElementById('chart').getContext('2d');\n",
       "            ctx.canvas.width  = 800 - (.1 * 800);\n",
       "            ctx.canvas.height = 420 - (.15 * 420);\n",
       "            var myNewChart = new Chart(ctx,{ type: 'line', data: {\n",
       "    'labels': [\n",
       "        'Eating',\n",
       "        'Drinking',\n",
       "        'Sleeping',\n",
       "        'Designing',\n",
       "        'Coding',\n",
       "        'Cycling',\n",
       "        'Running'\n",
       "    ],\n",
       "    'datasets': [\n",
       "        {\n",
       "            'label': 'Trace 1',\n",
       "            'backgroundColor': 'rgba(179,181,198,0.2)',\n",
       "            'borderColor': 'rgba(179,181,198,1)',\n",
       "            'pointBackgroundColor': 'rgba(179,181,198,1)',\n",
       "            'pointBorderColor': '#fff',\n",
       "            'pointHoverBackgroundColor': '#fff',\n",
       "            'pointHoverBorderColor': 'rgba(179,181,198,1)',\n",
       "            'data': [\n",
       "                65,\n",
       "                59,\n",
       "                30,\n",
       "                81,\n",
       "                56,\n",
       "                55,\n",
       "                40\n",
       "            ]\n",
       "        },\n",
       "        {\n",
       "            'label': 'Trace 2',\n",
       "            'backgroundColor': 'rgba(255,99,132,0.2)',\n",
       "            'borderColor': 'rgba(255,99,132,1)',\n",
       "            'pointBackgroundColor': 'rgba(255,99,132,1)',\n",
       "            'pointBorderColor': '#fff',\n",
       "            'pointHoverBackgroundColor': '#fff',\n",
       "            'pointHoverBorderColor': 'rgba(255,99,132,1)',\n",
       "            'data': [\n",
       "                28,\n",
       "                48,\n",
       "                40,\n",
       "                19,\n",
       "                96,\n",
       "                27,\n",
       "                100\n",
       "            ]\n",
       "        }\n",
       "    ]\n",
       "}, options: null });\n",
       "        </script>\n",
       "    \" src=\"\" width=\"800\" height=\"420\" frameborder=0 sandbox=\"allow-scripts\"></iframe>"
      ],
      "text/plain": [
       "<IPython.core.display.HTML object>"
      ]
     },
     "execution_count": 5,
     "metadata": {},
     "output_type": "execute_result"
    }
   ],
   "source": [
    "plotter.plot(data, 'line', options=None)"
   ]
  },
  {
   "cell_type": "markdown",
   "metadata": {},
   "source": [
    "## Try an example from Chart.js documentation"
   ]
  },
  {
   "cell_type": "markdown",
   "metadata": {},
   "source": [
    "From [Creating a Chart](https://www.chartjs.org/docs/latest/):"
   ]
  },
  {
   "cell_type": "code",
   "execution_count": 10,
   "metadata": {},
   "outputs": [
    {
     "data": {
      "text/html": [
       "<iframe srcdoc=\"\n",
       "        <!-- Load Charts.js -->\n",
       "       <script src='https://cdnjs.cloudflare.com/ajax/libs/Chart.js/2.5.0/Chart.bundle.min.js'></script>\n",
       "    \n",
       "        <canvas id='chart'></canvas>\n",
       "        <script>\n",
       "            var ctx = document.getElementById('chart').getContext('2d');\n",
       "            ctx.canvas.width  = 800 - (.1 * 800);\n",
       "            ctx.canvas.height = 420 - (.15 * 420);\n",
       "            var myNewChart = new Chart(ctx,{ type: 'line', data: {\n",
       "    'labels': [\n",
       "        'Red',\n",
       "        'Blue',\n",
       "        'Yellow',\n",
       "        'Green',\n",
       "        'Purple',\n",
       "        'Orange'\n",
       "    ],\n",
       "    'datasets': [\n",
       "        {\n",
       "            'label': '# of Votes',\n",
       "            'data': [\n",
       "                12,\n",
       "                19,\n",
       "                3,\n",
       "                5,\n",
       "                2,\n",
       "                3\n",
       "            ],\n",
       "            'backgroundColor': [\n",
       "                'rgba(255, 99, 132, 0.2)',\n",
       "                'rgba(54, 162, 235, 0.2)',\n",
       "                'rgba(255, 206, 86, 0.2)',\n",
       "                'rgba(75, 192, 192, 0.2)',\n",
       "                'rgba(153, 102, 255, 0.2)',\n",
       "                'rgba(255, 159, 64, 0.2)'\n",
       "            ],\n",
       "            'borderColor': [\n",
       "                'rgba(255, 99, 132, 1)',\n",
       "                'rgba(54, 162, 235, 1)',\n",
       "                'rgba(255, 206, 86, 1)',\n",
       "                'rgba(75, 192, 192, 1)',\n",
       "                'rgba(153, 102, 255, 1)',\n",
       "                'rgba(255, 159, 64, 1)'\n",
       "            ],\n",
       "            'borderWidth': 1\n",
       "        }\n",
       "    ]\n",
       "}, options: {\n",
       "    'scales': {\n",
       "        'yAxes': [\n",
       "            {\n",
       "                'ticks': {\n",
       "                    'beginAtZero': true\n",
       "                }\n",
       "            }\n",
       "        ]\n",
       "    }\n",
       "} });\n",
       "        </script>\n",
       "    \" src=\"\" width=\"800\" height=\"420\" frameborder=0 sandbox=\"allow-scripts\"></iframe>"
      ],
      "text/plain": [
       "<IPython.core.display.HTML object>"
      ]
     },
     "execution_count": 10,
     "metadata": {},
     "output_type": "execute_result"
    }
   ],
   "source": [
    "new_data = {\n",
    "        \"labels\": ['Red', 'Blue', 'Yellow', 'Green', 'Purple', 'Orange'],\n",
    "        \"datasets\": [{\n",
    "            \"label\": '# of Votes',\n",
    "            \"data\": [12, 19, 3, 5, 2, 3],\n",
    "            \"backgroundColor\": [\n",
    "                'rgba(255, 99, 132, 0.2)',\n",
    "                'rgba(54, 162, 235, 0.2)',\n",
    "                'rgba(255, 206, 86, 0.2)',\n",
    "                'rgba(75, 192, 192, 0.2)',\n",
    "                'rgba(153, 102, 255, 0.2)',\n",
    "                'rgba(255, 159, 64, 0.2)'\n",
    "            ],\n",
    "            \"borderColor\": [\n",
    "                'rgba(255, 99, 132, 1)',\n",
    "                'rgba(54, 162, 235, 1)',\n",
    "                'rgba(255, 206, 86, 1)',\n",
    "                'rgba(75, 192, 192, 1)',\n",
    "                'rgba(153, 102, 255, 1)',\n",
    "                'rgba(255, 159, 64, 1)'\n",
    "            ],\n",
    "            \"borderWidth\": 1\n",
    "        }]\n",
    "}\n",
    "new_options = {\n",
    "        \"scales\": {\n",
    "            \"yAxes\": [{\n",
    "                \"ticks\": {\n",
    "                    \"beginAtZero\": True\n",
    "                }\n",
    "            }]\n",
    "        }\n",
    "}\n",
    "\n",
    "\n",
    "plotter.plot(new_data, 'line', options=new_options)"
   ]
  },
  {
   "cell_type": "markdown",
   "metadata": {},
   "source": [
    "## Turn off interpolation smoothing with `lineTension`"
   ]
  },
  {
   "cell_type": "markdown",
   "metadata": {},
   "source": [
    "I need to turn off interpolation so that there is no line smoothing in the graph. According to [Line chart disable interpolation](https://stackoverflow.com/questions/39749948/line-chart-disable-interpolation), just `et \"lineTension` to 0:"
   ]
  },
  {
   "cell_type": "code",
   "execution_count": 17,
   "metadata": {},
   "outputs": [
    {
     "data": {
      "text/html": [
       "<iframe srcdoc=\"\n",
       "        <!-- Load Charts.js -->\n",
       "       <script src='https://cdnjs.cloudflare.com/ajax/libs/Chart.js/2.5.0/Chart.bundle.min.js'></script>\n",
       "    \n",
       "        <canvas id='chart'></canvas>\n",
       "        <script>\n",
       "            var ctx = document.getElementById('chart').getContext('2d');\n",
       "            ctx.canvas.width  = 800 - (.1 * 800);\n",
       "            ctx.canvas.height = 420 - (.15 * 420);\n",
       "            var myNewChart = new Chart(ctx,{ type: 'line', data: {\n",
       "    'labels': [\n",
       "        'Red',\n",
       "        'Blue',\n",
       "        'Yellow',\n",
       "        'Green',\n",
       "        'Purple',\n",
       "        'Orange'\n",
       "    ],\n",
       "    'datasets': [\n",
       "        {\n",
       "            'label': '# of Votes',\n",
       "            'lineTension': 0,\n",
       "            'data': [\n",
       "                12,\n",
       "                19,\n",
       "                3,\n",
       "                5,\n",
       "                2,\n",
       "                3\n",
       "            ],\n",
       "            'backgroundColor': [\n",
       "                'rgba(255, 99, 132, 0.2)',\n",
       "                'rgba(54, 162, 235, 0.2)',\n",
       "                'rgba(255, 206, 86, 0.2)',\n",
       "                'rgba(75, 192, 192, 0.2)',\n",
       "                'rgba(153, 102, 255, 0.2)',\n",
       "                'rgba(255, 159, 64, 0.2)'\n",
       "            ],\n",
       "            'borderColor': [\n",
       "                'rgba(255, 99, 132, 1)',\n",
       "                'rgba(54, 162, 235, 1)',\n",
       "                'rgba(255, 206, 86, 1)',\n",
       "                'rgba(75, 192, 192, 1)',\n",
       "                'rgba(153, 102, 255, 1)',\n",
       "                'rgba(255, 159, 64, 1)'\n",
       "            ],\n",
       "            'borderWidth': 1\n",
       "        }\n",
       "    ]\n",
       "}, options: {\n",
       "    'scales': {\n",
       "        'yAxes': [\n",
       "            {\n",
       "                'ticks': {\n",
       "                    'beginAtZero': true\n",
       "                }\n",
       "            }\n",
       "        ]\n",
       "    }\n",
       "} });\n",
       "        </script>\n",
       "    \" src=\"\" width=\"800\" height=\"420\" frameborder=0 sandbox=\"allow-scripts\"></iframe>"
      ],
      "text/plain": [
       "<IPython.core.display.HTML object>"
      ]
     },
     "execution_count": 17,
     "metadata": {},
     "output_type": "execute_result"
    }
   ],
   "source": [
    "new_data = {\n",
    "        \"labels\": ['Red', 'Blue', 'Yellow', 'Green', 'Purple', 'Orange'],\n",
    "        \"datasets\": [{\n",
    "            \"label\": '# of Votes',\n",
    "            \"lineTension\": 0,\n",
    "            \"data\": [12, 19, 3, 5, 2, 3],\n",
    "            \"backgroundColor\": [\n",
    "                'rgba(255, 99, 132, 0.2)',\n",
    "                'rgba(54, 162, 235, 0.2)',\n",
    "                'rgba(255, 206, 86, 0.2)',\n",
    "                'rgba(75, 192, 192, 0.2)',\n",
    "                'rgba(153, 102, 255, 0.2)',\n",
    "                'rgba(255, 159, 64, 0.2)'\n",
    "            ],\n",
    "            \"borderColor\": [\n",
    "                'rgba(255, 99, 132, 1)',\n",
    "                'rgba(54, 162, 235, 1)',\n",
    "                'rgba(255, 206, 86, 1)',\n",
    "                'rgba(75, 192, 192, 1)',\n",
    "                'rgba(153, 102, 255, 1)',\n",
    "                'rgba(255, 159, 64, 1)'\n",
    "            ],\n",
    "            \"borderWidth\": 1,\n",
    "        }],\n",
    "}\n",
    "new_options = {\n",
    "        \"scales\": {\n",
    "            \"yAxes\": [{\n",
    "                \"ticks\": {\n",
    "                    \"beginAtZero\": True\n",
    "                }\n",
    "            }]\n",
    "        },\n",
    "}\n",
    "\n",
    "\n",
    "plotter.plot(new_data, 'line', options=new_options)"
   ]
  },
  {
   "cell_type": "markdown",
   "metadata": {},
   "source": [
    "## Numeric x-axis, don't show points"
   ]
  },
  {
   "cell_type": "markdown",
   "metadata": {},
   "source": [
    "Just use an array of numeric data for `labels` to have a numeric x-axis. See [Numeric X axis for linechart](https://stackoverflow.com/questions/31957159/numeric-x-axis-for-linechart). Also, get rid of points for each data point by setting `pointRadius` to 0."
   ]
  },
  {
   "cell_type": "code",
   "execution_count": 38,
   "metadata": {},
   "outputs": [
    {
     "data": {
      "text/html": [
       "<iframe srcdoc=\"\n",
       "        <!-- Load Charts.js -->\n",
       "       <script src='https://cdnjs.cloudflare.com/ajax/libs/Chart.js/2.5.0/Chart.bundle.min.js'></script>\n",
       "    \n",
       "        <canvas id='chart'></canvas>\n",
       "        <script>\n",
       "            var ctx = document.getElementById('chart').getContext('2d');\n",
       "            ctx.canvas.width  = 800 - (.1 * 800);\n",
       "            ctx.canvas.height = 420 - (.15 * 420);\n",
       "            var myNewChart = new Chart(ctx,{ type: 'line', data: {\n",
       "    'labels': [\n",
       "        0,\n",
       "        1,\n",
       "        2,\n",
       "        3,\n",
       "        4,\n",
       "        5\n",
       "    ],\n",
       "    'datasets': [\n",
       "        {\n",
       "            'label': '# of Votes',\n",
       "            'data': [\n",
       "                12,\n",
       "                19,\n",
       "                3,\n",
       "                5,\n",
       "                2,\n",
       "                3\n",
       "            ],\n",
       "            'lineTension': 0,\n",
       "            'pointRadius': 0,\n",
       "            'backgroundColor': 'rgba(255, 99, 132, 0.2)',\n",
       "            'borderColor': 'rgba(255, 99, 132, 1)',\n",
       "            'borderWidth': 1\n",
       "        }\n",
       "    ]\n",
       "}, options: {\n",
       "    'scales': {\n",
       "        'yAxes': [\n",
       "            {\n",
       "                'ticks': {\n",
       "                    'beginAtZero': true\n",
       "                }\n",
       "            }\n",
       "        ]\n",
       "    }\n",
       "} });\n",
       "        </script>\n",
       "    \" src=\"\" width=\"800\" height=\"420\" frameborder=0 sandbox=\"allow-scripts\"></iframe>"
      ],
      "text/plain": [
       "<IPython.core.display.HTML object>"
      ]
     },
     "execution_count": 38,
     "metadata": {},
     "output_type": "execute_result"
    }
   ],
   "source": [
    "new_data = {\n",
    "        \"labels\": [0, 1, 2, 3, 4, 5],\n",
    "        \"datasets\": [{\n",
    "            \"label\": '# of Votes',\n",
    "            \"data\": [12, 19, 3, 5, 2, 3],\n",
    "            \"lineTension\": 0,\n",
    "            \"pointRadius\": 0,\n",
    "            \"backgroundColor\": 'rgba(255, 99, 132, 0.2)',\n",
    "            \"borderColor\": 'rgba(255, 99, 132, 1)',\n",
    "            \"borderWidth\": 1,\n",
    "        }],\n",
    "}\n",
    "new_options = {\n",
    "        \"scales\": {\n",
    "            \"yAxes\": [{\n",
    "                \"ticks\": {\n",
    "                    \"beginAtZero\": True\n",
    "                }\n",
    "            }]\n",
    "        },\n",
    "}\n",
    "\n",
    "\n",
    "plotter.plot(new_data, 'line', options=new_options)"
   ]
  },
  {
   "cell_type": "code",
   "execution_count": null,
   "metadata": {},
   "outputs": [],
   "source": []
  }
 ],
 "metadata": {
  "kernelspec": {
   "display_name": "anaconda_py37",
   "language": "python",
   "name": "anaconda_py37"
  },
  "language_info": {
   "codemirror_mode": {
    "name": "ipython",
    "version": 3
   },
   "file_extension": ".py",
   "mimetype": "text/x-python",
   "name": "python",
   "nbconvert_exporter": "python",
   "pygments_lexer": "ipython3",
   "version": "3.7.6"
  },
  "toc": {
   "base_numbering": 1,
   "nav_menu": {},
   "number_sections": true,
   "sideBar": true,
   "skip_h1_title": false,
   "title_cell": "Table of Contents",
   "title_sidebar": "Contents",
   "toc_cell": false,
   "toc_position": {},
   "toc_section_display": true,
   "toc_window_display": true
  }
 },
 "nbformat": 4,
 "nbformat_minor": 4
}
