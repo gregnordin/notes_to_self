{
 "cells": [
  {
   "cell_type": "code",
   "execution_count": 1,
   "metadata": {},
   "outputs": [],
   "source": [
    "import numpy as np\n",
    "import matplotlib.pyplot as plt\n",
    "import ipywidgets as widgets\n",
    "# %matplotlib inline \n",
    "# %matplotlib notebook \n",
    "%matplotlib widget\n"
   ]
  },
  {
   "cell_type": "markdown",
   "metadata": {},
   "source": [
    "# One widget changes another"
   ]
  },
  {
   "cell_type": "markdown",
   "metadata": {},
   "source": [
    "## Purpose\n",
    "\n",
    "Figure out how to have changes in one widget affect the properties of another widget in real time. Use an example involving the following:\n",
    "\n",
    "- Set up IntSlider\n",
    "- Set up some radio buttons\n",
    "- Depending on selected radio button, change IntSlider value, range, description"
   ]
  },
  {
   "cell_type": "markdown",
   "metadata": {},
   "source": [
    "## Approach\n",
    "\n",
    "See [Widget Events &rarr; Traitlet Events](https://ipywidgets.readthedocs.io/en/latest/examples/Widget%20Events.html#Traitlet-events) in the [User Guide](https://ipywidgets.readthedocs.io/en/latest/user_guide.html) for how to use the `.observe` method to register a callback function.\n",
    "\n",
    "Steps:\n",
    "\n",
    "- Set up Widgets\n",
    "- Create callback function\n",
    "- Register callback function"
   ]
  },
  {
   "cell_type": "markdown",
   "metadata": {},
   "source": [
    "## Discrete elements and functions implementation"
   ]
  },
  {
   "cell_type": "code",
   "execution_count": 16,
   "metadata": {},
   "outputs": [
    {
     "data": {
      "application/vnd.jupyter.widget-view+json": {
       "model_id": "2bdcf5ba5229451882183f68822fa5b2",
       "version_major": 2,
       "version_minor": 0
      },
      "text/plain": [
       "VBox(children=(IntSlider(value=5, description='slider', max=10), RadioButtons(description='radio buttons', opt…"
      ]
     },
     "metadata": {},
     "output_type": "display_data"
    }
   ],
   "source": [
    "# Widgets\n",
    "int_slider = widgets.IntSlider(\n",
    "    value=5, \n",
    "    min=0, max=10, step=1, \n",
    "    description='slider'\n",
    ")\n",
    "radiobuttons = widgets.RadioButtons(\n",
    "    value='Original', \n",
    "    options=['Original', '0-5', '3-7', '5-10'], \n",
    "    description='radio buttons'\n",
    ")\n",
    "\n",
    "# Callback function\n",
    "def radiobuttons_update(change):\n",
    "    int_slider.description = change.new\n",
    "    if change.new == 'Original':\n",
    "        int_slider.min = 0\n",
    "        int_slider.max = 10\n",
    "    elif change.new == '0-5':\n",
    "        if int_slider.value > 5:\n",
    "            int_slider.value = 5\n",
    "        int_slider.min = 0\n",
    "        int_slider.max = 5\n",
    "    elif change.new == '3-7':\n",
    "        if int_slider.value > 7:\n",
    "            int_slider.value = 7\n",
    "        elif int_slider.value < 3:\n",
    "            int_slider.value = 3\n",
    "        int_slider.min = 3\n",
    "        int_slider.max = 7\n",
    "    elif change.new == '5-10':\n",
    "        if int_slider.value < 5:\n",
    "            int_slider.value = 5\n",
    "        int_slider.min = 5\n",
    "        int_slider.max = 10\n",
    "\n",
    "# Register callback function\n",
    "radiobuttons.observe(radiobuttons_update, 'value')\n",
    "\n",
    "# Display widgets in a VBox\n",
    "widgets.VBox(\n",
    "    [\n",
    "        int_slider, \n",
    "        radiobuttons,\n",
    "    ]\n",
    ")"
   ]
  },
  {
   "cell_type": "markdown",
   "metadata": {},
   "source": [
    "## Class implementation"
   ]
  },
  {
   "cell_type": "code",
   "execution_count": 21,
   "metadata": {},
   "outputs": [
    {
     "data": {
      "application/vnd.jupyter.widget-view+json": {
       "model_id": "789b49a1efe14aa59c005b409d20388e",
       "version_major": 2,
       "version_minor": 0
      },
      "text/plain": [
       "WidgetAffectsAnotherWidget(children=(IntSlider(value=5, description='slider', max=10), RadioButtons(descriptio…"
      ]
     },
     "metadata": {},
     "output_type": "display_data"
    }
   ],
   "source": [
    "class WidgetAffectsAnotherWidget(widgets.VBox):\n",
    "     \n",
    "    def __init__(self):\n",
    "        super().__init__()\n",
    "        # output = widgets.Output()\n",
    " \n",
    "        # define widgets\n",
    "        self.int_slider = widgets.IntSlider(\n",
    "            value=5, \n",
    "            min=0, max=10, step=1, \n",
    "            description='slider',\n",
    "        )\n",
    "        self.radiobuttons = widgets.RadioButtons(\n",
    "            value='Original', \n",
    "            options=['Original', '0-5', '3-7', '5-10'], \n",
    "            description='radio buttons',\n",
    "        )\n",
    " \n",
    "        # observe stuff\n",
    "        self.radiobuttons.observe(self.radiobuttons_update, 'value')\n",
    "         \n",
    " \n",
    "        # add to children\n",
    "        self.children = [self.int_slider, self.radiobuttons]\n",
    "     \n",
    "    def radiobuttons_update(self, change):\n",
    "        self.int_slider.description = change.new\n",
    "        if change.new == 'Original':\n",
    "            self.int_slider.min = 0\n",
    "            self.int_slider.max = 10\n",
    "        elif change.new == '0-5':\n",
    "            if self.int_slider.value > 5:\n",
    "                self.int_slider.value = 5\n",
    "            self.int_slider.min = 0\n",
    "            self.int_slider.max = 5\n",
    "        elif change.new == '3-7':\n",
    "            if self.int_slider.value > 7:\n",
    "                self.int_slider.value = 7\n",
    "            elif self.int_slider.value < 3:\n",
    "                self.int_slider.value = 3\n",
    "            self.int_slider.min = 3\n",
    "            self.int_slider.max = 7\n",
    "        elif change.new == '5-10':\n",
    "            if self.int_slider.value < 5:\n",
    "                self.int_slider.value = 5\n",
    "            self.int_slider.min = 5\n",
    "            self.int_slider.max = 10\n",
    "\n",
    "WidgetAffectsAnotherWidget()"
   ]
  },
  {
   "cell_type": "markdown",
   "metadata": {},
   "source": [
    "# Output widgets\n",
    "\n",
    "[Output widgets: leveraging Jupyter’s display system](https://ipywidgets.readthedocs.io/en/latest/examples/Output%20Widget.html?highlight=widgets.Output)"
   ]
  },
  {
   "cell_type": "code",
   "execution_count": 22,
   "metadata": {},
   "outputs": [
    {
     "data": {
      "application/vnd.jupyter.widget-view+json": {
       "model_id": "5129f3483a5c4c6ba1844a0eed1eb21a",
       "version_major": 2,
       "version_minor": 0
      },
      "text/plain": [
       "Output(layout=Layout(border='1px solid black'))"
      ]
     },
     "metadata": {},
     "output_type": "display_data"
    }
   ],
   "source": [
    "out = widgets.Output(layout={'border': '1px solid black'})\n",
    "out"
   ]
  },
  {
   "cell_type": "code",
   "execution_count": 23,
   "metadata": {},
   "outputs": [],
   "source": [
    "with out:\n",
    "    for i in range(10):\n",
    "        print(i, 'Hello world!')"
   ]
  },
  {
   "cell_type": "code",
   "execution_count": 24,
   "metadata": {},
   "outputs": [],
   "source": [
    "from IPython.display import YouTubeVideo\n",
    "with out:\n",
    "    display(YouTubeVideo('eWzY2nGfkXk'))"
   ]
  },
  {
   "cell_type": "code",
   "execution_count": null,
   "metadata": {},
   "outputs": [],
   "source": []
  }
 ],
 "metadata": {
  "kernelspec": {
   "display_name": "anaconda_py37",
   "language": "python",
   "name": "anaconda_py37"
  },
  "language_info": {
   "codemirror_mode": {
    "name": "ipython",
    "version": 3
   },
   "file_extension": ".py",
   "mimetype": "text/x-python",
   "name": "python",
   "nbconvert_exporter": "python",
   "pygments_lexer": "ipython3",
   "version": "3.7.6"
  },
  "toc": {
   "base_numbering": 1,
   "nav_menu": {},
   "number_sections": true,
   "sideBar": true,
   "skip_h1_title": false,
   "title_cell": "Table of Contents",
   "title_sidebar": "Contents",
   "toc_cell": false,
   "toc_position": {
    "height": "calc(100% - 180px)",
    "left": "10px",
    "top": "150px",
    "width": "330.188px"
   },
   "toc_section_display": true,
   "toc_window_display": true
  }
 },
 "nbformat": 4,
 "nbformat_minor": 4
}
