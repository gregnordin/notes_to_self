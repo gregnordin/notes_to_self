{
 "cells": [
  {
   "cell_type": "markdown",
   "metadata": {},
   "source": [
    "\n",
    "See Marc's answer at [Combinig tabs with template](https://discourse.holoviz.org/t/combinig-tabs-with-template/826/5), which is what he does at [awesome-panel.org](https://awesome-panel.org/)."
   ]
  },
  {
   "cell_type": "code",
   "execution_count": 4,
   "metadata": {},
   "outputs": [
    {
     "data": {},
     "metadata": {},
     "output_type": "display_data"
    },
    {
     "data": {
      "application/vnd.holoviews_exec.v0+json": "",
      "text/html": [
       "<div id='1268'>\n",
       "\n",
       "\n",
       "\n",
       "\n",
       "\n",
       "  <div class=\"bk-root\" id=\"b985c32a-2842-4809-bc6b-d0e4b1bf35f5\" data-root-id=\"1268\"></div>\n",
       "</div>\n",
       "<script type=\"application/javascript\">(function(root) {\n",
       "  function embed_document(root) {\n",
       "  var docs_json = {\"c4468d68-1002-45bb-8f1c-2a34d8837c7b\":{\"roots\":{\"references\":[{\"attributes\":{\"client_comm_id\":\"03f312409ea945a69c4c95413a7752ab\",\"comm_id\":\"2203faf28d2b4e599de694474d428e13\",\"plot_id\":\"1268\"},\"id\":\"1271\",\"type\":\"panel.models.comm_manager.CommManager\"},{\"attributes\":{\"icon\":null,\"label\":\"Replace panel\",\"margin\":[5,10,5,10],\"subscribed_events\":[\"button_click\"]},\"id\":\"1269\",\"type\":\"Button\"},{\"attributes\":{\"css_classes\":[\"markdown\"],\"margin\":[5,5,5,5],\"name\":\"Markdown01741\",\"text\":\"&lt;p&gt;Hello World&lt;/p&gt;\"},\"id\":\"1270\",\"type\":\"panel.models.markup.HTML\"},{\"attributes\":{\"children\":[{\"id\":\"1269\"},{\"id\":\"1270\"}],\"margin\":[0,0,0,0],\"name\":\"Column01839\"},\"id\":\"1268\",\"type\":\"Column\"}],\"root_ids\":[\"1268\",\"1271\"]},\"title\":\"Bokeh Application\",\"version\":\"2.0.2\"}};\n",
       "  var render_items = [{\"docid\":\"c4468d68-1002-45bb-8f1c-2a34d8837c7b\",\"root_ids\":[\"1268\"],\"roots\":{\"1268\":\"b985c32a-2842-4809-bc6b-d0e4b1bf35f5\"}}];\n",
       "  root.Bokeh.embed.embed_items_notebook(docs_json, render_items);\n",
       "  }\n",
       "if (root.Bokeh !== undefined) {\n",
       "    embed_document(root);\n",
       "  } else {\n",
       "    var attempts = 0;\n",
       "    var timer = setInterval(function(root) {\n",
       "      if (root.Bokeh !== undefined) {\n",
       "        clearInterval(timer);\n",
       "        embed_document(root);\n",
       "      } else if (document.readyState == \"complete\") {\n",
       "        attempts++;\n",
       "        if (attempts > 100) {\n",
       "          clearInterval(timer);\n",
       "          console.log(\"Bokeh: ERROR: Unable to run BokehJS code because BokehJS library is missing\");\n",
       "        }\n",
       "      }\n",
       "    }, 10, root)\n",
       "  }\n",
       "})(window);</script>"
      ],
      "text/plain": [
       "Column\n",
       "    [0] Button(name='Replace panel')\n",
       "    [1] Markdown(str)"
      ]
     },
     "execution_count": 4,
     "metadata": {
      "application/vnd.holoviews_exec.v0+json": {
       "id": "1268"
      }
     },
     "output_type": "execute_result"
    }
   ],
   "source": [
    "import param\n",
    "import panel as pn\n",
    "import hvplot.pandas\n",
    "import pandas as pd\n",
    "\n",
    "DATA = {\n",
    "    \"x\": [1,2],\n",
    "    \"y\": [3,4],\n",
    "}\n",
    "\n",
    "PANELS = [\n",
    "    pn.pane.Markdown(\"Hello World\"),\n",
    "    pn.pane.PNG(\"logo_stacked.png\"),\n",
    "    pn.pane.HoloViews(pd.DataFrame(DATA).hvplot(x=\"x\", y=\"y\")),\n",
    "]\n",
    "\n",
    "class ReplaceApp(param.Parameterized):\n",
    "    panel_index = param.Integer(default=0, bounds=(0,len(PANELS)))\n",
    "    replace_panel = param.Action()\n",
    "    view = param.Parameter()\n",
    "    panels = param.List(default=PANELS)\n",
    "\n",
    "    def __init__(self, **params):\n",
    "        super().__init__(**params)\n",
    "\n",
    "        self.replace_panel = self._replace_panel\n",
    "        self.view = pn.Column(self.param.replace_panel, self.panels[self.panel_index], sizing_mode=\"stretch_width\")\n",
    "\n",
    "    def _replace_panel(self, event=None):\n",
    "        self.panel_index += 1\n",
    "        if self.panel_index == len(self.panels):\n",
    "            self.panel_index=0\n",
    "        self.view[1]=self.panels[self.panel_index]\n",
    "\n",
    "ReplaceApp().view.servable()"
   ]
  },
  {
   "cell_type": "code",
   "execution_count": 3,
   "metadata": {},
   "outputs": [
    {
     "name": "stdout",
     "output_type": "stream",
     "text": [
      "Column(sizing_mode='stretch_width')\n",
      "    [0] Button(name='Replace panel')\n",
      "    [1] Markdown(str)\n"
     ]
    }
   ],
   "source": [
    "print(ReplaceApp().view)"
   ]
  },
  {
   "cell_type": "code",
   "execution_count": 5,
   "metadata": {},
   "outputs": [
    {
     "data": {
      "text/plain": [
       "['_Parameterized__db_print',\n",
       " '_Parameterized__params',\n",
       " '_ReplaceApp__params',\n",
       " '__class__',\n",
       " '__delattr__',\n",
       " '__dict__',\n",
       " '__dir__',\n",
       " '__doc__',\n",
       " '__eq__',\n",
       " '__format__',\n",
       " '__ge__',\n",
       " '__getattribute__',\n",
       " '__getstate__',\n",
       " '__gt__',\n",
       " '__hash__',\n",
       " '__init__',\n",
       " '__init_subclass__',\n",
       " '__le__',\n",
       " '__lt__',\n",
       " '__module__',\n",
       " '__ne__',\n",
       " '__new__',\n",
       " '__reduce__',\n",
       " '__reduce_ex__',\n",
       " '__repr__',\n",
       " '__setattr__',\n",
       " '__setstate__',\n",
       " '__sizeof__',\n",
       " '__str__',\n",
       " '__subclasshook__',\n",
       " '__weakref__',\n",
       " '_add_parameter',\n",
       " '_replace_panel',\n",
       " '_set_name',\n",
       " 'debug',\n",
       " 'defaults',\n",
       " 'force_new_dynamic_value',\n",
       " 'get_param_values',\n",
       " 'get_value_generator',\n",
       " 'inspect_value',\n",
       " 'message',\n",
       " 'name',\n",
       " 'panel_index',\n",
       " 'panels',\n",
       " 'param',\n",
       " 'params',\n",
       " 'pprint',\n",
       " 'print_param_defaults',\n",
       " 'print_param_values',\n",
       " 'replace_panel',\n",
       " 'script_repr',\n",
       " 'set_default',\n",
       " 'set_dynamic_time_fn',\n",
       " 'set_param',\n",
       " 'state_pop',\n",
       " 'state_push',\n",
       " 'verbose',\n",
       " 'view',\n",
       " 'warning']"
      ]
     },
     "execution_count": 5,
     "metadata": {},
     "output_type": "execute_result"
    }
   ],
   "source": [
    "dir(ReplaceApp)"
   ]
  },
  {
   "cell_type": "code",
   "execution_count": 6,
   "metadata": {},
   "outputs": [
    {
     "data": {
      "text/plain": [
       "['_BATCH_WATCH',\n",
       " '_Parameters__db_print',\n",
       " '_TRIGGER',\n",
       " '__class__',\n",
       " '__contains__',\n",
       " '__delattr__',\n",
       " '__dict__',\n",
       " '__dir__',\n",
       " '__doc__',\n",
       " '__eq__',\n",
       " '__format__',\n",
       " '__ge__',\n",
       " '__getattr__',\n",
       " '__getattribute__',\n",
       " '__getitem__',\n",
       " '__gt__',\n",
       " '__hash__',\n",
       " '__init__',\n",
       " '__init_subclass__',\n",
       " '__iter__',\n",
       " '__le__',\n",
       " '__lt__',\n",
       " '__module__',\n",
       " '__ne__',\n",
       " '__new__',\n",
       " '__reduce__',\n",
       " '__reduce_ex__',\n",
       " '__repr__',\n",
       " '__setattr__',\n",
       " '__sizeof__',\n",
       " '__slotnames__',\n",
       " '__str__',\n",
       " '__subclasshook__',\n",
       " '__weakref__',\n",
       " '_add_parameter',\n",
       " '_batch_call_watchers',\n",
       " '_call_watcher',\n",
       " '_changed',\n",
       " '_depends',\n",
       " '_disable_stubs',\n",
       " '_events',\n",
       " '_generate_name',\n",
       " '_instantiate_param',\n",
       " '_set_name',\n",
       " '_setup_params',\n",
       " '_spec_to_obj',\n",
       " '_update_event_type',\n",
       " '_watch',\n",
       " '_watchers',\n",
       " 'cls',\n",
       " 'debug',\n",
       " 'defaults',\n",
       " 'deprecate',\n",
       " 'force_new_dynamic_value',\n",
       " 'get_param_values',\n",
       " 'get_value_generator',\n",
       " 'inspect_value',\n",
       " 'message',\n",
       " 'name',\n",
       " 'objects',\n",
       " 'outputs',\n",
       " 'panel_index',\n",
       " 'panels',\n",
       " 'params',\n",
       " 'params_depended_on',\n",
       " 'print_param_defaults',\n",
       " 'print_param_values',\n",
       " 'replace_panel',\n",
       " 'self',\n",
       " 'self_or_cls',\n",
       " 'set_default',\n",
       " 'set_dynamic_time_fn',\n",
       " 'set_param',\n",
       " 'trigger',\n",
       " 'unwatch',\n",
       " 'verbose',\n",
       " 'view',\n",
       " 'warning',\n",
       " 'watch',\n",
       " 'watch_values']"
      ]
     },
     "execution_count": 6,
     "metadata": {},
     "output_type": "execute_result"
    }
   ],
   "source": [
    "dir(ReplaceApp.param)"
   ]
  },
  {
   "cell_type": "code",
   "execution_count": 7,
   "metadata": {},
   "outputs": [
    {
     "data": {
      "text/plain": [
       "['__class__',\n",
       " '__classdoc',\n",
       " '__delattr__',\n",
       " '__delete__',\n",
       " '__dir__',\n",
       " '__doc__',\n",
       " '__eq__',\n",
       " '__format__',\n",
       " '__ge__',\n",
       " '__get__',\n",
       " '__getattribute__',\n",
       " '__getstate__',\n",
       " '__gt__',\n",
       " '__hash__',\n",
       " '__init__',\n",
       " '__init_subclass__',\n",
       " '__le__',\n",
       " '__lt__',\n",
       " '__module__',\n",
       " '__ne__',\n",
       " '__new__',\n",
       " '__reduce__',\n",
       " '__reduce_ex__',\n",
       " '__repr__',\n",
       " '__set__',\n",
       " '__setattr__',\n",
       " '__setstate__',\n",
       " '__sizeof__',\n",
       " '__slots__',\n",
       " '__str__',\n",
       " '__subclasshook__',\n",
       " '_internal_name',\n",
       " '_label',\n",
       " '_post_setter',\n",
       " '_set_instantiate',\n",
       " '_set_names',\n",
       " '_validate',\n",
       " 'allow_None',\n",
       " 'constant',\n",
       " 'default',\n",
       " 'doc',\n",
       " 'instantiate',\n",
       " 'label',\n",
       " 'name',\n",
       " 'owner',\n",
       " 'per_instance',\n",
       " 'pickle_default_value',\n",
       " 'precedence',\n",
       " 'readonly',\n",
       " 'watchers']"
      ]
     },
     "execution_count": 7,
     "metadata": {},
     "output_type": "execute_result"
    }
   ],
   "source": [
    "dir(ReplaceApp.param.replace_panel)"
   ]
  },
  {
   "cell_type": "code",
   "execution_count": null,
   "metadata": {},
   "outputs": [],
   "source": []
  }
 ],
 "metadata": {
  "kernelspec": {
   "display_name": "3D_print_job_prep",
   "language": "python",
   "name": "3d_print_job_prep"
  },
  "language_info": {
   "codemirror_mode": {
    "name": "ipython",
    "version": 3
   },
   "file_extension": ".py",
   "mimetype": "text/x-python",
   "name": "python",
   "nbconvert_exporter": "python",
   "pygments_lexer": "ipython3",
   "version": "3.7.6"
  },
  "toc": {
   "base_numbering": 1,
   "nav_menu": {},
   "number_sections": true,
   "sideBar": true,
   "skip_h1_title": false,
   "title_cell": "Table of Contents",
   "title_sidebar": "Contents",
   "toc_cell": false,
   "toc_position": {},
   "toc_section_display": true,
   "toc_window_display": false
  }
 },
 "nbformat": 4,
 "nbformat_minor": 4
}
