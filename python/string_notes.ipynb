{
 "cells": [
  {
   "cell_type": "markdown",
   "id": "f4a36b4d-a8c6-4b85-9e69-e6ee70d0ecf7",
   "metadata": {},
   "source": [
    "# Template\n",
    "\n",
    "See [Python String Template](https://www.journaldev.com/23494/python-string-template) - used to create a simple template string, where fields can be replaced later on to create a string object."
   ]
  },
  {
   "cell_type": "code",
   "execution_count": 8,
   "id": "33acb9c8-9d8b-42e8-b7ce-ab85343c9b58",
   "metadata": {},
   "outputs": [
    {
     "name": "stdout",
     "output_type": "stream",
     "text": [
      "Tim Cook is the CEO of Apple Inc.\n",
      "Tim Cook is the CEO of Apple Inc.\n",
      "Template String = $name is the $job of $company\n",
      "Test adjective is Testing\n"
     ]
    }
   ],
   "source": [
    "from string import Template\n",
    "\n",
    "t = Template('$name is the $job of $company')\n",
    "s = t.substitute(name='Tim Cook', job='CEO', company='Apple Inc.')\n",
    "print(s)\n",
    "\n",
    "# dictionary as substitute argument\n",
    "d = {\"name\": \"Tim Cook\", \"job\": \"CEO\", \"company\": \"Apple Inc.\"}\n",
    "s = t.substitute(**d)\n",
    "print(s)\n",
    "\n",
    "print('Template String =', t.template)\n",
    "\n",
    "t = Template('$noun adjective is ${noun}ing')\n",
    "s = t.substitute(noun='Test')\n",
    "print(s)"
   ]
  },
  {
   "cell_type": "code",
   "execution_count": null,
   "id": "88aa35b6-f47a-4a8b-a957-5b8b6bfe86c3",
   "metadata": {},
   "outputs": [],
   "source": []
  }
 ],
 "metadata": {
  "kernelspec": {
   "display_name": "panel_voila_opencv",
   "language": "python",
   "name": "panel_voila_opencv"
  },
  "language_info": {
   "codemirror_mode": {
    "name": "ipython",
    "version": 3
   },
   "file_extension": ".py",
   "mimetype": "text/x-python",
   "name": "python",
   "nbconvert_exporter": "python",
   "pygments_lexer": "ipython3",
   "version": "3.9.7"
  }
 },
 "nbformat": 4,
 "nbformat_minor": 5
}
