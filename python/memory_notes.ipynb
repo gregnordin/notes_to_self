{
 "cells": [
  {
   "cell_type": "markdown",
   "metadata": {},
   "source": [
    "# Built-in tools\n",
    "\n",
    "See [Memory Management and Limits - PyMOTW](https://pymotw.com/2/sys/limits.html)."
   ]
  },
  {
   "cell_type": "code",
   "execution_count": 1,
   "metadata": {},
   "outputs": [],
   "source": [
    "import numpy as np\n",
    "import sys"
   ]
  },
  {
   "cell_type": "markdown",
   "metadata": {},
   "source": [
    "## sys.getsizeof"
   ]
  },
  {
   "cell_type": "code",
   "execution_count": 8,
   "metadata": {},
   "outputs": [
    {
     "data": {
      "text/plain": [
       "array([[0.74770387, 0.6966605 , 0.35087905, ..., 0.11070656, 0.88931723,\n",
       "        0.46085394],\n",
       "       [0.11033663, 0.71532067, 0.07302769, ..., 0.57339697, 0.46703341,\n",
       "        0.50198108],\n",
       "       [0.57308748, 0.09833046, 0.37174136, ..., 0.0040035 , 0.8802559 ,\n",
       "        0.25456128],\n",
       "       ...,\n",
       "       [0.05730916, 0.10092654, 0.46795612, ..., 0.6016014 , 0.18495328,\n",
       "        0.09056347],\n",
       "       [0.37108834, 0.52067922, 0.98265147, ..., 0.9747454 , 0.77284424,\n",
       "        0.42998308],\n",
       "       [0.5018426 , 0.57279074, 0.17408807, ..., 0.46456059, 0.37249295,\n",
       "        0.18164449]])"
      ]
     },
     "execution_count": 8,
     "metadata": {},
     "output_type": "execute_result"
    }
   ],
   "source": [
    "temp_array = np.random.rand(1000, 100)\n",
    "temp_array"
   ]
  },
  {
   "cell_type": "code",
   "execution_count": 9,
   "metadata": {},
   "outputs": [
    {
     "data": {
      "text/plain": [
       "800112"
      ]
     },
     "execution_count": 9,
     "metadata": {},
     "output_type": "execute_result"
    }
   ],
   "source": [
    "sys.getsizeof(temp_array)"
   ]
  },
  {
   "cell_type": "markdown",
   "metadata": {},
   "source": [
    "## Use __sizeof__(self) in custom classes"
   ]
  },
  {
   "cell_type": "code",
   "execution_count": 10,
   "metadata": {},
   "outputs": [],
   "source": [
    "class MixinSizeOf:\n",
    "    \"\"\"See [Memory Management and Limits - PyMOTW](https://pymotw.com/2/sys/limits.html)\n",
    "    \"\"\"\n",
    "    def __sizeof__(self):\n",
    "        return object.__sizeof__(self) + \\\n",
    "            sum(sys.getsizeof(v) for v in self.__dict__.values())\n",
    "\n",
    "class TempImages(MixinSizeOf):\n",
    "    \n",
    "    def __init__(self, dim1, dim2):\n",
    "        self.image1 = np.random.rand(dim1,dim2)\n",
    "        self.image2 = np.random.rand(dim1,dim2)\n"
   ]
  },
  {
   "cell_type": "code",
   "execution_count": 11,
   "metadata": {},
   "outputs": [
    {
     "data": {
      "text/plain": [
       "1600280"
      ]
     },
     "execution_count": 11,
     "metadata": {},
     "output_type": "execute_result"
    }
   ],
   "source": [
    "temp_class = TempImages(1000, 100)\n",
    "sys.getsizeof(temp_class)"
   ]
  },
  {
   "cell_type": "markdown",
   "metadata": {},
   "source": [
    "# Pympler\n",
    "\n",
    "[pympler](https://pythonhosted.org/Pympler/)"
   ]
  },
  {
   "cell_type": "code",
   "execution_count": 1,
   "metadata": {
    "collapsed": true,
    "jupyter": {
     "outputs_hidden": true
    }
   },
   "outputs": [],
   "source": [
    "import numpy as np\n",
    "import matplotlib.pyplot as plt\n",
    "%matplotlib inline \n",
    "\n",
    "from PIL import Image\n",
    "\n",
    "import os\n",
    "\n",
    "from pympler import asizeof\n",
    "from pympler import tracker\n",
    "from pympler import summary\n",
    "from pympler import muppy"
   ]
  },
  {
   "cell_type": "code",
   "execution_count": 2,
   "metadata": {
    "collapsed": true,
    "jupyter": {
     "outputs_hidden": true
    }
   },
   "outputs": [],
   "source": [
    "def namestr(obj, namespace):\n",
    "    return [name for name in namespace if namespace[name] is obj][0]"
   ]
  },
  {
   "cell_type": "markdown",
   "metadata": {},
   "source": [
    "## Start `tracker`"
   ]
  },
  {
   "cell_type": "code",
   "execution_count": 3,
   "metadata": {},
   "outputs": [
    {
     "name": "stdout",
     "output_type": "stream",
     "text": [
      "                                      types |   # objects |   total size\n",
      "=========================================== | =========== | ============\n",
      "                               <class 'list |       13033 |      1.20 MB\n",
      "                                <class 'str |       13034 |    935.33 KB\n",
      "                                <class 'int |        2850 |     77.94 KB\n",
      "                  <class 'method_descriptor |          12 |    864     B\n",
      "                            <class 'weakref |           3 |    240     B\n",
      "                               <class 'dict |           0 |    152     B\n",
      "                      function (store_info) |           1 |    136     B\n",
      "                 <class 'wrapper_descriptor |           1 |     80     B\n",
      "                  <class 'member_descriptor |           1 |     72     B\n",
      "                   <class '_ast.Interactive |           1 |     56     B\n",
      "                       <class '_thread.lock |          -1 |    -40     B\n",
      "  <class 'tornado.stack_context.NullContext |          -1 |    -56     B\n",
      "                        <class '_ast.Module |          -1 |    -56     B\n",
      "                      <class 'list_iterator |          -1 |    -56     B\n",
      "                          <class 'generator |          -1 |    -88     B\n"
     ]
    }
   ],
   "source": [
    "tr = tracker.SummaryTracker()\n",
    "tr.print_diff()"
   ]
  },
  {
   "cell_type": "markdown",
   "metadata": {},
   "source": [
    "## Set up variables (images)"
   ]
  },
  {
   "cell_type": "code",
   "execution_count": 4,
   "metadata": {},
   "outputs": [
    {
     "name": "stdout",
     "output_type": "stream",
     "text": [
      "images/0red_6water_start.png \n",
      "\n",
      "PIL info\n",
      "size: (1024, 768)\n",
      "mode: RGB\n",
      "\n",
      "numpy array info\n",
      "shape: (768, 1024, 3)\n",
      "dtype: uint8\n",
      "min, max: 0 255\n"
     ]
    }
   ],
   "source": [
    "image_directory = \"images\"\n",
    "test_file = os.path.join(image_directory, \"0red_6water_start.png\")\n",
    "print(test_file, '\\n')\n",
    "\n",
    "pil_img = Image.open(test_file)\n",
    "print(\"PIL info\")\n",
    "print(\"size:\", pil_img.size)\n",
    "print(\"mode:\", pil_img.mode)\n",
    "print(\"\")\n",
    "\n",
    "np_img = np.array(pil_img)\n",
    "print(\"numpy array info\")\n",
    "print(\"shape:\", np_img.shape)\n",
    "print(\"dtype:\", np_img.dtype)\n",
    "print(\"min, max:\", np.min(np_img), np.max(np_img))"
   ]
  },
  {
   "cell_type": "markdown",
   "metadata": {},
   "source": [
    "## Size of each image variable"
   ]
  },
  {
   "cell_type": "code",
   "execution_count": 5,
   "metadata": {},
   "outputs": [
    {
     "name": "stdout",
     "output_type": "stream",
     "text": [
      "pil_img: 2.5390625 kb\n",
      "np_img: 2304.125 kb\n"
     ]
    }
   ],
   "source": [
    "print(\"{}: {} kb\".format(namestr(pil_img, globals()), asizeof.asizeof(pil_img)/1024))\n",
    "print(\"{}: {} kb\".format(namestr(np_img, globals()), asizeof.asizeof(np_img)/1024))"
   ]
  },
  {
   "cell_type": "markdown",
   "metadata": {},
   "source": [
    "## `tracker` - what's different"
   ]
  },
  {
   "cell_type": "code",
   "execution_count": 6,
   "metadata": {},
   "outputs": [
    {
     "name": "stdout",
     "output_type": "stream",
     "text": [
      "                         types |   # objects |   total size\n",
      "============================== | =========== | ============\n",
      "         <class 'numpy.ndarray |           1 |      2.25 MB\n",
      "                   <class 'str |         810 |     79.82 KB\n",
      "                  <class 'dict |         104 |     56.56 KB\n",
      "                  <class 'code |         311 |     43.85 KB\n",
      "                  <class 'type |          26 |     27.28 KB\n",
      "                  <class 'list |          57 |     13.48 KB\n",
      "                 <class 'tuple |         193 |     13.05 KB\n",
      "  <class 'PIL.TiffTags.TagInfo |         100 |      8.59 KB\n",
      "                   <class 'set |          26 |      8.19 KB\n",
      "                   <class 'int |         274 |      7.64 KB\n",
      "           <class 'abc.ABCMeta |           4 |      3.80 KB\n",
      "               <class 'weakref |          48 |      3.75 KB\n",
      "           function (delegate) |          28 |      3.72 KB\n",
      "                  <class 'cell |          61 |      2.86 KB\n",
      "           function (<lambda>) |          20 |      2.66 KB\n"
     ]
    }
   ],
   "source": [
    "tr.print_diff()"
   ]
  },
  {
   "cell_type": "markdown",
   "metadata": {},
   "source": [
    "## Summarize memory used by all objects"
   ]
  },
  {
   "cell_type": "code",
   "execution_count": 7,
   "metadata": {},
   "outputs": [
    {
     "data": {
      "text/plain": [
       "229573"
      ]
     },
     "execution_count": 7,
     "metadata": {},
     "output_type": "execute_result"
    }
   ],
   "source": [
    "all_objects = muppy.get_objects()\n",
    "len(all_objects)"
   ]
  },
  {
   "cell_type": "code",
   "execution_count": 8,
   "metadata": {},
   "outputs": [
    {
     "name": "stdout",
     "output_type": "stream",
     "text": [
      "                                      types |   # objects |   total size\n",
      "=========================================== | =========== | ============\n",
      "                                <class 'str |       90962 |     11.87 MB\n",
      "                               <class 'dict |       12755 |      5.55 MB\n",
      "                               <class 'code |       22206 |      3.06 MB\n",
      "                               <class 'type |        3010 |      3.06 MB\n",
      "                      <class 'numpy.ndarray |          83 |      2.26 MB\n",
      "                               <class 'list |       20298 |      2.02 MB\n",
      "                                <class 'set |        2250 |      1.07 MB\n",
      "                              <class 'tuple |       10654 |    707.52 KB\n",
      "                            <class 'weakref |        5143 |    401.80 KB\n",
      "                 <class '_io.BufferedWriter |           3 |    384.52 KB\n",
      "                                <class 'int |        9196 |    271.17 KB\n",
      "                        <class 'abc.ABCMeta |         251 |    253.79 KB\n",
      "                        function (__init__) |        1761 |    233.88 KB\n",
      "                  <class 'getset_descriptor |        2664 |    187.31 KB\n",
      "  <class 'traitlets.traitlets.MetaHasTraits |         182 |    177.35 KB\n"
     ]
    }
   ],
   "source": [
    "sum1 = summary.summarize(all_objects)\n",
    "summary.print_(sum1)"
   ]
  },
  {
   "cell_type": "code",
   "execution_count": null,
   "metadata": {
    "collapsed": true,
    "jupyter": {
     "outputs_hidden": true
    }
   },
   "outputs": [],
   "source": []
  }
 ],
 "metadata": {
  "kernelspec": {
   "display_name": "anaconda_py38",
   "language": "python",
   "name": "anaconda_py38"
  },
  "language_info": {
   "codemirror_mode": {
    "name": "ipython",
    "version": 3
   },
   "file_extension": ".py",
   "mimetype": "text/x-python",
   "name": "python",
   "nbconvert_exporter": "python",
   "pygments_lexer": "ipython3",
   "version": "3.8.5"
  },
  "toc": {
   "colors": {
    "hover_highlight": "#DAA520",
    "navigate_num": "#000000",
    "navigate_text": "#333333",
    "running_highlight": "#FF0000",
    "selected_highlight": "#FFD700",
    "sidebar_border": "#EEEEEE",
    "wrapper_background": "#FFFFFF"
   },
   "moveMenuLeft": true,
   "nav_menu": {
    "height": "120px",
    "width": "252px"
   },
   "navigate_menu": true,
   "number_sections": true,
   "sideBar": true,
   "threshold": 4,
   "toc_cell": false,
   "toc_position": {
    "height": "837px",
    "left": "0px",
    "right": "1368px",
    "top": "107px",
    "width": "312px"
   },
   "toc_section_display": "block",
   "toc_window_display": true,
   "widenNotebook": false
  }
 },
 "nbformat": 4,
 "nbformat_minor": 4
}
