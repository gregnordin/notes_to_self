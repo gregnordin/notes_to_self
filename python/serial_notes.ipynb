{
 "cells": [
  {
   "cell_type": "code",
   "execution_count": 4,
   "metadata": {},
   "outputs": [],
   "source": [
    "import serial\n",
    "import serial.tools.list_ports\n",
    "import serial.serialutil"
   ]
  },
  {
   "cell_type": "markdown",
   "metadata": {},
   "source": [
    "# Serial ports"
   ]
  },
  {
   "cell_type": "markdown",
   "metadata": {},
   "source": [
    "## List serial ports"
   ]
  },
  {
   "cell_type": "code",
   "execution_count": 5,
   "metadata": {},
   "outputs": [
    {
     "name": "stdout",
     "output_type": "stream",
     "text": [
      "/dev/cu.Bluetooth-Incoming-Port - n/a\n",
      "/dev/cu.usbmodem3794661 - USB Serial\n"
     ]
    }
   ],
   "source": [
    "ports = list(serial.tools.list_ports.comports())\n",
    "for p in ports:\n",
    "    print(p)"
   ]
  },
  {
   "cell_type": "markdown",
   "metadata": {},
   "source": [
    "## __dict__ elements"
   ]
  },
  {
   "cell_type": "code",
   "execution_count": 21,
   "metadata": {},
   "outputs": [
    {
     "data": {
      "text/plain": [
       "['__class__',\n",
       " '__delattr__',\n",
       " '__dict__',\n",
       " '__dir__',\n",
       " '__doc__',\n",
       " '__eq__',\n",
       " '__format__',\n",
       " '__ge__',\n",
       " '__getattribute__',\n",
       " '__getitem__',\n",
       " '__gt__',\n",
       " '__hash__',\n",
       " '__init__',\n",
       " '__init_subclass__',\n",
       " '__le__',\n",
       " '__lt__',\n",
       " '__module__',\n",
       " '__ne__',\n",
       " '__new__',\n",
       " '__reduce__',\n",
       " '__reduce_ex__',\n",
       " '__repr__',\n",
       " '__setattr__',\n",
       " '__sizeof__',\n",
       " '__str__',\n",
       " '__subclasshook__',\n",
       " '__weakref__',\n",
       " 'apply_usb_info',\n",
       " 'description',\n",
       " 'device',\n",
       " 'hwid',\n",
       " 'interface',\n",
       " 'location',\n",
       " 'manufacturer',\n",
       " 'name',\n",
       " 'pid',\n",
       " 'product',\n",
       " 'serial_number',\n",
       " 'usb_description',\n",
       " 'usb_info',\n",
       " 'vid']"
      ]
     },
     "execution_count": 21,
     "metadata": {},
     "output_type": "execute_result"
    }
   ],
   "source": [
    "dir(ports[1])"
   ]
  },
  {
   "cell_type": "markdown",
   "metadata": {},
   "source": [
    "## List attributes of each port"
   ]
  },
  {
   "cell_type": "code",
   "execution_count": 31,
   "metadata": {},
   "outputs": [
    {
     "name": "stdout",
     "output_type": "stream",
     "text": [
      "/dev/cu.Bluetooth-Incoming-Port - n/a\n",
      "                   device: /dev/cu.Bluetooth-Incoming-Port\n",
      "                     name: None\n",
      "              description: n/a\n",
      "                     hwid: n/a\n",
      "                      vid: None\n",
      "                      pid: None\n",
      "            serial_number: None\n",
      "                 location: None\n",
      "             manufacturer: None\n",
      "                  product: None\n",
      "                interface: None\n",
      "/dev/cu.usbmodem3794661 - USB Serial\n",
      "                   device: /dev/cu.usbmodem3794661\n",
      "                     name: None\n",
      "              description: USB Serial\n",
      "                     hwid: USB VID:PID=16C0:0483 SER=3794660 LOCATION=20-2.3\n",
      "                      vid: 5824\n",
      "                      pid: 1155\n",
      "            serial_number: 3794660\n",
      "                 location: 20-2.3\n",
      "             manufacturer: Teensyduino\n",
      "                  product: USB Serial\n",
      "                interface: None\n"
     ]
    }
   ],
   "source": [
    "ports = list(serial.tools.list_ports.comports())\n",
    "for p in ports:\n",
    "    print(p)\n",
    "    for key in vars(p):\n",
    "        print(f\"{key:>25}: {getattr(p, key)}\")\n"
   ]
  },
  {
   "cell_type": "code",
   "execution_count": null,
   "metadata": {},
   "outputs": [],
   "source": []
  }
 ],
 "metadata": {
  "kernelspec": {
   "display_name": "py37-use_this_one",
   "language": "python",
   "name": "py37"
  },
  "language_info": {
   "codemirror_mode": {
    "name": "ipython",
    "version": 3
   },
   "file_extension": ".py",
   "mimetype": "text/x-python",
   "name": "python",
   "nbconvert_exporter": "python",
   "pygments_lexer": "ipython3",
   "version": "3.7.3"
  }
 },
 "nbformat": 4,
 "nbformat_minor": 4
}
