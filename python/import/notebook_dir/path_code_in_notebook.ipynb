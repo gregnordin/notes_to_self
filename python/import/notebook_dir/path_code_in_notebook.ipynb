{
 "cells": [
  {
   "cell_type": "markdown",
   "id": "interpreted-glory",
   "metadata": {},
   "source": [
    "# Purpose\n",
    "\n",
    "Insert a parent directory into PATH so that packages/modules in that directory can be imported."
   ]
  },
  {
   "cell_type": "markdown",
   "id": "miniature-juice",
   "metadata": {},
   "source": [
    "# Approach\n",
    "\n",
    "Put all of the necessary code into the first code cell."
   ]
  },
  {
   "cell_type": "code",
   "execution_count": 1,
   "id": "everyday-religious",
   "metadata": {},
   "outputs": [
    {
     "name": "stdout",
     "output_type": "stream",
     "text": [
      "['/Users/nordin/Documents/Projects/notes_to_self/python/import/notebook_dir']\n",
      "\n",
      "/Users/nordin/Documents/Projects/notes_to_self/python/import/notebook_dir\n",
      "/Users/nordin/Documents/Projects/notes_to_self/python/import\n",
      "\n"
     ]
    }
   ],
   "source": [
    "from pathlib import Path\n",
    "import sys\n",
    "\n",
    "# Get correct directory to add to path\n",
    "cwd = !pwd\n",
    "print(cwd); print()\n",
    "p = Path(cwd[0])\n",
    "print(p)\n",
    "print(p.parent); print()\n",
    "\n",
    "# Add directory to path so can import microfluidicdesign\n",
    "module_path = str(p.parent)\n",
    "if module_path not in sys.path:\n",
    "    sys.path.insert(1, module_path)\n",
    "\n",
    "import example_module as em"
   ]
  },
  {
   "cell_type": "code",
   "execution_count": 2,
   "id": "sacred-flavor",
   "metadata": {},
   "outputs": [
    {
     "name": "stdout",
     "output_type": "stream",
     "text": [
      "func_a\n",
      "func_b\n"
     ]
    }
   ],
   "source": [
    "em.func_a()\n",
    "em.func_b()"
   ]
  },
  {
   "cell_type": "code",
   "execution_count": null,
   "id": "documented-arnold",
   "metadata": {},
   "outputs": [],
   "source": []
  }
 ],
 "metadata": {
  "kernelspec": {
   "display_name": "anaconda_py38",
   "language": "python",
   "name": "anaconda_py38"
  },
  "language_info": {
   "codemirror_mode": {
    "name": "ipython",
    "version": 3
   },
   "file_extension": ".py",
   "mimetype": "text/x-python",
   "name": "python",
   "nbconvert_exporter": "python",
   "pygments_lexer": "ipython3",
   "version": "3.8.5"
  }
 },
 "nbformat": 4,
 "nbformat_minor": 5
}
