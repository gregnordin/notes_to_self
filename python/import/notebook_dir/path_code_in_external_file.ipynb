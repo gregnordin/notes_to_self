{
 "cells": [
  {
   "cell_type": "markdown",
   "id": "rental-narrow",
   "metadata": {},
   "source": [
    "# Purpose\n",
    "\n",
    "Insert a parent directory into PATH so that packages/modules in that directory can be imported."
   ]
  },
  {
   "cell_type": "markdown",
   "id": "cooperative-helen",
   "metadata": {},
   "source": [
    "# Approach\n",
    "\n",
    "Code to change PATH is in a separate module, `add_parent_dir_to_path`, that must be in the same directory as a notebook that needs to use the module. The current working directory cannot be gotten reliably with python, so use a magic command (`!pwd`) to execute the shell `pwd` command to get it. Then feed this into `insert_dir_into_path` imported from `add_parent_dir_to_path`."
   ]
  },
  {
   "cell_type": "code",
   "execution_count": 1,
   "id": "expensive-brooklyn",
   "metadata": {},
   "outputs": [],
   "source": [
    "from pathlib import Path\n",
    "\n",
    "# Go one directory up and insert it into PATH\n",
    "from add_parent_dir_to_path import insert_dir_into_path\n",
    "cwd = !pwd\n",
    "insert_dir_into_path(Path(cwd[0]), 1)\n",
    "\n",
    "import example_module as em"
   ]
  },
  {
   "cell_type": "code",
   "execution_count": 2,
   "id": "economic-efficiency",
   "metadata": {},
   "outputs": [
    {
     "name": "stdout",
     "output_type": "stream",
     "text": [
      "func_a\n",
      "func_b\n"
     ]
    }
   ],
   "source": [
    "em.func_a()\n",
    "em.func_b()"
   ]
  },
  {
   "cell_type": "markdown",
   "id": "typical-shield",
   "metadata": {},
   "source": [
    "The import works.\n",
    "\n",
    "For reference, here are the values for various times:"
   ]
  },
  {
   "cell_type": "code",
   "execution_count": 3,
   "id": "optional-accident",
   "metadata": {},
   "outputs": [
    {
     "data": {
      "text/plain": [
       "['/Users/nordin/Documents/Projects/notes_to_self/python/import/notebook_dir']"
      ]
     },
     "execution_count": 3,
     "metadata": {},
     "output_type": "execute_result"
    }
   ],
   "source": [
    "cwd"
   ]
  },
  {
   "cell_type": "code",
   "execution_count": 4,
   "id": "flexible-server",
   "metadata": {},
   "outputs": [
    {
     "data": {
      "text/plain": [
       "PosixPath('/Users/nordin/Documents/Projects/notes_to_self/python/import/notebook_dir')"
      ]
     },
     "execution_count": 4,
     "metadata": {},
     "output_type": "execute_result"
    }
   ],
   "source": [
    "Path(cwd[0])"
   ]
  },
  {
   "cell_type": "code",
   "execution_count": 5,
   "id": "minus-airline",
   "metadata": {},
   "outputs": [
    {
     "name": "stdout",
     "output_type": "stream",
     "text": [
      "0 /Users/nordin/Documents/Projects/notes_to_self/python/import\n",
      "1 /Users/nordin/Documents/Projects/notes_to_self/python\n",
      "2 /Users/nordin/Documents/Projects/notes_to_self\n"
     ]
    }
   ],
   "source": [
    "for i in range(3):\n",
    "    print(i, str(Path(cwd[0]).parents[i]))"
   ]
  },
  {
   "cell_type": "code",
   "execution_count": null,
   "id": "historical-criminal",
   "metadata": {},
   "outputs": [],
   "source": []
  }
 ],
 "metadata": {
  "kernelspec": {
   "display_name": "anaconda_py38",
   "language": "python",
   "name": "anaconda_py38"
  },
  "language_info": {
   "codemirror_mode": {
    "name": "ipython",
    "version": 3
   },
   "file_extension": ".py",
   "mimetype": "text/x-python",
   "name": "python",
   "nbconvert_exporter": "python",
   "pygments_lexer": "ipython3",
   "version": "3.8.5"
  }
 },
 "nbformat": 4,
 "nbformat_minor": 5
}
