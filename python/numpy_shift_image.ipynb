{
 "cells": [
  {
   "cell_type": "code",
   "execution_count": 1,
   "metadata": {},
   "outputs": [],
   "source": [
    "import numpy as np\n",
    "import matplotlib.pyplot as plt\n",
    "%matplotlib inline "
   ]
  },
  {
   "cell_type": "markdown",
   "metadata": {},
   "source": [
    "# numpy roll()\n",
    "\n",
    "[numpy roll()](https://numpy.org/doc/stable/reference/generated/numpy.roll.html)\n",
    "\n",
    "## 1D array"
   ]
  },
  {
   "cell_type": "code",
   "execution_count": 2,
   "metadata": {},
   "outputs": [
    {
     "name": "stdout",
     "output_type": "stream",
     "text": [
      "[0 1 2 3 4 5 6 7 8 9]\n",
      "[8 9 0 1 2 3 4 5 6 7]\n",
      "[2 3 4 5 6 7 8 9 0 1]\n"
     ]
    }
   ],
   "source": [
    "x = np.arange(10)\n",
    "print(x)\n",
    "print(np.roll(x, 2))\n",
    "print(np.roll(x, -2))"
   ]
  },
  {
   "cell_type": "markdown",
   "metadata": {},
   "source": [
    "## 2D array"
   ]
  },
  {
   "cell_type": "code",
   "execution_count": 3,
   "metadata": {},
   "outputs": [
    {
     "name": "stdout",
     "output_type": "stream",
     "text": [
      "[[ 0  1  2  3  4]\n",
      " [ 5  6  7  8  9]\n",
      " [10 11 12 13 14]]\n",
      "[[14  0  1  2  3]\n",
      " [ 4  5  6  7  8]\n",
      " [ 9 10 11 12 13]]\n",
      "[[ 1  2  3  4  5]\n",
      " [ 6  7  8  9 10]\n",
      " [11 12 13 14  0]]\n",
      "[[14 10 11 12 13]\n",
      " [ 4  0  1  2  3]\n",
      " [ 9  5  6  7  8]]\n",
      "[[ 9  5  6  7  8]\n",
      " [14 10 11 12 13]\n",
      " [ 4  0  1  2  3]]\n",
      "[[11 12 13 14 10]\n",
      " [ 1  2  3  4  0]\n",
      " [ 6  7  8  9  5]]\n",
      "[[ 1  2  3  4  0]\n",
      " [ 6  7  8  9  5]\n",
      " [11 12 13 14 10]]\n",
      "[[10 11 12 13 14]\n",
      " [ 0  1  2  3  4]\n",
      " [ 5  6  7  8  9]]\n"
     ]
    }
   ],
   "source": [
    "x2 = np.reshape(np.arange(15), (3,5))\n",
    "print(x2)\n",
    "print(np.roll(x2, 1))\n",
    "print(np.roll(x2, -1))\n",
    "print(np.roll(x2, shift=(1, 1), axis=(0, 1)))\n",
    "print(np.roll(x2, shift=(2, 1), axis=(0, 1)))\n",
    "print(np.roll(x2, shift=(1, 4), axis=(0, 1)))\n",
    "print(np.roll(x2, shift=(0, 4), axis=(0, 1)))\n",
    "print(np.roll(x2, shift=(1, 0), axis=(0, 1)))"
   ]
  },
  {
   "cell_type": "code",
   "execution_count": 4,
   "metadata": {},
   "outputs": [
    {
     "name": "stdout",
     "output_type": "stream",
     "text": [
      "Help on function roll in module numpy:\n",
      "\n",
      "roll(a, shift, axis=None)\n",
      "    Roll array elements along a given axis.\n",
      "    \n",
      "    Elements that roll beyond the last position are re-introduced at\n",
      "    the first.\n",
      "    \n",
      "    Parameters\n",
      "    ----------\n",
      "    a : array_like\n",
      "        Input array.\n",
      "    shift : int or tuple of ints\n",
      "        The number of places by which elements are shifted.  If a tuple,\n",
      "        then `axis` must be a tuple of the same size, and each of the\n",
      "        given axes is shifted by the corresponding number.  If an int\n",
      "        while `axis` is a tuple of ints, then the same value is used for\n",
      "        all given axes.\n",
      "    axis : int or tuple of ints, optional\n",
      "        Axis or axes along which elements are shifted.  By default, the\n",
      "        array is flattened before shifting, after which the original\n",
      "        shape is restored.\n",
      "    \n",
      "    Returns\n",
      "    -------\n",
      "    res : ndarray\n",
      "        Output array, with the same shape as `a`.\n",
      "    \n",
      "    See Also\n",
      "    --------\n",
      "    rollaxis : Roll the specified axis backwards, until it lies in a\n",
      "               given position.\n",
      "    \n",
      "    Notes\n",
      "    -----\n",
      "    .. versionadded:: 1.12.0\n",
      "    \n",
      "    Supports rolling over multiple dimensions simultaneously.\n",
      "    \n",
      "    Examples\n",
      "    --------\n",
      "    >>> x = np.arange(10)\n",
      "    >>> np.roll(x, 2)\n",
      "    array([8, 9, 0, 1, 2, 3, 4, 5, 6, 7])\n",
      "    >>> np.roll(x, -2)\n",
      "    array([2, 3, 4, 5, 6, 7, 8, 9, 0, 1])\n",
      "    \n",
      "    >>> x2 = np.reshape(x, (2,5))\n",
      "    >>> x2\n",
      "    array([[0, 1, 2, 3, 4],\n",
      "           [5, 6, 7, 8, 9]])\n",
      "    >>> np.roll(x2, 1)\n",
      "    array([[9, 0, 1, 2, 3],\n",
      "           [4, 5, 6, 7, 8]])\n",
      "    >>> np.roll(x2, -1)\n",
      "    array([[1, 2, 3, 4, 5],\n",
      "           [6, 7, 8, 9, 0]])\n",
      "    >>> np.roll(x2, 1, axis=0)\n",
      "    array([[5, 6, 7, 8, 9],\n",
      "           [0, 1, 2, 3, 4]])\n",
      "    >>> np.roll(x2, -1, axis=0)\n",
      "    array([[5, 6, 7, 8, 9],\n",
      "           [0, 1, 2, 3, 4]])\n",
      "    >>> np.roll(x2, 1, axis=1)\n",
      "    array([[4, 0, 1, 2, 3],\n",
      "           [9, 5, 6, 7, 8]])\n",
      "    >>> np.roll(x2, -1, axis=1)\n",
      "    array([[1, 2, 3, 4, 0],\n",
      "           [6, 7, 8, 9, 5]])\n",
      "\n"
     ]
    }
   ],
   "source": [
    "help(np.roll)"
   ]
  },
  {
   "cell_type": "markdown",
   "metadata": {},
   "source": [
    "# Shift image"
   ]
  },
  {
   "cell_type": "code",
   "execution_count": 5,
   "metadata": {},
   "outputs": [],
   "source": [
    "shape = (40, 60)\n",
    "img = np.zeros(shape)\n",
    "img[shape[0] // 2, shape[1] // 2] = 1"
   ]
  },
  {
   "cell_type": "code",
   "execution_count": 6,
   "metadata": {},
   "outputs": [
    {
     "data": {
      "image/png": "[encoded data removed]",
      "text/plain": [
       "<Figure size 720x576 with 1 Axes>"
      ]
     },
     "metadata": {
      "needs_background": "light"
     },
     "output_type": "display_data"
    }
   ],
   "source": [
    "fig, ax = plt.subplots(figsize=(10,8))\n",
    "ax.imshow(img, interpolation=None, cmap='gray', vmin=0, vmax=1);"
   ]
  },
  {
   "cell_type": "code",
   "execution_count": 7,
   "metadata": {},
   "outputs": [],
   "source": [
    "def shift_image(img, shift):\n",
    "    \"\"\"Shift 2D grayscale image.\n",
    "    \n",
    "    Arguments\n",
    "    ---------\n",
    "    img (2D numpy array) : Image\n",
    "    shift (tuple with 2 ints) : tuple with shift in y, then shift in x\n",
    "    copy (Boolean) : if true, shift a copy of the image, otherwise copy image in place\n",
    "    \n",
    "    Returns\n",
    "    -------\n",
    "    shifted image (2D numpy array)\n",
    "    \"\"\"\n",
    "    shift_y, shift_x = shift\n",
    "    return np.roll(img, shift=(shift_y, shift_x), axis=(0, 1))"
   ]
  },
  {
   "cell_type": "markdown",
   "metadata": {},
   "source": [
    "## Tests"
   ]
  },
  {
   "cell_type": "code",
   "execution_count": 8,
   "metadata": {},
   "outputs": [
    {
     "name": "stdout",
     "output_type": "stream",
     "text": [
      "[[ 0  1  2  3  4]\n",
      " [ 5  6  7  8  9]\n",
      " [10 11 12 13 14]]\n",
      "[[ 0  1  2  3  4]\n",
      " [ 5  6  7  8  9]\n",
      " [10 11 12 13 14]]\n",
      "[[13 14 10 11 12]\n",
      " [ 3  4  0  1  2]\n",
      " [ 8  9  5  6  7]]\n"
     ]
    }
   ],
   "source": [
    "# Note that the returned array is distinct from the original array\n",
    "\n",
    "x2 = np.reshape(np.arange(15), (3,5))\n",
    "print(x2)\n",
    "temp = shift_image(x2, (1, 2))\n",
    "print(x2)\n",
    "print(temp)"
   ]
  },
  {
   "cell_type": "code",
   "execution_count": 10,
   "metadata": {},
   "outputs": [
    {
     "name": "stdout",
     "output_type": "stream",
     "text": [
      "1.0\n",
      "1.0\n"
     ]
    },
    {
     "data": {
      "image/png": "[encoded data removed]",
      "text/plain": [
       "<Figure size 720x576 with 1 Axes>"
      ]
     },
     "metadata": {
      "needs_background": "light"
     },
     "output_type": "display_data"
    }
   ],
   "source": [
    "# Demonstrate with a visualized shifted image. Compare to image above\n",
    "\n",
    "shift = (5, -5)\n",
    "shifted_image = shift_image(img, shift)\n",
    "\n",
    "print(img[shape[0] // 2, shape[1] // 2])\n",
    "print(shifted_image[shape[0] // 2 + shift[0], shape[1] // 2 + shift[1]])\n",
    "\n",
    "fig, ax = plt.subplots(figsize=(10,8))\n",
    "ax.imshow(shifted_image, interpolation=None, cmap='gray', vmin=0, vmax=1);"
   ]
  },
  {
   "cell_type": "code",
   "execution_count": null,
   "metadata": {},
   "outputs": [],
   "source": []
  }
 ],
 "metadata": {
  "kernelspec": {
   "display_name": "3D_print_job_prep",
   "language": "python",
   "name": "3d_print_job_prep"
  },
  "language_info": {
   "codemirror_mode": {
    "name": "ipython",
    "version": 3
   },
   "file_extension": ".py",
   "mimetype": "text/x-python",
   "name": "python",
   "nbconvert_exporter": "python",
   "pygments_lexer": "ipython3",
   "version": "3.7.6"
  }
 },
 "nbformat": 4,
 "nbformat_minor": 4
}
