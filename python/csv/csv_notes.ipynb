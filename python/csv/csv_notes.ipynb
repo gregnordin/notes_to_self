{
 "cells": [
  {
   "cell_type": "markdown",
   "id": "purple-latino",
   "metadata": {},
   "source": [
    "# Purpose\n",
    "\n",
    "Show how to use `csv` module."
   ]
  },
  {
   "cell_type": "code",
   "execution_count": 1,
   "id": "external-excellence",
   "metadata": {},
   "outputs": [
    {
     "data": {
      "text/plain": [
       "'/Users/nordin/opt/miniconda3/envs/anaconda_py38/bin/python'"
      ]
     },
     "execution_count": 1,
     "metadata": {},
     "output_type": "execute_result"
    }
   ],
   "source": [
    "import csv\n",
    "\n",
    "import sys\n",
    "sys.executable"
   ]
  },
  {
   "cell_type": "code",
   "execution_count": 2,
   "id": "figured-group",
   "metadata": {},
   "outputs": [
    {
     "name": "stdout",
     "output_type": "stream",
     "text": [
      "(0, 5, 10) (1, 6, 11) (2, 7, 12) (3, 8, 13) (4, 9, 14)\n"
     ]
    }
   ],
   "source": [
    "temp1 = [0, 1, 2, 3, 4]\n",
    "temp2 = [5, 6, 7, 8, 9]\n",
    "temp3 = [10, 11, 12, 13, 14]\n",
    "\n",
    "print(*zip(temp1, temp2, temp3))"
   ]
  },
  {
   "cell_type": "code",
   "execution_count": 3,
   "id": "cognitive-parts",
   "metadata": {},
   "outputs": [
    {
     "name": "stdout",
     "output_type": "stream",
     "text": [
      "(0, 5, 10) (1, 6, 11) (2, 7, 12) (3, 8, 13) (4, 9, 14)\n"
     ]
    }
   ],
   "source": [
    "temp_all = [temp1, temp2, temp3]\n",
    "print(*zip(*temp_all))"
   ]
  },
  {
   "cell_type": "code",
   "execution_count": 4,
   "id": "precise-wallace",
   "metadata": {},
   "outputs": [],
   "source": [
    "thresholds = [0.0, 0.1, 0.2, 0.3, 0.4]\n",
    "number_UV_pixels = [1, 4, 16]\n",
    "\n",
    "with open('temp.csv', 'w') as file:\n",
    "      write = csv.writer(file)\n",
    "      write.writerow(('threshold_value', *number_UV_pixels))\n",
    "      write.writerows(zip(thresholds, *temp_all))"
   ]
  },
  {
   "cell_type": "markdown",
   "id": "initial-actor",
   "metadata": {},
   "source": [
    "Result:\n",
    "\n",
    "![](temp.png)"
   ]
  },
  {
   "cell_type": "code",
   "execution_count": null,
   "id": "wrong-intention",
   "metadata": {},
   "outputs": [],
   "source": []
  }
 ],
 "metadata": {
  "kernelspec": {
   "display_name": "anaconda_py38",
   "language": "python",
   "name": "anaconda_py38"
  },
  "language_info": {
   "codemirror_mode": {
    "name": "ipython",
    "version": 3
   },
   "file_extension": ".py",
   "mimetype": "text/x-python",
   "name": "python",
   "nbconvert_exporter": "python",
   "pygments_lexer": "ipython3",
   "version": "3.8.5"
  }
 },
 "nbformat": 4,
 "nbformat_minor": 5
}
