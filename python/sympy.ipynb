{
 "cells": [
  {
   "cell_type": "code",
   "execution_count": 1,
   "id": "5e7bd9a6-5ded-48a3-a4c3-d54d01540e93",
   "metadata": {},
   "outputs": [],
   "source": [
    "import sympy as sy\n",
    "\n",
    "sy.init_printing()"
   ]
  },
  {
   "cell_type": "markdown",
   "id": "4b472a92-97fa-4c25-b59d-548e4c6788e3",
   "metadata": {},
   "source": [
    "## 2 equations, 2 unknowns"
   ]
  },
  {
   "cell_type": "code",
   "execution_count": 2,
   "id": "494ff4e7-57dc-4a8c-905e-4613d220ac73",
   "metadata": {},
   "outputs": [
    {
     "data": {
      "image/png": "[encoded data removed]",
      "text/latex": [
       "$\\displaystyle \\left\\{ x : - \\frac{2 b + 2 d}{a d - b c}, \\  y : \\frac{2 \\left(a + c\\right)}{a d - b c}\\right\\}$"
      ],
      "text/plain": [
       "⎧   -(2⋅b + 2⋅d)      2⋅(a + c)⎫\n",
       "⎨x: ─────────────, y: ─────────⎬\n",
       "⎩     a⋅d - b⋅c       a⋅d - b⋅c⎭"
      ]
     },
     "execution_count": 2,
     "metadata": {},
     "output_type": "execute_result"
    }
   ],
   "source": [
    "x, y = sy.symbols('x y')\n",
    "a, b, c, d = sy.symbols('a b c d')\n",
    "\n",
    "eq1 = sy.Eq(a*x + b*y + 2, 0)\n",
    "eq2 = sy.Eq(c*x + d*y - 2, 0)\n",
    "\n",
    "sol = sy.solve((eq1, eq2), (x, y))\n",
    "sol"
   ]
  },
  {
   "cell_type": "markdown",
   "id": "8fcd6827-5b99-45b6-8078-c85eba81b6f4",
   "metadata": {},
   "source": [
    "## Try subscripts"
   ]
  },
  {
   "cell_type": "code",
   "execution_count": 3,
   "id": "51f05263-80de-49b4-bb77-0aebb0dbbc59",
   "metadata": {},
   "outputs": [
    {
     "data": {
      "image/png": "[encoded data removed]",
      "text/latex": [
       "$\\displaystyle \\left\\{ x_{mz} : - \\frac{2 b_{2} + 2 d_{4}}{a_{1} d_{4} - b_{2} c_{3}}, \\  y_{ny} : \\frac{2 \\left(a_{1} + c_{3}\\right)}{a_{1} d_{4} - b_{2} c_{3}}\\right\\}$"
      ],
      "text/plain": [
       "⎧      -(2⋅b₂ + 2⋅d₄)          2⋅(a₁ + c₃) ⎫\n",
       "⎨x_mz: ───────────────, y_ny: ─────────────⎬\n",
       "⎩       a₁⋅d₄ - b₂⋅c₃         a₁⋅d₄ - b₂⋅c₃⎭"
      ]
     },
     "execution_count": 3,
     "metadata": {},
     "output_type": "execute_result"
    }
   ],
   "source": [
    "x, y = sy.symbols('x_mz y_ny')\n",
    "a, b, c, d = sy.symbols('a_1 b_2 c_3 d_4')\n",
    "\n",
    "eq1 = sy.Eq(a*x + b*y + 2, 0)\n",
    "eq2 = sy.Eq(c*x + d*y - 2, 0)\n",
    "\n",
    "sol = sy.solve((eq1, eq2), (x, y))\n",
    "sol"
   ]
  },
  {
   "cell_type": "markdown",
   "id": "ce55eb8d-7fc3-4669-81e5-15901af8372d",
   "metadata": {},
   "source": [
    "## 3 equations, 3 unknowns"
   ]
  },
  {
   "cell_type": "code",
   "execution_count": 4,
   "id": "51bb2a8b-d4db-436f-a6b3-824b7f6aeb63",
   "metadata": {},
   "outputs": [
    {
     "data": {
      "image/png": "[encoded data removed]",
      "text/latex": [
       "$\\displaystyle \\left\\{ x : \\frac{2 \\left(- b i + c h - e i + f h\\right)}{a e i - a f h - b d i + b f g + c d h - c e g}, \\  y : \\frac{2 \\left(a i - c g + d i - f g\\right)}{a e i - a f h - b d i + b f g + c d h - c e g}, \\  z : \\frac{2 \\left(- a h + b g - d h + e g\\right)}{a e i - a f h - b d i + b f g + c d h - c e g}\\right\\}$"
      ],
      "text/plain": [
       "⎧             2⋅(-b⋅i + c⋅h - e⋅i + f⋅h)                        2⋅(a⋅i - c⋅g +\n",
       "⎨x: ─────────────────────────────────────────────, y: ────────────────────────\n",
       "⎩   a⋅e⋅i - a⋅f⋅h - b⋅d⋅i + b⋅f⋅g + c⋅d⋅h - c⋅e⋅g     a⋅e⋅i - a⋅f⋅h - b⋅d⋅i + \n",
       "\n",
       " d⋅i - f⋅g)                         2⋅(-a⋅h + b⋅g - d⋅h + e⋅g)         ⎫\n",
       "─────────────────────, z: ─────────────────────────────────────────────⎬\n",
       "b⋅f⋅g + c⋅d⋅h - c⋅e⋅g     a⋅e⋅i - a⋅f⋅h - b⋅d⋅i + b⋅f⋅g + c⋅d⋅h - c⋅e⋅g⎭"
      ]
     },
     "execution_count": 4,
     "metadata": {},
     "output_type": "execute_result"
    }
   ],
   "source": [
    "x, y, z = sy.symbols('x y z')\n",
    "a, b, c, d, e, f, g, h, i, j = sy.symbols('a b c d e, f, g, h, i, j')\n",
    "\n",
    "eq1 = sy.Eq(a*x + b*y + c*z + 2, 0)\n",
    "eq2 = sy.Eq(d*x + e*y + f*z - 2, 0)\n",
    "eq3 = sy.Eq(g*x + h*y + i*z, 0)\n",
    "\n",
    "sol = sy.solve((eq1, eq2, eq3), (x, y, z))\n",
    "sol"
   ]
  },
  {
   "cell_type": "code",
   "execution_count": 5,
   "id": "a0d82401-a2f4-4b1e-8a83-d82576ff4367",
   "metadata": {},
   "outputs": [
    {
     "data": {
      "image/png": "[encoded data removed]",
      "text/latex": [
       "$\\displaystyle \\frac{2 \\left(- b i + c h - e i + f h\\right)}{a e i - a f h - b d i + b f g + c d h - c e g}$"
      ],
      "text/plain": [
       "          2⋅(-b⋅i + c⋅h - e⋅i + f⋅h)         \n",
       "─────────────────────────────────────────────\n",
       "a⋅e⋅i - a⋅f⋅h - b⋅d⋅i + b⋅f⋅g + c⋅d⋅h - c⋅e⋅g"
      ]
     },
     "execution_count": 5,
     "metadata": {},
     "output_type": "execute_result"
    }
   ],
   "source": [
    "sol[x]"
   ]
  },
  {
   "cell_type": "code",
   "execution_count": null,
   "id": "a987fdb2-f52f-475d-afeb-ab85926c157a",
   "metadata": {},
   "outputs": [],
   "source": []
  }
 ],
 "metadata": {
  "kernelspec": {
   "display_name": "anaconda_py38",
   "language": "python",
   "name": "anaconda_py38"
  },
  "language_info": {
   "codemirror_mode": {
    "name": "ipython",
    "version": 3
   },
   "file_extension": ".py",
   "mimetype": "text/x-python",
   "name": "python",
   "nbconvert_exporter": "python",
   "pygments_lexer": "ipython3",
   "version": "3.8.5"
  }
 },
 "nbformat": 4,
 "nbformat_minor": 5
}
