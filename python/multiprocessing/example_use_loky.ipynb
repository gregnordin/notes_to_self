{
 "cells": [
  {
   "cell_type": "markdown",
   "id": "informative-reaction",
   "metadata": {},
   "source": [
    "# Purpose \n",
    "\n",
    "Develop an example of using [Loky](https://github.com/joblib/loky) to do multiprocessing on my laptop."
   ]
  },
  {
   "cell_type": "markdown",
   "id": "standing-south",
   "metadata": {},
   "source": [
    "# Approach\n",
    "\n",
    "Install loky in the virtual environment I am using for my Jupyter kernel for this notebook.\n",
    "\n",
    "    $ source /Users/nordin/python_envs/voila_opencv/.venv/bin/activate \n",
    "    $ pip install loky\n",
    "    Installing collected packages: cloudpickle, loky\n",
    "    Successfully installed cloudpickle-1.6.0 loky-2.9.0"
   ]
  },
  {
   "cell_type": "code",
   "execution_count": 1,
   "id": "authentic-expression",
   "metadata": {},
   "outputs": [],
   "source": [
    "import numpy as np\n",
    "from loky import get_reusable_executor"
   ]
  },
  {
   "cell_type": "code",
   "execution_count": 2,
   "id": "appropriate-biology",
   "metadata": {},
   "outputs": [],
   "source": [
    "# https://cosmiccoding.com.au/tutorials/multiprocessing\n",
    "\n",
    "def slow_fn(args):\n",
    "    \"\"\" Simulated an optimisation problem with args coming in\n",
    "    and function value being output \"\"\"\n",
    "    n = 1000\n",
    "    y = 0\n",
    "    for j in range(n):\n",
    "        j = j / n\n",
    "        for i, p in enumerate(args):\n",
    "            y += j * (p ** (i + 1))\n",
    "    return y / n\n",
    "\n",
    "def get_jobs(num_jobs=512, num_args=5):\n",
    "    \"\"\" Simulated sampling our parameter space multiple times \"\"\"\n",
    "    return [j for j in np.random.random((num_jobs, num_args))]\n",
    "\n",
    "jobs = get_jobs()"
   ]
  },
  {
   "cell_type": "code",
   "execution_count": 3,
   "id": "tamil-piece",
   "metadata": {},
   "outputs": [
    {
     "name": "stdout",
     "output_type": "stream",
     "text": [
      "CPU times: user 2.02 s, sys: 40.1 ms, total: 2.06 s\n",
      "Wall time: 1.88 s\n"
     ]
    }
   ],
   "source": [
    "%%time\n",
    "# Check out this single core performance\n",
    "for job in jobs:\n",
    "    slow_fn(job)"
   ]
  },
  {
   "cell_type": "code",
   "execution_count": 4,
   "id": "urban-start",
   "metadata": {},
   "outputs": [
    {
     "name": "stdout",
     "output_type": "stream",
     "text": [
      "CPU times: user 45.9 ms, sys: 55.6 ms, total: 101 ms\n",
      "Wall time: 949 ms\n"
     ]
    }
   ],
   "source": [
    "%%time\n",
    "executor = get_reusable_executor(max_workers=6)\n",
    "results = list(executor.map(slow_fn, jobs, chunksize=16));"
   ]
  },
  {
   "cell_type": "code",
   "execution_count": 5,
   "id": "armed-strap",
   "metadata": {},
   "outputs": [
    {
     "data": {
      "text/plain": [
       "512"
      ]
     },
     "execution_count": 5,
     "metadata": {},
     "output_type": "execute_result"
    }
   ],
   "source": [
    "len(results)"
   ]
  },
  {
   "cell_type": "code",
   "execution_count": null,
   "id": "chinese-manitoba",
   "metadata": {},
   "outputs": [],
   "source": []
  }
 ],
 "metadata": {
  "kernelspec": {
   "display_name": "voila_opencv",
   "language": "python",
   "name": "voila_opencv"
  },
  "language_info": {
   "codemirror_mode": {
    "name": "ipython",
    "version": 3
   },
   "file_extension": ".py",
   "mimetype": "text/x-python",
   "name": "python",
   "nbconvert_exporter": "python",
   "pygments_lexer": "ipython3",
   "version": "3.8.1"
  }
 },
 "nbformat": 4,
 "nbformat_minor": 5
}
