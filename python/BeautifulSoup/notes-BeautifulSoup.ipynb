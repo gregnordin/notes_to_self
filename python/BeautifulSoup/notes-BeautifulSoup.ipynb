{
 "cells": [
  {
   "cell_type": "code",
   "execution_count": 1,
   "id": "546ab7eb-1eaa-4e40-a7e3-81e132d1bdff",
   "metadata": {},
   "outputs": [],
   "source": [
    "from bs4 import BeautifulSoup"
   ]
  },
  {
   "cell_type": "markdown",
   "id": "5310392f-7638-4213-a74c-4326c00a3ac4",
   "metadata": {},
   "source": [
    "# Key types"
   ]
  },
  {
   "cell_type": "markdown",
   "id": "166893b3-5ade-44fe-b394-d4c387c9f176",
   "metadata": {},
   "source": [
    "## Example html"
   ]
  },
  {
   "cell_type": "code",
   "execution_count": 4,
   "id": "6a8f6020-3366-43b3-bb91-c0b6952c20ee",
   "metadata": {},
   "outputs": [],
   "source": [
    "example_html = \"\"\"\n",
    "<html>\n",
    "  <head> </head>\n",
    "\n",
    "  <body>\n",
    "    <div class=\"main\">\n",
    "      <h1>Conference A</h1>\n",
    "      <div class=\"talk\">\n",
    "        <h2><a href=\"#\">Talk title A1</a></h2>\n",
    "        <div class=\"session\"><strong>Session</strong>: session name</div>\n",
    "      </div>\n",
    "      <div class=\"talk\">\n",
    "        <h2><a href=\"#\">Talk title A2</a></h2>\n",
    "        <div class=\"session\"><strong>Session</strong>: session name</div>\n",
    "      </div>\n",
    "      <div class=\"talk\">\n",
    "        <h2><a href=\"#\">Talk title A3</a></h2>\n",
    "        <div class=\"session\"><strong>Session</strong>: session name</div>\n",
    "      </div>\n",
    "\n",
    "      <h1>Conference B</h1>\n",
    "      <div class=\"talk\">\n",
    "        <h2><a href=\"#\">Talk title B1</a></h2>\n",
    "        <div class=\"session\"><strong>Session</strong>: session name</div>\n",
    "      </div>\n",
    "      <div class=\"talk\">\n",
    "        <h2><a href=\"#\">Talk title B2</a></h2>\n",
    "        <div class=\"session\"><strong>Session</strong>: session name</div>\n",
    "      </div>\n",
    "    </div>\n",
    "  </body>\n",
    "</html>\n",
    "\"\"\""
   ]
  },
  {
   "cell_type": "markdown",
   "id": "39ec9b3a-ca30-4042-a006-c811a8020f8e",
   "metadata": {},
   "source": [
    "## BeautifulSoup type"
   ]
  },
  {
   "cell_type": "code",
   "execution_count": 4,
   "id": "83df5c55-021c-467a-a396-1a3c3cac7828",
   "metadata": {},
   "outputs": [
    {
     "data": {
      "text/plain": [
       "bs4.BeautifulSoup"
      ]
     },
     "execution_count": 4,
     "metadata": {},
     "output_type": "execute_result"
    }
   ],
   "source": [
    "soup = BeautifulSoup(example_html, 'html.parser')\n",
    "\n",
    "type(soup)"
   ]
  },
  {
   "cell_type": "markdown",
   "id": "70031129-e8e0-4b05-81c9-384b5459bd3f",
   "metadata": {},
   "source": [
    "## Tag vs NavigableString\n",
    "\n",
    "[Tag and NavigableString reference info](https://www.tutorialspoint.com/beautiful_soup/beautiful_soup_kinds_of_objects.htm)\n",
    "\n",
    ">Tag  \n",
    ">A HTML tag is used to define various types of content. A tag object in BeautifulSoup corresponds to an HTML or XML tag in the actual page or document.\n",
    ">\n",
    ">Tags contain lot of attributes and methods and two important features of a tag are its name and attributes.\n",
    "\n",
    ">NavigableString  \n",
    ">The navigablestring object is used to represent the contents of a tag. To access the contents, use “.string” with tag."
   ]
  },
  {
   "cell_type": "code",
   "execution_count": 5,
   "id": "41a6522d-b990-435a-b43a-2ff5d61a212e",
   "metadata": {},
   "outputs": [
    {
     "data": {
      "text/plain": [
       "[<h1>Conference A</h1>, <h1>Conference B</h1>]"
      ]
     },
     "execution_count": 5,
     "metadata": {},
     "output_type": "execute_result"
    }
   ],
   "source": [
    "main = soup.find(class_=\"main\")\n",
    "all_h1 = main.find_all(\"h1\")\n",
    "all_h1"
   ]
  },
  {
   "cell_type": "code",
   "execution_count": 50,
   "id": "90bf8aa8-e60a-4a3b-be2a-735efd8cb3db",
   "metadata": {},
   "outputs": [
    {
     "name": "stdout",
     "output_type": "stream",
     "text": [
      "  |          type          |   object contents  |name|           type of .string          |  .string  |\n",
      "-------------------------------------------------------------------------------------------------------\n",
      "0 <class 'bs4.element.Tag'> <h1>Conference A</h1> h1 <class 'bs4.element.NavigableString'> Conference A\n",
      "1 <class 'bs4.element.Tag'> <h1>Conference B</h1> h1 <class 'bs4.element.NavigableString'> Conference B\n"
     ]
    }
   ],
   "source": [
    "print(\"  |          type          |   object contents  |name|           type of .string          |  .string  |\")\n",
    "print(\"-------------------------------------------------------------------------------------------------------\")\n",
    "for i, h1 in enumerate(all_h1):\n",
    "    print(i, type(h1), h1, h1.name, type(h1.string), h1.string)"
   ]
  },
  {
   "cell_type": "markdown",
   "id": "90410f8f-2458-4ac4-90fc-fd63823c4099",
   "metadata": {},
   "source": [
    "## `find_next_sibling()`"
   ]
  },
  {
   "cell_type": "code",
   "execution_count": 48,
   "id": "9ee54432-849e-4f69-8eb3-00e59542ed7e",
   "metadata": {},
   "outputs": [
    {
     "name": "stdout",
     "output_type": "stream",
     "text": [
      "<h1>Conference A</h1>\n",
      "<class 'bs4.element.Tag'>\n",
      "<div class=\"talk\">\n",
      "<h2><a href=\"#\">Talk title A1</a></h2>\n",
      "<div class=\"session\"><strong>Session</strong>: session name</div>\n",
      "</div>\n",
      "\n",
      "<h1>Conference B</h1>\n",
      "<class 'bs4.element.Tag'>\n",
      "<div class=\"talk\">\n",
      "<h2><a href=\"#\">Talk title B1</a></h2>\n",
      "<div class=\"session\"><strong>Session</strong>: session name</div>\n",
      "</div>\n",
      "\n"
     ]
    }
   ],
   "source": [
    "for h1 in all_h1:\n",
    "    print(h1)\n",
    "    print(type(h1))\n",
    "    print(h1.find_next_sibling())\n",
    "    print()"
   ]
  },
  {
   "cell_type": "code",
   "execution_count": null,
   "id": "dd603c4d-9c23-423d-9e7e-c37956c48c0d",
   "metadata": {},
   "outputs": [],
   "source": []
  }
 ],
 "metadata": {
  "kernelspec": {
   "display_name": "anaconda_py38",
   "language": "python",
   "name": "anaconda_py38"
  },
  "language_info": {
   "codemirror_mode": {
    "name": "ipython",
    "version": 3
   },
   "file_extension": ".py",
   "mimetype": "text/x-python",
   "name": "python",
   "nbconvert_exporter": "python",
   "pygments_lexer": "ipython3",
   "version": "3.8.5"
  }
 },
 "nbformat": 4,
 "nbformat_minor": 5
}
