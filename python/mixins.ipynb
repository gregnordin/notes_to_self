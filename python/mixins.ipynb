{
 "cells": [
  {
   "cell_type": "markdown",
   "id": "united-ethics",
   "metadata": {},
   "source": [
    "# Purpose\n",
    "\n",
    "Confirm how Mixins work. Specifically, can a mixin method refer to an attribute that is not set in the mixin, but is set in the child class?"
   ]
  },
  {
   "cell_type": "markdown",
   "id": "honest-invention",
   "metadata": {},
   "source": [
    "# Try it"
   ]
  },
  {
   "cell_type": "code",
   "execution_count": 6,
   "id": "subtle-controversy",
   "metadata": {},
   "outputs": [],
   "source": [
    "class MixinSimple:\n",
    "    def printa(self):\n",
    "        print(\"a\")\n",
    "        \n",
    "class MixinReferToAttribute:\n",
    "    def printattribute(self):\n",
    "        print(self.sometext)\n",
    "        \n",
    "class TryMixins(MixinSimple, MixinReferToAttribute):\n",
    "    def __init__(self, inputtext):\n",
    "        self.sometext = inputtext"
   ]
  },
  {
   "cell_type": "code",
   "execution_count": 7,
   "id": "general-clothing",
   "metadata": {},
   "outputs": [
    {
     "name": "stdout",
     "output_type": "stream",
     "text": [
      "a\n",
      "test text\n"
     ]
    }
   ],
   "source": [
    "t = TryMixins('test text')\n",
    "t.printa()\n",
    "t.printattribute()"
   ]
  },
  {
   "cell_type": "markdown",
   "id": "partial-impression",
   "metadata": {},
   "source": [
    "# Conclusion\n",
    "\n",
    "No problem, it works fine."
   ]
  },
  {
   "cell_type": "code",
   "execution_count": null,
   "id": "refined-clause",
   "metadata": {},
   "outputs": [],
   "source": []
  }
 ],
 "metadata": {
  "kernelspec": {
   "display_name": "anaconda_py38",
   "language": "python",
   "name": "anaconda_py38"
  },
  "language_info": {
   "codemirror_mode": {
    "name": "ipython",
    "version": 3
   },
   "file_extension": ".py",
   "mimetype": "text/x-python",
   "name": "python",
   "nbconvert_exporter": "python",
   "pygments_lexer": "ipython3",
   "version": "3.8.5"
  }
 },
 "nbformat": 4,
 "nbformat_minor": 5
}
