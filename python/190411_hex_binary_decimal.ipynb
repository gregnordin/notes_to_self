{
 "cells": [
  {
   "cell_type": "markdown",
   "metadata": {},
   "source": [
    "# Purpose\n",
    "\n",
    "Figure out int, binary, and hex in python--how each is represented and their relation to the basic python types.\n",
    "\n",
    "# Summary\n",
    "\n",
    "- `int` is the type that is used, and can be set with a hexadecimal number (`0xFFAA`) or decimal number\n",
    "- Bit shifting (right shift `>>` and left shift `<<`) can be performed on `int`'s\n",
    "- An `int` can be shown as a binary string (`bin(var)`) or hexadecimal string (`hex(var)`)\n",
    "\n",
    "# Trying things out"
   ]
  },
  {
   "cell_type": "code",
   "execution_count": 1,
   "metadata": {},
   "outputs": [
    {
     "data": {
      "text/plain": [
       "2575"
      ]
     },
     "execution_count": 1,
     "metadata": {},
     "output_type": "execute_result"
    }
   ],
   "source": [
    "number = 0xA0F #Hexadecimal\n",
    "number"
   ]
  },
  {
   "cell_type": "code",
   "execution_count": 2,
   "metadata": {},
   "outputs": [
    {
     "name": "stdout",
     "output_type": "stream",
     "text": [
      "repr: 2575: normal representation: 2575\n"
     ]
    },
    {
     "data": {
      "text/plain": [
       "int"
      ]
     },
     "execution_count": 2,
     "metadata": {},
     "output_type": "execute_result"
    }
   ],
   "source": [
    "print(f\"repr: {number!r}: normal representation: {number}\")\n",
    "type(number)"
   ]
  },
  {
   "cell_type": "code",
   "execution_count": 3,
   "metadata": {},
   "outputs": [
    {
     "data": {
      "text/plain": [
       "128"
      ]
     },
     "execution_count": 3,
     "metadata": {},
     "output_type": "execute_result"
    }
   ],
   "source": [
    "256 >> 1"
   ]
  },
  {
   "cell_type": "code",
   "execution_count": 4,
   "metadata": {},
   "outputs": [
    {
     "data": {
      "text/plain": [
       "128"
      ]
     },
     "execution_count": 4,
     "metadata": {},
     "output_type": "execute_result"
    }
   ],
   "source": [
    "a = 256\n",
    "a >> 1"
   ]
  },
  {
   "cell_type": "code",
   "execution_count": 5,
   "metadata": {},
   "outputs": [
    {
     "data": {
      "text/plain": [
       "'0b100000000'"
      ]
     },
     "execution_count": 5,
     "metadata": {},
     "output_type": "execute_result"
    }
   ],
   "source": [
    "bin(a)"
   ]
  },
  {
   "cell_type": "code",
   "execution_count": 6,
   "metadata": {},
   "outputs": [
    {
     "data": {
      "text/plain": [
       "'0x100'"
      ]
     },
     "execution_count": 6,
     "metadata": {},
     "output_type": "execute_result"
    }
   ],
   "source": [
    "hex(a)"
   ]
  },
  {
   "cell_type": "code",
   "execution_count": 7,
   "metadata": {},
   "outputs": [
    {
     "data": {
      "text/plain": [
       "str"
      ]
     },
     "execution_count": 7,
     "metadata": {},
     "output_type": "execute_result"
    }
   ],
   "source": [
    "type(hex(a))"
   ]
  },
  {
   "cell_type": "code",
   "execution_count": 8,
   "metadata": {},
   "outputs": [
    {
     "data": {
      "text/plain": [
       "128"
      ]
     },
     "execution_count": 8,
     "metadata": {},
     "output_type": "execute_result"
    }
   ],
   "source": [
    "a = 256.0\n",
    "int(a) >> 1"
   ]
  },
  {
   "cell_type": "code",
   "execution_count": 9,
   "metadata": {},
   "outputs": [
    {
     "data": {
      "text/plain": [
       "'0b100000000'"
      ]
     },
     "execution_count": 9,
     "metadata": {},
     "output_type": "execute_result"
    }
   ],
   "source": [
    "bin(int(a))"
   ]
  },
  {
   "cell_type": "code",
   "execution_count": 10,
   "metadata": {},
   "outputs": [
    {
     "data": {
      "text/plain": [
       "16777216"
      ]
     },
     "execution_count": 10,
     "metadata": {},
     "output_type": "execute_result"
    }
   ],
   "source": [
    "a = 2**24\n",
    "a"
   ]
  },
  {
   "cell_type": "code",
   "execution_count": 11,
   "metadata": {},
   "outputs": [
    {
     "data": {
      "text/plain": [
       "1"
      ]
     },
     "execution_count": 11,
     "metadata": {},
     "output_type": "execute_result"
    }
   ],
   "source": [
    "a >> 24"
   ]
  },
  {
   "cell_type": "code",
   "execution_count": 12,
   "metadata": {},
   "outputs": [
    {
     "data": {
      "text/plain": [
       "78643.2"
      ]
     },
     "execution_count": 12,
     "metadata": {},
     "output_type": "execute_result"
    }
   ],
   "source": [
    "1.2 * 65536"
   ]
  },
  {
   "cell_type": "code",
   "execution_count": 13,
   "metadata": {},
   "outputs": [
    {
     "data": {
      "text/plain": [
       "78643"
      ]
     },
     "execution_count": 13,
     "metadata": {},
     "output_type": "execute_result"
    }
   ],
   "source": [
    "int(1.2 * 65536)"
   ]
  },
  {
   "cell_type": "code",
   "execution_count": 14,
   "metadata": {},
   "outputs": [
    {
     "data": {
      "text/plain": [
       "307"
      ]
     },
     "execution_count": 14,
     "metadata": {},
     "output_type": "execute_result"
    }
   ],
   "source": [
    "int(1.2 * 65536) >> 8 "
   ]
  },
  {
   "cell_type": "code",
   "execution_count": 15,
   "metadata": {},
   "outputs": [
    {
     "data": {
      "text/plain": [
       "'0x133'"
      ]
     },
     "execution_count": 15,
     "metadata": {},
     "output_type": "execute_result"
    }
   ],
   "source": [
    "hex(int(1.2 * 65536) >> 8)"
   ]
  },
  {
   "cell_type": "markdown",
   "metadata": {},
   "source": [
    "# 5/21/21 try things out"
   ]
  },
  {
   "cell_type": "markdown",
   "metadata": {},
   "source": [
    "## Strip LSB and look at range &rarr; same as divide by 2"
   ]
  },
  {
   "cell_type": "code",
   "execution_count": 35,
   "metadata": {},
   "outputs": [
    {
     "name": "stdout",
     "output_type": "stream",
     "text": [
      "255 0b11111111\n",
      "190 0b10111110\n",
      "65 0.2549\n"
     ]
    }
   ],
   "source": [
    "num1, num2 = 255, 190\n",
    "\n",
    "print(num1, bin(num1))\n",
    "print(num2, bin(num2))\n",
    "print(f\"{num1 - num2} {(num1 - num2)/num1:6.4f}\")"
   ]
  },
  {
   "cell_type": "code",
   "execution_count": 25,
   "metadata": {},
   "outputs": [
    {
     "name": "stdout",
     "output_type": "stream",
     "text": [
      "127 0b1111111\n",
      "95 0b1011111\n",
      "32 0.2520\n"
     ]
    }
   ],
   "source": [
    "num1_rshift1 = num1 >> 1\n",
    "num2_rshift1 = num2 >> 1\n",
    "\n",
    "print(num1_rshift1, bin(num1_rshift1))\n",
    "print(num2_rshift1, bin(num2_rshift1))\n",
    "print(f\"{num1_rshift1 - num2_rshift1} {(num1_rshift1 - num2_rshift1)/num1_rshift1:6.4f}\")"
   ]
  },
  {
   "cell_type": "code",
   "execution_count": 26,
   "metadata": {},
   "outputs": [
    {
     "name": "stdout",
     "output_type": "stream",
     "text": [
      "63 0b111111\n",
      "47 0b101111\n",
      "16 0.2540\n"
     ]
    }
   ],
   "source": [
    "num1_rshift2 = num1 >> 2\n",
    "num2_rshift2 = num2 >> 2\n",
    "\n",
    "print(num1_rshift2, bin(num1_rshift2))\n",
    "print(num2_rshift2, bin(num2_rshift2))\n",
    "print(f\"{num1_rshift2 - num2_rshift2} {(num1_rshift2 - num2_rshift2)/num1_rshift2:6.4f}\")"
   ]
  },
  {
   "cell_type": "markdown",
   "metadata": {},
   "source": [
    "## Strip MSB of 8-bit number &rarr; same as subtracting 2^7 (128)"
   ]
  },
  {
   "cell_type": "code",
   "execution_count": 37,
   "metadata": {},
   "outputs": [
    {
     "name": "stdout",
     "output_type": "stream",
     "text": [
      "0b1111111 0x7f\n",
      "127 127\n",
      "62 62\n"
     ]
    }
   ],
   "source": [
    "# Create mask\n",
    "mask = 127\n",
    "print(bin(mask), hex(mask))\n",
    "\n",
    "# Strip leading bit from binary number\n",
    "print(num1 & mask, num1 - 128)\n",
    "print(num2 & mask, num2 - 128)"
   ]
  },
  {
   "cell_type": "markdown",
   "metadata": {},
   "source": [
    "## Left shift after right shift &rarr; same as divide by 2 then multiply by 2"
   ]
  },
  {
   "cell_type": "code",
   "execution_count": 38,
   "metadata": {},
   "outputs": [
    {
     "name": "stdout",
     "output_type": "stream",
     "text": [
      "254 0b11111110\n",
      "190 0b10111110\n",
      "64 0.2520\n"
     ]
    }
   ],
   "source": [
    "num1_rshift1_lshift1 = num1_rshift1 << 1\n",
    "num2_rshift1_lshift1 = num2_rshift1 << 1\n",
    "\n",
    "print(num1_rshift1_lshift1, bin(num1_rshift1_lshift1))\n",
    "print(num2_rshift1_lshift1, bin(num2_rshift1_lshift1))\n",
    "print(f\"{num1_rshift1_lshift1 - num2_rshift1_lshift1} {(num1_rshift1_lshift1 - num2_rshift1_lshift1)/num1_rshift1_lshift1:6.4f}\")"
   ]
  },
  {
   "cell_type": "markdown",
   "metadata": {},
   "source": [
    "## Add 1 MSB after right shift &rarr; same as divide by 2 then add 128"
   ]
  },
  {
   "cell_type": "code",
   "execution_count": 44,
   "metadata": {},
   "outputs": [
    {
     "name": "stdout",
     "output_type": "stream",
     "text": [
      "0b10000000 0x80\n",
      "255 255\n",
      "223 223\n",
      "32 0.1255\n"
     ]
    }
   ],
   "source": [
    "# Create mask\n",
    "mask = 128\n",
    "print(bin(mask), hex(mask))\n",
    "\n",
    "# Make MSB=1\n",
    "num1_rshift1_MSB1 = num1_rshift1 | mask\n",
    "num2_rshift1_MSB1 = num2_rshift1 | mask\n",
    "\n",
    "print(num1_rshift1_MSB1, num1_rshift1 + 128)\n",
    "print(num2_rshift1_MSB1, num2_rshift1 + 128)\n",
    "print(f\"{num1_rshift1_MSB1 - num2_rshift1_MSB1} {(num1_rshift1_MSB1 - num2_rshift1_MSB1)/num1_rshift1_MSB1:6.4f}\")"
   ]
  },
  {
   "cell_type": "markdown",
   "metadata": {},
   "source": [
    "## Strip MSB and left shift &rarr; same as subtract 128 and multiply by 2"
   ]
  },
  {
   "cell_type": "code",
   "execution_count": 54,
   "metadata": {},
   "outputs": [
    {
     "name": "stdout",
     "output_type": "stream",
     "text": [
      "0b1111111, 0x7f\n",
      "\n",
      "127 0b1111111 127\n",
      "62 0b111110 62\n",
      "65 0.5118\n",
      "\n",
      "254 254\n",
      "124 124\n",
      "130 0.5118\n"
     ]
    }
   ],
   "source": [
    "# Create mask\n",
    "mask = 127\n",
    "print(f\"{bin(mask)}, {hex(mask)}\")\n",
    "print()\n",
    "\n",
    "# Make MSB=0\n",
    "num1_MSB0 = num1 & mask\n",
    "num2_MSB0 = num2 & mask\n",
    "\n",
    "print(num1_MSB0, bin(num1_MSB0), num1 - 128)\n",
    "print(num2_MSB0, bin(num2_MSB0), num2 - 128)\n",
    "print(f\"{num1_MSB0 - num2_MSB0} {(num1_MSB0 - num2_MSB0)/num1_MSB0:6.4f}\")\n",
    "print()\n",
    "\n",
    "# Left shift\n",
    "num1_MSB0_lshift1 = num1_MSB0 << 1\n",
    "num2_MSB0_lshift1 = num2_MSB0 << 1\n",
    "\n",
    "print(num1_MSB0_lshift1, num1_MSB0 * 2)\n",
    "print(num2_MSB0_lshift1, num2_MSB0 * 2)\n",
    "print(f\"{num1_MSB0_lshift1 - num2_MSB0_lshift1} {(num1_MSB0_lshift1 - num2_MSB0_lshift1)/num1_MSB0_lshift1:6.4f}\")"
   ]
  },
  {
   "cell_type": "markdown",
   "metadata": {},
   "source": [
    "# Code"
   ]
  },
  {
   "cell_type": "code",
   "execution_count": 28,
   "metadata": {},
   "outputs": [],
   "source": [
    "def right_shift_right_byte(val, shift_num_bits):\n",
    "    return (val >> shift_num_bits) & 0xFF"
   ]
  },
  {
   "cell_type": "code",
   "execution_count": 29,
   "metadata": {},
   "outputs": [
    {
     "name": "stdout",
     "output_type": "stream",
     "text": [
      "0x01\n",
      "0x01\n",
      "0xff\n"
     ]
    }
   ],
   "source": [
    "val = 65536 + 256 + 255\n",
    "print(f\"{right_shift_right_byte(val, 16):#04x}\")\n",
    "print(f\"{right_shift_right_byte(val, 8):#04x}\")\n",
    "print(f\"{right_shift_right_byte(val, 0):#04x}\")"
   ]
  },
  {
   "cell_type": "code",
   "execution_count": 30,
   "metadata": {},
   "outputs": [
    {
     "name": "stdout",
     "output_type": "stream",
     "text": [
      "65536.0, 65536, 0x10000, 0x01, 0x00, 0x00\n"
     ]
    }
   ],
   "source": [
    "def to_scaled_int(a, scale_factor=65536):\n",
    "    temp = a * scale_factor\n",
    "    val = int(temp)\n",
    "    print(f\"{temp}, {val}, {hex(val)}, {right_shift_right_byte(val, 16):#04x}, {right_shift_right_byte(val, 8):#04x}, {right_shift_right_byte(val, 0):#04x}\")\n",
    "    \n",
    "to_scaled_int(1.0)"
   ]
  },
  {
   "cell_type": "code",
   "execution_count": 31,
   "metadata": {},
   "outputs": [
    {
     "name": "stdout",
     "output_type": "stream",
     "text": [
      "131072.0, 131072, 0x20000, 0x02, 0x00, 0x00\n"
     ]
    }
   ],
   "source": [
    "to_scaled_int(2.0)"
   ]
  },
  {
   "cell_type": "code",
   "execution_count": 32,
   "metadata": {},
   "outputs": [
    {
     "name": "stdout",
     "output_type": "stream",
     "text": [
      "229376.0, 229376, 0x38000, 0x03, 0x80, 0x00\n"
     ]
    }
   ],
   "source": [
    "to_scaled_int(3.5)"
   ]
  },
  {
   "cell_type": "code",
   "execution_count": null,
   "metadata": {},
   "outputs": [],
   "source": []
  }
 ],
 "metadata": {
  "kernelspec": {
   "display_name": "anaconda_py38",
   "language": "python",
   "name": "anaconda_py38"
  },
  "language_info": {
   "codemirror_mode": {
    "name": "ipython",
    "version": 3
   },
   "file_extension": ".py",
   "mimetype": "text/x-python",
   "name": "python",
   "nbconvert_exporter": "python",
   "pygments_lexer": "ipython3",
   "version": "3.8.5"
  }
 },
 "nbformat": 4,
 "nbformat_minor": 4
}
