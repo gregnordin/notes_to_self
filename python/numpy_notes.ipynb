{
 "cells": [
  {
   "cell_type": "code",
   "execution_count": 1,
   "metadata": {},
   "outputs": [],
   "source": [
    "import numpy as np"
   ]
  },
  {
   "cell_type": "markdown",
   "metadata": {},
   "source": [
    "# Remove rows with NaN's from numpy array"
   ]
  },
  {
   "cell_type": "code",
   "execution_count": 2,
   "metadata": {},
   "outputs": [
    {
     "name": "stdout",
     "output_type": "stream",
     "text": [
      "Original array:\n",
      " [[ 1.  8.]\n",
      " [ 2.  9.]\n",
      " [ 3. 10.]\n",
      " [ 4. nan]\n",
      " [ 5. 12.]\n",
      " [ 6. nan]]\n",
      "With rows containing NaN removed:\n",
      " [[ 1.  8.]\n",
      " [ 2.  9.]\n",
      " [ 3. 10.]\n",
      " [ 5. 12.]]\n"
     ]
    }
   ],
   "source": [
    "a = np.array([[1, 8], [2,9], [3,10], [4, np.NaN], [5, 12], [6, np.NaN]])\n",
    "print('Original array:\\n', a)\n",
    "a = a[~np.isnan(a)[:, 1]]\n",
    "print('With rows containing NaN removed:\\n', a)"
   ]
  },
  {
   "cell_type": "markdown",
   "metadata": {},
   "source": [
    "# Find index of nearest value in an array\n",
    "\n",
    "See Nov. 20, 2014 answer to [Finding the nearest value and return the index of array in Python](http://stackoverflow.com/questions/8914491/finding-the-nearest-value-and-return-the-index-of-array-in-python)"
   ]
  },
  {
   "cell_type": "code",
   "execution_count": 3,
   "metadata": {},
   "outputs": [
    {
     "name": "stdout",
     "output_type": "stream",
     "text": [
      "[ 0.  1.  2.  3.  4.  5.  6.  7.  8.  9. 10.]\n",
      "1.2 1 1.0\n",
      "5.1 5 5.0\n",
      "5.6 6 6.0\n"
     ]
    }
   ],
   "source": [
    "def get_index(array, value):\n",
    "    idx = (np.abs(array - value)).argmin()\n",
    "    return idx\n",
    "\n",
    "a = np.linspace(0., 10., 11)\n",
    "print(a)\n",
    "values = [1.2, 5.1, 5.6]\n",
    "for value in values:\n",
    "    idx = get_index(a, value)\n",
    "    print(value, idx, a[idx])"
   ]
  },
  {
   "cell_type": "markdown",
   "metadata": {},
   "source": [
    "# Boolean indexing"
   ]
  },
  {
   "cell_type": "code",
   "execution_count": 4,
   "metadata": {},
   "outputs": [
    {
     "data": {
      "text/plain": [
       "array([20, 47, 64, 49, 44, 60, 16, 58, 31, 45])"
      ]
     },
     "execution_count": 4,
     "metadata": {},
     "output_type": "execute_result"
    }
   ],
   "source": [
    "a = np.random.randint(0, 100, 10)\n",
    "a"
   ]
  },
  {
   "cell_type": "code",
   "execution_count": 5,
   "metadata": {},
   "outputs": [
    {
     "data": {
      "text/plain": [
       "array([64])"
      ]
     },
     "execution_count": 5,
     "metadata": {},
     "output_type": "execute_result"
    }
   ],
   "source": [
    "# Select elements greater than 60\n",
    "a[a>60]"
   ]
  },
  {
   "cell_type": "code",
   "execution_count": 6,
   "metadata": {},
   "outputs": [
    {
     "data": {
      "text/plain": [
       "array([], dtype=int64)"
      ]
     },
     "execution_count": 6,
     "metadata": {},
     "output_type": "execute_result"
    }
   ],
   "source": [
    "# Select elements greater than 60 and odd\n",
    "a[(a>60) & (a%2 == 1)]"
   ]
  },
  {
   "cell_type": "code",
   "execution_count": 7,
   "metadata": {},
   "outputs": [
    {
     "data": {
      "text/plain": [
       "43.4"
      ]
     },
     "execution_count": 7,
     "metadata": {},
     "output_type": "execute_result"
    }
   ],
   "source": [
    "a.mean()"
   ]
  },
  {
   "cell_type": "code",
   "execution_count": 8,
   "metadata": {},
   "outputs": [
    {
     "data": {
      "text/plain": [
       "15.531902652283136"
      ]
     },
     "execution_count": 8,
     "metadata": {},
     "output_type": "execute_result"
    }
   ],
   "source": [
    "a.std()"
   ]
  },
  {
   "cell_type": "code",
   "execution_count": 9,
   "metadata": {},
   "outputs": [
    {
     "data": {
      "text/plain": [
       "array([47, 64, 49, 44, 60, 58, 45])"
      ]
     },
     "execution_count": 9,
     "metadata": {},
     "output_type": "execute_result"
    }
   ],
   "source": [
    "# Select all of the even numbers greater than the mean\n",
    "a[a>a.mean()]"
   ]
  },
  {
   "cell_type": "code",
   "execution_count": 10,
   "metadata": {},
   "outputs": [
    {
     "data": {
      "text/plain": [
       "array([47, 49, 44, 58, 31, 45])"
      ]
     },
     "execution_count": 10,
     "metadata": {},
     "output_type": "execute_result"
    }
   ],
   "source": [
    "# Select all numbers that are within one standard deviation of the mean\n",
    "a[(a<(a.mean() + a.std())) & (a>(a.mean() - a.std()))]"
   ]
  },
  {
   "cell_type": "code",
   "execution_count": null,
   "metadata": {},
   "outputs": [],
   "source": []
  },
  {
   "cell_type": "markdown",
   "metadata": {},
   "source": [
    "# Clip values in 1D and 2D arrays"
   ]
  },
  {
   "cell_type": "code",
   "execution_count": 11,
   "metadata": {},
   "outputs": [
    {
     "name": "stdout",
     "output_type": "stream",
     "text": [
      "[ 1.     0.1    0.001  0.    -0.001 -0.1   -1.   ]\n",
      "[1.    0.1   0.001 0.    0.    0.    0.   ]\n"
     ]
    }
   ],
   "source": [
    "a = np.array([1.0, 0.1, 1.e-3, 0.0, -1.e-3, -0.1, -1.0])\n",
    "print(a)\n",
    "a = a.clip(min=0)\n",
    "print(a)"
   ]
  },
  {
   "cell_type": "code",
   "execution_count": 12,
   "metadata": {},
   "outputs": [
    {
     "name": "stdout",
     "output_type": "stream",
     "text": [
      "[[ 0.e+00  1.e+00]\n",
      " [ 1.e+00  1.e-01]\n",
      " [ 1.e+00  1.e-03]\n",
      " [ 3.e+00  0.e+00]\n",
      " [ 4.e+00 -1.e-03]\n",
      " [ 5.e+00 -1.e-01]\n",
      " [ 6.e+00 -1.e+00]]\n",
      "\n",
      "[[0.e+00 1.e+00]\n",
      " [1.e+00 1.e-01]\n",
      " [1.e+00 1.e-03]\n",
      " [3.e+00 0.e+00]\n",
      " [4.e+00 0.e+00]\n",
      " [5.e+00 0.e+00]\n",
      " [6.e+00 0.e+00]]\n"
     ]
    }
   ],
   "source": [
    "b = np.array([[0, 1.0], [1, 0.1], [1, 1.e-3], [3, 0.0], [4, -1.e-3], [5, -0.1], [6, -1.0]])\n",
    "print(b)\n",
    "print()\n",
    "b[:,1] = b[:,1].clip(min=0)\n",
    "print(b)"
   ]
  },
  {
   "cell_type": "markdown",
   "metadata": {},
   "source": [
    "# Slice objects\n",
    "\n",
    "[How can I create a slice object for Numpy array?](https://stackoverflow.com/questions/38917173/how-can-i-create-a-slice-object-for-numpy-array)  \n",
    "[numpy.s_](https://docs.scipy.org/doc/numpy/reference/generated/numpy.s_.html)\n",
    "\n",
    "## Use to give slices meaningful names"
   ]
  },
  {
   "cell_type": "code",
   "execution_count": 13,
   "metadata": {},
   "outputs": [
    {
     "name": "stdout",
     "output_type": "stream",
     "text": [
      "[[ 0  1  2  3  4]\n",
      " [ 5  6  7  8  9]\n",
      " [10 11 12 13 14]\n",
      " [15 16 17 18 19]]\n",
      "middle:\n",
      "[[ 6  7  8]\n",
      " [11 12 13]]\n",
      "lowerright:\n",
      "[[13 14]\n",
      " [18 19]]\n",
      "row2everyother:\n",
      "[10 12 14]\n",
      "lastrow:\n",
      "[15 16 17 18 19]\n"
     ]
    }
   ],
   "source": [
    "a = np.arange(20).reshape(4, 5)\n",
    "\n",
    "middle = np.s_[1:3, 1:4]\n",
    "lowerright = np.s_[2:, 3:]\n",
    "row2everyother = np.s_[2, 0::2]\n",
    "lastrow = np.s_[-1, :]\n",
    "\n",
    "print(a)\n",
    "print(\"middle:\")\n",
    "print(a[middle])\n",
    "print(\"lowerright:\")\n",
    "print(a[lowerright])\n",
    "print(\"row2everyother:\")\n",
    "print(a[row2everyother])\n",
    "print(\"lastrow:\")\n",
    "print(a[lastrow])"
   ]
  },
  {
   "cell_type": "code",
   "execution_count": 14,
   "metadata": {},
   "outputs": [
    {
     "name": "stdout",
     "output_type": "stream",
     "text": [
      "(slice(1, 3, None), slice(1, 4, None))\n",
      "(2, slice(0, None, 2))\n",
      "(-1, slice(None, None, None))\n"
     ]
    }
   ],
   "source": [
    "print(middle)\n",
    "print(row2everyother)\n",
    "print(lastrow)"
   ]
  },
  {
   "cell_type": "markdown",
   "metadata": {},
   "source": [
    "## Accessing indices in slice objects"
   ]
  },
  {
   "cell_type": "code",
   "execution_count": 15,
   "metadata": {},
   "outputs": [
    {
     "name": "stdout",
     "output_type": "stream",
     "text": [
      "(slice(1, 3, None), slice(1, 4, None))\n",
      "slice(1, 4, None) slice(1, 3, None)\n",
      "1 4 None\n",
      "1 3 None\n"
     ]
    }
   ],
   "source": [
    "print(middle)\n",
    "xslice, yslice = middle[1], middle[0]\n",
    "print(xslice, yslice)\n",
    "print(xslice.start, xslice.stop, xslice.step)\n",
    "print(yslice.start, yslice.stop, yslice.step)"
   ]
  },
  {
   "cell_type": "markdown",
   "metadata": {},
   "source": [
    "# Get name of numpy variable\n",
    "\n",
    "See https://stackoverflow.com/questions/34980833/python-name-of-np-array-variable-as-string"
   ]
  },
  {
   "cell_type": "code",
   "execution_count": 16,
   "metadata": {},
   "outputs": [],
   "source": [
    "def namestr(obj, namespace):\n",
    "    return [name for name in namespace if namespace[name] is obj][0]"
   ]
  },
  {
   "cell_type": "code",
   "execution_count": 17,
   "metadata": {},
   "outputs": [
    {
     "data": {
      "text/plain": [
       "'temp_1D_array'"
      ]
     },
     "execution_count": 17,
     "metadata": {},
     "output_type": "execute_result"
    }
   ],
   "source": [
    "temp_1D_array = np.linspace(0, 1, 101)\n",
    "\n",
    "namestr(temp_1D_array, globals())"
   ]
  },
  {
   "cell_type": "markdown",
   "metadata": {
    "jupyter": {
     "outputs_hidden": true
    }
   },
   "source": [
    "# From article\n",
    "\n",
    "See [Top 4 Numpy Functions You Don’t Know About (Probably)](https://towardsdatascience.com/top-4-numpy-functions-you-dont-know-about-probably-28fcd5d7174f)\n",
    "\n"
   ]
  },
  {
   "cell_type": "markdown",
   "metadata": {},
   "source": [
    "## Where\n",
    "\n",
    "where() function will return the index of elements from an array that satisfy a certain condition"
   ]
  },
  {
   "cell_type": "code",
   "execution_count": 18,
   "metadata": {},
   "outputs": [
    {
     "data": {
      "text/plain": [
       "(array([2, 4, 5]),)"
      ]
     },
     "execution_count": 18,
     "metadata": {},
     "output_type": "execute_result"
    }
   ],
   "source": [
    "grades = np.array([1, 3, 4, 2, 5, 5])\n",
    "np.where(grades > 3)"
   ]
  },
  {
   "cell_type": "markdown",
   "metadata": {},
   "source": [
    "Replace values that do and don't satisfy the given condition"
   ]
  },
  {
   "cell_type": "code",
   "execution_count": 22,
   "metadata": {},
   "outputs": [
    {
     "data": {
      "text/plain": [
       "array(['lt3', 'lt3', 'gt3', 'lt3', 'gt3', 'gt3'], dtype='<U3')"
      ]
     },
     "execution_count": 22,
     "metadata": {},
     "output_type": "execute_result"
    }
   ],
   "source": [
    "np.where(grades > 3, 'gt3', 'lt3')"
   ]
  },
  {
   "cell_type": "markdown",
   "metadata": {},
   "source": [
    "## argmin(), argmax(), argsort()"
   ]
  },
  {
   "cell_type": "code",
   "execution_count": null,
   "metadata": {},
   "outputs": [],
   "source": []
  },
  {
   "cell_type": "markdown",
   "metadata": {},
   "source": [
    "## allclose()\n",
    "\n",
    "*It will return True if items in two arrays are equal within a tolerance. It will provide you with a great way of checking if two arrays are similar*"
   ]
  },
  {
   "cell_type": "code",
   "execution_count": 24,
   "metadata": {},
   "outputs": [
    {
     "data": {
      "text/plain": [
       "False"
      ]
     },
     "execution_count": 24,
     "metadata": {},
     "output_type": "execute_result"
    }
   ],
   "source": [
    "arr1 = np.array([0.15, 0.20, 0.25, 0.17])\n",
    "arr2 = np.array([0.14, 0.21, 0.27, 0.15])\n",
    "\n",
    "np.allclose(arr1, arr2, 0.1)"
   ]
  },
  {
   "cell_type": "code",
   "execution_count": 25,
   "metadata": {},
   "outputs": [
    {
     "data": {
      "text/plain": [
       "True"
      ]
     },
     "execution_count": 25,
     "metadata": {},
     "output_type": "execute_result"
    }
   ],
   "source": [
    "np.allclose(arr1, arr2, 0.2)"
   ]
  },
  {
   "cell_type": "code",
   "execution_count": null,
   "metadata": {},
   "outputs": [],
   "source": []
  }
 ],
 "metadata": {
  "anaconda-cloud": {},
  "kernelspec": {
   "display_name": "py37-use_this_one",
   "language": "python",
   "name": "py37"
  },
  "language_info": {
   "codemirror_mode": {
    "name": "ipython",
    "version": 3
   },
   "file_extension": ".py",
   "mimetype": "text/x-python",
   "name": "python",
   "nbconvert_exporter": "python",
   "pygments_lexer": "ipython3",
   "version": "3.7.3"
  },
  "latex_envs": {
   "LaTeX_envs_menu_present": true,
   "bibliofile": "biblio.bib",
   "cite_by": "apalike",
   "current_citInitial": 1,
   "eqLabelWithNumbers": true,
   "eqNumInitial": 1,
   "labels_anchors": false,
   "latex_user_defs": false,
   "report_style_numbering": false,
   "user_envs_cfg": false
  },
  "toc": {
   "colors": {
    "hover_highlight": "#DAA520",
    "navigate_num": "#000000",
    "navigate_text": "#333333",
    "running_highlight": "#FF0000",
    "selected_highlight": "#FFD700",
    "sidebar_border": "#EEEEEE",
    "wrapper_background": "#FFFFFF"
   },
   "moveMenuLeft": true,
   "nav_menu": {
    "height": "49px",
    "width": "252px"
   },
   "navigate_menu": true,
   "number_sections": true,
   "sideBar": true,
   "threshold": 4,
   "toc_cell": false,
   "toc_section_display": "block",
   "toc_window_display": true,
   "widenNotebook": false
  }
 },
 "nbformat": 4,
 "nbformat_minor": 4
}
