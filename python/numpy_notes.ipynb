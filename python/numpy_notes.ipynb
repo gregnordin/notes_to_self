{
 "cells": [
  {
   "cell_type": "code",
   "execution_count": 1,
   "metadata": {
    "collapsed": true
   },
   "outputs": [],
   "source": [
    "import numpy as np"
   ]
  },
  {
   "cell_type": "markdown",
   "metadata": {},
   "source": [
    "# Remove rows with NaN's from numpy array"
   ]
  },
  {
   "cell_type": "code",
   "execution_count": 2,
   "metadata": {},
   "outputs": [
    {
     "name": "stdout",
     "output_type": "stream",
     "text": [
      "Original array:\n",
      " [[  1.   8.]\n",
      " [  2.   9.]\n",
      " [  3.  10.]\n",
      " [  4.  nan]\n",
      " [  5.  12.]\n",
      " [  6.  nan]]\n",
      "With rows containing NaN removed:\n",
      " [[  1.   8.]\n",
      " [  2.   9.]\n",
      " [  3.  10.]\n",
      " [  5.  12.]]\n"
     ]
    }
   ],
   "source": [
    "a = np.array([[1, 8], [2,9], [3,10], [4, np.NaN], [5, 12], [6, np.NaN]])\n",
    "print('Original array:\\n', a)\n",
    "a = a[~np.isnan(a)[:, 1]]\n",
    "print('With rows containing NaN removed:\\n', a)"
   ]
  },
  {
   "cell_type": "markdown",
   "metadata": {},
   "source": [
    "# Find index of nearest value in an array\n",
    "\n",
    "See Nov. 20, 2014 answer to [Finding the nearest value and return the index of array in Python](http://stackoverflow.com/questions/8914491/finding-the-nearest-value-and-return-the-index-of-array-in-python)"
   ]
  },
  {
   "cell_type": "code",
   "execution_count": 3,
   "metadata": {},
   "outputs": [
    {
     "name": "stdout",
     "output_type": "stream",
     "text": [
      "[  0.   1.   2.   3.   4.   5.   6.   7.   8.   9.  10.]\n",
      "1.2 1 1.0\n",
      "5.1 5 5.0\n",
      "5.6 6 6.0\n"
     ]
    }
   ],
   "source": [
    "def get_index(array, value):\n",
    "    idx = (np.abs(array - value)).argmin()\n",
    "    return idx\n",
    "\n",
    "a = np.linspace(0., 10., 11)\n",
    "print(a)\n",
    "values = [1.2, 5.1, 5.6]\n",
    "for value in values:\n",
    "    idx = get_index(a, value)\n",
    "    print(value, idx, a[idx])"
   ]
  },
  {
   "cell_type": "markdown",
   "metadata": {},
   "source": [
    "# Clip values in 1D and 2D arrays"
   ]
  },
  {
   "cell_type": "code",
   "execution_count": 4,
   "metadata": {},
   "outputs": [
    {
     "name": "stdout",
     "output_type": "stream",
     "text": [
      "[ 1.     0.1    0.001  0.    -0.001 -0.1   -1.   ]\n",
      "[ 1.     0.1    0.001  0.     0.     0.     0.   ]\n"
     ]
    }
   ],
   "source": [
    "a = np.array([1.0, 0.1, 1.e-3, 0.0, -1.e-3, -0.1, -1.0])\n",
    "print(a)\n",
    "a = a.clip(min=0)\n",
    "print(a)"
   ]
  },
  {
   "cell_type": "code",
   "execution_count": 5,
   "metadata": {},
   "outputs": [
    {
     "name": "stdout",
     "output_type": "stream",
     "text": [
      "[[  0.00000000e+00   1.00000000e+00]\n",
      " [  1.00000000e+00   1.00000000e-01]\n",
      " [  1.00000000e+00   1.00000000e-03]\n",
      " [  3.00000000e+00   0.00000000e+00]\n",
      " [  4.00000000e+00  -1.00000000e-03]\n",
      " [  5.00000000e+00  -1.00000000e-01]\n",
      " [  6.00000000e+00  -1.00000000e+00]]\n",
      "\n",
      "[[  0.00000000e+00   1.00000000e+00]\n",
      " [  1.00000000e+00   1.00000000e-01]\n",
      " [  1.00000000e+00   1.00000000e-03]\n",
      " [  3.00000000e+00   0.00000000e+00]\n",
      " [  4.00000000e+00   0.00000000e+00]\n",
      " [  5.00000000e+00   0.00000000e+00]\n",
      " [  6.00000000e+00   0.00000000e+00]]\n"
     ]
    }
   ],
   "source": [
    "b = np.array([[0, 1.0], [1, 0.1], [1, 1.e-3], [3, 0.0], [4, -1.e-3], [5, -0.1], [6, -1.0]])\n",
    "print(b)\n",
    "print()\n",
    "b[:,1] = b[:,1].clip(min=0)\n",
    "print(b)"
   ]
  },
  {
   "cell_type": "markdown",
   "metadata": {},
   "source": [
    "# Slice objects\n",
    "\n",
    "[How can I create a slice object for Numpy array?](https://stackoverflow.com/questions/38917173/how-can-i-create-a-slice-object-for-numpy-array)  \n",
    "[numpy.s_](https://docs.scipy.org/doc/numpy/reference/generated/numpy.s_.html)\n",
    "\n",
    "## Use to give slices meaningful names"
   ]
  },
  {
   "cell_type": "code",
   "execution_count": 6,
   "metadata": {},
   "outputs": [
    {
     "name": "stdout",
     "output_type": "stream",
     "text": [
      "[[ 0  1  2  3  4]\n",
      " [ 5  6  7  8  9]\n",
      " [10 11 12 13 14]\n",
      " [15 16 17 18 19]]\n",
      "middle:\n",
      "[[ 6  7  8]\n",
      " [11 12 13]]\n",
      "lowerright:\n",
      "[[13 14]\n",
      " [18 19]]\n",
      "row2everyother:\n",
      "[10 12 14]\n",
      "lastrow:\n",
      "[15 16 17 18 19]\n"
     ]
    }
   ],
   "source": [
    "a = np.arange(20).reshape(4, 5)\n",
    "\n",
    "middle = np.s_[1:3, 1:4]\n",
    "lowerright = np.s_[2:, 3:]\n",
    "row2everyother = np.s_[2, 0::2]\n",
    "lastrow = np.s_[-1, :]\n",
    "\n",
    "print(a)\n",
    "print(\"middle:\")\n",
    "print(a[middle])\n",
    "print(\"lowerright:\")\n",
    "print(a[lowerright])\n",
    "print(\"row2everyother:\")\n",
    "print(a[row2everyother])\n",
    "print(\"lastrow:\")\n",
    "print(a[lastrow])"
   ]
  },
  {
   "cell_type": "code",
   "execution_count": 7,
   "metadata": {},
   "outputs": [
    {
     "name": "stdout",
     "output_type": "stream",
     "text": [
      "(slice(1, 3, None), slice(1, 4, None))\n",
      "(2, slice(0, None, 2))\n",
      "(-1, slice(None, None, None))\n"
     ]
    }
   ],
   "source": [
    "print(middle)\n",
    "print(row2everyother)\n",
    "print(lastrow)"
   ]
  },
  {
   "cell_type": "markdown",
   "metadata": {
    "collapsed": true
   },
   "source": [
    "## Accessing indices in slice objects"
   ]
  },
  {
   "cell_type": "code",
   "execution_count": 8,
   "metadata": {},
   "outputs": [
    {
     "name": "stdout",
     "output_type": "stream",
     "text": [
      "(slice(1, 3, None), slice(1, 4, None))\n",
      "slice(1, 4, None) slice(1, 3, None)\n",
      "1 4 None\n",
      "1 3 None\n"
     ]
    }
   ],
   "source": [
    "print(middle)\n",
    "xslice, yslice = middle[1], middle[0]\n",
    "print(xslice, yslice)\n",
    "print(xslice.start, xslice.stop, xslice.step)\n",
    "print(yslice.start, yslice.stop, yslice.step)"
   ]
  },
  {
   "cell_type": "markdown",
   "metadata": {},
   "source": [
    "# Get name of numpy variable\n",
    "\n",
    "See https://stackoverflow.com/questions/34980833/python-name-of-np-array-variable-as-string"
   ]
  },
  {
   "cell_type": "code",
   "execution_count": 9,
   "metadata": {
    "collapsed": true
   },
   "outputs": [],
   "source": [
    "def namestr(obj, namespace):\n",
    "    return [name for name in namespace if namespace[name] is obj][0]"
   ]
  },
  {
   "cell_type": "code",
   "execution_count": 10,
   "metadata": {},
   "outputs": [
    {
     "data": {
      "text/plain": [
       "'temp_1D_array'"
      ]
     },
     "execution_count": 10,
     "metadata": {},
     "output_type": "execute_result"
    }
   ],
   "source": [
    "temp_1D_array = np.linspace(0, 1, 101)\n",
    "\n",
    "namestr(temp_1D_array, globals())"
   ]
  },
  {
   "cell_type": "code",
   "execution_count": null,
   "metadata": {
    "collapsed": true
   },
   "outputs": [],
   "source": []
  }
 ],
 "metadata": {
  "anaconda-cloud": {},
  "kernelspec": {
   "display_name": "Python [conda root]",
   "language": "python",
   "name": "conda-root-py"
  },
  "language_info": {
   "codemirror_mode": {
    "name": "ipython",
    "version": 3
   },
   "file_extension": ".py",
   "mimetype": "text/x-python",
   "name": "python",
   "nbconvert_exporter": "python",
   "pygments_lexer": "ipython3",
   "version": "3.6.2"
  },
  "latex_envs": {
   "LaTeX_envs_menu_present": true,
   "bibliofile": "biblio.bib",
   "cite_by": "apalike",
   "current_citInitial": 1,
   "eqLabelWithNumbers": true,
   "eqNumInitial": 1,
   "labels_anchors": false,
   "latex_user_defs": false,
   "report_style_numbering": false,
   "user_envs_cfg": false
  },
  "toc": {
   "colors": {
    "hover_highlight": "#DAA520",
    "navigate_num": "#000000",
    "navigate_text": "#333333",
    "running_highlight": "#FF0000",
    "selected_highlight": "#FFD700",
    "sidebar_border": "#EEEEEE",
    "wrapper_background": "#FFFFFF"
   },
   "moveMenuLeft": true,
   "nav_menu": {
    "height": "49px",
    "width": "252px"
   },
   "navigate_menu": true,
   "number_sections": true,
   "sideBar": true,
   "threshold": 4,
   "toc_cell": false,
   "toc_section_display": "block",
   "toc_window_display": true,
   "widenNotebook": false
  }
 },
 "nbformat": 4,
 "nbformat_minor": 2
}
