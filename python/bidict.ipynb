{
 "cells": [
  {
   "cell_type": "markdown",
   "id": "f5665dcf-ba08-45f2-bf9a-bc11f5903932",
   "metadata": {},
   "source": [
    "# Purpose\n",
    "\n",
    "Try out [bidict](https://bidict.readthedocs.io/en/main/home.html) - a bidirectional mapping library for Python. Provides several friendly, efficient data structures for working with bidirectional mappings in Python. It's like a 2-way dict where the keys and values can be used as keys."
   ]
  },
  {
   "cell_type": "code",
   "execution_count": 1,
   "id": "f6ba521f-035d-480c-9b7b-b5b566785d72",
   "metadata": {},
   "outputs": [],
   "source": [
    "from bidict import bidict"
   ]
  },
  {
   "cell_type": "code",
   "execution_count": 2,
   "id": "f231079c-e253-4e70-99a7-42d37f0151a5",
   "metadata": {},
   "outputs": [
    {
     "data": {
      "text/plain": [
       "{0: (0, 0),\n",
       " 1: (1, 0),\n",
       " 2: (2, 0),\n",
       " 3: (3, 0),\n",
       " 4: (0, 1),\n",
       " 5: (1, 1),\n",
       " 6: (2, 1),\n",
       " 7: (3, 1),\n",
       " 8: (0, 2),\n",
       " 9: (1, 2),\n",
       " 10: (2, 2),\n",
       " 11: (2, 3)}"
      ]
     },
     "execution_count": 2,
     "metadata": {},
     "output_type": "execute_result"
    }
   ],
   "source": [
    "regular_dict = {\n",
    "    0: (0, 0),\n",
    "    1: (1, 0),\n",
    "    2: (2, 0),\n",
    "    3: (3, 0),\n",
    "    4: (0, 1),\n",
    "    5: (1, 1),\n",
    "    6: (2, 1),\n",
    "    7: (3, 1),\n",
    "    8: (0, 2),\n",
    "    9: (1, 2),\n",
    "    10: (2, 2),\n",
    "    11: (2, 3),\n",
    "}\n",
    "regular_dict"
   ]
  },
  {
   "cell_type": "code",
   "execution_count": 3,
   "id": "9b9637db-f0dc-4a75-8fed-103eb07194ce",
   "metadata": {},
   "outputs": [
    {
     "data": {
      "text/plain": [
       "bidict({0: (0, 0), 1: (1, 0), 2: (2, 0), 3: (3, 0), 4: (0, 1), 5: (1, 1), 6: (2, 1), 7: (3, 1), 8: (0, 2), 9: (1, 2), 10: (2, 2), 11: (2, 3)})"
      ]
     },
     "execution_count": 3,
     "metadata": {},
     "output_type": "execute_result"
    }
   ],
   "source": [
    "test_bidict = bidict(regular_dict)\n",
    "test_bidict"
   ]
  },
  {
   "cell_type": "code",
   "execution_count": 4,
   "id": "a6d66811-56bf-43c9-81d9-fdaec04a108e",
   "metadata": {},
   "outputs": [
    {
     "name": "stdout",
     "output_type": "stream",
     "text": [
      "(1, 0)\n",
      "(1, 0)\n",
      "1\n"
     ]
    }
   ],
   "source": [
    "print(regular_dict[1])\n",
    "print(test_bidict[1])\n",
    "print(test_bidict.inverse[(1, 0)])"
   ]
  },
  {
   "cell_type": "markdown",
   "id": "a15a79d9-0746-4557-b1f9-314f474f7e8d",
   "metadata": {},
   "source": [
    "# Compare speed of bidict with function call"
   ]
  },
  {
   "cell_type": "code",
   "execution_count": 5,
   "id": "7a7f8049-21ad-4d69-87e6-97193b22536c",
   "metadata": {},
   "outputs": [],
   "source": [
    "import itertools\n",
    "import random"
   ]
  },
  {
   "cell_type": "markdown",
   "id": "4384c73d-cb3e-4435-8a9b-1bee91a705e5",
   "metadata": {},
   "source": [
    "## Linear index with a `lambda` expression"
   ]
  },
  {
   "cell_type": "code",
   "execution_count": 6,
   "id": "ddc4e967-6185-41a4-8805-7b941bee7536",
   "metadata": {},
   "outputs": [
    {
     "name": "stdout",
     "output_type": "stream",
     "text": [
      "5\n",
      "(1, 1)\n"
     ]
    }
   ],
   "source": [
    "p = lambda m, n, Nx: n * Nx + m\n",
    "p_inv = lambda pp, Nx: (pp // Nx, pp % Nx)\n",
    "\n",
    "print(p(1, 1, 4))\n",
    "print(p_inv(5, 4))"
   ]
  },
  {
   "cell_type": "markdown",
   "id": "b76c8522-4b48-462c-80f7-5f52b09b7769",
   "metadata": {},
   "source": [
    "## Linear index with a regular function"
   ]
  },
  {
   "cell_type": "code",
   "execution_count": 7,
   "id": "1d3f53ad-27f9-4dbd-8990-4b2b93388ef8",
   "metadata": {},
   "outputs": [
    {
     "name": "stdout",
     "output_type": "stream",
     "text": [
      "5\n",
      "(1, 1)\n"
     ]
    }
   ],
   "source": [
    "def p_func(m, n, Nx):\n",
    "    return n * Nx + m\n",
    "\n",
    "\n",
    "def p_inv_func(pp, Nx):\n",
    "    return (pp // Nx, pp % Nx)\n",
    "\n",
    "\n",
    "print(p_func(1, 1, 4))\n",
    "print(p_inv_func(5, 4))"
   ]
  },
  {
   "cell_type": "markdown",
   "id": "2439bf2c-a5bf-42ec-a711-ea40b52aaf85",
   "metadata": {},
   "source": [
    "## Generate random unique `m,n` coordinates and corresponding `p` coordinates"
   ]
  },
  {
   "cell_type": "code",
   "execution_count": 8,
   "id": "ae6ae3b1-b1c4-49d4-bf36-d732541dca66",
   "metadata": {},
   "outputs": [
    {
     "name": "stdout",
     "output_type": "stream",
     "text": [
      "10000\n",
      "10000\n",
      "10000\n"
     ]
    }
   ],
   "source": [
    "N = 100\n",
    "nums = [i for i in range(N)]\n",
    "\n",
    "# Generate random p values\n",
    "random_nums = [i for i in range(N * N)]\n",
    "random.shuffle(random_nums)\n",
    "\n",
    "# Generate all possible (m,n) permuations\n",
    "ordered_pairs = [(m, n) for n in nums for m in nums]\n",
    "\n",
    "# Randomly shuffle these pairs in place\n",
    "random_pairs = ordered_pairs.copy()\n",
    "random.shuffle(random_pairs)\n",
    "\n",
    "print(len(random_nums))\n",
    "print(len(ordered_pairs))\n",
    "print(len(random_pairs))\n",
    "# print(ordered_pairs)\n",
    "# print(random_pairs)"
   ]
  },
  {
   "cell_type": "markdown",
   "id": "bb328a67-bea2-4d86-a9c3-585b65a8a14b",
   "metadata": {},
   "source": [
    "## Bidict"
   ]
  },
  {
   "cell_type": "code",
   "execution_count": 9,
   "id": "edb23071-9623-40ce-8edd-eee53ab93745",
   "metadata": {},
   "outputs": [
    {
     "name": "stdout",
     "output_type": "stream",
     "text": [
      "10000\n"
     ]
    },
    {
     "data": {
      "text/plain": [
       "100"
      ]
     },
     "execution_count": 9,
     "metadata": {},
     "output_type": "execute_result"
    }
   ],
   "source": [
    "temp = {i: v for i, v in enumerate(ordered_pairs)}\n",
    "# print(temp)\n",
    "coords = bidict(temp)\n",
    "print(len(coords))\n",
    "# print(coords)\n",
    "coords.inverse[(0, 1)]\n",
    "# coords.inverse[(47, 55)]"
   ]
  },
  {
   "cell_type": "markdown",
   "id": "8a8f1d65-b203-4aca-8b00-a8f479d0842c",
   "metadata": {},
   "source": [
    "## Timings\n",
    "\n",
    "### `lambda` expression\n",
    "\n",
    "#### (m,n) &rarr; p"
   ]
  },
  {
   "cell_type": "code",
   "execution_count": 10,
   "id": "a4e13748-e0e9-4eed-a4cd-e7b11e2128db",
   "metadata": {},
   "outputs": [
    {
     "name": "stdout",
     "output_type": "stream",
     "text": [
      "1.9 ms ± 16.2 µs per loop (mean ± std. dev. of 7 runs, 100 loops each)\n"
     ]
    }
   ],
   "source": [
    "%%timeit\n",
    "for a in random_pairs:\n",
    "    temp = p(*a, N)"
   ]
  },
  {
   "cell_type": "markdown",
   "id": "e9f10e78-8b86-406e-9f7b-675637330763",
   "metadata": {},
   "source": [
    "#### p &rarr; (m,n)"
   ]
  },
  {
   "cell_type": "code",
   "execution_count": 11,
   "id": "5c585634-cedf-4b99-9e22-0fbb13c39504",
   "metadata": {},
   "outputs": [
    {
     "name": "stdout",
     "output_type": "stream",
     "text": [
      "1.17 ms ± 94.2 µs per loop (mean ± std. dev. of 7 runs, 1000 loops each)\n"
     ]
    }
   ],
   "source": [
    "%%timeit\n",
    "for a in random_nums:\n",
    "    temp = p_inv(a, N)"
   ]
  },
  {
   "cell_type": "markdown",
   "id": "2975f342-117e-4bfe-97ad-0e217d428624",
   "metadata": {},
   "source": [
    "### Function\n",
    "\n",
    "#### (m,n) &rarr; p"
   ]
  },
  {
   "cell_type": "code",
   "execution_count": 12,
   "id": "730d26f0-410b-47bc-b69d-6f906f40f274",
   "metadata": {},
   "outputs": [
    {
     "name": "stdout",
     "output_type": "stream",
     "text": [
      "2.54 ms ± 479 µs per loop (mean ± std. dev. of 7 runs, 100 loops each)\n"
     ]
    }
   ],
   "source": [
    "%%timeit\n",
    "for a in random_pairs:\n",
    "    temp = p_func(*a, N)"
   ]
  },
  {
   "cell_type": "markdown",
   "id": "488e0355-e633-4ddd-a196-630c189330f8",
   "metadata": {},
   "source": [
    "#### p &rarr; (m,n)"
   ]
  },
  {
   "cell_type": "code",
   "execution_count": 13,
   "id": "60dfb6ba-b01d-4798-bb62-6697d6f0e2c3",
   "metadata": {},
   "outputs": [
    {
     "name": "stdout",
     "output_type": "stream",
     "text": [
      "1.09 ms ± 8.96 µs per loop (mean ± std. dev. of 7 runs, 1000 loops each)\n"
     ]
    }
   ],
   "source": [
    "%%timeit\n",
    "for a in random_nums:\n",
    "    temp = p_inv_func(a, N)"
   ]
  },
  {
   "cell_type": "markdown",
   "id": "f10d01ee-820a-4d7c-8176-8df2040a1c2c",
   "metadata": {},
   "source": [
    "### Bidict\n",
    "\n",
    "#### (m,n) &rarr; p"
   ]
  },
  {
   "cell_type": "code",
   "execution_count": 14,
   "id": "8cfcac40-c4c2-4394-b956-a075d9eaec7a",
   "metadata": {},
   "outputs": [
    {
     "name": "stdout",
     "output_type": "stream",
     "text": [
      "2.89 ms ± 451 µs per loop (mean ± std. dev. of 7 runs, 100 loops each)\n"
     ]
    }
   ],
   "source": [
    "%%timeit\n",
    "for a in random_pairs:\n",
    "    temp = coords.inverse[a]"
   ]
  },
  {
   "cell_type": "markdown",
   "id": "675b82fa-48c9-45ec-85fe-5014273ea589",
   "metadata": {},
   "source": [
    "#### p &rarr; (m,n)"
   ]
  },
  {
   "cell_type": "code",
   "execution_count": 15,
   "id": "32f3b36e-d240-4704-a334-e5180373e039",
   "metadata": {},
   "outputs": [
    {
     "name": "stdout",
     "output_type": "stream",
     "text": [
      "1.73 ms ± 356 µs per loop (mean ± std. dev. of 7 runs, 100 loops each)\n"
     ]
    }
   ],
   "source": [
    "%%timeit\n",
    "for a in random_nums:\n",
    "    temp = coords[a]"
   ]
  },
  {
   "cell_type": "markdown",
   "id": "08853c09-4a41-4433-8713-89c4b408a62b",
   "metadata": {},
   "source": [
    "## Conclusions\n",
    "\n",
    "It looks like there is little speed penalty in using a `bidict` instead of a `lambda` expression or function for corresponding a linear index with an `(m,n)` index. The advantage of the `bidict` is that it is just as easy to express a complex relationship between the linear index and an `(m,n)` index as a simple relationship, whereas it may be quite a bit more complicated to do so with a function."
   ]
  },
  {
   "cell_type": "code",
   "execution_count": null,
   "id": "417f51a1-75b9-4e37-a809-18814f70effc",
   "metadata": {},
   "outputs": [],
   "source": []
  }
 ],
 "metadata": {
  "kernelspec": {
   "display_name": "anaconda_py38",
   "language": "python",
   "name": "anaconda_py38"
  },
  "language_info": {
   "codemirror_mode": {
    "name": "ipython",
    "version": 3
   },
   "file_extension": ".py",
   "mimetype": "text/x-python",
   "name": "python",
   "nbconvert_exporter": "python",
   "pygments_lexer": "ipython3",
   "version": "3.8.5"
  }
 },
 "nbformat": 4,
 "nbformat_minor": 5
}
