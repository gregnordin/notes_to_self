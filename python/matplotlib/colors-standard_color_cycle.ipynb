{
 "cells": [
  {
   "cell_type": "markdown",
   "id": "fe8bf9d9-1326-4b85-9759-d19a43b89e04",
   "metadata": {},
   "source": [
    "[Colors in the default property cycle](https://matplotlib.org/stable/gallery/color/color_cycle_default.html)."
   ]
  },
  {
   "cell_type": "code",
   "execution_count": 1,
   "id": "7b485224-66f9-44ac-a50f-ea71b8026e3f",
   "metadata": {},
   "outputs": [],
   "source": [
    "import numpy as np\n",
    "import matplotlib.pyplot as plt"
   ]
  },
  {
   "cell_type": "code",
   "execution_count": 2,
   "id": "b805869e-3fbb-4d08-b10f-48e8debb33d1",
   "metadata": {},
   "outputs": [
    {
     "data": {
      "text/plain": [
       "Text(0.5, 0.98, 'Colors in the default prop_cycle')"
      ]
     },
     "execution_count": 2,
     "metadata": {},
     "output_type": "execute_result"
    },
    {
     "data": {
      "image/png": "[encoded data removed]",
      "text/plain": [
       "<Figure size 432x288 with 4 Axes>"
      ]
     },
     "metadata": {
      "needs_background": "light"
     },
     "output_type": "display_data"
    }
   ],
   "source": [
    "prop_cycle = plt.rcParams['axes.prop_cycle']\n",
    "colors = prop_cycle.by_key()['color']\n",
    "\n",
    "lwbase = plt.rcParams['lines.linewidth']\n",
    "thin = lwbase / 2\n",
    "thick = lwbase * 3\n",
    "\n",
    "fig, axs = plt.subplots(nrows=2, ncols=2, sharex=True, sharey=True)\n",
    "for icol in range(2):\n",
    "    if icol == 0:\n",
    "        lwx, lwy = thin, lwbase\n",
    "    else:\n",
    "        lwx, lwy = lwbase, thick\n",
    "    for irow in range(2):\n",
    "        for i, color in enumerate(colors):\n",
    "            axs[irow, icol].axhline(i, color=color, lw=lwx)\n",
    "            axs[irow, icol].axvline(i, color=color, lw=lwy)\n",
    "\n",
    "    axs[1, icol].set_facecolor('k')\n",
    "    axs[1, icol].xaxis.set_ticks(np.arange(0, 10, 2))\n",
    "    axs[0, icol].set_title('line widths (pts): %g, %g' % (lwx, lwy),\n",
    "                           fontsize='medium')\n",
    "\n",
    "for irow in range(2):\n",
    "    axs[irow, 0].yaxis.set_ticks(np.arange(0, 10, 2))\n",
    "\n",
    "fig.suptitle('Colors in the default prop_cycle', fontsize='large')"
   ]
  },
  {
   "cell_type": "code",
   "execution_count": 3,
   "id": "5c726c06-eeff-4266-b1c0-4114f0a6e2c5",
   "metadata": {},
   "outputs": [
    {
     "data": {
      "text/plain": [
       "['#1f77b4',\n",
       " '#ff7f0e',\n",
       " '#2ca02c',\n",
       " '#d62728',\n",
       " '#9467bd',\n",
       " '#8c564b',\n",
       " '#e377c2',\n",
       " '#7f7f7f',\n",
       " '#bcbd22',\n",
       " '#17becf']"
      ]
     },
     "execution_count": 3,
     "metadata": {},
     "output_type": "execute_result"
    }
   ],
   "source": [
    "colors"
   ]
  },
  {
   "cell_type": "code",
   "execution_count": 4,
   "id": "0a2f0d53-b9fa-44d8-abc0-7144f05159c3",
   "metadata": {},
   "outputs": [
    {
     "data": {
      "text/plain": [
       "1.5"
      ]
     },
     "execution_count": 4,
     "metadata": {},
     "output_type": "execute_result"
    }
   ],
   "source": [
    "lwbase"
   ]
  },
  {
   "cell_type": "code",
   "execution_count": 5,
   "id": "e91a8af3-8f9c-4d19-a0c1-c9cc3daa431e",
   "metadata": {},
   "outputs": [
    {
     "data": {
      "text/html": [
       "<table><th>'color'</th><tr><td>'#1f77b4'</td></tr><tr><td>'#ff7f0e'</td></tr><tr><td>'#2ca02c'</td></tr><tr><td>'#d62728'</td></tr><tr><td>'#9467bd'</td></tr><tr><td>'#8c564b'</td></tr><tr><td>'#e377c2'</td></tr><tr><td>'#7f7f7f'</td></tr><tr><td>'#bcbd22'</td></tr><tr><td>'#17becf'</td></tr></table>"
      ],
      "text/plain": [
       "cycler('color', ['#1f77b4', '#ff7f0e', '#2ca02c', '#d62728', '#9467bd', '#8c564b', '#e377c2', '#7f7f7f', '#bcbd22', '#17becf'])"
      ]
     },
     "execution_count": 5,
     "metadata": {},
     "output_type": "execute_result"
    }
   ],
   "source": [
    "prop_cycle"
   ]
  },
  {
   "cell_type": "code",
   "execution_count": 6,
   "id": "a4897089-9403-434c-aa4e-e3fb83a330dd",
   "metadata": {},
   "outputs": [
    {
     "data": {
      "text/plain": [
       "cycler.Cycler"
      ]
     },
     "execution_count": 6,
     "metadata": {},
     "output_type": "execute_result"
    }
   ],
   "source": [
    "type(prop_cycle)"
   ]
  },
  {
   "cell_type": "code",
   "execution_count": 8,
   "id": "ee4736bd-0021-46bf-b900-45f0aa7426b7",
   "metadata": {},
   "outputs": [
    {
     "name": "stdout",
     "output_type": "stream",
     "text": [
      "Help on Cycler in module cycler object:\n",
      "\n",
      "class Cycler(builtins.object)\n",
      " |  Cycler(left, right=None, op=None)\n",
      " |  \n",
      " |  Composable cycles\n",
      " |  \n",
      " |  This class has compositions methods:\n",
      " |  \n",
      " |  ``+``\n",
      " |    for 'inner' products (zip)\n",
      " |  \n",
      " |  ``+=``\n",
      " |    in-place ``+``\n",
      " |  \n",
      " |  ``*``\n",
      " |    for outer products (itertools.product) and integer multiplication\n",
      " |  \n",
      " |  ``*=``\n",
      " |    in-place ``*``\n",
      " |  \n",
      " |  and supports basic slicing via ``[]``\n",
      " |  \n",
      " |  Parameters\n",
      " |  ----------\n",
      " |  left : Cycler or None\n",
      " |      The 'left' cycler\n",
      " |  \n",
      " |  right : Cycler or None\n",
      " |      The 'right' cycler\n",
      " |  \n",
      " |  op : func or None\n",
      " |      Function which composes the 'left' and 'right' cyclers.\n",
      " |  \n",
      " |  Methods defined here:\n",
      " |  \n",
      " |  __add__(self, other)\n",
      " |      Pair-wise combine two equal length cycles (zip)\n",
      " |      \n",
      " |      Parameters\n",
      " |      ----------\n",
      " |      other : Cycler\n",
      " |         The second Cycler\n",
      " |  \n",
      " |  __call__(self)\n",
      " |      Call self as a function.\n",
      " |  \n",
      " |  __eq__(self, other)\n",
      " |      Check equality\n",
      " |  \n",
      " |  __getitem__(self, key)\n",
      " |  \n",
      " |  __iadd__(self, other)\n",
      " |      In-place pair-wise combine two equal length cycles (zip)\n",
      " |      \n",
      " |      Parameters\n",
      " |      ----------\n",
      " |      other : Cycler\n",
      " |         The second Cycler\n",
      " |  \n",
      " |  __imul__(self, other)\n",
      " |      In-place outer product of two cycles (`itertools.product`)\n",
      " |      \n",
      " |      Parameters\n",
      " |      ----------\n",
      " |      other : Cycler\n",
      " |         The second Cycler\n",
      " |  \n",
      " |  __init__(self, left, right=None, op=None)\n",
      " |      Semi-private init\n",
      " |      \n",
      " |      Do not use this directly, use `cycler` function instead.\n",
      " |  \n",
      " |  __iter__(self)\n",
      " |  \n",
      " |  __len__(self)\n",
      " |  \n",
      " |  __mul__(self, other)\n",
      " |      Outer product of two cycles (`itertools.product`) or integer\n",
      " |      multiplication.\n",
      " |      \n",
      " |      Parameters\n",
      " |      ----------\n",
      " |      other : Cycler or int\n",
      " |         The second Cycler or integer\n",
      " |  \n",
      " |  __repr__(self)\n",
      " |      Return repr(self).\n",
      " |  \n",
      " |  __rmul__(self, other)\n",
      " |  \n",
      " |  by_key(self)\n",
      " |      Values by key\n",
      " |      \n",
      " |      This returns the transposed values of the cycler.  Iterating\n",
      " |      over a `Cycler` yields dicts with a single value for each key,\n",
      " |      this method returns a `dict` of `list` which are the values\n",
      " |      for the given key.\n",
      " |      \n",
      " |      The returned value can be used to create an equivalent `Cycler`\n",
      " |      using only `+`.\n",
      " |      \n",
      " |      Returns\n",
      " |      -------\n",
      " |      transpose : dict\n",
      " |          dict of lists of the values for each key.\n",
      " |  \n",
      " |  change_key(self, old, new)\n",
      " |      Change a key in this cycler to a new name.\n",
      " |      Modification is performed in-place.\n",
      " |      \n",
      " |      Does nothing if the old key is the same as the new key.\n",
      " |      Raises a ValueError if the new key is already a key.\n",
      " |      Raises a KeyError if the old key isn't a key.\n",
      " |  \n",
      " |  concat(self, other)\n",
      " |      Concatenate this cycler and an other.\n",
      " |      \n",
      " |      The keys must match exactly.\n",
      " |      \n",
      " |      This returns a single Cycler which is equivalent to\n",
      " |      `itertools.chain(self, other)`\n",
      " |      \n",
      " |      Examples\n",
      " |      --------\n",
      " |      \n",
      " |      >>> num = cycler('a', range(3))\n",
      " |      >>> let = cycler('a', 'abc')\n",
      " |      >>> num.concat(let)\n",
      " |      cycler('a', [0, 1, 2, 'a', 'b', 'c'])\n",
      " |      \n",
      " |      Parameters\n",
      " |      ----------\n",
      " |      other : `Cycler`\n",
      " |          The `Cycler` to concatenate to this one.\n",
      " |      \n",
      " |      Returns\n",
      " |      -------\n",
      " |      ret : `Cycler`\n",
      " |          The concatenated `Cycler`\n",
      " |  \n",
      " |  simplify(self)\n",
      " |      Simplify the Cycler\n",
      " |      \n",
      " |      Returned as a composition using only sums (no multiplications)\n",
      " |      \n",
      " |      Returns\n",
      " |      -------\n",
      " |      simple : Cycler\n",
      " |          An equivalent cycler using only summation\n",
      " |  \n",
      " |  ----------------------------------------------------------------------\n",
      " |  Readonly properties defined here:\n",
      " |  \n",
      " |  keys\n",
      " |      The keys this Cycler knows about\n",
      " |  \n",
      " |  ----------------------------------------------------------------------\n",
      " |  Data descriptors defined here:\n",
      " |  \n",
      " |  __dict__\n",
      " |      dictionary for instance variables (if defined)\n",
      " |  \n",
      " |  __weakref__\n",
      " |      list of weak references to the object (if defined)\n",
      " |  \n",
      " |  ----------------------------------------------------------------------\n",
      " |  Data and other attributes defined here:\n",
      " |  \n",
      " |  __hash__ = None\n",
      "\n"
     ]
    }
   ],
   "source": [
    "help(prop_cycle)"
   ]
  },
  {
   "cell_type": "code",
   "execution_count": null,
   "id": "29bb7983-0e99-4ae4-985d-97fc2c46d92c",
   "metadata": {},
   "outputs": [],
   "source": []
  }
 ],
 "metadata": {
  "kernelspec": {
   "display_name": "anaconda_py38",
   "language": "python",
   "name": "anaconda_py38"
  },
  "language_info": {
   "codemirror_mode": {
    "name": "ipython",
    "version": 3
   },
   "file_extension": ".py",
   "mimetype": "text/x-python",
   "name": "python",
   "nbconvert_exporter": "python",
   "pygments_lexer": "ipython3",
   "version": "3.8.5"
  }
 },
 "nbformat": 4,
 "nbformat_minor": 5
}
