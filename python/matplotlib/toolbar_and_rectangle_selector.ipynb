{
 "cells": [
  {
   "cell_type": "markdown",
   "metadata": {},
   "source": [
    "See [Rectangle Selector](https://matplotlib.org/stable/gallery/widgets/rectangle_selector.html)."
   ]
  },
  {
   "cell_type": "code",
   "execution_count": 1,
   "metadata": {
    "collapsed": false,
    "jupyter": {
     "outputs_hidden": false
    }
   },
   "outputs": [],
   "source": [
    "%matplotlib widget\n",
    "import matplotlib"
   ]
  },
  {
   "cell_type": "markdown",
   "metadata": {},
   "source": [
    "\n",
    "# Rectangle Selector\n",
    "\n",
    "Do a mouseclick somewhere, move the mouse to some destination, release\n",
    "the button.  This class gives click- and release-events and also draws\n",
    "a line or a box from the click-point to the actual mouseposition\n",
    "(within the same axes) until the button is released.  Within the\n",
    "method ``self.ignore()`` it is checked whether the button from eventpress\n",
    "and eventrelease are the same.\n"
   ]
  },
  {
   "cell_type": "code",
   "execution_count": 2,
   "metadata": {
    "collapsed": false,
    "jupyter": {
     "outputs_hidden": false
    }
   },
   "outputs": [
    {
     "data": {
      "application/vnd.jupyter.widget-view+json": {
       "model_id": "bfccdaefa2bd4b598baf505c18c6c5da",
       "version_major": 2,
       "version_minor": 0
      },
      "text/plain": [
       "Canvas(toolbar=Toolbar(toolitems=[('Home', 'Reset original view', 'home', 'home'), ('Back', 'Back to previous …"
      ]
     },
     "metadata": {},
     "output_type": "display_data"
    },
    {
     "data": {
      "text/plain": [
       "16"
      ]
     },
     "execution_count": 2,
     "metadata": {},
     "output_type": "execute_result"
    }
   ],
   "source": [
    "from matplotlib.widgets import RectangleSelector\n",
    "import numpy as np\n",
    "import matplotlib.pyplot as plt\n",
    "\n",
    "\n",
    "def line_select_callback(eclick, erelease):\n",
    "    \"\"\"\n",
    "    Callback for line selection.\n",
    "\n",
    "    *eclick* and *erelease* are the press and release events.\n",
    "    \"\"\"\n",
    "    x1, y1 = eclick.xdata, eclick.ydata\n",
    "    x2, y2 = erelease.xdata, erelease.ydata\n",
    "    print(f\"({x1:3.2f}, {y1:3.2f}) --> ({x2:3.2f}, {y2:3.2f})\")\n",
    "    print(f\" The buttons you used were: {eclick.button} {erelease.button}\")\n",
    "\n",
    "\n",
    "def toggle_selector(event):\n",
    "    print(' Key pressed.')\n",
    "    if event.key == 't':\n",
    "        if toggle_selector.RS.active:\n",
    "            print(' RectangleSelector deactivated.')\n",
    "            toggle_selector.RS.set_active(False)\n",
    "        else:\n",
    "            print(' RectangleSelector activated.')\n",
    "            toggle_selector.RS.set_active(True)\n",
    "\n",
    "\n",
    "fig, ax = plt.subplots()\n",
    "N = 100000  # If N is large one can see improvement by using blitting.\n",
    "x = np.linspace(0, 10, N)\n",
    "\n",
    "ax.plot(x, np.sin(2*np.pi*x))  # plot something\n",
    "ax.set_title(\n",
    "    \"Click and drag to draw a rectangle.\\n\"\n",
    "    \"Press 't' to toggle the selector on and off.\")\n",
    "\n",
    "# drawtype is 'box' or 'line' or 'none'\n",
    "toggle_selector.RS = RectangleSelector(ax, line_select_callback,\n",
    "                                       drawtype='box', useblit=True,\n",
    "                                       button=[1, 3],  # disable middle button\n",
    "                                       minspanx=5, minspany=5,\n",
    "                                       spancoords='pixels',\n",
    "                                       interactive=True)\n",
    "fig.canvas.mpl_connect('key_press_event', toggle_selector)\n",
    "# plt.show()"
   ]
  },
  {
   "cell_type": "code",
   "execution_count": 3,
   "metadata": {},
   "outputs": [
    {
     "data": {
      "text/plain": [
       "True"
      ]
     },
     "execution_count": 3,
     "metadata": {},
     "output_type": "execute_result"
    }
   ],
   "source": [
    "plt.isinteractive()"
   ]
  },
  {
   "cell_type": "markdown",
   "metadata": {},
   "source": [
    "# Print toolbar items"
   ]
  },
  {
   "cell_type": "code",
   "execution_count": 4,
   "metadata": {},
   "outputs": [
    {
     "data": {
      "application/vnd.jupyter.widget-view+json": {
       "model_id": "579ab4b0dbb1425b8ef6a48e3dd242d9",
       "version_major": 2,
       "version_minor": 0
      },
      "text/plain": [
       "Canvas(toolbar=Toolbar(toolitems=[('Home', 'Reset original view', 'home', 'home'), ('Back', 'Back to previous …"
      ]
     },
     "metadata": {},
     "output_type": "display_data"
    },
    {
     "name": "stdout",
     "output_type": "stream",
     "text": [
      "[('Home', 'Reset original view', 'home', 'home'), ('Back', 'Back to previous view', 'arrow-left', 'back'), ('Forward', 'Forward to next view', 'arrow-right', 'forward'), ('Pan', 'Left button pans, Right button zooms\\nx/y fixes axis, CTRL fixes aspect', 'arrows', 'pan'), ('Zoom', 'Zoom to rectangle\\nx/y fixes axis, CTRL fixes aspect', 'square-o', 'zoom'), ('Download', 'Download plot', 'floppy-o', 'save_figure')]\n"
     ]
    }
   ],
   "source": [
    "\n",
    "\n",
    "from matplotlib.widgets import RectangleSelector\n",
    "import numpy as np\n",
    "import matplotlib.pyplot as plt\n",
    "\n",
    "\n",
    "def line_select_callback(eclick, erelease):\n",
    "    \"\"\"\n",
    "    Callback for line selection.\n",
    "\n",
    "    *eclick* and *erelease* are the press and release events.\n",
    "    \"\"\"\n",
    "    x1, y1 = eclick.xdata, eclick.ydata\n",
    "    x2, y2 = erelease.xdata, erelease.ydata\n",
    "    print(f\"({x1:3.2f}, {y1:3.2f}) --> ({x2:3.2f}, {y2:3.2f})\")\n",
    "    print(f\" The buttons you used were: {eclick.button} {erelease.button}\")\n",
    "\n",
    "\n",
    "def toggle_selector(event):\n",
    "    print(' Key pressed.')\n",
    "    if event.key == 't':\n",
    "        if toggle_selector.RS.active:\n",
    "            print(' RectangleSelector deactivated.')\n",
    "            toggle_selector.RS.set_active(False)\n",
    "        else:\n",
    "            print(' RectangleSelector activated.')\n",
    "            toggle_selector.RS.set_active(True)\n",
    "\n",
    "\n",
    "fig, ax = plt.subplots()\n",
    "N = 100000  # If N is large one can see improvement by using blitting.\n",
    "x = np.linspace(0, 10, N)\n",
    "\n",
    "ax.plot(x, np.sin(2*np.pi*x))  # plot something\n",
    "# ax.set_title(\n",
    "#     \"Click and drag to draw a rectangle.\\n\"\n",
    "#     \"Press 't' to toggle the selector on and off.\")\n",
    "\n",
    "# drawtype is 'box' or 'line' or 'none'\n",
    "# toggle_selector.RS = RectangleSelector(ax, line_select_callback,\n",
    "#                                        drawtype='box', useblit=True,\n",
    "#                                        button=[1, 3],  # disable middle button\n",
    "#                                        minspanx=5, minspany=5,\n",
    "#                                        spancoords='pixels',\n",
    "#                                        interactive=True)\n",
    "# fig.canvas.mpl_connect('key_press_event', toggle_selector)\n",
    "# plt.show()\n",
    "\n",
    "toolbar = fig.canvas.manager.toolbar\n",
    "tb=toolbar.toolitems\n",
    "print(tb)"
   ]
  },
  {
   "cell_type": "markdown",
   "metadata": {},
   "source": [
    "See Donald's answer at [How to modify the navigation toolbar easily in a matplotlib figure window?](https://stackoverflow.com/questions/12695678/how-to-modify-the-navigation-toolbar-easily-in-a-matplotlib-figure-window) for last 3 lines above."
   ]
  },
  {
   "cell_type": "markdown",
   "metadata": {},
   "source": [
    "# Try to pop zoom tool (failed)"
   ]
  },
  {
   "cell_type": "code",
   "execution_count": 5,
   "metadata": {},
   "outputs": [
    {
     "data": {
      "application/vnd.jupyter.widget-view+json": {
       "model_id": "342af12efdf148099ae300eacd4e8c14",
       "version_major": 2,
       "version_minor": 0
      },
      "text/plain": [
       "Canvas(toolbar=Toolbar(toolitems=[('Home', 'Reset original view', 'home', 'home'), ('Back', 'Back to previous …"
      ]
     },
     "metadata": {},
     "output_type": "display_data"
    },
    {
     "name": "stdout",
     "output_type": "stream",
     "text": [
      "[('Home', 'Reset original view', 'home', 'home'), ('Back', 'Back to previous view', 'arrow-left', 'back'), ('Forward', 'Forward to next view', 'arrow-right', 'forward'), ('Pan', 'Left button pans, Right button zooms\\nx/y fixes axis, CTRL fixes aspect', 'arrows', 'pan'), ('Zoom', 'Zoom to rectangle\\nx/y fixes axis, CTRL fixes aspect', 'square-o', 'zoom'), ('Download', 'Download plot', 'floppy-o', 'save_figure')]\n",
      "[('Home', 'Reset original view', 'home', 'home'), ('Back', 'Back to previous view', 'arrow-left', 'back'), ('Forward', 'Forward to next view', 'arrow-right', 'forward'), ('Pan', 'Left button pans, Right button zooms\\nx/y fixes axis, CTRL fixes aspect', 'arrows', 'pan'), ('Download', 'Download plot', 'floppy-o', 'save_figure')]\n"
     ]
    },
    {
     "data": {
      "text/plain": [
       "[<matplotlib.lines.Line2D at 0x7faf284ea8e0>]"
      ]
     },
     "execution_count": 5,
     "metadata": {},
     "output_type": "execute_result"
    }
   ],
   "source": [
    "def line_select_callback(eclick, erelease):\n",
    "    \"\"\"\n",
    "    Callback for line selection.\n",
    "\n",
    "    *eclick* and *erelease* are the press and release events.\n",
    "    \"\"\"\n",
    "    x1, y1 = eclick.xdata, eclick.ydata\n",
    "    x2, y2 = erelease.xdata, erelease.ydata\n",
    "    print(f\"({x1:3.2f}, {y1:3.2f}) --> ({x2:3.2f}, {y2:3.2f})\")\n",
    "    print(f\" The buttons you used were: {eclick.button} {erelease.button}\")\n",
    "\n",
    "\n",
    "def toggle_selector(event):\n",
    "    print(' Key pressed.')\n",
    "    if event.key == 't':\n",
    "        if toggle_selector.RS.active:\n",
    "            print(' RectangleSelector deactivated.')\n",
    "            toggle_selector.RS.set_active(False)\n",
    "        else:\n",
    "            print(' RectangleSelector activated.')\n",
    "            toggle_selector.RS.set_active(True)\n",
    "\n",
    "\n",
    "fig, ax = plt.subplots()\n",
    "\n",
    "toolbar = fig.canvas.manager.toolbar\n",
    "tb=toolbar.toolitems\n",
    "print(tb)\n",
    "tb.pop(4)\n",
    "# matplotlib.backend_tools.add_tools_to_manager(fig.canvas.manager, tools={'grid': matplotlib.backend_tools.ToolGrid})\n",
    "print(tb)\n",
    "\n",
    "N = 100000  # If N is large one can see improvement by using blitting.\n",
    "x = np.linspace(0, 10, N)\n",
    "\n",
    "ax.plot(x, np.sin(2*np.pi*x))  # plot something\n",
    "\n"
   ]
  },
  {
   "cell_type": "code",
   "execution_count": 6,
   "metadata": {},
   "outputs": [
    {
     "data": {
      "text/plain": [
       "<bound method NavigationToolbar2WebAgg.zoom of Toolbar(toolitems=[('Home', 'Reset original view', 'home', 'home'), ('Back', 'Back to previous view', 'arrow-left', 'back'), ('Forward', 'Forward to next view', 'arrow-right', 'forward'), ('Pan', 'Left button pans, Right button zooms\\nx/y fixes axis, CTRL fixes aspect', 'arrows', 'pan'), ('Download', 'Download plot', 'floppy-o', 'save_figure')])>"
      ]
     },
     "execution_count": 6,
     "metadata": {},
     "output_type": "execute_result"
    }
   ],
   "source": [
    "fig.canvas.manager.toolbar.zoom"
   ]
  },
  {
   "cell_type": "code",
   "execution_count": 7,
   "metadata": {},
   "outputs": [
    {
     "data": {
      "text/plain": [
       "<bound method NavigationToolbar2.press_zoom of Toolbar(toolitems=[('Home', 'Reset original view', 'home', 'home'), ('Back', 'Back to previous view', 'arrow-left', 'back'), ('Forward', 'Forward to next view', 'arrow-right', 'forward'), ('Pan', 'Left button pans, Right button zooms\\nx/y fixes axis, CTRL fixes aspect', 'arrows', 'pan'), ('Download', 'Download plot', 'floppy-o', 'save_figure')])>"
      ]
     },
     "execution_count": 7,
     "metadata": {},
     "output_type": "execute_result"
    }
   ],
   "source": [
    "fig.canvas.manager.toolbar.press_zoom"
   ]
  },
  {
   "cell_type": "code",
   "execution_count": null,
   "metadata": {},
   "outputs": [],
   "source": []
  },
  {
   "cell_type": "markdown",
   "metadata": {},
   "source": [
    "# Test deleting/popping item from list"
   ]
  },
  {
   "cell_type": "code",
   "execution_count": 8,
   "metadata": {},
   "outputs": [
    {
     "name": "stdout",
     "output_type": "stream",
     "text": [
      "['a', 'b', 'c', 'd', 'e', 'f']\n",
      "['a', 'b', 'c', 'd', 'f']\n"
     ]
    }
   ],
   "source": [
    "temp = ['a', 'b', 'c', 'd', 'e', 'f']\n",
    "print(temp)\n",
    "del temp[4]\n",
    "print(temp)"
   ]
  },
  {
   "cell_type": "code",
   "execution_count": 9,
   "metadata": {},
   "outputs": [
    {
     "name": "stdout",
     "output_type": "stream",
     "text": [
      "['a', 'b', 'c', 'd', 'e', 'f']\n",
      "['a', 'b', 'c', 'd', 'f']\n"
     ]
    }
   ],
   "source": [
    "temp = ['a', 'b', 'c', 'd', 'e', 'f']\n",
    "print(temp)\n",
    "temp.pop(4)\n",
    "print(temp)"
   ]
  },
  {
   "cell_type": "markdown",
   "metadata": {},
   "source": [
    "See [Backend Tools API](https://matplotlib.org/stable/api/backend_tools_api.html)"
   ]
  },
  {
   "cell_type": "markdown",
   "metadata": {},
   "source": [
    "# Other method to delete tool\n",
    "\n",
    "See Aking's answer at [How to remove toolbar buttons from matplotlib](https://stackoverflow.com/questions/55779944/how-to-remove-toolbar-buttons-from-matplotlib)."
   ]
  },
  {
   "cell_type": "code",
   "execution_count": 12,
   "metadata": {
    "tags": []
   },
   "outputs": [
    {
     "data": {
      "application/vnd.jupyter.widget-view+json": {
       "model_id": "37e9dfde4d7d43eaa1eb4ac022b04bfc",
       "version_major": 2,
       "version_minor": 0
      },
      "text/plain": [
       "Canvas(toolbar=Toolbar(toolitems=[('Home', 'Reset original view', 'home', 'home'), ('Back', 'Back to previous …"
      ]
     },
     "metadata": {},
     "output_type": "display_data"
    },
    {
     "name": "stdout",
     "output_type": "stream",
     "text": [
      "[('Home', 'Reset original view', 'home', 'home'), ('Back', 'Back to previous view', 'arrow-left', 'back'), ('Forward', 'Forward to next view', 'arrow-right', 'forward'), ('Pan', 'Left button pans, Right button zooms\\nx/y fixes axis, CTRL fixes aspect', 'arrows', 'pan'), ('Zoom', 'Zoom to rectangle\\nx/y fixes axis, CTRL fixes aspect', 'square-o', 'zoom'), ('Download', 'Download plot', 'floppy-o', 'save_figure')]\n"
     ]
    },
    {
     "ename": "AttributeError",
     "evalue": "'Toolbar' object has no attribute 'actions'",
     "output_type": "error",
     "traceback": [
      "\u001b[0;31m---------------------------------------------------------------------------\u001b[0m",
      "\u001b[0;31mAttributeError\u001b[0m                            Traceback (most recent call last)",
      "\u001b[0;32m<ipython-input-12-d03fb54cb9e0>\u001b[0m in \u001b[0;36m<module>\u001b[0;34m\u001b[0m\n\u001b[1;32m     28\u001b[0m \u001b[0mprint\u001b[0m\u001b[0;34m(\u001b[0m\u001b[0mtb\u001b[0m\u001b[0;34m)\u001b[0m\u001b[0;34m\u001b[0m\u001b[0;34m\u001b[0m\u001b[0m\n\u001b[1;32m     29\u001b[0m \u001b[0munwanted_buttons\u001b[0m \u001b[0;34m=\u001b[0m \u001b[0;34m[\u001b[0m\u001b[0;34m'Zoom'\u001b[0m\u001b[0;34m,\u001b[0m\u001b[0;34m'Save'\u001b[0m\u001b[0;34m]\u001b[0m\u001b[0;34m\u001b[0m\u001b[0;34m\u001b[0m\u001b[0m\n\u001b[0;32m---> 30\u001b[0;31m \u001b[0;32mfor\u001b[0m \u001b[0mx\u001b[0m \u001b[0;32min\u001b[0m \u001b[0mtoolbar\u001b[0m\u001b[0;34m.\u001b[0m\u001b[0mactions\u001b[0m\u001b[0;34m(\u001b[0m\u001b[0;34m)\u001b[0m\u001b[0;34m:\u001b[0m\u001b[0;34m\u001b[0m\u001b[0;34m\u001b[0m\u001b[0m\n\u001b[0m\u001b[1;32m     31\u001b[0m     \u001b[0;32mif\u001b[0m \u001b[0mx\u001b[0m\u001b[0;34m.\u001b[0m\u001b[0mtext\u001b[0m\u001b[0;34m(\u001b[0m\u001b[0;34m)\u001b[0m \u001b[0;32min\u001b[0m \u001b[0munwanted_buttons\u001b[0m\u001b[0;34m:\u001b[0m\u001b[0;34m\u001b[0m\u001b[0;34m\u001b[0m\u001b[0m\n\u001b[1;32m     32\u001b[0m         \u001b[0mtoolbar\u001b[0m\u001b[0;34m.\u001b[0m\u001b[0mremoveAction\u001b[0m\u001b[0;34m(\u001b[0m\u001b[0mx\u001b[0m\u001b[0;34m)\u001b[0m\u001b[0;34m\u001b[0m\u001b[0;34m\u001b[0m\u001b[0m\n",
      "\u001b[0;31mAttributeError\u001b[0m: 'Toolbar' object has no attribute 'actions'"
     ]
    }
   ],
   "source": [
    "def line_select_callback(eclick, erelease):\n",
    "    \"\"\"\n",
    "    Callback for line selection.\n",
    "\n",
    "    *eclick* and *erelease* are the press and release events.\n",
    "    \"\"\"\n",
    "    x1, y1 = eclick.xdata, eclick.ydata\n",
    "    x2, y2 = erelease.xdata, erelease.ydata\n",
    "    print(f\"({x1:3.2f}, {y1:3.2f}) --> ({x2:3.2f}, {y2:3.2f})\")\n",
    "    print(f\" The buttons you used were: {eclick.button} {erelease.button}\")\n",
    "\n",
    "\n",
    "def toggle_selector(event):\n",
    "    print(' Key pressed.')\n",
    "    if event.key == 't':\n",
    "        if toggle_selector.RS.active:\n",
    "            print(' RectangleSelector deactivated.')\n",
    "            toggle_selector.RS.set_active(False)\n",
    "        else:\n",
    "            print(' RectangleSelector activated.')\n",
    "            toggle_selector.RS.set_active(True)\n",
    "\n",
    "\n",
    "fig, ax = plt.subplots()\n",
    "\n",
    "toolbar = plt.get_current_fig_manager().toolbar\n",
    "tb=toolbar.toolitems\n",
    "print(tb)\n",
    "unwanted_buttons = ['Zoom','Save']\n",
    "for x in toolbar.actions():\n",
    "    if x.text() in unwanted_buttons:\n",
    "        toolbar.removeAction(x)\n",
    "print(tb)\n",
    "\n",
    "N = 100000  # If N is large one can see improvement by using blitting.\n",
    "x = np.linspace(0, 10, N)\n",
    "\n",
    "ax.plot(x, np.sin(2*np.pi*x))  # plot something\n",
    "\n"
   ]
  },
  {
   "cell_type": "code",
   "execution_count": null,
   "metadata": {},
   "outputs": [],
   "source": []
  }
 ],
 "metadata": {
  "kernelspec": {
   "display_name": "anaconda_py38",
   "language": "python",
   "name": "anaconda_py38"
  },
  "language_info": {
   "codemirror_mode": {
    "name": "ipython",
    "version": 3
   },
   "file_extension": ".py",
   "mimetype": "text/x-python",
   "name": "python",
   "nbconvert_exporter": "python",
   "pygments_lexer": "ipython3",
   "version": "3.8.5"
  }
 },
 "nbformat": 4,
 "nbformat_minor": 4
}
