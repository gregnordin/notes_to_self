{
 "cells": [
  {
   "cell_type": "markdown",
   "metadata": {},
   "source": [
    "# Purpose\n",
    "\n",
    "Create a colormap that has a constant color but varying alpha channel. Use [matplotlib.colors.ListedColormap](https://matplotlib.org/3.2.1/api/_as_gen/matplotlib.colors.ListedColormap.html#matplotlib.colors.ListedColormap). See [Creating listed colormaps](https://matplotlib.org/3.2.1/tutorials/colors/colormap-manipulation.html#creating-listed-colormaps) at [Creating Colormaps in Matplotlib](https://matplotlib.org/3.2.1/tutorials/colors/colormap-manipulation.html)."
   ]
  },
  {
   "cell_type": "code",
   "execution_count": 1,
   "metadata": {},
   "outputs": [],
   "source": [
    "import numpy as np\n",
    "import matplotlib.pyplot as plt\n",
    "from matplotlib import cm\n",
    "from matplotlib.colors import ListedColormap, LinearSegmentedColormap\n",
    "from matplotlib.patches import Rectangle\n",
    "\n",
    "%matplotlib inline"
   ]
  },
  {
   "cell_type": "markdown",
   "metadata": {},
   "source": [
    "# Define some colors"
   ]
  },
  {
   "cell_type": "code",
   "execution_count": 2,
   "metadata": {},
   "outputs": [],
   "source": [
    "purple = (128/255, 0, 128/255)\n",
    "ca = (73/255, 60/255, 255/255)  #493cff\n",
    "cb = (171/255, 60/255, 255/255)  #ab3cff"
   ]
  },
  {
   "cell_type": "markdown",
   "metadata": {},
   "source": [
    "# Try things\n",
    "\n",
    "## Add alpha channel to a color"
   ]
  },
  {
   "cell_type": "code",
   "execution_count": 5,
   "metadata": {},
   "outputs": [
    {
     "data": {
      "text/plain": [
       "array([0.50196078, 0.        , 0.50196078, 1.        ])"
      ]
     },
     "execution_count": 5,
     "metadata": {},
     "output_type": "execute_result"
    }
   ],
   "source": [
    "np.array([*purple, 1.])"
   ]
  },
  {
   "cell_type": "markdown",
   "metadata": {},
   "source": [
    "## Create array with same 4 channel color for each row"
   ]
  },
  {
   "cell_type": "code",
   "execution_count": 6,
   "metadata": {},
   "outputs": [
    {
     "data": {
      "text/plain": [
       "array([[1., 1., 1., 1.],\n",
       "       [1., 1., 1., 1.],\n",
       "       [1., 1., 1., 1.],\n",
       "       [1., 1., 1., 1.],\n",
       "       [1., 1., 1., 1.],\n",
       "       [1., 1., 1., 1.]])"
      ]
     },
     "execution_count": 6,
     "metadata": {},
     "output_type": "execute_result"
    }
   ],
   "source": [
    "temp = np.ones((6,4))\n",
    "temp"
   ]
  },
  {
   "cell_type": "code",
   "execution_count": 7,
   "metadata": {},
   "outputs": [
    {
     "data": {
      "text/plain": [
       "array([[0.50196078, 0.        , 0.50196078, 1.        ],\n",
       "       [0.50196078, 0.        , 0.50196078, 1.        ],\n",
       "       [0.50196078, 0.        , 0.50196078, 1.        ],\n",
       "       [0.50196078, 0.        , 0.50196078, 1.        ],\n",
       "       [0.50196078, 0.        , 0.50196078, 1.        ],\n",
       "       [0.50196078, 0.        , 0.50196078, 1.        ]])"
      ]
     },
     "execution_count": 7,
     "metadata": {},
     "output_type": "execute_result"
    }
   ],
   "source": [
    "temp * np.array([*purple, 1.])"
   ]
  },
  {
   "cell_type": "markdown",
   "metadata": {},
   "source": [
    "# Make ListedColormap with varying alpha channel\n",
    "\n",
    "## Forward and reverse colormaps"
   ]
  },
  {
   "cell_type": "code",
   "execution_count": 3,
   "metadata": {},
   "outputs": [],
   "source": [
    "# 4-channel array of 1's\n",
    "N = 256\n",
    "vals_linear_alpha = np.ones((N, 4))\n",
    "\n",
    "# Fill 4th channel (alpha channel) with linearly varying values\n",
    "vals_linear_alpha[:, 3] = np.linspace(0, 1, N)\n",
    "\n",
    "# Create array of 1 color with linearly varying alpha values\n",
    "temp = vals_linear_alpha * np.array([*purple, 1.])\n",
    "\n",
    "# Turn array into forward and reverse colormaps\n",
    "cmap_purple_linear_alpha = ListedColormap(temp)\n",
    "cmap_purple_linear_alpha_reversed = cmap_purple_linear_alpha.reversed()\n"
   ]
  },
  {
   "cell_type": "markdown",
   "metadata": {},
   "source": [
    "### Check colormap values"
   ]
  },
  {
   "cell_type": "code",
   "execution_count": 4,
   "metadata": {},
   "outputs": [
    {
     "data": {
      "text/plain": [
       "(0.5019607843137255, 0.0, 0.5019607843137255, 1.0)"
      ]
     },
     "execution_count": 4,
     "metadata": {},
     "output_type": "execute_result"
    }
   ],
   "source": [
    "cmap_purple_linear_alpha_reversed(0)"
   ]
  },
  {
   "cell_type": "code",
   "execution_count": 5,
   "metadata": {},
   "outputs": [
    {
     "data": {
      "text/plain": [
       "(0.5019607843137255, 0.0, 0.5019607843137255, 0.0)"
      ]
     },
     "execution_count": 5,
     "metadata": {},
     "output_type": "execute_result"
    }
   ],
   "source": [
    "cmap_purple_linear_alpha_reversed(255)"
   ]
  },
  {
   "cell_type": "markdown",
   "metadata": {},
   "source": [
    "### Try plotting colormap"
   ]
  },
  {
   "cell_type": "code",
   "execution_count": 62,
   "metadata": {},
   "outputs": [
    {
     "data": {
      "text/plain": [
       "<matplotlib.colorbar.Colorbar at 0x7f97305fcd10>"
      ]
     },
     "execution_count": 62,
     "metadata": {},
     "output_type": "execute_result"
    },
    {
     "data": {
      "image/png": "[encoded data removed]",
      "text/plain": [
       "<Figure size 432x288 with 2 Axes>"
      ]
     },
     "metadata": {
      "needs_background": "light"
     },
     "output_type": "display_data"
    }
   ],
   "source": [
    "data = np.linspace(0, 255, N)\n",
    "data = np.reshape(data, (32, 8))\n",
    "\n",
    "rect = Rectangle((1, 1), 6, 20, linewidth=3, edgecolor='none', facecolor='y')\n",
    "\n",
    "fig, ax = plt.subplots()\n",
    "ax.add_patch(rect)\n",
    "ax.text(0, 2, \"TEXT TEXT TEXT\", fontsize=24)\n",
    "psm = ax.pcolormesh(data, cmap=cmap_purple_linear_alpha_reversed, rasterized=True, vmin=0, vmax=255)\n",
    "fig.colorbar(psm, ax=ax)"
   ]
  },
  {
   "cell_type": "markdown",
   "metadata": {},
   "source": [
    "Note the z ordering of items in the plot.\n",
    "\n",
    "### Change z order"
   ]
  },
  {
   "cell_type": "code",
   "execution_count": 65,
   "metadata": {},
   "outputs": [
    {
     "data": {
      "text/plain": [
       "<matplotlib.colorbar.Colorbar at 0x7f96f83c7410>"
      ]
     },
     "execution_count": 65,
     "metadata": {},
     "output_type": "execute_result"
    },
    {
     "data": {
      "image/png": "[encoded data removed]",
      "text/plain": [
       "<Figure size 432x288 with 2 Axes>"
      ]
     },
     "metadata": {
      "needs_background": "light"
     },
     "output_type": "display_data"
    }
   ],
   "source": [
    "rect2 = Rectangle((1, 1), 6, 20, linewidth=3, edgecolor='none', facecolor='y')\n",
    "\n",
    "fig, ax = plt.subplots()\n",
    "ax.add_patch(rect2)\n",
    "ax.text(0, 2, \"TEXT TEXT TEXT\", fontsize=24, zorder=10)\n",
    "psm = ax.pcolormesh(data, cmap=cmap_purple_linear_alpha_reversed, rasterized=True, vmin=0, vmax=255, zorder=20)\n",
    "fig.colorbar(psm, ax=ax)"
   ]
  },
  {
   "cell_type": "markdown",
   "metadata": {},
   "source": [
    "# Use imshow as substitute for Rectangle with an alpha gradient\n",
    "\n",
    "See [Bar chart with gradients](https://matplotlib.org/3.2.0/gallery/lines_bars_and_markers/gradient_bar.html), which says:\n",
    "\n",
    ">Matplotlib does not natively support gradients. However, we can emulate a gradient-filled rectangle by an AxesImage of the right size and coloring.\n",
    "\n",
    "It is critical to understand [origin and extent in imshow](https://matplotlib.org/tutorials/intermediate/imshow_extent.html)."
   ]
  },
  {
   "cell_type": "code",
   "execution_count": 78,
   "metadata": {
    "scrolled": false
   },
   "outputs": [
    {
     "data": {
      "image/png": "[encoded data removed]",
      "text/plain": [
       "<Figure size 432x288 with 1 Axes>"
      ]
     },
     "metadata": {
      "needs_background": "light"
     },
     "output_type": "display_data"
    }
   ],
   "source": [
    "rect1 = Rectangle((1, 1), 50, 20, linewidth=3, edgecolor='none', facecolor='y')\n",
    "rect2 = Rectangle((2, 15), 30, 10, linewidth=3, edgecolor='none', facecolor=(0., 1., 0., 0.5))\n",
    "\n",
    "# Create image data\n",
    "data = np.ones((20, 20, 4))\n",
    "# Fill each row with color having linearly decreasing alpha value\n",
    "data_copy = data.copy()\n",
    "for i, row in enumerate(data_copy):\n",
    "    data[i, :] *= cmap_purple_linear_alpha_reversed(int(i * 255/19))\n",
    "    # print(i, data[i, :])\n",
    "\n",
    "fig, ax = plt.subplots()\n",
    "ax.set_xlim(0, 64)\n",
    "ax.set_ylim(0, 32)\n",
    "\n",
    "# Order of adding patches determines zorder\n",
    "ax.add_patch(rect1)\n",
    "ax.add_patch(rect2)\n",
    "\n",
    "# Add actual size image but make sure it is in front of Rectangles\n",
    "img1 = ax.imshow(data, zorder=20)\n",
    "\n",
    "# Scale image size and set its position using\n",
    "# extent=(left, right, lower, upper) which is the same as\n",
    "# extent=(left, left+width, lower, lower+height)\n",
    "img2 = ax.imshow(data, zorder=30, extent=(30, 40, 10, 20), origin='lower')\n",
    "# Note that the image can be moved after the fact:\n",
    "extent = img2.get_extent()\n",
    "delta_x = 15\n",
    "delta_y = 5\n",
    "new_extent = (extent[0] + delta_x,\n",
    "              extent[1] + delta_x,\n",
    "              extent[2] + delta_y,\n",
    "              extent[3] + delta_y,\n",
    "             )\n",
    "img2.set_extent(new_extent)\n"
   ]
  },
  {
   "cell_type": "markdown",
   "metadata": {},
   "source": [
    "# Make GradientRectangle class\n",
    "\n",
    "## Code"
   ]
  },
  {
   "cell_type": "code",
   "execution_count": 46,
   "metadata": {},
   "outputs": [
    {
     "name": "stdout",
     "output_type": "stream",
     "text": [
      "(50, 20, 4)\n"
     ]
    }
   ],
   "source": [
    "class GradientRectangle:\n",
    "    \n",
    "    def __init__(self, position, width, height, cmap, ax, npix_x=20, npix_y=50, zorder=100):\n",
    "        self._check_position(position)\n",
    "        self.position = position\n",
    "        self.width = width\n",
    "        self.height = height\n",
    "        self.cmap = cmap\n",
    "        self.ax = ax\n",
    "        self._data = self._make_image(npix_x, npix_y)\n",
    "        if ax:\n",
    "            self.img = ax.imshow(self._data, \n",
    "                                 extent=self._to_extent(), \n",
    "                                 origin='lower',\n",
    "                                 zorder=zorder\n",
    "                                )\n",
    "        \n",
    "    def _make_image(self, npix_x, npix_y):\n",
    "        temp = np.ones((npix_y, npix_x, 4))\n",
    "        print(temp.shape)\n",
    "        temp_copy = temp.copy()\n",
    "        for i, _ in enumerate(temp_copy):\n",
    "            temp[i, :] *= self.cmap(int(i * 255/temp.shape[0]))\n",
    "        return temp\n",
    "    \n",
    "    def _check_position(self, position):\n",
    "        assert isinstance(position, (list, tuple))\n",
    "        assert len(position) == 2\n",
    "        \n",
    "    \n",
    "    def _to_extent(self):\n",
    "        return (self.position[0],\n",
    "                self.position[0] + self.width,\n",
    "                self.position[1],\n",
    "                self.position[1] + self.height\n",
    "               )\n",
    "    \n",
    "    def _to_position_width_height(extent):\n",
    "        self.position[0] = extent[0]\n",
    "        self.position[1] = extent[2]\n",
    "        # self.width = extent[0] + extent[1]\n",
    "        # self.height = extent[2] + extent[3]\n",
    "    \n",
    "    def get_xy(self):\n",
    "        return self.position\n",
    "    \n",
    "    def set_xy(self, new_position):\n",
    "        self._check_position(new_position)\n",
    "        self.position = new_position\n",
    "        if ax:\n",
    "            self.img.set_extent(self._to_extent())\n",
    "        \n",
    "        \n",
    "gr = GradientRectangle(position=(0, 0), width=10, height=30, cmap=cmap_purple_linear_alpha_reversed, ax=None)"
   ]
  },
  {
   "cell_type": "markdown",
   "metadata": {},
   "source": [
    "## Try it out"
   ]
  },
  {
   "cell_type": "code",
   "execution_count": 47,
   "metadata": {},
   "outputs": [
    {
     "name": "stdout",
     "output_type": "stream",
     "text": [
      "(20, 20, 4)\n"
     ]
    },
    {
     "data": {
      "image/png": "[encoded data removed]",
      "text/plain": [
       "<Figure size 432x288 with 1 Axes>"
      ]
     },
     "metadata": {
      "needs_background": "light"
     },
     "output_type": "display_data"
    }
   ],
   "source": [
    "rect1 = Rectangle((10, 10), 80, 65, linewidth=3, edgecolor='none', facecolor='y')\n",
    "\n",
    "fig, ax = plt.subplots()\n",
    "ax.set_xlim(0,100)\n",
    "ax.set_ylim(0,80)\n",
    "ax.set_aspect('equal')\n",
    "ax.add_patch(rect1)\n",
    "\n",
    "gr = GradientRectangle(position=(20, 10), \n",
    "                       width=60, \n",
    "                       height=50, #45*2.5, \n",
    "                       cmap=cmap_purple_linear_alpha_reversed, \n",
    "                       ax=ax,\n",
    "                       npix_y=20,\n",
    "                       zorder=20\n",
    "                      )\n",
    "\n"
   ]
  },
  {
   "cell_type": "code",
   "execution_count": 30,
   "metadata": {},
   "outputs": [
    {
     "name": "stdout",
     "output_type": "stream",
     "text": [
      "(20, 30)\n",
      "60 112.5\n",
      "(20, 80, 30, 142.5)\n"
     ]
    }
   ],
   "source": [
    "print(gr.position)\n",
    "print(gr.width, gr.height)\n",
    "print(gr._to_extent())"
   ]
  },
  {
   "cell_type": "code",
   "execution_count": 31,
   "metadata": {},
   "outputs": [
    {
     "data": {
      "text/plain": [
       "(20, 80, 30, 142.5)"
      ]
     },
     "execution_count": 31,
     "metadata": {},
     "output_type": "execute_result"
    }
   ],
   "source": [
    "gr.img.get_extent()"
   ]
  },
  {
   "cell_type": "code",
   "execution_count": 26,
   "metadata": {},
   "outputs": [
    {
     "data": {
      "text/plain": [
       "36.0"
      ]
     },
     "execution_count": 26,
     "metadata": {},
     "output_type": "execute_result"
    }
   ],
   "source": [
    "90/2.5"
   ]
  },
  {
   "cell_type": "code",
   "execution_count": null,
   "metadata": {},
   "outputs": [],
   "source": []
  }
 ],
 "metadata": {
  "kernelspec": {
   "display_name": "anaconda_py37",
   "language": "python",
   "name": "anaconda_py37"
  },
  "language_info": {
   "codemirror_mode": {
    "name": "ipython",
    "version": 3
   },
   "file_extension": ".py",
   "mimetype": "text/x-python",
   "name": "python",
   "nbconvert_exporter": "python",
   "pygments_lexer": "ipython3",
   "version": "3.7.6"
  },
  "toc": {
   "base_numbering": 1,
   "nav_menu": {},
   "number_sections": true,
   "sideBar": true,
   "skip_h1_title": false,
   "title_cell": "Table of Contents",
   "title_sidebar": "Contents",
   "toc_cell": false,
   "toc_position": {
    "height": "calc(100% - 180px)",
    "left": "10px",
    "top": "150px",
    "width": "314px"
   },
   "toc_section_display": true,
   "toc_window_display": true
  }
 },
 "nbformat": 4,
 "nbformat_minor": 4
}
