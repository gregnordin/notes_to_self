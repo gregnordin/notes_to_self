{
 "cells": [
  {
   "cell_type": "markdown",
   "id": "31439b4b-542f-4a00-a069-ede9e29ebace",
   "metadata": {},
   "source": [
    "# Purpose\n",
    "\n",
    "Create and apply a mask to a 2D numpy array."
   ]
  },
  {
   "cell_type": "code",
   "execution_count": 1,
   "id": "b983586c-78c6-4499-8614-c2a00a078e82",
   "metadata": {},
   "outputs": [],
   "source": [
    "import numpy as np"
   ]
  },
  {
   "cell_type": "markdown",
   "id": "1d0576ee-7e5e-46d6-9fa3-722d853559f4",
   "metadata": {},
   "source": [
    "# Example - create mask based on array values"
   ]
  },
  {
   "cell_type": "code",
   "execution_count": 2,
   "id": "f1151ab8-ec3d-4917-9ff8-61249e30401f",
   "metadata": {},
   "outputs": [
    {
     "data": {
      "text/plain": [
       "array([[-12, -31,   5],\n",
       "       [  7,   0,  -9]])"
      ]
     },
     "execution_count": 2,
     "metadata": {},
     "output_type": "execute_result"
    }
   ],
   "source": [
    "a= np.array([[-12,-31,5],[7,0,-9]])\n",
    "a"
   ]
  },
  {
   "cell_type": "code",
   "execution_count": 3,
   "id": "ed01d00d-46bc-49a6-ba94-1e609cd42a2c",
   "metadata": {},
   "outputs": [
    {
     "data": {
      "text/plain": [
       "array([[False, False, False],\n",
       "       [ True,  True, False]])"
      ]
     },
     "execution_count": 3,
     "metadata": {},
     "output_type": "execute_result"
    }
   ],
   "source": [
    "zero_mod_array= 0 ==(a%7)\n",
    "zero_mod_array"
   ]
  },
  {
   "cell_type": "markdown",
   "id": "4ba85d95-c946-4662-be0c-597c116e91d5",
   "metadata": {},
   "source": [
    "# Example - apply mask (identity matrix) to an array"
   ]
  },
  {
   "cell_type": "code",
   "execution_count": 4,
   "id": "87c732de-61a6-48ee-a010-a9491214761b",
   "metadata": {},
   "outputs": [
    {
     "data": {
      "text/plain": [
       "array([[ 2, -1,  4],\n",
       "       [ 3, -3,  1],\n",
       "       [ 9, -7,  2]])"
      ]
     },
     "execution_count": 4,
     "metadata": {},
     "output_type": "execute_result"
    }
   ],
   "source": [
    "x = np.array([[2,-1,4],\n",
    "              [3,-3,1],\n",
    "              [9,-7,2]])\n",
    "x"
   ]
  },
  {
   "cell_type": "code",
   "execution_count": 5,
   "id": "9ea48cad-6cdc-484f-85e7-1a97f22c09c6",
   "metadata": {},
   "outputs": [
    {
     "data": {
      "text/plain": [
       "array([[1., 0., 0.],\n",
       "       [0., 1., 0.],\n",
       "       [0., 0., 1.]])"
      ]
     },
     "execution_count": 5,
     "metadata": {},
     "output_type": "execute_result"
    }
   ],
   "source": [
    "mask = np.identity(3)\n",
    "mask"
   ]
  },
  {
   "cell_type": "code",
   "execution_count": 6,
   "id": "eecda4b4-e706-41db-9fc0-7ffdec23f98a",
   "metadata": {},
   "outputs": [
    {
     "data": {
      "text/plain": [
       "array([[ 2,  0,  0],\n",
       "       [ 0, -3,  0],\n",
       "       [ 0,  0,  2]])"
      ]
     },
     "execution_count": 6,
     "metadata": {},
     "output_type": "execute_result"
    }
   ],
   "source": [
    "np.where(mask, x, 0)"
   ]
  },
  {
   "cell_type": "markdown",
   "id": "6e862ef6-d9c2-4f9d-80b2-2b4c0a2250fb",
   "metadata": {},
   "source": [
    "# Example - create mask from array values and use to apply transform to non-masked values"
   ]
  },
  {
   "cell_type": "code",
   "execution_count": 7,
   "id": "ac7d3ab2-5059-4ae6-84eb-275d1f78cb8f",
   "metadata": {},
   "outputs": [
    {
     "data": {
      "text/plain": [
       "array([[2, 1, 4, 7],\n",
       "       [0, 0, 1, 0],\n",
       "       [9, 7, 2, 0]])"
      ]
     },
     "execution_count": 7,
     "metadata": {},
     "output_type": "execute_result"
    }
   ],
   "source": [
    "x = np.array([[2,1,4,7],\n",
    "              [0,0,1,0],\n",
    "              [9,7,2,0]])\n",
    "x"
   ]
  },
  {
   "cell_type": "markdown",
   "id": "e96a5b85-0fb1-45ca-9039-bef34ab25bbd",
   "metadata": {},
   "source": [
    "## Mask - mask zero values"
   ]
  },
  {
   "cell_type": "code",
   "execution_count": 8,
   "id": "502589c1-d07b-4d29-a3d5-61e3576e11e1",
   "metadata": {},
   "outputs": [
    {
     "data": {
      "text/plain": [
       "array([[ True,  True,  True,  True],\n",
       "       [False, False,  True, False],\n",
       "       [ True,  True,  True, False]])"
      ]
     },
     "execution_count": 8,
     "metadata": {},
     "output_type": "execute_result"
    }
   ],
   "source": [
    "mask = 0 ==(x==0)\n",
    "mask"
   ]
  },
  {
   "cell_type": "markdown",
   "id": "cabe9c39-682e-4ed4-99ab-b8168bf18656",
   "metadata": {},
   "source": [
    "## Subtract 5 from all non-zero values and leave 0 values untouched"
   ]
  },
  {
   "cell_type": "code",
   "execution_count": 9,
   "id": "d0229e6b-711b-43d1-9e2a-8a8040a79399",
   "metadata": {},
   "outputs": [
    {
     "data": {
      "text/plain": [
       "array([[-3, -4, -1,  2],\n",
       "       [ 0,  0, -4,  0],\n",
       "       [ 4,  2, -3,  0]])"
      ]
     },
     "execution_count": 9,
     "metadata": {},
     "output_type": "execute_result"
    }
   ],
   "source": [
    "np.where(mask, x - 5, 0)"
   ]
  },
  {
   "cell_type": "markdown",
   "id": "0cf6c483-f97b-46f2-a7fe-9248a52857b2",
   "metadata": {},
   "source": [
    "## Subtract value from all non-zero values to have equal magnitude largest positive and negative numbers"
   ]
  },
  {
   "cell_type": "code",
   "execution_count": 10,
   "id": "5a72ddf5-fa32-4fa5-bce4-242902ffb017",
   "metadata": {},
   "outputs": [
    {
     "data": {
      "text/plain": [
       "array([[-3., -4., -1.,  2.],\n",
       "       [ 0.,  0., -4.,  0.],\n",
       "       [ 4.,  2., -3.,  0.]])"
      ]
     },
     "execution_count": 10,
     "metadata": {},
     "output_type": "execute_result"
    }
   ],
   "source": [
    "np.where(mask, x - 0.5*(np.max(x)+1), 0)"
   ]
  },
  {
   "cell_type": "code",
   "execution_count": null,
   "id": "769065e8-b660-4717-b509-d2b620b0fd7c",
   "metadata": {},
   "outputs": [],
   "source": []
  }
 ],
 "metadata": {
  "kernelspec": {
   "display_name": "anaconda_py38",
   "language": "python",
   "name": "anaconda_py38"
  },
  "language_info": {
   "codemirror_mode": {
    "name": "ipython",
    "version": 3
   },
   "file_extension": ".py",
   "mimetype": "text/x-python",
   "name": "python",
   "nbconvert_exporter": "python",
   "pygments_lexer": "ipython3",
   "version": "3.8.5"
  }
 },
 "nbformat": 4,
 "nbformat_minor": 5
}
