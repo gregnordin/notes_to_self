{
 "cells": [
  {
   "cell_type": "markdown",
   "id": "31439b4b-542f-4a00-a069-ede9e29ebace",
   "metadata": {},
   "source": [
    "# Purpose\n",
    "\n",
    "**NOTE: See `matplotlib/images_with_transparency-explore.ipynb` and `-implement.ipynb` for better info.**\n",
    "\n",
    "How to overlay one image on top of another, with the top image having regions of transparency to reveal the corresponding regions of the underlying image."
   ]
  },
  {
   "cell_type": "code",
   "execution_count": 1,
   "id": "b983586c-78c6-4499-8614-c2a00a078e82",
   "metadata": {},
   "outputs": [],
   "source": [
    "import numpy as np\n",
    "from matplotlib import pyplot as plt\n",
    "import matplotlib as mpl\n",
    "%matplotlib inline"
   ]
  },
  {
   "cell_type": "code",
   "execution_count": 2,
   "id": "0d5e6011-798a-46de-a47f-4ca6ae60d955",
   "metadata": {},
   "outputs": [
    {
     "data": {
      "text/plain": [
       "'3.3.2'"
      ]
     },
     "execution_count": 2,
     "metadata": {},
     "output_type": "execute_result"
    }
   ],
   "source": [
    "mpl.__version__"
   ]
  },
  {
   "cell_type": "markdown",
   "id": "cd446824-71fa-4a1e-92cc-f8e79b03d37b",
   "metadata": {},
   "source": [
    "# Grayscale background and RGBA foreground arrays"
   ]
  },
  {
   "cell_type": "markdown",
   "id": "b149cdd5-e7c8-475a-8d44-865fd7da14ae",
   "metadata": {},
   "source": [
    "## Background image"
   ]
  },
  {
   "cell_type": "code",
   "execution_count": 3,
   "id": "08f1fded-ed22-4064-b714-0471ff8e73ec",
   "metadata": {},
   "outputs": [
    {
     "data": {
      "image/png": "[encoded data removed]",
      "text/plain": [
       "<Figure size 432x288 with 1 Axes>"
      ]
     },
     "metadata": {
      "needs_background": "light"
     },
     "output_type": "display_data"
    }
   ],
   "source": [
    "img_shape = (150, 200)\n",
    "\n",
    "params_background = dict(\n",
    "    origin=\"lower\", cmap=\"coolwarm\", vmin=0, vmax=255\n",
    ")\n",
    "\n",
    "background = np.zeros(img_shape, dtype=np.uint8)\n",
    "x_band = int(img_shape[1] / 4)\n",
    "y_band = int(img_shape[0] / 2)\n",
    "background[:, :x_band] = 50\n",
    "background[:, x_band : 2 * x_band] = 100\n",
    "background[:, 2 * x_band : 3 * x_band] = 150\n",
    "background[:, 3 * x_band :] = 200\n",
    "background[:y_band, :] -= 30\n",
    "\n",
    "fig, ax = plt.subplots()\n",
    "ax.imshow(background, **params_background);"
   ]
  },
  {
   "cell_type": "markdown",
   "id": "5b5a7758-cfb5-4bc1-bf76-64fae5e1bfd7",
   "metadata": {},
   "source": [
    "## Foreground image (mask)"
   ]
  },
  {
   "cell_type": "code",
   "execution_count": 4,
   "id": "341c3e61-3ae1-4b77-bd06-806719b626f3",
   "metadata": {},
   "outputs": [
    {
     "name": "stdout",
     "output_type": "stream",
     "text": [
      "img_mask_rgba.shape=(150, 200, 4)\n"
     ]
    },
    {
     "data": {
      "image/png": "[encoded data removed]",
      "text/plain": [
       "<Figure size 432x288 with 1 Axes>"
      ]
     },
     "metadata": {
      "needs_background": "light"
     },
     "output_type": "display_data"
    }
   ],
   "source": [
    "params_foreground = dict(\n",
    "    origin=\"lower\"\n",
    ")\n",
    "\n",
    "\n",
    "img_mask_rgba = np.zeros((*img_shape, 4), dtype=np.uint8)\n",
    "# Red\n",
    "img_mask_rgba[:90, :90, 0] = 128\n",
    "img_mask_rgba[90:, 90:, 0] = 200\n",
    "# Green\n",
    "img_mask_rgba[:, :, 1] = 50\n",
    "# Blue\n",
    "img_mask_rgba[:, :, 2] = 130\n",
    "# Alpha\n",
    "img_mask_rgba[  :,    :, 3] = 255\n",
    "img_mask_rgba[60:110, :, 3] = 0\n",
    "\n",
    "print(f\"{img_mask_rgba.shape=}\")\n",
    "\n",
    "fig, ax = plt.subplots()\n",
    "ax.imshow(img_mask_rgba, **params_foreground);"
   ]
  },
  {
   "cell_type": "markdown",
   "id": "7150b648-6440-4c1c-a05b-ae80cdee4257",
   "metadata": {},
   "source": [
    "## Foreground on top of background"
   ]
  },
  {
   "cell_type": "code",
   "execution_count": 5,
   "id": "8f100e58-85d2-464f-a047-d7329b04573a",
   "metadata": {},
   "outputs": [
    {
     "data": {
      "image/png": "[encoded data removed]",
      "text/plain": [
       "<Figure size 432x288 with 1 Axes>"
      ]
     },
     "metadata": {
      "needs_background": "light"
     },
     "output_type": "display_data"
    }
   ],
   "source": [
    "fig, ax = plt.subplots()\n",
    "ax.imshow(background, **params_background);\n",
    "ax.imshow(img_mask_rgba, **params_foreground);"
   ]
  },
  {
   "cell_type": "markdown",
   "id": "db9ee849-ccf0-47f0-ae6a-db7bd1ea0104",
   "metadata": {},
   "source": [
    "# Masking with Boolean array"
   ]
  },
  {
   "cell_type": "markdown",
   "id": "1d0576ee-7e5e-46d6-9fa3-722d853559f4",
   "metadata": {},
   "source": [
    "## Create mask based on array values"
   ]
  },
  {
   "cell_type": "code",
   "execution_count": 6,
   "id": "f1151ab8-ec3d-4917-9ff8-61249e30401f",
   "metadata": {},
   "outputs": [
    {
     "data": {
      "text/plain": [
       "array([[-12, -31,   5],\n",
       "       [  7,   0,  -9]])"
      ]
     },
     "execution_count": 6,
     "metadata": {},
     "output_type": "execute_result"
    }
   ],
   "source": [
    "a= np.array([[-12,-31,5],[7,0,-9]])\n",
    "a"
   ]
  },
  {
   "cell_type": "code",
   "execution_count": 7,
   "id": "ed01d00d-46bc-49a6-ba94-1e609cd42a2c",
   "metadata": {},
   "outputs": [
    {
     "data": {
      "text/plain": [
       "array([[False, False, False],\n",
       "       [ True,  True, False]])"
      ]
     },
     "execution_count": 7,
     "metadata": {},
     "output_type": "execute_result"
    }
   ],
   "source": [
    "zero_mod_array= 0 ==(a%7)\n",
    "zero_mod_array"
   ]
  },
  {
   "cell_type": "markdown",
   "id": "4ba85d95-c946-4662-be0c-597c116e91d5",
   "metadata": {},
   "source": [
    "## Apply mask (identity matrix) to an array"
   ]
  },
  {
   "cell_type": "code",
   "execution_count": 8,
   "id": "87c732de-61a6-48ee-a010-a9491214761b",
   "metadata": {},
   "outputs": [
    {
     "data": {
      "text/plain": [
       "array([[ 2, -1,  4],\n",
       "       [ 3, -3,  1],\n",
       "       [ 9, -7,  2]])"
      ]
     },
     "execution_count": 8,
     "metadata": {},
     "output_type": "execute_result"
    }
   ],
   "source": [
    "x = np.array([[2,-1,4],\n",
    "              [3,-3,1],\n",
    "              [9,-7,2]])\n",
    "x"
   ]
  },
  {
   "cell_type": "code",
   "execution_count": 9,
   "id": "9ea48cad-6cdc-484f-85e7-1a97f22c09c6",
   "metadata": {},
   "outputs": [
    {
     "data": {
      "text/plain": [
       "array([[1., 0., 0.],\n",
       "       [0., 1., 0.],\n",
       "       [0., 0., 1.]])"
      ]
     },
     "execution_count": 9,
     "metadata": {},
     "output_type": "execute_result"
    }
   ],
   "source": [
    "mask = np.identity(3)\n",
    "mask"
   ]
  },
  {
   "cell_type": "code",
   "execution_count": 10,
   "id": "eecda4b4-e706-41db-9fc0-7ffdec23f98a",
   "metadata": {},
   "outputs": [
    {
     "data": {
      "text/plain": [
       "array([[ 2,  0,  0],\n",
       "       [ 0, -3,  0],\n",
       "       [ 0,  0,  2]])"
      ]
     },
     "execution_count": 10,
     "metadata": {},
     "output_type": "execute_result"
    }
   ],
   "source": [
    "np.where(mask, x, 0)"
   ]
  },
  {
   "cell_type": "markdown",
   "id": "6e862ef6-d9c2-4f9d-80b2-2b4c0a2250fb",
   "metadata": {},
   "source": [
    "## Create mask from array values and use to apply transform to non-masked values"
   ]
  },
  {
   "cell_type": "code",
   "execution_count": 11,
   "id": "ac7d3ab2-5059-4ae6-84eb-275d1f78cb8f",
   "metadata": {},
   "outputs": [
    {
     "data": {
      "text/plain": [
       "array([[2, 1, 4, 7],\n",
       "       [0, 0, 1, 0],\n",
       "       [9, 7, 2, 0]])"
      ]
     },
     "execution_count": 11,
     "metadata": {},
     "output_type": "execute_result"
    }
   ],
   "source": [
    "x = np.array([[2,1,4,7],\n",
    "              [0,0,1,0],\n",
    "              [9,7,2,0]])\n",
    "x"
   ]
  },
  {
   "cell_type": "markdown",
   "id": "e96a5b85-0fb1-45ca-9039-bef34ab25bbd",
   "metadata": {},
   "source": [
    "### Mask - mask zero values"
   ]
  },
  {
   "cell_type": "code",
   "execution_count": 12,
   "id": "502589c1-d07b-4d29-a3d5-61e3576e11e1",
   "metadata": {},
   "outputs": [
    {
     "data": {
      "text/plain": [
       "array([[ True,  True,  True,  True],\n",
       "       [False, False,  True, False],\n",
       "       [ True,  True,  True, False]])"
      ]
     },
     "execution_count": 12,
     "metadata": {},
     "output_type": "execute_result"
    }
   ],
   "source": [
    "mask = 0 ==(x==0)\n",
    "mask"
   ]
  },
  {
   "cell_type": "markdown",
   "id": "cabe9c39-682e-4ed4-99ab-b8168bf18656",
   "metadata": {},
   "source": [
    "### Subtract 5 from all non-zero values and leave 0 values untouched"
   ]
  },
  {
   "cell_type": "code",
   "execution_count": 13,
   "id": "d0229e6b-711b-43d1-9e2a-8a8040a79399",
   "metadata": {},
   "outputs": [
    {
     "data": {
      "text/plain": [
       "array([[-3, -4, -1,  2],\n",
       "       [ 0,  0, -4,  0],\n",
       "       [ 4,  2, -3,  0]])"
      ]
     },
     "execution_count": 13,
     "metadata": {},
     "output_type": "execute_result"
    }
   ],
   "source": [
    "np.where(mask, x - 5, 0)"
   ]
  },
  {
   "cell_type": "markdown",
   "id": "0cf6c483-f97b-46f2-a7fe-9248a52857b2",
   "metadata": {},
   "source": [
    "### Subtract value from all non-zero values to have equal magnitude largest positive and negative numbers"
   ]
  },
  {
   "cell_type": "code",
   "execution_count": 14,
   "id": "5a72ddf5-fa32-4fa5-bce4-242902ffb017",
   "metadata": {},
   "outputs": [
    {
     "data": {
      "text/plain": [
       "array([[-3., -4., -1.,  2.],\n",
       "       [ 0.,  0., -4.,  0.],\n",
       "       [ 4.,  2., -3.,  0.]])"
      ]
     },
     "execution_count": 14,
     "metadata": {},
     "output_type": "execute_result"
    }
   ],
   "source": [
    "np.where(mask, x - 0.5*(np.max(x)+1), 0)"
   ]
  },
  {
   "cell_type": "markdown",
   "id": "91fd9dc2-1a41-43d1-a6a8-9cdf5667f4db",
   "metadata": {},
   "source": [
    "# Use extent"
   ]
  },
  {
   "cell_type": "code",
   "execution_count": 15,
   "id": "5e017f58-0538-455e-acde-71a8a2cb057d",
   "metadata": {},
   "outputs": [
    {
     "data": {
      "image/png": "[encoded data removed]",
      "text/plain": [
       "<Figure size 432x288 with 1 Axes>"
      ]
     },
     "metadata": {
      "needs_background": "light"
     },
     "output_type": "display_data"
    }
   ],
   "source": [
    "# Modified from \n",
    "# https://matplotlib.org/stable/gallery/images_contours_and_fields/layer_images.html\n",
    "\n",
    "\n",
    "def func3(x, y):\n",
    "    return (1 - x / 2 + x**5 + y**3) * np.exp(-(x**2 + y**2))\n",
    "\n",
    "\n",
    "# make these smaller to increase the resolution\n",
    "dx, dy = 0.05, 0.05\n",
    "\n",
    "x = np.arange(-3.0, 3.0, dx)\n",
    "y = np.arange(-3.0, 3.0, dy)\n",
    "X, Y = np.meshgrid(x, y)\n",
    "\n",
    "# when layering multiple images, the images need to have the same\n",
    "# extent.  This does not mean they need to have the same shape, but\n",
    "# they both need to render to the same coordinate system determined by\n",
    "# xmin, xmax, ymin, ymax.  Note if you use different interpolations\n",
    "# for the images their apparent extent could be different due to\n",
    "# interpolation edge effects\n",
    "\n",
    "extent = np.min(x), np.max(x), np.min(y), np.max(y)\n",
    "fig, ax = plt.subplots(frameon=False)\n",
    "\n",
    "Z1 = np.add.outer(range(8), range(8)) % 2  # chessboard\n",
    "im1 = ax.imshow(Z1, cmap=plt.cm.gray, interpolation=\"nearest\", extent=extent)\n",
    "\n",
    "Z2 = func3(X, Y)\n",
    "\n",
    "im2 = ax.imshow(\n",
    "    Z2, cmap=plt.cm.viridis, alpha=0.9, interpolation=\"bilinear\", extent=extent\n",
    ")"
   ]
  },
  {
   "cell_type": "markdown",
   "id": "00d5b751-1c92-4b1f-b8bc-cecec2632c84",
   "metadata": {},
   "source": [
    "# Not really related"
   ]
  },
  {
   "cell_type": "code",
   "execution_count": 16,
   "id": "ca5807e4-a1e5-4653-9b6c-e7c9635597ea",
   "metadata": {},
   "outputs": [
    {
     "ename": "AttributeError",
     "evalue": "'AxesImage' object has no attribute 'callbacks'",
     "output_type": "error",
     "traceback": [
      "\u001b[0;31m---------------------------------------------------------------------------\u001b[0m",
      "\u001b[0;31mAttributeError\u001b[0m                            Traceback (most recent call last)",
      "\u001b[0;32m<ipython-input-16-3b12e125b631>\u001b[0m in \u001b[0;36m<module>\u001b[0;34m\u001b[0m\n\u001b[1;32m     42\u001b[0m \u001b[0;31m# but not with v 3.3.2\u001b[0m\u001b[0;34m\u001b[0m\u001b[0;34m\u001b[0m\u001b[0;34m\u001b[0m\u001b[0m\n\u001b[1;32m     43\u001b[0m \u001b[0;32mfor\u001b[0m \u001b[0mim\u001b[0m \u001b[0;32min\u001b[0m \u001b[0mimages\u001b[0m\u001b[0;34m:\u001b[0m\u001b[0;34m\u001b[0m\u001b[0;34m\u001b[0m\u001b[0m\n\u001b[0;32m---> 44\u001b[0;31m     \u001b[0mim\u001b[0m\u001b[0;34m.\u001b[0m\u001b[0mcallbacks\u001b[0m\u001b[0;34m.\u001b[0m\u001b[0mconnect\u001b[0m\u001b[0;34m(\u001b[0m\u001b[0;34m\"changed\"\u001b[0m\u001b[0;34m,\u001b[0m \u001b[0mupdate\u001b[0m\u001b[0;34m)\u001b[0m\u001b[0;34m\u001b[0m\u001b[0;34m\u001b[0m\u001b[0m\n\u001b[0m",
      "\u001b[0;31mAttributeError\u001b[0m: 'AxesImage' object has no attribute 'callbacks'"
     ]
    },
    {
     "data": {
      "image/png": "[encoded data removed]",
      "text/plain": [
       "<Figure size 432x288 with 7 Axes>"
      ]
     },
     "metadata": {
      "needs_background": "light"
     },
     "output_type": "display_data"
    }
   ],
   "source": [
    "# https://matplotlib.org/stable/gallery/images_contours_and_fields/multi_image.html\n",
    "\n",
    "np.random.seed(19680801)\n",
    "Nr = 3\n",
    "Nc = 2\n",
    "\n",
    "fig, axs = plt.subplots(Nr, Nc)\n",
    "fig.suptitle(\"Multiple images\")\n",
    "\n",
    "images = []\n",
    "for i in range(Nr):\n",
    "    for j in range(Nc):\n",
    "        # Generate data with a range that varies from one plot to the next.\n",
    "        data = ((1 + i + j) / 10) * np.random.rand(10, 20)\n",
    "        images.append(axs[i, j].imshow(data))\n",
    "        axs[i, j].label_outer()\n",
    "\n",
    "# Find the min and max of all colors for use in setting the color scale.\n",
    "vmin = min(image.get_array().min() for image in images)\n",
    "vmax = max(image.get_array().max() for image in images)\n",
    "norm = mpl.colors.Normalize(vmin=vmin, vmax=vmax)\n",
    "for im in images:\n",
    "    im.set_norm(norm)\n",
    "\n",
    "fig.colorbar(images[0], ax=axs, orientation=\"horizontal\", fraction=0.1)\n",
    "\n",
    "\n",
    "# Make images respond to changes in the norm of other images (e.g. via the\n",
    "# \"edit axis, curves and images parameters\" GUI on Qt), but be careful not to\n",
    "# recurse infinitely!\n",
    "def update(changed_image):\n",
    "    for im in images:\n",
    "        if (\n",
    "            changed_image.get_cmap() != im.get_cmap()\n",
    "            or changed_image.get_clim() != im.get_clim()\n",
    "        ):\n",
    "            im.set_cmap(changed_image.get_cmap())\n",
    "            im.set_clim(changed_image.get_clim())\n",
    "\n",
    "\n",
    "# The code below works with matplotlib v3.6.3\n",
    "# but not with v 3.3.2\n",
    "for im in images:\n",
    "    im.callbacks.connect(\"changed\", update)\n"
   ]
  },
  {
   "cell_type": "code",
   "execution_count": null,
   "id": "f840cd99-6330-437e-9998-e530f1bd6b2e",
   "metadata": {},
   "outputs": [],
   "source": []
  }
 ],
 "metadata": {
  "kernelspec": {
   "display_name": "anaconda_py38",
   "language": "python",
   "name": "anaconda_py38"
  },
  "language_info": {
   "codemirror_mode": {
    "name": "ipython",
    "version": 3
   },
   "file_extension": ".py",
   "mimetype": "text/x-python",
   "name": "python",
   "nbconvert_exporter": "python",
   "pygments_lexer": "ipython3",
   "version": "3.8.5"
  }
 },
 "nbformat": 4,
 "nbformat_minor": 5
}
