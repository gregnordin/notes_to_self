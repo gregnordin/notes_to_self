{
 "cells": [
  {
   "cell_type": "markdown",
   "id": "4319b190-40d6-4f3d-88bc-21a1a5f0415e",
   "metadata": {},
   "source": [
    "# Purpose\n",
    "\n",
    "Try out `pint` to keep track of units for various values.\n",
    "\n",
    "See [Pint: makes units easy](https://pint.readthedocs.io/en/0.23/index.html) on ReadTheDocs."
   ]
  },
  {
   "cell_type": "code",
   "execution_count": 2,
   "id": "612784db-bdbb-4bdc-9aab-d210887f5318",
   "metadata": {},
   "outputs": [
    {
     "data": {
      "text/plain": [
       "'0.23'"
      ]
     },
     "execution_count": 2,
     "metadata": {},
     "output_type": "execute_result"
    }
   ],
   "source": [
    "import pint\n",
    "import numpy as np\n",
    "\n",
    "ureg = pint.UnitRegistry()\n",
    "pint.__version__"
   ]
  },
  {
   "cell_type": "code",
   "execution_count": 4,
   "id": "c99909ed-e04f-495f-a19d-c9e2cd807f40",
   "metadata": {},
   "outputs": [
    {
     "data": {
      "text/html": [
       "1×10<sup>-10</sup> meter<sup>2</sup>/second"
      ],
      "text/latex": [
       "$1\\times 10^{-10}\\ \\frac{\\mathrm{meter}^{2}}{\\mathrm{second}}$"
      ],
      "text/plain": [
       "1e-10 <Unit('meter ** 2 / second')>"
      ]
     },
     "execution_count": 4,
     "metadata": {},
     "output_type": "execute_result"
    }
   ],
   "source": [
    "D = 1e-10 * ureg.meter**2 / ureg.second\n",
    "D"
   ]
  },
  {
   "cell_type": "code",
   "execution_count": 5,
   "id": "8eeb0503-19ef-4995-bbd0-626c85d52594",
   "metadata": {},
   "outputs": [
    {
     "data": {
      "text/html": [
       "1.0 micron"
      ],
      "text/latex": [
       "$1.0\\ \\mathrm{micron}$"
      ],
      "text/plain": [
       "1.0 <Unit('micron')>"
      ]
     },
     "execution_count": 5,
     "metadata": {},
     "output_type": "execute_result"
    }
   ],
   "source": [
    "l = 1.0 * ureg.micron\n",
    "l"
   ]
  },
  {
   "cell_type": "code",
   "execution_count": 7,
   "id": "167ce210-e210-49dd-a09a-fd12bfa03662",
   "metadata": {},
   "outputs": [
    {
     "data": {
      "text/html": [
       "10000000000.0 micron<sup>2</sup> second/meter<sup>2</sup>"
      ],
      "text/latex": [
       "$10000000000.0\\ \\frac{\\mathrm{micron}^{2} \\cdot \\mathrm{second}}{\\mathrm{meter}^{2}}$"
      ],
      "text/plain": [
       "10000000000.0 <Unit('micron ** 2 * second / meter ** 2')>"
      ]
     },
     "execution_count": 7,
     "metadata": {},
     "output_type": "execute_result"
    }
   ],
   "source": [
    "l**2 / D"
   ]
  },
  {
   "cell_type": "code",
   "execution_count": 8,
   "id": "94c26cba-9657-4aa6-b29d-11a011b98a5c",
   "metadata": {},
   "outputs": [
    {
     "data": {
      "text/html": [
       "0.01 second"
      ],
      "text/latex": [
       "$0.01\\ \\mathrm{second}$"
      ],
      "text/plain": [
       "0.01 <Unit('second')>"
      ]
     },
     "execution_count": 8,
     "metadata": {},
     "output_type": "execute_result"
    }
   ],
   "source": [
    "_.to_base_units()"
   ]
  },
  {
   "cell_type": "code",
   "execution_count": 9,
   "id": "4d05c75f-4db5-402c-be03-3efcd189a619",
   "metadata": {},
   "outputs": [
    {
     "data": {
      "text/html": [
       "0.01 second"
      ],
      "text/latex": [
       "$0.01\\ \\mathrm{second}$"
      ],
      "text/plain": [
       "0.01 <Unit('second')>"
      ]
     },
     "execution_count": 9,
     "metadata": {},
     "output_type": "execute_result"
    }
   ],
   "source": [
    "(l**2 / D).to_base_units()"
   ]
  },
  {
   "cell_type": "code",
   "execution_count": 10,
   "id": "43e522e8-c64c-4845-8516-c6d022c41d1d",
   "metadata": {},
   "outputs": [
    {
     "data": {
      "text/html": [
       "1×10<sup>-5</sup> meter"
      ],
      "text/latex": [
       "$1\\times 10^{-5}\\ \\mathrm{meter}$"
      ],
      "text/plain": [
       "1e-05 <Unit('meter')>"
      ]
     },
     "execution_count": 10,
     "metadata": {},
     "output_type": "execute_result"
    }
   ],
   "source": [
    "ll = np.sqrt(D * (1 * ureg.sec))\n",
    "ll"
   ]
  },
  {
   "cell_type": "code",
   "execution_count": 11,
   "id": "cc9c74d9-5b8c-47a4-9bc9-d06e432b9647",
   "metadata": {},
   "outputs": [
    {
     "data": {
      "text/html": [
       "10.0 micron"
      ],
      "text/latex": [
       "$10.0\\ \\mathrm{micron}$"
      ],
      "text/plain": [
       "10.0 <Unit('micron')>"
      ]
     },
     "execution_count": 11,
     "metadata": {},
     "output_type": "execute_result"
    }
   ],
   "source": [
    "ll.to(ureg.micron)"
   ]
  },
  {
   "cell_type": "code",
   "execution_count": 12,
   "id": "0015afc1-f1d7-4e54-afb0-1e4b5592e449",
   "metadata": {},
   "outputs": [
    {
     "data": {
      "text/html": [
       "0.001 mole/liter"
      ],
      "text/latex": [
       "$0.001\\ \\frac{\\mathrm{mole}}{\\mathrm{liter}}$"
      ],
      "text/plain": [
       "0.001 <Unit('mole / liter')>"
      ]
     },
     "execution_count": 12,
     "metadata": {},
     "output_type": "execute_result"
    }
   ],
   "source": [
    "c = 1e-3 * ureg.mole / ureg.liter\n",
    "c"
   ]
  },
  {
   "cell_type": "code",
   "execution_count": null,
   "id": "d971f8fb-6c3f-4bf8-950e-a9b309f767bb",
   "metadata": {},
   "outputs": [],
   "source": []
  }
 ],
 "metadata": {
  "kernelspec": {
   "display_name": "fenicsx-env",
   "language": "python",
   "name": "fenicsx-env"
  },
  "language_info": {
   "codemirror_mode": {
    "name": "ipython",
    "version": 3
   },
   "file_extension": ".py",
   "mimetype": "text/x-python",
   "name": "python",
   "nbconvert_exporter": "python",
   "pygments_lexer": "ipython3",
   "version": "3.12.1"
  }
 },
 "nbformat": 4,
 "nbformat_minor": 5
}
