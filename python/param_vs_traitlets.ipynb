{
 "cells": [
  {
   "cell_type": "markdown",
   "id": "69398e62-4b04-4b81-8a89-1ca7162a5115",
   "metadata": {},
   "source": [
    "# Purpose\n",
    "\n",
    "Compare the [Param](https://pyviz-dev.github.io/param/index.html) and [Traitlets]() packages. See [Comparison to other approaches](https://pyviz-dev.github.io/param/comparisons.html) for a comparison discussion."
   ]
  },
  {
   "cell_type": "markdown",
   "id": "61c0c27e-7618-4301-8092-750afe134c37",
   "metadata": {},
   "source": [
    "## Param\n",
    "\n",
    "From the documentation:\n",
    "\n",
    ">Param is a library for handling all the user-modifiable parameters, arguments, and attributes that control your code. It provides automatic, robust error-checking while dramatically reducing boilerplate code, letting you focus on what you want your code to do rather than on checking for all the possible ways users could supply inappropriate values to a function or class.\n",
    "\n",
    ">Param is also useful as a way to keep your domain-specific code independent of any GUI or other user-interface code, letting you maintain a single codebase to support both GUI and non-GUI usage, with the GUI maintainable by UI experts and the domain-specific code maintained by domain experts.\n"
   ]
  },
  {
   "cell_type": "markdown",
   "id": "26124744-2607-449a-a024-6fec2567f17e",
   "metadata": {},
   "source": [
    "## Traitlets\n",
    "\n",
    "From the documentation:\n",
    "\n",
    ">Traitlets is a pure Python library enabling:\n",
    ">\n",
    ">- the enforcement of strong typing for attributes of Python objects (typed attributes are called \"traits\");\n",
    ">- dynamically calculated default values;\n",
    ">- automatic validation and coercion of trait attributes when attempting a change;\n",
    ">- registering for receiving notifications when trait values change;\n",
    ">- reading configuring values from files or from command line arguments - a distinct layer on top of traitlets, so you may use traitlets without the configuration machinery.\n",
    ">\n",
    ">Its implementation relies on the [descriptor pattern](https://docs.python.org/3/howto/descriptor.html), and it is a lightweight pure-python alternative of the traits library.\n",
    ">\n",
    ">Traitlets powers the configuration system of IPython and Jupyter and the declarative API of IPython interactive widgets.\n",
    "\n",
    "[traitlets - Eventful Classes in Python](https://coderzcolumn.com/tutorials/python/traitlets-eventful-classes-in-python)"
   ]
  },
  {
   "cell_type": "code",
   "execution_count": 1,
   "id": "7cbafb9b-4139-4887-ba06-aebe0cf8031a",
   "metadata": {
    "tags": []
   },
   "outputs": [
    {
     "name": "stdout",
     "output_type": "stream",
     "text": [
      "Param version: 1.12.0\n",
      "Traitlets version: 5.1.0\n"
     ]
    }
   ],
   "source": [
    "import param\n",
    "import traitlets as tr\n",
    "\n",
    "print(f\"Param version: {param.__version__}\")\n",
    "print(f\"Traitlets version: {tr.__version__}\")"
   ]
  },
  {
   "cell_type": "code",
   "execution_count": 2,
   "id": "062be89e-fde7-4b41-b493-8330b8095dd2",
   "metadata": {},
   "outputs": [],
   "source": [
    "from time import time, sleep"
   ]
  },
  {
   "cell_type": "code",
   "execution_count": 3,
   "id": "0c25a05e-a663-400f-9472-502774196fb5",
   "metadata": {},
   "outputs": [
    {
     "name": "stdout",
     "output_type": "stream",
     "text": [
      "1635288920.051456\n",
      "1635288921.056584\n",
      "1635288921.056584\n",
      "1635288922.061002\n"
     ]
    }
   ],
   "source": [
    "class A(tr.HasTraits):\n",
    "    instantiation_time = tr.Float()\n",
    "    @tr.default('instantiation_time')\n",
    "    def _look_up_time(self):\n",
    "        return time()\n",
    "\n",
    "a = A()\n",
    "print(time())\n",
    "sleep(1)\n",
    "print(a.instantiation_time)\n",
    "sleep(1)\n",
    "print(a.instantiation_time)\n",
    "b = A()\n",
    "print(b.instantiation_time)\n"
   ]
  },
  {
   "cell_type": "code",
   "execution_count": 4,
   "id": "1369e3d1-ea89-4b9e-b151-c684de0d8540",
   "metadata": {},
   "outputs": [
    {
     "name": "stdout",
     "output_type": "stream",
     "text": [
      "      val          val_initial_time   val_current_time\n",
      "          0.000     1635288922.069     1635288922.070\n",
      "          0.000     1635288922.069     1635288923.075\n",
      "          0.000     1635288922.069     1635288924.078\n"
     ]
    }
   ],
   "source": [
    "class P(param.Parameterized):\n",
    "    val = param.Number(0.0)  # Initialized to fixed number\n",
    "    val_initial_time = param.Number(time())  # Initialized to return value of a function\n",
    "    val_current_time = param.Callable(time)  # Get current time every time this is called\n",
    "    \n",
    "a = P()\n",
    "print(\"      val          val_initial_time   val_current_time\")\n",
    "print(f\"{a.val:15.3f} {a.val_initial_time:18.3f} {a.val_current_time():18.3f}\")\n",
    "sleep(1)\n",
    "print(f\"{a.val:15.3f} {a.val_initial_time:18.3f} {a.val_current_time():18.3f}\")\n",
    "sleep(1)\n",
    "print(f\"{a.val:15.3f} {a.val_initial_time:18.3f} {a.val_current_time():18.3f}\")\n"
   ]
  },
  {
   "cell_type": "code",
   "execution_count": null,
   "id": "a69d9d95-62d1-4e14-9214-b4764817cffa",
   "metadata": {},
   "outputs": [],
   "source": []
  }
 ],
 "metadata": {
  "kernelspec": {
   "display_name": "panel_voila_opencv",
   "language": "python",
   "name": "panel_voila_opencv"
  },
  "language_info": {
   "codemirror_mode": {
    "name": "ipython",
    "version": 3
   },
   "file_extension": ".py",
   "mimetype": "text/x-python",
   "name": "python",
   "nbconvert_exporter": "python",
   "pygments_lexer": "ipython3",
   "version": "3.9.7"
  }
 },
 "nbformat": 4,
 "nbformat_minor": 5
}
