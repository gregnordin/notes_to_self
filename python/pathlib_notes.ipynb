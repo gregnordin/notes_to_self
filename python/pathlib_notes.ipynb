{
 "cells": [
  {
   "cell_type": "markdown",
   "metadata": {},
   "source": [
    "## pathlib Module\n",
    "\n",
    "**Very good introduction**  \n",
    "[Python 3's pathlib Module: Taming the File System by Geir Arne Hjelle  Apr 23, 2018](https://realpython.com/python-pathlib/) \n",
    "\n",
    "**Cheatsheet**  \n",
    "[Pathlib-Cheatsheet.pdf](https://github.com/chris1610/pbpython/blob/master/extras/Pathlib-Cheatsheet.pdf)"
   ]
  },
  {
   "cell_type": "code",
   "execution_count": 4,
   "metadata": {},
   "outputs": [],
   "source": [
    "import pathlib\n",
    "from pathlib import Path"
   ]
  },
  {
   "cell_type": "code",
   "execution_count": 2,
   "metadata": {},
   "outputs": [
    {
     "data": {
      "text/plain": [
       "PosixPath('/Users/nordin/Documents/Projects/notes_to_self/python')"
      ]
     },
     "execution_count": 2,
     "metadata": {},
     "output_type": "execute_result"
    }
   ],
   "source": [
    "pathlib.Path.cwd()"
   ]
  },
  {
   "cell_type": "markdown",
   "metadata": {},
   "source": [
    "## Create a markdown file"
   ]
  },
  {
   "cell_type": "code",
   "execution_count": 5,
   "metadata": {},
   "outputs": [
    {
     "data": {
      "text/plain": [
       "121"
      ]
     },
     "execution_count": 5,
     "metadata": {},
     "output_type": "execute_result"
    }
   ],
   "source": [
    "# Create a file path (but file does not yet exist)\n",
    "mdfile = pathlib.Path.cwd() / 'pathlib_testdir' / 'test.md'\n",
    "\n",
    "markdown_text = '''\n",
    "# Test heading\n",
    "\n",
    "## Subheading\n",
    "\n",
    "Some text. More text.\n",
    "\n",
    "- bullet 1\n",
    "- bullet 2\n",
    "\n",
    "**Bold text**  \n",
    "*Italic text*  \n",
    "Plain text\n",
    "'''\n",
    "\n",
    "# Write text to file. Since file does not exist, file will be created\n",
    "mdfile.write_text(markdown_text)"
   ]
  },
  {
   "cell_type": "markdown",
   "metadata": {},
   "source": [
    "## Parts of a Path"
   ]
  },
  {
   "cell_type": "code",
   "execution_count": 6,
   "metadata": {},
   "outputs": [
    {
     "data": {
      "text/plain": [
       "PosixPath('/Users/nordin/Documents/Projects/notes_to_self/python/pathlib_testdir/test.md')"
      ]
     },
     "execution_count": 6,
     "metadata": {},
     "output_type": "execute_result"
    }
   ],
   "source": [
    "mdfile"
   ]
  },
  {
   "cell_type": "code",
   "execution_count": 7,
   "metadata": {},
   "outputs": [
    {
     "data": {
      "text/plain": [
       "'test.md'"
      ]
     },
     "execution_count": 7,
     "metadata": {},
     "output_type": "execute_result"
    }
   ],
   "source": [
    "mdfile.name"
   ]
  },
  {
   "cell_type": "code",
   "execution_count": 8,
   "metadata": {},
   "outputs": [
    {
     "data": {
      "text/plain": [
       "'.md'"
      ]
     },
     "execution_count": 8,
     "metadata": {},
     "output_type": "execute_result"
    }
   ],
   "source": [
    "mdfile.suffix"
   ]
  },
  {
   "cell_type": "code",
   "execution_count": 9,
   "metadata": {},
   "outputs": [
    {
     "data": {
      "text/plain": [
       "'test'"
      ]
     },
     "execution_count": 9,
     "metadata": {},
     "output_type": "execute_result"
    }
   ],
   "source": [
    "mdfile.stem"
   ]
  },
  {
   "cell_type": "code",
   "execution_count": 10,
   "metadata": {},
   "outputs": [
    {
     "data": {
      "text/plain": [
       "PosixPath('/Users/nordin/Documents/Projects/notes_to_self/python/pathlib_testdir')"
      ]
     },
     "execution_count": 10,
     "metadata": {},
     "output_type": "execute_result"
    }
   ],
   "source": [
    "mdfile.parent"
   ]
  },
  {
   "cell_type": "code",
   "execution_count": 12,
   "metadata": {},
   "outputs": [
    {
     "data": {
      "text/plain": [
       "PosixPath('/Users/nordin/Documents/Projects/notes_to_self/python')"
      ]
     },
     "execution_count": 12,
     "metadata": {},
     "output_type": "execute_result"
    }
   ],
   "source": [
    "mdfile.parent.parent"
   ]
  },
  {
   "cell_type": "markdown",
   "metadata": {},
   "source": [
    "## Make directory"
   ]
  },
  {
   "cell_type": "code",
   "execution_count": 5,
   "metadata": {},
   "outputs": [
    {
     "data": {
      "text/plain": [
       "PosixPath('/Users/nordin/Documents/Projects/notes_to_self/python')"
      ]
     },
     "execution_count": 5,
     "metadata": {},
     "output_type": "execute_result"
    }
   ],
   "source": [
    "new_directory = \"2019-09-03\"\n",
    "current_directory = Path.cwd()\n",
    "current_directory"
   ]
  },
  {
   "cell_type": "code",
   "execution_count": 11,
   "metadata": {},
   "outputs": [
    {
     "data": {
      "text/plain": [
       "PosixPath('/Users/nordin/Documents/Projects/notes_to_self/python/pathlib_testdir/2019-09-03')"
      ]
     },
     "execution_count": 11,
     "metadata": {},
     "output_type": "execute_result"
    }
   ],
   "source": [
    "new_path = current_directory / 'pathlib_testdir' / new_directory\n",
    "new_path.mkdir(exist_ok=True)\n",
    "new_path"
   ]
  },
  {
   "cell_type": "code",
   "execution_count": 13,
   "metadata": {},
   "outputs": [
    {
     "data": {
      "text/plain": [
       "PosixPath('/Users/nordin/Documents/Projects/notes_to_self/python/pathlib_testdir/2019-09-03/subdir1')"
      ]
     },
     "execution_count": 13,
     "metadata": {},
     "output_type": "execute_result"
    }
   ],
   "source": [
    "new_path_subdir1 = new_path / 'subdir1'\n",
    "new_path_subdir1.mkdir(exist_ok=True)\n",
    "new_path_subdir1"
   ]
  },
  {
   "cell_type": "code",
   "execution_count": 14,
   "metadata": {},
   "outputs": [
    {
     "data": {
      "text/plain": [
       "PosixPath('/Users/nordin/Documents/Projects/notes_to_self/python/pathlib_testdir')"
      ]
     },
     "execution_count": 14,
     "metadata": {},
     "output_type": "execute_result"
    }
   ],
   "source": [
    "new_path_subdir1.parent.parent"
   ]
  },
  {
   "cell_type": "code",
   "execution_count": 15,
   "metadata": {},
   "outputs": [
    {
     "data": {
      "text/plain": [
       "PosixPath('/Users/nordin/Documents/Projects/notes_to_self/python/pathlib_testdir/subdir2')"
      ]
     },
     "execution_count": 15,
     "metadata": {},
     "output_type": "execute_result"
    }
   ],
   "source": [
    "new_relative_path = new_path_subdir1.parent.parent / 'subdir2'\n",
    "new_relative_path.mkdir(exist_ok=True)\n",
    "new_relative_path"
   ]
  },
  {
   "cell_type": "code",
   "execution_count": 16,
   "metadata": {},
   "outputs": [
    {
     "data": {
      "text/plain": [
       "PosixPath('/Users/nordin/Documents/Projects/notes_to_self/logs')"
      ]
     },
     "execution_count": 16,
     "metadata": {},
     "output_type": "execute_result"
    }
   ],
   "source": [
    "temp = Path.cwd().parent / 'logs'\n",
    "temp"
   ]
  },
  {
   "cell_type": "code",
   "execution_count": 18,
   "metadata": {},
   "outputs": [
    {
     "data": {
      "text/plain": [
       "'/Users/nordin/Documents/Projects/notes_to_self/logs'"
      ]
     },
     "execution_count": 18,
     "metadata": {},
     "output_type": "execute_result"
    }
   ],
   "source": [
    "str(temp)"
   ]
  },
  {
   "cell_type": "markdown",
   "metadata": {},
   "source": [
    "## Iterate over files"
   ]
  },
  {
   "cell_type": "code",
   "execution_count": 13,
   "metadata": {},
   "outputs": [
    {
     "data": {
      "text/plain": [
       "Counter({'': 5, '.ipynb': 8})"
      ]
     },
     "execution_count": 13,
     "metadata": {},
     "output_type": "execute_result"
    }
   ],
   "source": [
    "import collections\n",
    "\n",
    "collections.Counter(p.suffix for p in pathlib.Path.cwd().iterdir())"
   ]
  },
  {
   "cell_type": "code",
   "execution_count": 14,
   "metadata": {},
   "outputs": [
    {
     "data": {
      "text/plain": [
       "Counter({'.png': 1, '.py': 1})"
      ]
     },
     "execution_count": 14,
     "metadata": {},
     "output_type": "execute_result"
    }
   ],
   "source": [
    "collections.Counter(p.suffix for p in pathlib.Path.cwd().rglob('*.p*'))"
   ]
  },
  {
   "cell_type": "markdown",
   "metadata": {},
   "source": [
    "## Print directory tree"
   ]
  },
  {
   "cell_type": "code",
   "execution_count": 15,
   "metadata": {},
   "outputs": [
    {
     "name": "stdout",
     "output_type": "stream",
     "text": [
      "+ /Users/nordin/Documents/Projects/notes_to_self/python\n",
      "    + .DS_Store\n",
      "    + .ipynb_checkpoints\n",
      "        + magics_html_and_javascript-checkpoint.ipynb\n",
      "        + matplotlib_notes-checkpoint.ipynb\n",
      "        + memory_notes-checkpoint.ipynb\n",
      "        + numpy_notes-checkpoint.ipynb\n",
      "        + pandas_notes-checkpoint.ipynb\n",
      "        + pathlib_notes-checkpoint.ipynb\n",
      "        + python_notes-checkpoint.ipynb\n",
      "        + working_with_images_notes-checkpoint.ipynb\n",
      "    + 161226_how_to_import_to_notebook_from_file_in_different_directory\n",
      "        + .DS_Store\n",
      "        + code_to_import\n",
      "            + .DS_Store\n",
      "            + test_import.py\n",
      "        + notebook_directory\n",
      "            + .ipynb_checkpoints\n",
      "            + import_code_into_this_notebook.ipynb\n",
      "    + 170415_d3_category20_colors.ipynb\n",
      "    + images\n",
      "        + 0red_6water_start.png\n",
      "    + matplotlib_notes.ipynb\n",
      "    + memory_notes.ipynb\n",
      "    + numpy_notes.ipynb\n",
      "    + pandas_notes.ipynb\n",
      "    + pathlib_notes.ipynb\n",
      "    + pathlib_testdir\n",
      "        + .DS_Store\n",
      "        + test.md\n",
      "    + python_notes.ipynb\n",
      "    + working_with_images_notes.ipynb\n"
     ]
    }
   ],
   "source": [
    "def tree(directory):\n",
    "    print(f'+ {directory}')\n",
    "    for path in sorted(directory.rglob('*')):\n",
    "        depth = len(path.relative_to(directory).parts)\n",
    "        spacer = '    ' * depth\n",
    "        print(f'{spacer}+ {path.name}')\n",
    "        \n",
    "tree(pathlib.Path.cwd())"
   ]
  },
  {
   "cell_type": "markdown",
   "metadata": {
    "collapsed": true,
    "jupyter": {
     "outputs_hidden": true
    }
   },
   "source": [
    "## Convert to a string\n",
    "\n",
    "See Post #2 at [How to store pathlib paths in json file](https://python-forum.io/Thread-How-to-store-pathlib-paths-in-json-file) which leads to [os.fspath()](https://docs.python.org/3/library/os.html#os.fspath).\n",
    "\n",
    "    os.fspath(path)\n",
    "    \n",
    "Instead of \n",
    "\n",
    "    str(path)\n",
    "\n",
    "From the documentation for os.path():\n",
    "\n",
    ">If str or bytes is passed in, it is returned unchanged. Otherwise __fspath__() is called and its value is returned as long as it is a str or bytes object."
   ]
  },
  {
   "cell_type": "code",
   "execution_count": null,
   "metadata": {},
   "outputs": [],
   "source": []
  }
 ],
 "metadata": {
  "kernelspec": {
   "display_name": "py36_anaconda_root",
   "language": "python",
   "name": "py36_anaconda_root"
  },
  "language_info": {
   "codemirror_mode": {
    "name": "ipython",
    "version": 3
   },
   "file_extension": ".py",
   "mimetype": "text/x-python",
   "name": "python",
   "nbconvert_exporter": "python",
   "pygments_lexer": "ipython3",
   "version": "3.6.8"
  },
  "toc": {
   "base_numbering": 1,
   "nav_menu": {
    "height": "102px",
    "width": "252px"
   },
   "number_sections": true,
   "sideBar": true,
   "skip_h1_title": false,
   "title_cell": "Table of Contents",
   "title_sidebar": "Contents",
   "toc_cell": false,
   "toc_position": {},
   "toc_section_display": "block",
   "toc_window_display": false
  }
 },
 "nbformat": 4,
 "nbformat_minor": 4
}
