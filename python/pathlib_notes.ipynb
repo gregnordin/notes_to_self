{
 "cells": [
  {
   "cell_type": "markdown",
   "metadata": {},
   "source": [
    "## pathlib Module\n",
    "\n",
    "**Very good introduction**  \n",
    "[Python 3's pathlib Module: Taming the File System by Geir Arne Hjelle  Apr 23, 2018](https://realpython.com/python-pathlib/) \n",
    "\n",
    "**Cheatsheet**  \n",
    "[Pathlib-Cheatsheet.pdf](https://github.com/chris1610/pbpython/blob/master/extras/Pathlib-Cheatsheet.pdf)"
   ]
  },
  {
   "cell_type": "code",
   "execution_count": 2,
   "metadata": {},
   "outputs": [],
   "source": [
    "import pathlib"
   ]
  },
  {
   "cell_type": "code",
   "execution_count": 3,
   "metadata": {},
   "outputs": [
    {
     "data": {
      "text/plain": [
       "PosixPath('/Users/nordin/Documents/Projects/notes_to_self/python')"
      ]
     },
     "execution_count": 3,
     "metadata": {},
     "output_type": "execute_result"
    }
   ],
   "source": [
    "pathlib.Path.cwd()"
   ]
  },
  {
   "cell_type": "markdown",
   "metadata": {},
   "source": [
    "## Create a markdown file"
   ]
  },
  {
   "cell_type": "code",
   "execution_count": 5,
   "metadata": {},
   "outputs": [
    {
     "data": {
      "text/plain": [
       "121"
      ]
     },
     "execution_count": 5,
     "metadata": {},
     "output_type": "execute_result"
    }
   ],
   "source": [
    "# Create a file path (but file does not yet exist)\n",
    "mdfile = pathlib.Path.cwd() / 'pathlib_testdir' / 'test.md'\n",
    "\n",
    "markdown_text = '''\n",
    "# Test heading\n",
    "\n",
    "## Subheading\n",
    "\n",
    "Some text. More text.\n",
    "\n",
    "- bullet 1\n",
    "- bullet 2\n",
    "\n",
    "**Bold text**  \n",
    "*Italic text*  \n",
    "Plain text\n",
    "'''\n",
    "\n",
    "# Write text to file. Since file does not exist, file will be created\n",
    "mdfile.write_text(markdown_text)"
   ]
  },
  {
   "cell_type": "markdown",
   "metadata": {},
   "source": [
    "## Parts of a Path"
   ]
  },
  {
   "cell_type": "code",
   "execution_count": 6,
   "metadata": {},
   "outputs": [
    {
     "data": {
      "text/plain": [
       "PosixPath('/Users/nordin/Documents/Projects/notes_to_self/python/pathlib_testdir/test.md')"
      ]
     },
     "execution_count": 6,
     "metadata": {},
     "output_type": "execute_result"
    }
   ],
   "source": [
    "mdfile"
   ]
  },
  {
   "cell_type": "code",
   "execution_count": 7,
   "metadata": {},
   "outputs": [
    {
     "data": {
      "text/plain": [
       "'test.md'"
      ]
     },
     "execution_count": 7,
     "metadata": {},
     "output_type": "execute_result"
    }
   ],
   "source": [
    "mdfile.name"
   ]
  },
  {
   "cell_type": "code",
   "execution_count": 8,
   "metadata": {},
   "outputs": [
    {
     "data": {
      "text/plain": [
       "'.md'"
      ]
     },
     "execution_count": 8,
     "metadata": {},
     "output_type": "execute_result"
    }
   ],
   "source": [
    "mdfile.suffix"
   ]
  },
  {
   "cell_type": "code",
   "execution_count": 9,
   "metadata": {},
   "outputs": [
    {
     "data": {
      "text/plain": [
       "'test'"
      ]
     },
     "execution_count": 9,
     "metadata": {},
     "output_type": "execute_result"
    }
   ],
   "source": [
    "mdfile.stem"
   ]
  },
  {
   "cell_type": "code",
   "execution_count": 10,
   "metadata": {},
   "outputs": [
    {
     "data": {
      "text/plain": [
       "PosixPath('/Users/nordin/Documents/Projects/notes_to_self/python/pathlib_testdir')"
      ]
     },
     "execution_count": 10,
     "metadata": {},
     "output_type": "execute_result"
    }
   ],
   "source": [
    "mdfile.parent"
   ]
  },
  {
   "cell_type": "code",
   "execution_count": 12,
   "metadata": {},
   "outputs": [
    {
     "data": {
      "text/plain": [
       "PosixPath('/Users/nordin/Documents/Projects/notes_to_self/python')"
      ]
     },
     "execution_count": 12,
     "metadata": {},
     "output_type": "execute_result"
    }
   ],
   "source": [
    "mdfile.parent.parent"
   ]
  },
  {
   "cell_type": "markdown",
   "metadata": {},
   "source": [
    "## Iterate over files"
   ]
  },
  {
   "cell_type": "code",
   "execution_count": 13,
   "metadata": {},
   "outputs": [
    {
     "data": {
      "text/plain": [
       "Counter({'': 5, '.ipynb': 8})"
      ]
     },
     "execution_count": 13,
     "metadata": {},
     "output_type": "execute_result"
    }
   ],
   "source": [
    "import collections\n",
    "\n",
    "collections.Counter(p.suffix for p in pathlib.Path.cwd().iterdir())"
   ]
  },
  {
   "cell_type": "code",
   "execution_count": 14,
   "metadata": {},
   "outputs": [
    {
     "data": {
      "text/plain": [
       "Counter({'.png': 1, '.py': 1})"
      ]
     },
     "execution_count": 14,
     "metadata": {},
     "output_type": "execute_result"
    }
   ],
   "source": [
    "collections.Counter(p.suffix for p in pathlib.Path.cwd().rglob('*.p*'))"
   ]
  },
  {
   "cell_type": "markdown",
   "metadata": {},
   "source": [
    "## Print directory tree"
   ]
  },
  {
   "cell_type": "code",
   "execution_count": 15,
   "metadata": {},
   "outputs": [
    {
     "name": "stdout",
     "output_type": "stream",
     "text": [
      "+ /Users/nordin/Documents/Projects/notes_to_self/python\n",
      "    + .DS_Store\n",
      "    + .ipynb_checkpoints\n",
      "        + magics_html_and_javascript-checkpoint.ipynb\n",
      "        + matplotlib_notes-checkpoint.ipynb\n",
      "        + memory_notes-checkpoint.ipynb\n",
      "        + numpy_notes-checkpoint.ipynb\n",
      "        + pandas_notes-checkpoint.ipynb\n",
      "        + pathlib_notes-checkpoint.ipynb\n",
      "        + python_notes-checkpoint.ipynb\n",
      "        + working_with_images_notes-checkpoint.ipynb\n",
      "    + 161226_how_to_import_to_notebook_from_file_in_different_directory\n",
      "        + .DS_Store\n",
      "        + code_to_import\n",
      "            + .DS_Store\n",
      "            + test_import.py\n",
      "        + notebook_directory\n",
      "            + .ipynb_checkpoints\n",
      "            + import_code_into_this_notebook.ipynb\n",
      "    + 170415_d3_category20_colors.ipynb\n",
      "    + images\n",
      "        + 0red_6water_start.png\n",
      "    + matplotlib_notes.ipynb\n",
      "    + memory_notes.ipynb\n",
      "    + numpy_notes.ipynb\n",
      "    + pandas_notes.ipynb\n",
      "    + pathlib_notes.ipynb\n",
      "    + pathlib_testdir\n",
      "        + .DS_Store\n",
      "        + test.md\n",
      "    + python_notes.ipynb\n",
      "    + working_with_images_notes.ipynb\n"
     ]
    }
   ],
   "source": [
    "def tree(directory):\n",
    "    print(f'+ {directory}')\n",
    "    for path in sorted(directory.rglob('*')):\n",
    "        depth = len(path.relative_to(directory).parts)\n",
    "        spacer = '    ' * depth\n",
    "        print(f'{spacer}+ {path.name}')\n",
    "        \n",
    "tree(pathlib.Path.cwd())"
   ]
  },
  {
   "cell_type": "code",
   "execution_count": null,
   "metadata": {
    "collapsed": true
   },
   "outputs": [],
   "source": []
  }
 ],
 "metadata": {
  "kernelspec": {
   "display_name": "Python [conda root]",
   "language": "python",
   "name": "conda-root-py"
  },
  "language_info": {
   "codemirror_mode": {
    "name": "ipython",
    "version": 3
   },
   "file_extension": ".py",
   "mimetype": "text/x-python",
   "name": "python",
   "nbconvert_exporter": "python",
   "pygments_lexer": "ipython3",
   "version": "3.6.2"
  },
  "toc": {
   "colors": {
    "hover_highlight": "#DAA520",
    "navigate_num": "#000000",
    "navigate_text": "#333333",
    "running_highlight": "#FF0000",
    "selected_highlight": "#FFD700",
    "sidebar_border": "#EEEEEE",
    "wrapper_background": "#FFFFFF"
   },
   "moveMenuLeft": true,
   "nav_menu": {
    "height": "102px",
    "width": "252px"
   },
   "navigate_menu": true,
   "number_sections": true,
   "sideBar": true,
   "threshold": 4,
   "toc_cell": false,
   "toc_section_display": "block",
   "toc_window_display": false,
   "widenNotebook": false
  }
 },
 "nbformat": 4,
 "nbformat_minor": 2
}
