{
 "cells": [
  {
   "cell_type": "code",
   "execution_count": 2,
   "metadata": {
    "collapsed": true,
    "deletable": true,
    "editable": true
   },
   "outputs": [],
   "source": [
    "import numpy as np"
   ]
  },
  {
   "cell_type": "markdown",
   "metadata": {},
   "source": [
    "# Resources\n",
    "\n",
    "[mattharrison/Tiny-Python-3.6-Notebook](https://github.com/mattharrison/Tiny-Python-3.6-Notebook/blob/master/python.rst)\n",
    "\n",
    "[Python for Scientists and Engineers](http://pythonforengineers.com/python-for-scientists-and-engineers/)\n",
    "\n",
    "- Intro: Start here\n",
    "- Installing the libraries required for the book\n",
    "- Beginners Start Here:\n",
    "    - Create a Word Counter in Python\n",
    "    - An introduction to Numpy and Matplotlib\n",
    "- Introduction to Pandas with Practical Examples (New)\n",
    "- Main Book\n",
    "    - Image and Video Processing in Python\n",
    "    - Data Analysis with Pandas\n",
    "    - Audio and Digital Signal Processing (DSP)\n",
    "    - Control Your Raspberry Pi From Your Phone / Tablet\n",
    "- Machine Learning Section\n",
    "    - Machine Learning with an Amazon like Recommendation Engine\n",
    "    - Machine Learning New Stuff\n",
    "    - Machine Learning For Complete Beginners: Learn how to predict how many Titanic survivors using machine learning. No previous knowledge needed!\n",
    "    - Cross Validation and Model Selection: In which we look at cross validation, and how to choose between different machine learning algorithms. Working with the Iris flower dataset and the Pima diabetes dataset.\n",
    "- Natural Language Processing\n",
    "    - 0. Introduction to NLP and Sentiment Analysis\n",
    "    - 1. Natural Language Processing with NTLK\n",
    "    - 2. Intro to NTLK, Part 2\n",
    "    - 3. Build a sentiment analysis program\n",
    "    - 4. Sentiment Analysis with Twitter\n",
    "    - 5. Analysing the Enron Email Corpus: The Enron Email corpus has half a million files spread over 2.5 GB. When looking at data this size, the question is, where do you even start?\n",
    "    - 6. Build a Spam Filter using the Enron Corpus"
   ]
  },
  {
   "cell_type": "markdown",
   "metadata": {
    "deletable": true,
    "editable": true
   },
   "source": [
    "# Flatten list of lists\n",
    "\n",
    "See [this stackoverflow answer](http://stackoverflow.com/questions/11264684/flatten-list-of-lists)"
   ]
  },
  {
   "cell_type": "code",
   "execution_count": 7,
   "metadata": {
    "collapsed": false,
    "deletable": true,
    "editable": true
   },
   "outputs": [
    {
     "name": "stdout",
     "output_type": "stream",
     "text": [
      "[[0, 1], [2, 3], [4, 5], [6, 7]]\n",
      "[0, 1, 2, 3, 4, 5, 6, 7]\n"
     ]
    }
   ],
   "source": [
    "data = [[0,1], [2,3], [4,5], [6,7]]\n",
    "data2 = [val for sublist in data for val in sublist]\n",
    "print(data)\n",
    "print(data2)"
   ]
  },
  {
   "cell_type": "markdown",
   "metadata": {
    "deletable": true,
    "editable": true
   },
   "source": [
    "An alternative is to use the `itertools.chain(*iterables)` (see the 2nd answer to [this stackoverflow question](http://stackoverflow.com/questions/952914/making-a-flat-list-out-of-list-of-lists-in-python) or `itertools.chain.from_iterable(iterable)` (see answer [here](http://stackoverflow.com/questions/29244286/how-to-flatten-a-2d-list-to-1d-without-using-numpy)). I like the 2nd method a little better because you directly pass the `iterable` item rather than `*iterable`:"
   ]
  },
  {
   "cell_type": "code",
   "execution_count": 2,
   "metadata": {
    "collapsed": false,
    "deletable": true,
    "editable": true
   },
   "outputs": [
    {
     "data": {
      "text/plain": [
       "[1, 2, 3, 1, 2, 1, 4, 5, 6, 7]"
      ]
     },
     "execution_count": 2,
     "metadata": {},
     "output_type": "execute_result"
    }
   ],
   "source": [
    "import itertools\n",
    "\n",
    "list2d = [[1,2,3],[1,2],[1,4,5,6,7]]\n",
    "list(itertools.chain.from_iterable(list2d))"
   ]
  },
  {
   "cell_type": "markdown",
   "metadata": {
    "collapsed": true,
    "deletable": true,
    "editable": true
   },
   "source": [
    "# \\*args and \\*\\*kwargs\n",
    "\n",
    "See Dan Bader youtube video [Python Tricks #7: *args and **kwargs Recipes for Clean Python](https://www.youtube.com/watch?v=WcTXxX3vYgY&list=TLGGFBo8LInGaKUyMTAyMjAxNw)"
   ]
  },
  {
   "cell_type": "code",
   "execution_count": 1,
   "metadata": {
    "collapsed": true,
    "deletable": true,
    "editable": true
   },
   "outputs": [],
   "source": [
    "def foo(required, *args, **kwargs):\n",
    "    print(required)\n",
    "    if args:\n",
    "        print(args)\n",
    "    if kwargs:\n",
    "        print(kwargs)"
   ]
  },
  {
   "cell_type": "code",
   "execution_count": 2,
   "metadata": {
    "collapsed": false,
    "deletable": true,
    "editable": true
   },
   "outputs": [
    {
     "name": "stdout",
     "output_type": "stream",
     "text": [
      "hello\n"
     ]
    }
   ],
   "source": [
    "foo('hello')"
   ]
  },
  {
   "cell_type": "code",
   "execution_count": 3,
   "metadata": {
    "collapsed": false,
    "deletable": true,
    "editable": true
   },
   "outputs": [
    {
     "name": "stdout",
     "output_type": "stream",
     "text": [
      "hello\n",
      "(1, 2, 3)\n"
     ]
    }
   ],
   "source": [
    "foo('hello', 1, 2, 3)"
   ]
  },
  {
   "cell_type": "code",
   "execution_count": 4,
   "metadata": {
    "collapsed": false,
    "deletable": true,
    "editable": true
   },
   "outputs": [
    {
     "name": "stdout",
     "output_type": "stream",
     "text": [
      "hello\n",
      "(1, 2, 3)\n",
      "{'key2': 9999, 'key1': 'value'}\n"
     ]
    }
   ],
   "source": [
    "foo('hello', 1, 2, 3, key1='value', key2=9999)"
   ]
  },
  {
   "cell_type": "markdown",
   "metadata": {
    "collapsed": true,
    "deletable": true,
    "editable": true
   },
   "source": [
    "# Dicts\n",
    "\n",
    "## Pretty-print Python dicts with json.dumps()"
   ]
  },
  {
   "cell_type": "code",
   "execution_count": 3,
   "metadata": {
    "collapsed": false,
    "deletable": true,
    "editable": true
   },
   "outputs": [
    {
     "name": "stdout",
     "output_type": "stream",
     "text": [
      "{\n",
      "    \"first\": 16,\n",
      "    \"fourth\": \"some text\",\n",
      "    \"second\": 27,\n",
      "    \"third\": 55\n",
      "}\n"
     ]
    }
   ],
   "source": [
    "import json\n",
    "\n",
    "temp_dict = {'first':16, 'second': 27, 'third':55, 'fourth':'some text'}\n",
    "\n",
    "print(json.dumps(temp_dict, indent=4, sort_keys=True))"
   ]
  },
  {
   "cell_type": "markdown",
   "metadata": {
    "deletable": true,
    "editable": true
   },
   "source": [
    "## Merging two dicts"
   ]
  },
  {
   "cell_type": "code",
   "execution_count": 4,
   "metadata": {
    "collapsed": false,
    "deletable": true,
    "editable": true
   },
   "outputs": [
    {
     "data": {
      "text/plain": [
       "{'xfirst': 1, 'xsecond': 2, 'yfirst': 3, 'ysecond': 4}"
      ]
     },
     "execution_count": 4,
     "metadata": {},
     "output_type": "execute_result"
    }
   ],
   "source": [
    "x = {'xfirst':1, 'xsecond':2}\n",
    "y = {'yfirst':3, 'ysecond':4}\n",
    "merged = {**x, **y}\n",
    "merged"
   ]
  },
  {
   "cell_type": "markdown",
   "metadata": {
    "deletable": true,
    "editable": true
   },
   "source": [
    "## Sort dict with strings as keys in alphabetical order"
   ]
  },
  {
   "cell_type": "code",
   "execution_count": 7,
   "metadata": {
    "collapsed": false,
    "deletable": true,
    "editable": true
   },
   "outputs": [
    {
     "data": {
      "text/plain": [
       "{'Fifth': 5, 'Fourth': 4, 'first': 1, 'second': 2, 'sixth': 6, 'third': 3}"
      ]
     },
     "execution_count": 7,
     "metadata": {},
     "output_type": "execute_result"
    }
   ],
   "source": [
    "test_dict = {'first': 1, 'second': 2, 'third': 3, 'Fourth': 4, 'Fifth': 5, 'sixth': 6}\n",
    "test_dict"
   ]
  },
  {
   "cell_type": "code",
   "execution_count": 8,
   "metadata": {
    "collapsed": false,
    "deletable": true,
    "editable": true
   },
   "outputs": [
    {
     "data": {
      "text/plain": [
       "['Fifth', 'Fourth', 'first', 'second', 'sixth', 'third']"
      ]
     },
     "execution_count": 8,
     "metadata": {},
     "output_type": "execute_result"
    }
   ],
   "source": [
    "sorted(test_dict)"
   ]
  },
  {
   "cell_type": "code",
   "execution_count": 9,
   "metadata": {
    "collapsed": false,
    "deletable": true,
    "editable": true
   },
   "outputs": [
    {
     "data": {
      "text/plain": [
       "['Fifth', 'first', 'Fourth', 'second', 'sixth', 'third']"
      ]
     },
     "execution_count": 9,
     "metadata": {},
     "output_type": "execute_result"
    }
   ],
   "source": [
    "sorted(test_dict, key=str.lower)"
   ]
  },
  {
   "cell_type": "markdown",
   "metadata": {
    "deletable": true,
    "editable": true
   },
   "source": [
    "## Use of `setdefault` for dicts"
   ]
  },
  {
   "cell_type": "code",
   "execution_count": 12,
   "metadata": {
    "collapsed": false,
    "deletable": true,
    "editable": true
   },
   "outputs": [
    {
     "name": "stdout",
     "output_type": "stream",
     "text": [
      "1. {}\n",
      "2. {'key': {}}\n",
      "3. {'key': {'a': 'value'}}\n",
      "4. {'key2': {'a': 'aaa'}}\n",
      "5. {'a': 'aaa'}\n",
      "6. {'key3': {'b': 'bbb'}}\n"
     ]
    }
   ],
   "source": [
    "# 1. Empty dict\n",
    "temp = {}\n",
    "print('1.', temp)\n",
    "\n",
    "# 2. If there is no 'key', use setdefault to create one and set it to an empty dict\n",
    "temp.setdefault('key', {})\n",
    "print('2.', temp)\n",
    "\n",
    "# 3. If 'key' does exist, setdefault does nothing\n",
    "temp = {}\n",
    "temp['key'] = {'a' : 'value'}\n",
    "temp.setdefault('key', {})\n",
    "print('3.', temp)\n",
    "\n",
    "# 4. If 'key' does not exist, use setdefault to set it to have a value of the dict {'a' : 'aaa'}\n",
    "temp = {}\n",
    "temp.setdefault('key2', {}).update({'a' : 'aaa'})\n",
    "print('4.', temp)\n",
    "\n",
    "# 5. Just a quick example of how update works with a dict\n",
    "temp = {}\n",
    "temp.update({'a' : 'aaa'})\n",
    "print('5.', temp)\n",
    "\n",
    "# 6. Illustrate use of variables with setdefault\n",
    "temp = {}\n",
    "keyname = 'key3'\n",
    "keyname_subdict = 'b'\n",
    "value = 'bbb'\n",
    "temp.setdefault(keyname, {}).update({keyname_subdict : value})\n",
    "print('6.', temp)"
   ]
  },
  {
   "cell_type": "markdown",
   "metadata": {
    "collapsed": true,
    "deletable": true,
    "editable": true
   },
   "source": [
    "# Interesting data structures\n",
    "\n",
    "[New interesting data structures in Python 3](https://github.com/topper-123/Articles/blob/master/New-interesting-data-types-in-Python3.rst). They are:\n",
    "\n",
    "- `types.MappingProxyType` is used as a read-only dict and was added in Python 3.3. \n",
    "    - If you want to deliver data dicts to different functions or threads and want to ensure that a function is not changing data that is also used by another function, you can just deliver a MappingProxyType object to all functions, rather than the original dict, and the data dict now cannot be changed unintentionally.\n",
    "- `typing.NamedTuple` is a supercharged version of the venerable collections.namedtuple and while it was added in Python 3.5, it really came into its own in Python 3.6.\n",
    "- `types.SimpleNamespace` is a simple class that provides attribute access to its namespace, as well as a meaningful repr."
   ]
  },
  {
   "cell_type": "markdown",
   "metadata": {
    "collapsed": true,
    "deletable": true,
    "editable": true
   },
   "source": [
    "# How to set up package during its development prior to it being installed\n",
    "\n",
    "The problem is how to import the package and its modules into scripts during development. Assumed file organization:\n",
    "\n",
    "    script_using_package.py\n",
    "    package_name\n",
    "        __init__.py\n",
    "        file1.py\n",
    "        file2.py\n",
    "        \n",
    "One could do __relative imports__ in `__init__.py`,\n",
    "\n",
    "    from . file1 import File1_thing\n",
    "    from . file2 import File2_thing\n",
    "    \n",
    "but if `file2.py` needs to import `File1_thing` it will also have to use a relative import,\n",
    "\n",
    "    from . file1 import File1_thing\n",
    "\n",
    "Instead, we can put the path to `package_name` in the python path by first including the following code in `__init__.py` (see [this StackOverflow answer](http://stackoverflow.com/questions/279237/import-a-module-from-a-relative-path)): \n",
    "\n",
    "    import os\n",
    "    import inspect\n",
    "    import sys\n",
    "\n",
    "    package_folder = os.path.realpath(os.path.abspath(os.path.split(inspect.getfile(inspect.currentframe()))[0]))\n",
    "    if package_folder not in sys.path:\n",
    "        sys.path.append(package_folder)\n",
    " \n",
    "Now in `file2.py` we can do\n",
    "\n",
    "    from file1 import File1_thing\n",
    "\n",
    "and it will work just fine. In `script_using_package.py` we can do\n",
    "\n",
    "    from package_name import *\n",
    "    \n",
    "and `File1_thing` and `File2_thing` will be imported."
   ]
  },
  {
   "cell_type": "markdown",
   "metadata": {
    "deletable": true,
    "editable": true
   },
   "source": [
    "# How to include `test` in package\n",
    "\n",
    "Assume we're using pytest, which is invoked on the command line in the directory containing `package` (see below for file structure) with `py.test`.\n",
    "\n",
    "    └── package\n",
    "        ├── __init__.py\n",
    "        ├── bends.py\n",
    "        ├── cylinders.py\n",
    "        ├── flowchannel.py\n",
    "        ├── microfluidicdesign.py\n",
    "        ├── multiflowchannel.py\n",
    "        ├── multiplecomponents.py\n",
    "        ├── point.py\n",
    "        └── test\n",
    "            ├── __init__.py\n",
    "            └── test_point.py\n",
    "\n",
    "Put `__init__.py` in the `tests` directory. The reason is explained in the following Note from [Good Integration Practices](http://doc.pytest.org/en/latest/goodpractices.html):\n",
    "\n",
    ">If pytest finds a “a/b/test_module.py” test file while recursing into the filesystem it determines the import name as follows:\n",
    ">\n",
    ">- determine basedir: this is the first “upward” (towards the root) directory not containing an __init__.py. If e.g. both a and b contain an __init__.py file then the parent directory of a will become the basedir.\n",
    ">- perform sys.path.insert(0, basedir) to make the test module importable under the fully qualified import name.\n",
    ">- import a.b.test_module where the path is determined by converting path separators / into ”.” characters. This means you must follow the convention of having directory and file names map directly to the import names.\n",
    "\n",
    "[Open Sourcing a Python Project the Right Way](https://www.jeffknupp.com/blog/2013/08/16/open-sourcing-a-python-project-the-right-way/) also puts `test` in the package directory. An interesting alternate approach is shown in the answer by Steely Wing to [Where do the Python unit tests go?](http://stackoverflow.com/questions/61151/where-do-the-python-unit-tests-go)."
   ]
  },
  {
   "cell_type": "markdown",
   "metadata": {},
   "source": [
    "# Simple web server from the command line\n",
    "\n",
    "Assume a directory with a static html file (`index.html`). A simple http server ([21.22. http.server — HTTP servers](https://docs.python.org/3/library/http.server.html)) can be run from the command line by executing \n",
    "\n",
    "    python -m http.server 8000 --bind 127.0.0.1\n",
    "\n",
    "with the directory as the present working directory. The html file can be accessed in a browser with url `http://127.0.0.1:8000/index.html`.\n",
    "\n"
   ]
  },
  {
   "cell_type": "markdown",
   "metadata": {
    "deletable": true,
    "editable": true
   },
   "source": [
    "# Book: Automate the Boring Stuff\n",
    "\n",
    "[Automate the Boring Stuff with Python, Al Sweigart](https://automatetheboringstuff.com)\n",
    "\n",
    "See particularly [Chapter 18 – Controlling the Keyboard and Mouse with GUI Automation](https://automatetheboringstuff.com/chapter18/) focused on the use of [PyAutoGUI](http://pyautogui.readthedocs.io/en/latest/) which is a Python module for programmatically controlling the mouse and keyboard."
   ]
  },
  {
   "cell_type": "markdown",
   "metadata": {
    "deletable": true,
    "editable": true
   },
   "source": [
    "# timeit module"
   ]
  },
  {
   "cell_type": "code",
   "execution_count": 1,
   "metadata": {
    "collapsed": true,
    "deletable": true,
    "editable": true
   },
   "outputs": [],
   "source": [
    "import numpy as np\n",
    "\n",
    "import timeit"
   ]
  },
  {
   "cell_type": "markdown",
   "metadata": {
    "deletable": true,
    "editable": true
   },
   "source": [
    "## Pure standard python"
   ]
  },
  {
   "cell_type": "code",
   "execution_count": 2,
   "metadata": {
    "collapsed": false,
    "deletable": true,
    "editable": true
   },
   "outputs": [
    {
     "name": "stdout",
     "output_type": "stream",
     "text": [
      "0.0007284970488399267\n",
      "7.284970488399267e-05\n"
     ]
    }
   ],
   "source": [
    "cmd = '''\n",
    "temp = []\n",
    "for i in range(1000):\n",
    "    temp.append(i)\n",
    "'''\n",
    "\n",
    "num_calls = 10\n",
    "\n",
    "time_tot = timeit.timeit(cmd, number=num_calls)\n",
    "time_ave = time_tot / num_calls\n",
    "print(time_tot)\n",
    "print(time_ave)"
   ]
  },
  {
   "cell_type": "markdown",
   "metadata": {
    "deletable": true,
    "editable": true
   },
   "source": [
    "## With imported package\n",
    "\n",
    "[See this stackoverflow question and answer](http://stackoverflow.com/questions/21216208/timeit-module-in-python-does-not-recognize-numpy-module)"
   ]
  },
  {
   "cell_type": "code",
   "execution_count": 3,
   "metadata": {
    "collapsed": false,
    "deletable": true,
    "editable": true
   },
   "outputs": [
    {
     "name": "stdout",
     "output_type": "stream",
     "text": [
      "0.003353904001414776\n",
      "0.0029485179111361504\n"
     ]
    }
   ],
   "source": [
    "cmd = \"np.zeros((100,100))\"\n",
    "\n",
    "t_with_setup = timeit.timeit(cmd, setup='import numpy as np', number=1000)\n",
    "\n",
    "u = timeit.Timer(lambda: np.zeros((100,100)))\n",
    "t_with_lambda = u.timeit(number=1000)\n",
    "\n",
    "print(t_with_setup)\n",
    "print(t_with_lambda)"
   ]
  },
  {
   "cell_type": "markdown",
   "metadata": {
    "deletable": true,
    "editable": true
   },
   "source": [
    "# Looping over instance variables of a class\n",
    "\n",
    "## Test case"
   ]
  },
  {
   "cell_type": "code",
   "execution_count": 4,
   "metadata": {
    "collapsed": false,
    "deletable": true,
    "editable": true
   },
   "outputs": [
    {
     "data": {
      "text/plain": [
       "<__main__.TestClass at 0x10d49aeb8>"
      ]
     },
     "execution_count": 4,
     "metadata": {},
     "output_type": "execute_result"
    }
   ],
   "source": [
    "class TestClass():\n",
    "    def __init__(self):\n",
    "        self.a = 1\n",
    "        self.b = 'b'\n",
    "        self.c = \"True\"\n",
    "        self.d = [10, 11, 12]\n",
    "        \n",
    "testclass = TestClass()\n",
    "testclass"
   ]
  },
  {
   "cell_type": "code",
   "execution_count": 6,
   "metadata": {
    "collapsed": false,
    "deletable": true,
    "editable": true
   },
   "outputs": [
    {
     "data": {
      "text/plain": [
       "{'a': 1, 'b': 'b', 'c': 'True', 'd': [10, 11, 12]}"
      ]
     },
     "execution_count": 6,
     "metadata": {},
     "output_type": "execute_result"
    }
   ],
   "source": [
    "instancevars = vars(testclass)\n",
    "instancevars"
   ]
  },
  {
   "cell_type": "code",
   "execution_count": 11,
   "metadata": {
    "collapsed": false,
    "deletable": true,
    "editable": true
   },
   "outputs": [
    {
     "name": "stdout",
     "output_type": "stream",
     "text": [
      "a 1\n",
      "b b\n",
      "c True\n",
      "d [10, 11, 12]\n"
     ]
    }
   ],
   "source": [
    "for var in sorted(instancevars):\n",
    "    if hasattr(testclass, var):\n",
    "        print( var, getattr(testclass, var) )"
   ]
  },
  {
   "cell_type": "markdown",
   "metadata": {
    "deletable": true,
    "editable": true
   },
   "source": [
    "## Use to copy class instance"
   ]
  },
  {
   "cell_type": "code",
   "execution_count": 25,
   "metadata": {
    "collapsed": false,
    "deletable": true,
    "editable": true
   },
   "outputs": [
    {
     "data": {
      "text/plain": [
       "a:1, b:2, c:3, d:4"
      ]
     },
     "execution_count": 25,
     "metadata": {},
     "output_type": "execute_result"
    }
   ],
   "source": [
    "class TestClass2():\n",
    "    def __init__(self, a=None, b=None, c=None, d=None):\n",
    "        self.a = a\n",
    "        self.b = b\n",
    "        self.c = c\n",
    "        self.d = d\n",
    "        \n",
    "    def copy(self):\n",
    "        newinstance = TestClass2()\n",
    "        for var in sorted(vars(self)):\n",
    "            setattr(newinstance, var, getattr(self, var))\n",
    "        return newinstance\n",
    "    \n",
    "    def __str__(self):\n",
    "        return \"a:{}, b:{}, c:{}, d:{}\".format(str(self.a), str(self.b), str(self.c), str(self.d))\n",
    "    \n",
    "    def __repr__(self):\n",
    "        return self.__str__()\n",
    "        \n",
    "testclass2 = TestClass2(1, 2, 3, 4)\n",
    "testclass2"
   ]
  },
  {
   "cell_type": "code",
   "execution_count": 26,
   "metadata": {
    "collapsed": false,
    "deletable": true,
    "editable": true
   },
   "outputs": [
    {
     "data": {
      "text/plain": [
       "a:1, b:2, c:3, d:4"
      ]
     },
     "execution_count": 26,
     "metadata": {},
     "output_type": "execute_result"
    }
   ],
   "source": [
    "testclass2copy = testclass2.copy()\n",
    "testclass2copy"
   ]
  },
  {
   "cell_type": "code",
   "execution_count": null,
   "metadata": {
    "collapsed": true,
    "deletable": true,
    "editable": true
   },
   "outputs": [],
   "source": []
  }
 ],
 "metadata": {
  "anaconda-cloud": {},
  "kernelspec": {
   "display_name": "Python [conda root]",
   "language": "python",
   "name": "conda-root-py"
  },
  "language_info": {
   "codemirror_mode": {
    "name": "ipython",
    "version": 3
   },
   "file_extension": ".py",
   "mimetype": "text/x-python",
   "name": "python",
   "nbconvert_exporter": "python",
   "pygments_lexer": "ipython3",
   "version": "3.5.2"
  },
  "latex_envs": {
   "LaTeX_envs_menu_present": true,
   "bibliofile": "biblio.bib",
   "cite_by": "apalike",
   "current_citInitial": 1,
   "eqLabelWithNumbers": true,
   "eqNumInitial": 1,
   "labels_anchors": false,
   "latex_user_defs": false,
   "report_style_numbering": false,
   "user_envs_cfg": false
  },
  "toc": {
   "colors": {
    "hover_highlight": "#DAA520",
    "running_highlight": "#FF0000",
    "selected_highlight": "#FFD700"
   },
   "moveMenuLeft": true,
   "nav_menu": {
    "height": "49px",
    "width": "252px"
   },
   "navigate_menu": true,
   "number_sections": true,
   "sideBar": true,
   "threshold": 4,
   "toc_cell": false,
   "toc_position": {
    "height": "814px",
    "left": "0px",
    "right": "1344px",
    "top": "107px",
    "width": "336px"
   },
   "toc_section_display": "block",
   "toc_window_display": true
  }
 },
 "nbformat": 4,
 "nbformat_minor": 0
}
