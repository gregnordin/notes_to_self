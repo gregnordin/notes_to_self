{
 "cells": [
  {
   "cell_type": "markdown",
   "metadata": {},
   "source": [
    "# Smooth slider interaction with matplotlib and bqplot\n",
    "\n",
    "See this Project Jupyter group thread: [Smooth interaction with graphics](https://groups.google.com/forum/#!topic/jupyter/XBhFrNDC0UQ)\n",
    "\n",
    "## Matplotlib - flickers a lot"
   ]
  },
  {
   "cell_type": "code",
   "execution_count": 1,
   "metadata": {
    "collapsed": false
   },
   "outputs": [
    {
     "data": {
      "image/png": "[encoded data removed]",
      "text/plain": [
       "<matplotlib.figure.Figure at 0x11128bc88>"
      ]
     },
     "metadata": {},
     "output_type": "display_data"
    }
   ],
   "source": [
    "%matplotlib inline\n",
    "import matplotlib.pyplot as plt\n",
    "import numpy as np\n",
    "from ipywidgets import interact, FloatSlider\n",
    "\n",
    "def myplot(a):\n",
    "    xs = np.linspace(-3,3,100)\n",
    "    ys = np.sin(a*xs)\n",
    "    plt.plot(xs,ys)\n",
    "demo = interact(myplot, a=FloatSlider(value=1, min=-3, max=3, step=0.01))"
   ]
  },
  {
   "cell_type": "markdown",
   "metadata": {},
   "source": [
    "## bqplot"
   ]
  },
  {
   "cell_type": "code",
   "execution_count": 1,
   "metadata": {
    "collapsed": false
   },
   "outputs": [
    {
     "name": "stderr",
     "output_type": "stream",
     "text": [
      "Widget Javascript not detected.  It may not be installed properly. Did you enable the widgetsnbextension? If not, then run \"jupyter nbextension enable --py --sys-prefix widgetsnbextension\"\n"
     ]
    }
   ],
   "source": [
    "import numpy as np\n",
    "import bqplot.pyplot as plt\n",
    "from ipywidgets import interact, FloatSlider\n",
    "\n",
    "fig = plt.figure()\n",
    "xs = np.linspace(-3,3,100)\n",
    "lines = plt.plot(xs, [])\n",
    "\n",
    "def freq(a): \n",
    "    lines.y = np.sin(a * xs)\n",
    "\n",
    "demo = interact(freq, a=FloatSlider(value=1, min=-3, max=3, step=0.01))\n",
    "plt.ylim(-1.1,1.1)\n",
    "plt.show()"
   ]
  },
  {
   "cell_type": "markdown",
   "metadata": {},
   "source": [
    "Problem: get error message:\n",
    "\n",
    "    Widget Javascript not detected.  It may not be installed properly. Did you enable the widgetsnbextension? If not, then run \"jupyter nbextension enable --py --sys-prefix widgetsnbextension\"\n",
    "    \n",
    "I ran `jupyter nbextension enable --py --sys-prefix widgetsnbextension`, but I still get the same error message."
   ]
  },
  {
   "cell_type": "code",
   "execution_count": null,
   "metadata": {
    "collapsed": true
   },
   "outputs": [],
   "source": []
  }
 ],
 "metadata": {
  "anaconda-cloud": {},
  "kernelspec": {
   "display_name": "Python [Root]",
   "language": "python",
   "name": "Python [Root]"
  },
  "language_info": {
   "codemirror_mode": {
    "name": "ipython",
    "version": 3
   },
   "file_extension": ".py",
   "mimetype": "text/x-python",
   "name": "python",
   "nbconvert_exporter": "python",
   "pygments_lexer": "ipython3",
   "version": "3.5.2"
  }
 },
 "nbformat": 4,
 "nbformat_minor": 0
}
