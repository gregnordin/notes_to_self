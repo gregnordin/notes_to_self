{
 "cells": [
  {
   "cell_type": "markdown",
   "metadata": {},
   "source": [
    "# Purpose\n",
    "\n",
    "This notebook shows how to import code from a `.py` file located in a different directory (`<directory name>` below) into a jupyter notebook. Note that it is not necessary to have a `__init__.py` file in the other directory. Steps:\n",
    "\n",
    "1. Make absolute path to directory that contains the `.py` file\n",
    "1. Insert this path into `sys.path` in position `1`\n",
    "1. Use either `from <directory name> import <function name1>, <function name2>, ...` or `from <directory name> import *` to import desired functions from the `.py` file\n",
    "\n",
    "# Here's the code"
   ]
  },
  {
   "cell_type": "code",
   "execution_count": 1,
   "metadata": {
    "collapsed": true
   },
   "outputs": [],
   "source": [
    "import os\n",
    "import sys\n",
    "module_path = os.path.abspath(os.path.join('../code_to_import'))\n",
    "if module_path not in sys.path:\n",
    "    sys.path.insert(1,module_path)"
   ]
  },
  {
   "cell_type": "code",
   "execution_count": 2,
   "metadata": {
    "collapsed": true
   },
   "outputs": [],
   "source": [
    "from test_import import printhello, printcurrentdirectory"
   ]
  },
  {
   "cell_type": "code",
   "execution_count": 3,
   "metadata": {
    "collapsed": false
   },
   "outputs": [
    {
     "name": "stdout",
     "output_type": "stream",
     "text": [
      "Hello!\n"
     ]
    }
   ],
   "source": [
    "printhello()"
   ]
  },
  {
   "cell_type": "code",
   "execution_count": 4,
   "metadata": {
    "collapsed": false
   },
   "outputs": [
    {
     "name": "stdout",
     "output_type": "stream",
     "text": [
      "/Users/nordin/Documents/Projects/Python/notes_to_self/161226_how_to_import_to_notebook_from_file_in_different_directory/notebook_directory\n"
     ]
    }
   ],
   "source": [
    "printcurrentdirectory()"
   ]
  },
  {
   "cell_type": "markdown",
   "metadata": {},
   "source": [
    "# Check to see what we've done"
   ]
  },
  {
   "cell_type": "code",
   "execution_count": 5,
   "metadata": {
    "collapsed": false
   },
   "outputs": [
    {
     "data": {
      "text/plain": [
       "['',\n",
       " '/Users/nordin/Documents/Projects/Python/notes_to_self/161226_how_to_import_to_notebook_from_file_in_different_directory/code_to_import',\n",
       " '/Users/nordin/anaconda/lib/python35.zip',\n",
       " '/Users/nordin/anaconda/lib/python3.5',\n",
       " '/Users/nordin/anaconda/lib/python3.5/plat-darwin',\n",
       " '/Users/nordin/anaconda/lib/python3.5/lib-dynload',\n",
       " '/Users/nordin/.local/lib/python3.5/site-packages',\n",
       " '/Users/nordin/anaconda/lib/python3.5/site-packages',\n",
       " '/Users/nordin/anaconda/lib/python3.5/site-packages/Sphinx-1.4.1-py3.5.egg',\n",
       " '/Users/nordin/anaconda/lib/python3.5/site-packages/aeosa',\n",
       " '/Users/nordin/anaconda/lib/python3.5/site-packages/setuptools-23.0.0-py3.5.egg',\n",
       " '/Users/nordin/anaconda/lib/python3.5/site-packages/IPython/extensions',\n",
       " '/Users/nordin/.ipython']"
      ]
     },
     "execution_count": 5,
     "metadata": {},
     "output_type": "execute_result"
    }
   ],
   "source": [
    "sys.path"
   ]
  },
  {
   "cell_type": "code",
   "execution_count": 6,
   "metadata": {
    "collapsed": false
   },
   "outputs": [
    {
     "data": {
      "text/plain": [
       "['In',\n",
       " 'Out',\n",
       " '_',\n",
       " '_5',\n",
       " '__',\n",
       " '___',\n",
       " '__builtin__',\n",
       " '__builtins__',\n",
       " '__doc__',\n",
       " '__loader__',\n",
       " '__name__',\n",
       " '__package__',\n",
       " '__spec__',\n",
       " '_dh',\n",
       " '_i',\n",
       " '_i1',\n",
       " '_i2',\n",
       " '_i3',\n",
       " '_i4',\n",
       " '_i5',\n",
       " '_i6',\n",
       " '_ih',\n",
       " '_ii',\n",
       " '_iii',\n",
       " '_oh',\n",
       " '_sh',\n",
       " 'exit',\n",
       " 'get_ipython',\n",
       " 'module_path',\n",
       " 'os',\n",
       " 'printcurrentdirectory',\n",
       " 'printhello',\n",
       " 'quit',\n",
       " 'sys']"
      ]
     },
     "execution_count": 6,
     "metadata": {},
     "output_type": "execute_result"
    }
   ],
   "source": [
    "dir()"
   ]
  },
  {
   "cell_type": "code",
   "execution_count": null,
   "metadata": {
    "collapsed": true
   },
   "outputs": [],
   "source": []
  }
 ],
 "metadata": {
  "anaconda-cloud": {},
  "kernelspec": {
   "display_name": "Python [Root]",
   "language": "python",
   "name": "Python [Root]"
  },
  "language_info": {
   "codemirror_mode": {
    "name": "ipython",
    "version": 3
   },
   "file_extension": ".py",
   "mimetype": "text/x-python",
   "name": "python",
   "nbconvert_exporter": "python",
   "pygments_lexer": "ipython3",
   "version": "3.5.2"
  }
 },
 "nbformat": 4,
 "nbformat_minor": 0
}
