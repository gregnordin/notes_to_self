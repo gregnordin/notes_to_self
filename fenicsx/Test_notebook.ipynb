{
 "cells": [
  {
   "cell_type": "markdown",
   "id": "aca9165d-ef61-4cdf-8fd6-e7d7beee70d3",
   "metadata": {},
   "source": [
    "# Purpose\n",
    "\n",
    "Check that dolfinx can be imported and check out file system.\n",
    "\n",
    "Start Docker container with:\n",
    "\n",
    "    docker run --init -ti -p 8888:8888 -v $(pwd):/root/shared dolfinx/lab:stable  # Access at http://localhost:8888\n"
   ]
  },
  {
   "cell_type": "markdown",
   "id": "ea49a937-8709-42d8-addd-618fc758954e",
   "metadata": {},
   "source": [
    "# Check import"
   ]
  },
  {
   "cell_type": "code",
   "execution_count": 1,
   "id": "16e8a168-ba52-445f-9acc-bf19311eaaab",
   "metadata": {},
   "outputs": [
    {
     "name": "stdout",
     "output_type": "stream",
     "text": [
      "DOLFINx version: 0.6.0 based on GIT commit: 24f86a9ce57df6978070dbee22b3eae8bb77235f of https://github.com/FEniCS/dolfinx/\n"
     ]
    }
   ],
   "source": [
    "import dolfinx\n",
    "print(f\"DOLFINx version: {dolfinx.__version__} based on GIT commit: {dolfinx.git_commit_hash} of https://github.com/FEniCS/dolfinx/\")"
   ]
  },
  {
   "cell_type": "markdown",
   "id": "9b1abb18-a6e1-4d55-9823-0916ac761e82",
   "metadata": {},
   "source": [
    "# File system"
   ]
  },
  {
   "cell_type": "code",
   "execution_count": 2,
   "id": "f33e43e2-0835-4a64-8835-fd11d66793de",
   "metadata": {},
   "outputs": [
    {
     "name": "stdout",
     "output_type": "stream",
     "text": [
      "/root/shared\n"
     ]
    }
   ],
   "source": [
    "!pwd"
   ]
  },
  {
   "cell_type": "code",
   "execution_count": 4,
   "id": "eaea21c3-581b-4c98-8ad1-cd70bbd9e265",
   "metadata": {},
   "outputs": [
    {
     "name": "stdout",
     "output_type": "stream",
     "text": [
      "total 40\n",
      "drwxr-xr-x 11 root root   352 Oct  5 23:00 .\n",
      "drwx------  1 root root  4096 Oct  5 22:57 ..\n",
      "drwxr-xr-x  4 root root   128 Oct  5 22:58 .ipynb_checkpoints\n",
      "drwxr-xr-x  3 root root    96 Oct  5 22:27 .ipython\n",
      "drwxr-xr-x  3 root root    96 Oct  5 22:27 .jupyter\n",
      "drwxr-xr-x  3 root root    96 Oct  5 22:27 .local\n",
      "-rw-r--r--  1 root root  1819 Oct  5 22:29 Untitled.ipynb\n",
      "-rw-r--r--  1 root root  3283 Oct  5 23:00 Untitled1.ipynb\n",
      "-rw-r--r--  1 root root 17500 Oct  5 23:07 notes-FEniCSx.html\n",
      "-rw-r--r--  1 root root  5715 Oct  5 23:08 notes-FEniCSx.qmd\n",
      "drwxr-xr-x  3 root root    96 Oct  5 23:07 notes-FEniCSx_files\n"
     ]
    }
   ],
   "source": [
    "!ls -al"
   ]
  },
  {
   "cell_type": "code",
   "execution_count": 5,
   "id": "06df3268-16b8-4ae2-a47e-2f119f82c2ee",
   "metadata": {},
   "outputs": [
    {
     "name": "stdout",
     "output_type": "stream",
     "text": [
      "total 44\n",
      "drwx------  1 root root 4096 Oct  5 22:57 .\n",
      "drwxr-xr-x  1 root root 4096 Oct  5 22:57 ..\n",
      "-rw-r--r--  1 root root 3106 Oct 15  2021 .bashrc\n",
      "drwxr-xr-x  1 root root 4096 Jan 24  2023 .cache\n",
      "drwxr-xr-x  3 root root 4096 Jan 24  2023 .cmake\n",
      "drwxr-xr-x  4 root root 4096 Jan 24  2023 .config\n",
      "drwxr-xr-x  3 root root 4096 Oct  5 22:58 .ipython\n",
      "drwxr-xr-x  3 root root 4096 Oct  5 22:57 .jupyter\n",
      "drwxr-xr-x  3 root root 4096 Oct  5 22:57 .local\n",
      "-rw-r--r--  1 root root  161 Jul  9  2019 .profile\n",
      "-rw-r--r--  1 root root  367 Jan 24  2023 .wget-hsts\n",
      "drwxr-xr-x 11 root root  352 Oct  5 23:08 shared\n"
     ]
    }
   ],
   "source": [
    "!ls -al .."
   ]
  },
  {
   "cell_type": "code",
   "execution_count": 6,
   "id": "fd16d703-e3cf-48b5-ab03-d333f0c5004c",
   "metadata": {},
   "outputs": [
    {
     "name": "stdout",
     "output_type": "stream",
     "text": [
      "total 60\n",
      "drwxr-xr-x   1 root root 4096 Oct  5 22:57 \u001b[0m\u001b[01;34m.\u001b[0m/\n",
      "drwxr-xr-x   1 root root 4096 Oct  5 22:57 \u001b[01;34m..\u001b[0m/\n",
      "-rwxr-xr-x   1 root root    0 Oct  5 22:57 \u001b[01;32m.dockerenv\u001b[0m*\n",
      "lrwxrwxrwx   1 root root    7 Nov 30  2022 \u001b[01;36mbin\u001b[0m -> \u001b[01;34musr/bin\u001b[0m/\n",
      "drwxr-xr-x   2 root root 4096 Apr 18  2022 \u001b[01;34mboot\u001b[0m/\n",
      "drwxr-xr-x   5 root root  360 Oct  5 22:57 \u001b[01;34mdev\u001b[0m/\n",
      "drwxr-xr-x   1 root root 4096 Oct  5 22:57 \u001b[01;34metc\u001b[0m/\n",
      "drwxr-xr-x   2 root root 4096 Apr 18  2022 \u001b[01;34mhome\u001b[0m/\n",
      "lrwxrwxrwx   1 root root    7 Nov 30  2022 \u001b[01;36mlib\u001b[0m -> \u001b[01;34musr/lib\u001b[0m/\n",
      "drwxr-xr-x   2 root root 4096 Nov 30  2022 \u001b[01;34mmedia\u001b[0m/\n",
      "drwxr-xr-x   2 root root 4096 Nov 30  2022 \u001b[01;34mmnt\u001b[0m/\n",
      "drwxr-xr-x   2 root root 4096 Nov 30  2022 \u001b[01;34mopt\u001b[0m/\n",
      "dr-xr-xr-x 261 root root    0 Oct  5 22:57 \u001b[01;34mproc\u001b[0m/\n",
      "drwx------   1 root root 4096 Oct  5 22:57 \u001b[01;34mroot\u001b[0m/\n",
      "drwxr-xr-x   5 root root 4096 Nov 30  2022 \u001b[01;34mrun\u001b[0m/\n",
      "lrwxrwxrwx   1 root root    8 Nov 30  2022 \u001b[01;36msbin\u001b[0m -> \u001b[01;34musr/sbin\u001b[0m/\n",
      "drwxr-xr-x   2 root root 4096 Nov 30  2022 \u001b[01;34msrv\u001b[0m/\n",
      "dr-xr-xr-x  12 root root    0 Oct  5 22:57 \u001b[01;34msys\u001b[0m/\n",
      "drwxrwxrwt   1 root root 4096 Oct  5 23:08 \u001b[30;42mtmp\u001b[0m/\n",
      "drwxr-xr-x   1 root root 4096 Nov 30  2022 \u001b[01;34musr\u001b[0m/\n",
      "drwxr-xr-x   1 root root 4096 Nov 30  2022 \u001b[01;34mvar\u001b[0m/\n"
     ]
    }
   ],
   "source": [
    "ls -al /"
   ]
  },
  {
   "cell_type": "code",
   "execution_count": null,
   "id": "4594e82b-e47f-41f5-bb27-15b05efd3492",
   "metadata": {},
   "outputs": [],
   "source": []
  }
 ],
 "metadata": {
  "kernelspec": {
   "display_name": "Python 3 (DOLFINx complex)",
   "language": "python",
   "name": "python3-complex"
  },
  "language_info": {
   "codemirror_mode": {
    "name": "ipython",
    "version": 3
   },
   "file_extension": ".py",
   "mimetype": "text/x-python",
   "name": "python",
   "nbconvert_exporter": "python",
   "pygments_lexer": "ipython3",
   "version": "3.10.6"
  }
 },
 "nbformat": 4,
 "nbformat_minor": 5
}
