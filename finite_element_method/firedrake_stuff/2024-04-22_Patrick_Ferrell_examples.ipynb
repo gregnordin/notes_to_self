{
 "cells": [
  {
   "cell_type": "code",
   "execution_count": 1,
   "id": "e3d9316c-d3a3-4269-b708-c13a81fc0ab1",
   "metadata": {},
   "outputs": [
    {
     "name": "stderr",
     "output_type": "stream",
     "text": [
      "firedrake:WARNING OMP_NUM_THREADS is not set or is set to a value greater than 1, we suggest setting OMP_NUM_THREADS=1 to improve performance\n",
      "/Users/nordin/Documents/Projects/notes_to_self/finite_element_method/firedrake/src/firedrake/firedrake/_deprecation.py:65: UserWarning: The use of `File` for output is deprecated, please update your code to use `VTKFile` from `firedrake.output`.\n",
      "  warn(\n",
      "tsfc:WARNING Estimated quadrature degree 14 more than tenfold greater than any argument/coefficient degree (max 1)\n"
     ]
    },
    {
     "name": "stdout",
     "output_type": "stream",
     "text": [
      "||u - u_ex||_H1: 0.7485377099759551\n"
     ]
    }
   ],
   "source": [
    "from firedrake import *\n",
    "\n",
    "mesh = UnitSquareMesh(10, 10, quadrilateral=True)\n",
    "\n",
    "(x, y) = SpatialCoordinate(mesh)\n",
    "u_ex = sin(3*x) * exp(x + y)\n",
    "f = -div(grad(u_ex))\n",
    "\n",
    "V = FunctionSpace(mesh, \"Lagrange\", 1)\n",
    "\n",
    "u = Function(V, name=\"Solution\")\n",
    "v = TestFunction(V)\n",
    "\n",
    "bc = DirichletBC(V, u_ex, \"on_boundary\")\n",
    "\n",
    "F = inner(grad(u), grad(v))*dx - f*v*dx\n",
    "\n",
    "solve(F == 0, u, bc)\n",
    "File(\"output/poisson.pvd\").write(u)\n",
    "\n",
    "print(f\"||u - u_ex||_H1: {norm(u - u_ex, 'H1')}\")"
   ]
  },
  {
   "cell_type": "code",
   "execution_count": 2,
   "id": "374ac7b7-cc3b-4082-8475-df80686a8095",
   "metadata": {},
   "outputs": [
    {
     "name": "stdout",
     "output_type": "stream",
     "text": [
      "# of degrees of freedom: 1681\n",
      "    Residual norms for firedrake_1_ solve.\n",
      "    0 KSP Residual norm 8.415875810162e+01\n",
      "    1 KSP Residual norm 3.559123217094e+01\n",
      "    2 KSP Residual norm 1.619699156880e+00\n",
      "    3 KSP Residual norm 2.486192010476e-02\n",
      "    4 KSP Residual norm 9.942776930407e-04\n",
      "    5 KSP Residual norm 8.380624607835e-05\n",
      "    6 KSP Residual norm 2.890956862383e-06\n",
      "    7 KSP Residual norm 4.173555687259e-07\n",
      "    8 KSP Residual norm 1.869554048166e-08\n",
      "    9 KSP Residual norm 1.293203906015e-09\n",
      "   10 KSP Residual norm 1.172850198609e-10\n",
      "   11 KSP Residual norm 6.623180186992e-12\n",
      "   12 KSP Residual norm 1.120127369827e-12\n",
      "   13 KSP Residual norm 1.972964772488e-14\n"
     ]
    },
    {
     "name": "stderr",
     "output_type": "stream",
     "text": [
      "/Users/nordin/Documents/Projects/notes_to_self/finite_element_method/firedrake/src/firedrake/firedrake/_deprecation.py:65: UserWarning: The use of `File` for output is deprecated, please update your code to use `VTKFile` from `firedrake.output`.\n",
      "  warn(\n"
     ]
    },
    {
     "name": "stdout",
     "output_type": "stream",
     "text": [
      "||u - u_ex||_H1: 9.105230750822905e-11\n"
     ]
    }
   ],
   "source": [
    "from firedrake import *\n",
    "\n",
    "mesh = UnitSquareMesh(5, 5, quadrilateral=True)\n",
    "\n",
    "(x, y) = SpatialCoordinate(mesh)\n",
    "u_ex = sin(3*x) * exp(x + y)\n",
    "f = -div(grad(u_ex))\n",
    "\n",
    "p = 8\n",
    "V = FunctionSpace(mesh, \"Lagrange\", p)\n",
    "print(f\"# of degrees of freedom: {V.dim()}\")\n",
    "\n",
    "u = Function(V, name=\"Solution\")\n",
    "v = TestFunction(V)\n",
    "\n",
    "bc = DirichletBC(V, u_ex, \"on_boundary\")\n",
    "\n",
    "F = inner(grad(u), grad(v))*dx - f*v*dx\n",
    "\n",
    "\n",
    "sp = {\n",
    "    \"mat_type\": \"matfree\",\n",
    "    \"ksp_type\": \"cg\",\n",
    "    \"ksp_monitor\": None,\n",
    "    \"ksp_rtol\": 1.0e-14,\n",
    "    \"pc_type\": \"python\",\n",
    "    \"pc_python_type\": \"firedrake.P1PC\",\n",
    "    \"pmg_mg_coarse\": {\n",
    "        \"pc_type\": \"python\",\n",
    "        \"pc_python_type\": \"firedrake.AssembledPC\",\n",
    "        \"assembled_pc_type\": \"cholesky\",\n",
    "    },\n",
    "    \"pmg_mg_levels\": {\n",
    "        \"ksp_max_it\": 1,\n",
    "        \"ksp_type\": \"chebyshev\",\n",
    "        \"pc_type\": \"python\",\n",
    "        \"pc_python_type\": \"firedrake.FDMPC\",\n",
    "        \"fdm\": {\n",
    "            \"pc_type\": \"python\",\n",
    "            \"pc_python_type\": \"firedrake.ASMExtrudedStarPC\",\n",
    "            \"pc_star_mat_ordering_type\": \"metisnd\",\n",
    "            \"pc_star_sub_sub_pc_type\": \"cholesky\",\n",
    "        }\n",
    "    }\n",
    "}\n",
    "\n",
    "solve(F == 0, u, bc, solver_parameters=sp)\n",
    "File(\"output/highorder.pvd\").write(u)\n",
    "\n",
    "print(f\"||u - u_ex||_H1: {norm(u - u_ex, 'H1')}\")"
   ]
  },
  {
   "cell_type": "code",
   "execution_count": 3,
   "id": "b7b0e233-4145-4be0-a29a-87168fbf7065",
   "metadata": {},
   "outputs": [
    {
     "name": "stdout",
     "output_type": "stream",
     "text": [
      "Solving on level 0\n"
     ]
    },
    {
     "name": "stderr",
     "output_type": "stream",
     "text": [
      "/Users/nordin/Documents/Projects/notes_to_self/finite_element_method/firedrake/src/firedrake/firedrake/_deprecation.py:65: UserWarning: The use of `File` for output is deprecated, please update your code to use `VTKFile` from `firedrake.output`.\n",
      "  warn(\n"
     ]
    },
    {
     "name": "stdout",
     "output_type": "stream",
     "text": [
      "  ||u - u_h|| <= C x 0.27151324153546064\n",
      "Solving on level 1\n",
      "  ||u - u_h|| <= C x 0.254578845568901\n"
     ]
    },
    {
     "name": "stderr",
     "output_type": "stream",
     "text": [
      "/Users/nordin/Documents/Projects/notes_to_self/finite_element_method/firedrake/src/firedrake/firedrake/_deprecation.py:65: UserWarning: The use of `File` for output is deprecated, please update your code to use `VTKFile` from `firedrake.output`.\n",
      "  warn(\n"
     ]
    },
    {
     "name": "stdout",
     "output_type": "stream",
     "text": [
      "Solving on level 2\n",
      "  ||u - u_h|| <= C x 0.2389075628570014\n"
     ]
    },
    {
     "name": "stderr",
     "output_type": "stream",
     "text": [
      "/Users/nordin/Documents/Projects/notes_to_self/finite_element_method/firedrake/src/firedrake/firedrake/_deprecation.py:65: UserWarning: The use of `File` for output is deprecated, please update your code to use `VTKFile` from `firedrake.output`.\n",
      "  warn(\n"
     ]
    },
    {
     "name": "stdout",
     "output_type": "stream",
     "text": [
      "Solving on level 3\n",
      "  ||u - u_h|| <= C x 0.17289233873227566\n"
     ]
    },
    {
     "name": "stderr",
     "output_type": "stream",
     "text": [
      "/Users/nordin/Documents/Projects/notes_to_self/finite_element_method/firedrake/src/firedrake/firedrake/_deprecation.py:65: UserWarning: The use of `File` for output is deprecated, please update your code to use `VTKFile` from `firedrake.output`.\n",
      "  warn(\n"
     ]
    },
    {
     "name": "stdout",
     "output_type": "stream",
     "text": [
      "Solving on level 4\n",
      "  ||u - u_h|| <= C x 0.1527857030446358\n"
     ]
    },
    {
     "name": "stderr",
     "output_type": "stream",
     "text": [
      "/Users/nordin/Documents/Projects/notes_to_self/finite_element_method/firedrake/src/firedrake/firedrake/_deprecation.py:65: UserWarning: The use of `File` for output is deprecated, please update your code to use `VTKFile` from `firedrake.output`.\n",
      "  warn(\n"
     ]
    },
    {
     "name": "stdout",
     "output_type": "stream",
     "text": [
      "Solving on level 5\n",
      "  ||u - u_h|| <= C x 0.10496050243943236\n"
     ]
    },
    {
     "name": "stderr",
     "output_type": "stream",
     "text": [
      "/Users/nordin/Documents/Projects/notes_to_self/finite_element_method/firedrake/src/firedrake/firedrake/_deprecation.py:65: UserWarning: The use of `File` for output is deprecated, please update your code to use `VTKFile` from `firedrake.output`.\n",
      "  warn(\n"
     ]
    },
    {
     "name": "stdout",
     "output_type": "stream",
     "text": [
      "Solving on level 6\n",
      "  ||u - u_h|| <= C x 0.08580788110648073\n"
     ]
    },
    {
     "name": "stderr",
     "output_type": "stream",
     "text": [
      "/Users/nordin/Documents/Projects/notes_to_self/finite_element_method/firedrake/src/firedrake/firedrake/_deprecation.py:65: UserWarning: The use of `File` for output is deprecated, please update your code to use `VTKFile` from `firedrake.output`.\n",
      "  warn(\n"
     ]
    },
    {
     "name": "stdout",
     "output_type": "stream",
     "text": [
      "Solving on level 7\n",
      "  ||u - u_h|| <= C x 0.07412241178752008\n"
     ]
    },
    {
     "name": "stderr",
     "output_type": "stream",
     "text": [
      "/Users/nordin/Documents/Projects/notes_to_self/finite_element_method/firedrake/src/firedrake/firedrake/_deprecation.py:65: UserWarning: The use of `File` for output is deprecated, please update your code to use `VTKFile` from `firedrake.output`.\n",
      "  warn(\n"
     ]
    },
    {
     "name": "stdout",
     "output_type": "stream",
     "text": [
      "Solving on level 8\n"
     ]
    },
    {
     "name": "stderr",
     "output_type": "stream",
     "text": [
      "/Users/nordin/Documents/Projects/notes_to_self/finite_element_method/firedrake/src/firedrake/firedrake/_deprecation.py:65: UserWarning: The use of `File` for output is deprecated, please update your code to use `VTKFile` from `firedrake.output`.\n",
      "  warn(\n"
     ]
    },
    {
     "name": "stdout",
     "output_type": "stream",
     "text": [
      "  ||u - u_h|| <= C x 0.05512090561739006\n",
      "Solving on level 9\n"
     ]
    },
    {
     "name": "stderr",
     "output_type": "stream",
     "text": [
      "/Users/nordin/Documents/Projects/notes_to_self/finite_element_method/firedrake/src/firedrake/firedrake/_deprecation.py:65: UserWarning: The use of `File` for output is deprecated, please update your code to use `VTKFile` from `firedrake.output`.\n",
      "  warn(\n"
     ]
    },
    {
     "name": "stdout",
     "output_type": "stream",
     "text": [
      "  ||u - u_h|| <= C x 0.04361195197168904\n"
     ]
    },
    {
     "data": {
      "image/png": "[encoded data removed]",
      "text/plain": [
       "<Figure size 640x480 with 1 Axes>"
      ]
     },
     "metadata": {},
     "output_type": "display_data"
    }
   ],
   "source": [
    "from firedrake import *\n",
    "from netgen.occ import *\n",
    "\n",
    "def solve_poisson(mesh):\n",
    "    V = FunctionSpace(mesh, \"CG\", 1)\n",
    "    uh = Function(V, name=\"Solution\")\n",
    "    v = TestFunction(V)\n",
    "    bc = DirichletBC(V, 0, \"on_boundary\")\n",
    "    f = Constant(1)\n",
    "    F = inner(grad(uh), grad(v))*dx - inner(f, v)*dx\n",
    "    solve(F == 0, uh, bc)\n",
    "    return uh\n",
    "\n",
    "\n",
    "def estimate_error(mesh, uh):\n",
    "    W = FunctionSpace(mesh, \"DG\", 0)\n",
    "    eta_sq = Function(W)\n",
    "    w = TestFunction(W)\n",
    "    f = Constant(1)\n",
    "    h = CellDiameter(mesh)  # symbols for mesh quantities\n",
    "    n = FacetNormal(mesh)\n",
    "    v = CellVolume(mesh)\n",
    "\n",
    "    G = (  # compute cellwise error estimator\n",
    "          inner(eta_sq / v, w)*dx\n",
    "        - inner(h**2 * (f + div(grad(uh)))**2, w) * dx\n",
    "        - inner(h('+')/2 * jump(grad(uh), n)**2, w('+')) * dS\n",
    "        - inner(h('-')/2 * jump(grad(uh), n)**2, w('-')) * dS\n",
    "        )\n",
    "\n",
    "    # Each cell is an independent 1x1 solve, so Jacobi is exact\n",
    "    sp = {\"mat_type\": \"matfree\", \"ksp_type\": \"richardson\", \"pc_type\": \"jacobi\"}\n",
    "    solve(G == 0, eta_sq, solver_parameters=sp)\n",
    "    eta = Function(W).interpolate(sqrt(eta_sq))  # compute eta from eta^2\n",
    "\n",
    "    with eta.dat.vec_ro as eta_:  # compute estimate for error in energy norm\n",
    "        error_est = sqrt(eta_.dot(eta_))\n",
    "    return (eta, error_est)\n",
    "\n",
    "\n",
    "def adapt(mesh, eta):\n",
    "    W = FunctionSpace(mesh, \"DG\", 0)\n",
    "    markers = Function(W)\n",
    "\n",
    "    # We decide to refine an element if its error indicator\n",
    "    # is within a fraction of the maximum cellwise error indicator\n",
    "\n",
    "    # Access storage underlying our Function\n",
    "    # (a PETSc Vec) to get maximum value of eta\n",
    "    with eta.dat.vec_ro as eta_:\n",
    "        eta_max = eta_.max()[1]\n",
    "\n",
    "    theta = 0.5\n",
    "    should_refine = conditional(gt(eta, theta*eta_max), 1, 0)\n",
    "    markers.interpolate(should_refine)\n",
    "\n",
    "    refined_mesh = mesh.refine_marked_elements(markers)\n",
    "    return refined_mesh\n",
    "\n",
    "\n",
    "rect1 = WorkPlane(Axes((0,0,0), n=Z, h=X)).Rectangle(1,2).Face()\n",
    "rect2 = WorkPlane(Axes((0,1,0), n=Z, h=X)).Rectangle(2,1).Face()\n",
    "L = rect1 + rect2\n",
    "\n",
    "geo = OCCGeometry(L, dim=2)\n",
    "ngmsh = geo.GenerateMesh(maxh=0.1)\n",
    "mesh = Mesh(ngmsh)\n",
    "\n",
    "max_iterations = 10\n",
    "error_estimators = []\n",
    "dofs = []\n",
    "for i in range(max_iterations):\n",
    "    print(f\"Solving on level {i}\")\n",
    "\n",
    "    uh = solve_poisson(mesh)\n",
    "    File(f\"output/adaptive_loop_{i}.pvd\").write(uh)\n",
    "\n",
    "    (eta, error_est) = estimate_error(mesh, uh)\n",
    "    print(f\"  ||u - u_h|| <= C x {error_est}\")\n",
    "    error_estimators.append(error_est)\n",
    "    dofs.append(uh.function_space().dim())\n",
    "\n",
    "    mesh = adapt(mesh, eta)\n",
    "\n",
    "import matplotlib.pyplot as plt\n",
    "import numpy as np\n",
    "\n",
    "plt.grid()\n",
    "plt.loglog(dofs, error_estimators, '-ok', label=\"Measured convergence\")\n",
    "scaling = 1.5 * error_estimators[0]/dofs[0]**-(0.5)\n",
    "plt.loglog(dofs, np.array(dofs)**(-0.5) * scaling, '--', label=\"Optimal convergence\")\n",
    "plt.xlabel(\"Number of degrees of freedom\")\n",
    "plt.ylabel(\"Error estimate of energy norm $\\sqrt{\\sum_K \\eta_K^2}$\")\n",
    "plt.legend()\n",
    "plt.savefig(\"adaptive_convergence.png\")\n",
    "#plt.show()"
   ]
  },
  {
   "cell_type": "code",
   "execution_count": null,
   "id": "f0be9153-2c4a-4e09-b8db-5dd29c7a9818",
   "metadata": {},
   "outputs": [],
   "source": []
  }
 ],
 "metadata": {
  "kernelspec": {
   "display_name": "firedrake",
   "language": "python",
   "name": "firedrake"
  },
  "language_info": {
   "codemirror_mode": {
    "name": "ipython",
    "version": 3
   },
   "file_extension": ".py",
   "mimetype": "text/x-python",
   "name": "python",
   "nbconvert_exporter": "python",
   "pygments_lexer": "ipython3",
   "version": "3.11.9"
  }
 },
 "nbformat": 4,
 "nbformat_minor": 5
}
