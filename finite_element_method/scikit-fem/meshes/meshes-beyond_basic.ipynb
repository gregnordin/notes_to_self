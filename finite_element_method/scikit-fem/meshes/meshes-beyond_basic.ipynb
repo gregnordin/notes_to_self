{
 "cells": [
  {
   "attachments": {},
   "cell_type": "markdown",
   "id": "37df078b-5ae6-47df-a594-6377205e651e",
   "metadata": {},
   "source": [
    "# Purpose\n",
    "\n",
    "Try out various mesh generation options.\n",
    "\n",
    "# Code"
   ]
  },
  {
   "cell_type": "code",
   "execution_count": 1,
   "id": "3233af9a-804c-44c9-89dd-aba831a0b782",
   "metadata": {},
   "outputs": [],
   "source": [
    "from skfem import Basis, MeshTri, MeshTri2, MeshQuad1, ElementQuad1, ElementTriP1, ElementTriP2\n",
    "import numpy as np"
   ]
  },
  {
   "cell_type": "markdown",
   "id": "ad5d97eb-ade7-4421-a2f5-5dda51e4825b",
   "metadata": {},
   "source": [
    "## `.init_tensor`\n",
    "\n",
    "From [documentation](https://scikit-fem.readthedocs.io/en/latest/api.html):\n",
    "\n",
    "```\n",
    "Class: MeshTri\n",
    "skfem.mesh.MeshTri\n",
    "alias of MeshTri1\n",
    "\n",
    "classmethod init_tensor(x: ndarray, y: ndarray)\n",
    "Initialize a tensor product mesh.\n",
    "\n",
    "The mesh topology is as follows:\n",
    "\n",
    "*---------------*\n",
    "|'-.|'-.|`'---._|\n",
    "|---+---+-------|\n",
    "|\\  |\\  |'.     |\n",
    "| \\ | \\ |  '-.  |\n",
    "|  \\|  \\|     '.|\n",
    "*---------------*\n",
    "Parameters:\n",
    "x – The nodal coordinates in dimension x.\n",
    "\n",
    "y – The nodal coordinates in dimension y.\n",
    "```"
   ]
  },
  {
   "cell_type": "markdown",
   "id": "9d6382c8-a86b-4648-a400-289c3d9ec632",
   "metadata": {},
   "source": [
    "### Manually create x & y arrays"
   ]
  },
  {
   "cell_type": "markdown",
   "id": "85313b47-6625-4170-b376-52d1c2075a9c",
   "metadata": {},
   "source": [
    "#### Equal x & y spacing"
   ]
  },
  {
   "cell_type": "code",
   "execution_count": 11,
   "id": "5672574d-8ac1-410a-b200-6fab92edb88c",
   "metadata": {},
   "outputs": [
    {
     "data": {
      "image/svg+xml": [
       "<svg xmlns=\"http://www.w3.org/2000/svg\" version=\"1.1\" width=\"300\" height=\"150.0\"><line x1=\"1.0\" y1=\"149.0\" x2=\"1.0\" y2=\"1.0\" style=\"stroke:#7856FA;stroke-width:1\"/><line x1=\"1.0\" y1=\"149.0\" x2=\"150.0\" y2=\"1.0\" style=\"stroke:#7856FA;stroke-width:1\"/><line x1=\"1.0\" y1=\"1.0\" x2=\"150.0\" y2=\"1.0\" style=\"stroke:#7856FA;stroke-width:1\"/><line x1=\"150.0\" y1=\"149.0\" x2=\"150.0\" y2=\"1.0\" style=\"stroke:#7856FA;stroke-width:1\"/><line x1=\"150.0\" y1=\"149.0\" x2=\"299.0\" y2=\"1.0\" style=\"stroke:#7856FA;stroke-width:1\"/><line x1=\"150.0\" y1=\"1.0\" x2=\"299.0\" y2=\"1.0\" style=\"stroke:#7856FA;stroke-width:1\"/><line x1=\"1.0\" y1=\"149.0\" x2=\"150.0\" y2=\"149.0\" style=\"stroke:#7856FA;stroke-width:1\"/><line x1=\"1.0\" y1=\"149.0\" x2=\"150.0\" y2=\"1.0\" style=\"stroke:#7856FA;stroke-width:1\"/><line x1=\"150.0\" y1=\"149.0\" x2=\"150.0\" y2=\"1.0\" style=\"stroke:#7856FA;stroke-width:1\"/><line x1=\"150.0\" y1=\"149.0\" x2=\"299.0\" y2=\"149.0\" style=\"stroke:#7856FA;stroke-width:1\"/><line x1=\"150.0\" y1=\"149.0\" x2=\"299.0\" y2=\"1.0\" style=\"stroke:#7856FA;stroke-width:1\"/><line x1=\"299.0\" y1=\"149.0\" x2=\"299.0\" y2=\"1.0\" style=\"stroke:#7856FA;stroke-width:1\"/></svg>"
      ],
      "text/plain": [
       "<skfem MeshTri1 object>\n",
       "  Number of elements: 4\n",
       "  Number of vertices: 6\n",
       "  Number of nodes: 6\n",
       "  Named boundaries [# facets]: left [1], bottom [2], right [1], top [2]"
      ]
     },
     "execution_count": 11,
     "metadata": {},
     "output_type": "execute_result"
    }
   ],
   "source": [
    "x = np.array([0,1,2])\n",
    "y = np.array([0,1])\n",
    "\n",
    "MeshTri.init_tensor(x=x, y=y)"
   ]
  },
  {
   "cell_type": "code",
   "execution_count": 12,
   "id": "fe9c7a71-c91e-4b36-abe2-80677c671b90",
   "metadata": {},
   "outputs": [
    {
     "data": {
      "image/svg+xml": [
       "<svg xmlns=\"http://www.w3.org/2000/svg\" version=\"1.1\" width=\"300\" height=\"150.0\"><line x1=\"1.0\" y1=\"149.0\" x2=\"1.0\" y2=\"75.0\" style=\"stroke:#7856FA;stroke-width:1\"/><line x1=\"1.0\" y1=\"149.0\" x2=\"75.5\" y2=\"75.0\" style=\"stroke:#7856FA;stroke-width:1\"/><line x1=\"1.0\" y1=\"75.0\" x2=\"75.5\" y2=\"75.0\" style=\"stroke:#7856FA;stroke-width:1\"/><line x1=\"150.0\" y1=\"149.0\" x2=\"150.0\" y2=\"75.0\" style=\"stroke:#7856FA;stroke-width:1\"/><line x1=\"150.0\" y1=\"149.0\" x2=\"224.5\" y2=\"75.0\" style=\"stroke:#7856FA;stroke-width:1\"/><line x1=\"150.0\" y1=\"75.0\" x2=\"224.5\" y2=\"75.0\" style=\"stroke:#7856FA;stroke-width:1\"/><line x1=\"1.0\" y1=\"149.0\" x2=\"75.5\" y2=\"149.0\" style=\"stroke:#7856FA;stroke-width:1\"/><line x1=\"1.0\" y1=\"149.0\" x2=\"75.5\" y2=\"75.0\" style=\"stroke:#7856FA;stroke-width:1\"/><line x1=\"75.5\" y1=\"149.0\" x2=\"75.5\" y2=\"75.0\" style=\"stroke:#7856FA;stroke-width:1\"/><line x1=\"150.0\" y1=\"149.0\" x2=\"224.5\" y2=\"149.0\" style=\"stroke:#7856FA;stroke-width:1\"/><line x1=\"150.0\" y1=\"149.0\" x2=\"224.5\" y2=\"75.0\" style=\"stroke:#7856FA;stroke-width:1\"/><line x1=\"224.5\" y1=\"149.0\" x2=\"224.5\" y2=\"75.0\" style=\"stroke:#7856FA;stroke-width:1\"/><line x1=\"1.0\" y1=\"1.0\" x2=\"1.0\" y2=\"75.0\" style=\"stroke:#7856FA;stroke-width:1\"/><line x1=\"1.0\" y1=\"1.0\" x2=\"75.5\" y2=\"1.0\" style=\"stroke:#7856FA;stroke-width:1\"/><line x1=\"1.0\" y1=\"75.0\" x2=\"75.5\" y2=\"1.0\" style=\"stroke:#7856FA;stroke-width:1\"/><line x1=\"150.0\" y1=\"1.0\" x2=\"150.0\" y2=\"75.0\" style=\"stroke:#7856FA;stroke-width:1\"/><line x1=\"150.0\" y1=\"1.0\" x2=\"224.5\" y2=\"1.0\" style=\"stroke:#7856FA;stroke-width:1\"/><line x1=\"150.0\" y1=\"75.0\" x2=\"224.5\" y2=\"1.0\" style=\"stroke:#7856FA;stroke-width:1\"/><line x1=\"150.0\" y1=\"149.0\" x2=\"75.5\" y2=\"149.0\" style=\"stroke:#7856FA;stroke-width:1\"/><line x1=\"150.0\" y1=\"149.0\" x2=\"150.0\" y2=\"75.0\" style=\"stroke:#7856FA;stroke-width:1\"/><line x1=\"75.5\" y1=\"149.0\" x2=\"150.0\" y2=\"75.0\" style=\"stroke:#7856FA;stroke-width:1\"/><line x1=\"299.0\" y1=\"149.0\" x2=\"224.5\" y2=\"149.0\" style=\"stroke:#7856FA;stroke-width:1\"/><line x1=\"299.0\" y1=\"149.0\" x2=\"299.0\" y2=\"75.0\" style=\"stroke:#7856FA;stroke-width:1\"/><line x1=\"224.5\" y1=\"149.0\" x2=\"299.0\" y2=\"75.0\" style=\"stroke:#7856FA;stroke-width:1\"/><line x1=\"150.0\" y1=\"1.0\" x2=\"75.5\" y2=\"75.0\" style=\"stroke:#7856FA;stroke-width:1\"/><line x1=\"150.0\" y1=\"1.0\" x2=\"75.5\" y2=\"1.0\" style=\"stroke:#7856FA;stroke-width:1\"/><line x1=\"75.5\" y1=\"75.0\" x2=\"75.5\" y2=\"1.0\" style=\"stroke:#7856FA;stroke-width:1\"/><line x1=\"299.0\" y1=\"1.0\" x2=\"224.5\" y2=\"75.0\" style=\"stroke:#7856FA;stroke-width:1\"/><line x1=\"299.0\" y1=\"1.0\" x2=\"224.5\" y2=\"1.0\" style=\"stroke:#7856FA;stroke-width:1\"/><line x1=\"224.5\" y1=\"75.0\" x2=\"224.5\" y2=\"1.0\" style=\"stroke:#7856FA;stroke-width:1\"/><line x1=\"150.0\" y1=\"1.0\" x2=\"75.5\" y2=\"75.0\" style=\"stroke:#7856FA;stroke-width:1\"/><line x1=\"150.0\" y1=\"1.0\" x2=\"150.0\" y2=\"75.0\" style=\"stroke:#7856FA;stroke-width:1\"/><line x1=\"75.5\" y1=\"75.0\" x2=\"150.0\" y2=\"75.0\" style=\"stroke:#7856FA;stroke-width:1\"/><line x1=\"299.0\" y1=\"1.0\" x2=\"224.5\" y2=\"75.0\" style=\"stroke:#7856FA;stroke-width:1\"/><line x1=\"299.0\" y1=\"1.0\" x2=\"299.0\" y2=\"75.0\" style=\"stroke:#7856FA;stroke-width:1\"/><line x1=\"224.5\" y1=\"75.0\" x2=\"299.0\" y2=\"75.0\" style=\"stroke:#7856FA;stroke-width:1\"/><line x1=\"1.0\" y1=\"75.0\" x2=\"75.5\" y2=\"75.0\" style=\"stroke:#7856FA;stroke-width:1\"/><line x1=\"1.0\" y1=\"75.0\" x2=\"75.5\" y2=\"1.0\" style=\"stroke:#7856FA;stroke-width:1\"/><line x1=\"75.5\" y1=\"75.0\" x2=\"75.5\" y2=\"1.0\" style=\"stroke:#7856FA;stroke-width:1\"/><line x1=\"150.0\" y1=\"75.0\" x2=\"224.5\" y2=\"75.0\" style=\"stroke:#7856FA;stroke-width:1\"/><line x1=\"150.0\" y1=\"75.0\" x2=\"224.5\" y2=\"1.0\" style=\"stroke:#7856FA;stroke-width:1\"/><line x1=\"224.5\" y1=\"75.0\" x2=\"224.5\" y2=\"1.0\" style=\"stroke:#7856FA;stroke-width:1\"/><line x1=\"75.5\" y1=\"149.0\" x2=\"75.5\" y2=\"75.0\" style=\"stroke:#7856FA;stroke-width:1\"/><line x1=\"75.5\" y1=\"149.0\" x2=\"150.0\" y2=\"75.0\" style=\"stroke:#7856FA;stroke-width:1\"/><line x1=\"75.5\" y1=\"75.0\" x2=\"150.0\" y2=\"75.0\" style=\"stroke:#7856FA;stroke-width:1\"/><line x1=\"224.5\" y1=\"149.0\" x2=\"224.5\" y2=\"75.0\" style=\"stroke:#7856FA;stroke-width:1\"/><line x1=\"224.5\" y1=\"149.0\" x2=\"299.0\" y2=\"75.0\" style=\"stroke:#7856FA;stroke-width:1\"/><line x1=\"224.5\" y1=\"75.0\" x2=\"299.0\" y2=\"75.0\" style=\"stroke:#7856FA;stroke-width:1\"/></svg>"
      ],
      "text/plain": [
       "<skfem MeshTri1 object>\n",
       "  Number of elements: 16\n",
       "  Number of vertices: 15\n",
       "  Number of nodes: 15\n",
       "  Named boundaries [# facets]: left [2], bottom [4], right [2], top [4]"
      ]
     },
     "execution_count": 12,
     "metadata": {},
     "output_type": "execute_result"
    }
   ],
   "source": [
    "MeshTri.init_tensor(x=x, y=y).refined(1)"
   ]
  },
  {
   "cell_type": "code",
   "execution_count": 13,
   "id": "c7134147-0bd3-4549-9d9f-84768460a331",
   "metadata": {},
   "outputs": [
    {
     "data": {
      "image/svg+xml": [
       "<svg xmlns=\"http://www.w3.org/2000/svg\" version=\"1.1\" width=\"300\" height=\"150.0\"><line x1=\"1.0\" y1=\"149.0\" x2=\"1.0\" y2=\"112.0\" style=\"stroke:#7856FA;stroke-width:1\"/><line x1=\"1.0\" y1=\"149.0\" x2=\"38.25\" y2=\"112.0\" style=\"stroke:#7856FA;stroke-width:1\"/><line x1=\"1.0\" y1=\"112.0\" x2=\"38.25\" y2=\"112.0\" style=\"stroke:#7856FA;stroke-width:1\"/><line x1=\"150.0\" y1=\"149.0\" x2=\"150.0\" y2=\"112.0\" style=\"stroke:#7856FA;stroke-width:1\"/><line x1=\"150.0\" y1=\"149.0\" x2=\"187.25\" y2=\"112.0\" style=\"stroke:#7856FA;stroke-width:1\"/><line x1=\"150.0\" y1=\"112.0\" x2=\"187.25\" y2=\"112.0\" style=\"stroke:#7856FA;stroke-width:1\"/><line x1=\"1.0\" y1=\"149.0\" x2=\"38.25\" y2=\"149.0\" style=\"stroke:#7856FA;stroke-width:1\"/><line x1=\"1.0\" y1=\"149.0\" x2=\"38.25\" y2=\"112.0\" style=\"stroke:#7856FA;stroke-width:1\"/><line x1=\"38.25\" y1=\"149.0\" x2=\"38.25\" y2=\"112.0\" style=\"stroke:#7856FA;stroke-width:1\"/><line x1=\"150.0\" y1=\"149.0\" x2=\"187.25\" y2=\"149.0\" style=\"stroke:#7856FA;stroke-width:1\"/><line x1=\"150.0\" y1=\"149.0\" x2=\"187.25\" y2=\"112.0\" style=\"stroke:#7856FA;stroke-width:1\"/><line x1=\"187.25\" y1=\"149.0\" x2=\"187.25\" y2=\"112.0\" style=\"stroke:#7856FA;stroke-width:1\"/><line x1=\"1.0\" y1=\"1.0\" x2=\"1.0\" y2=\"38.0\" style=\"stroke:#7856FA;stroke-width:1\"/><line x1=\"1.0\" y1=\"1.0\" x2=\"38.25\" y2=\"1.0\" style=\"stroke:#7856FA;stroke-width:1\"/><line x1=\"1.0\" y1=\"38.0\" x2=\"38.25\" y2=\"1.0\" style=\"stroke:#7856FA;stroke-width:1\"/><line x1=\"150.0\" y1=\"1.0\" x2=\"150.0\" y2=\"38.0\" style=\"stroke:#7856FA;stroke-width:1\"/><line x1=\"150.0\" y1=\"1.0\" x2=\"187.25\" y2=\"1.0\" style=\"stroke:#7856FA;stroke-width:1\"/><line x1=\"150.0\" y1=\"38.0\" x2=\"187.25\" y2=\"1.0\" style=\"stroke:#7856FA;stroke-width:1\"/><line x1=\"150.0\" y1=\"149.0\" x2=\"112.75\" y2=\"149.0\" style=\"stroke:#7856FA;stroke-width:1\"/><line x1=\"150.0\" y1=\"149.0\" x2=\"150.0\" y2=\"112.0\" style=\"stroke:#7856FA;stroke-width:1\"/><line x1=\"112.75\" y1=\"149.0\" x2=\"150.0\" y2=\"112.0\" style=\"stroke:#7856FA;stroke-width:1\"/><line x1=\"299.0\" y1=\"149.0\" x2=\"261.75\" y2=\"149.0\" style=\"stroke:#7856FA;stroke-width:1\"/><line x1=\"299.0\" y1=\"149.0\" x2=\"299.0\" y2=\"112.0\" style=\"stroke:#7856FA;stroke-width:1\"/><line x1=\"261.75\" y1=\"149.0\" x2=\"299.0\" y2=\"112.0\" style=\"stroke:#7856FA;stroke-width:1\"/><line x1=\"150.0\" y1=\"1.0\" x2=\"112.75\" y2=\"38.0\" style=\"stroke:#7856FA;stroke-width:1\"/><line x1=\"150.0\" y1=\"1.0\" x2=\"112.75\" y2=\"1.0\" style=\"stroke:#7856FA;stroke-width:1\"/><line x1=\"112.75\" y1=\"38.0\" x2=\"112.75\" y2=\"1.0\" style=\"stroke:#7856FA;stroke-width:1\"/><line x1=\"299.0\" y1=\"1.0\" x2=\"261.75\" y2=\"38.0\" style=\"stroke:#7856FA;stroke-width:1\"/><line x1=\"299.0\" y1=\"1.0\" x2=\"261.75\" y2=\"1.0\" style=\"stroke:#7856FA;stroke-width:1\"/><line x1=\"261.75\" y1=\"38.0\" x2=\"261.75\" y2=\"1.0\" style=\"stroke:#7856FA;stroke-width:1\"/><line x1=\"150.0\" y1=\"1.0\" x2=\"112.75\" y2=\"38.0\" style=\"stroke:#7856FA;stroke-width:1\"/><line x1=\"150.0\" y1=\"1.0\" x2=\"150.0\" y2=\"38.0\" style=\"stroke:#7856FA;stroke-width:1\"/><line x1=\"112.75\" y1=\"38.0\" x2=\"150.0\" y2=\"38.0\" style=\"stroke:#7856FA;stroke-width:1\"/><line x1=\"299.0\" y1=\"1.0\" x2=\"261.75\" y2=\"38.0\" style=\"stroke:#7856FA;stroke-width:1\"/><line x1=\"299.0\" y1=\"1.0\" x2=\"299.0\" y2=\"38.0\" style=\"stroke:#7856FA;stroke-width:1\"/><line x1=\"261.75\" y1=\"38.0\" x2=\"299.0\" y2=\"38.0\" style=\"stroke:#7856FA;stroke-width:1\"/><line x1=\"1.0\" y1=\"75.0\" x2=\"38.25\" y2=\"75.0\" style=\"stroke:#7856FA;stroke-width:1\"/><line x1=\"1.0\" y1=\"75.0\" x2=\"38.25\" y2=\"38.0\" style=\"stroke:#7856FA;stroke-width:1\"/><line x1=\"38.25\" y1=\"75.0\" x2=\"38.25\" y2=\"38.0\" style=\"stroke:#7856FA;stroke-width:1\"/><line x1=\"150.0\" y1=\"75.0\" x2=\"187.25\" y2=\"75.0\" style=\"stroke:#7856FA;stroke-width:1\"/><line x1=\"150.0\" y1=\"75.0\" x2=\"187.25\" y2=\"38.0\" style=\"stroke:#7856FA;stroke-width:1\"/><line x1=\"187.25\" y1=\"75.0\" x2=\"187.25\" y2=\"38.0\" style=\"stroke:#7856FA;stroke-width:1\"/><line x1=\"75.5\" y1=\"149.0\" x2=\"75.5\" y2=\"112.0\" style=\"stroke:#7856FA;stroke-width:1\"/><line x1=\"75.5\" y1=\"149.0\" x2=\"112.75\" y2=\"112.0\" style=\"stroke:#7856FA;stroke-width:1\"/><line x1=\"75.5\" y1=\"112.0\" x2=\"112.75\" y2=\"112.0\" style=\"stroke:#7856FA;stroke-width:1\"/><line x1=\"224.5\" y1=\"149.0\" x2=\"224.5\" y2=\"112.0\" style=\"stroke:#7856FA;stroke-width:1\"/><line x1=\"224.5\" y1=\"149.0\" x2=\"261.75\" y2=\"112.0\" style=\"stroke:#7856FA;stroke-width:1\"/><line x1=\"224.5\" y1=\"112.0\" x2=\"261.75\" y2=\"112.0\" style=\"stroke:#7856FA;stroke-width:1\"/><line x1=\"1.0\" y1=\"75.0\" x2=\"1.0\" y2=\"112.0\" style=\"stroke:#7856FA;stroke-width:1\"/><line x1=\"1.0\" y1=\"75.0\" x2=\"38.25\" y2=\"75.0\" style=\"stroke:#7856FA;stroke-width:1\"/><line x1=\"1.0\" y1=\"112.0\" x2=\"38.25\" y2=\"75.0\" style=\"stroke:#7856FA;stroke-width:1\"/><line x1=\"150.0\" y1=\"75.0\" x2=\"150.0\" y2=\"112.0\" style=\"stroke:#7856FA;stroke-width:1\"/><line x1=\"150.0\" y1=\"75.0\" x2=\"187.25\" y2=\"75.0\" style=\"stroke:#7856FA;stroke-width:1\"/><line x1=\"150.0\" y1=\"112.0\" x2=\"187.25\" y2=\"75.0\" style=\"stroke:#7856FA;stroke-width:1\"/><line x1=\"75.5\" y1=\"149.0\" x2=\"38.25\" y2=\"149.0\" style=\"stroke:#7856FA;stroke-width:1\"/><line x1=\"75.5\" y1=\"149.0\" x2=\"75.5\" y2=\"112.0\" style=\"stroke:#7856FA;stroke-width:1\"/><line x1=\"38.25\" y1=\"149.0\" x2=\"75.5\" y2=\"112.0\" style=\"stroke:#7856FA;stroke-width:1\"/><line x1=\"224.5\" y1=\"149.0\" x2=\"187.25\" y2=\"149.0\" style=\"stroke:#7856FA;stroke-width:1\"/><line x1=\"224.5\" y1=\"149.0\" x2=\"224.5\" y2=\"112.0\" style=\"stroke:#7856FA;stroke-width:1\"/><line x1=\"187.25\" y1=\"149.0\" x2=\"224.5\" y2=\"112.0\" style=\"stroke:#7856FA;stroke-width:1\"/><line x1=\"1.0\" y1=\"75.0\" x2=\"1.0\" y2=\"38.0\" style=\"stroke:#7856FA;stroke-width:1\"/><line x1=\"1.0\" y1=\"75.0\" x2=\"38.25\" y2=\"38.0\" style=\"stroke:#7856FA;stroke-width:1\"/><line x1=\"1.0\" y1=\"38.0\" x2=\"38.25\" y2=\"38.0\" style=\"stroke:#7856FA;stroke-width:1\"/><line x1=\"150.0\" y1=\"75.0\" x2=\"150.0\" y2=\"38.0\" style=\"stroke:#7856FA;stroke-width:1\"/><line x1=\"150.0\" y1=\"75.0\" x2=\"187.25\" y2=\"38.0\" style=\"stroke:#7856FA;stroke-width:1\"/><line x1=\"150.0\" y1=\"38.0\" x2=\"187.25\" y2=\"38.0\" style=\"stroke:#7856FA;stroke-width:1\"/><line x1=\"75.5\" y1=\"149.0\" x2=\"112.75\" y2=\"149.0\" style=\"stroke:#7856FA;stroke-width:1\"/><line x1=\"75.5\" y1=\"149.0\" x2=\"112.75\" y2=\"112.0\" style=\"stroke:#7856FA;stroke-width:1\"/><line x1=\"112.75\" y1=\"149.0\" x2=\"112.75\" y2=\"112.0\" style=\"stroke:#7856FA;stroke-width:1\"/><line x1=\"224.5\" y1=\"149.0\" x2=\"261.75\" y2=\"149.0\" style=\"stroke:#7856FA;stroke-width:1\"/><line x1=\"224.5\" y1=\"149.0\" x2=\"261.75\" y2=\"112.0\" style=\"stroke:#7856FA;stroke-width:1\"/><line x1=\"261.75\" y1=\"149.0\" x2=\"261.75\" y2=\"112.0\" style=\"stroke:#7856FA;stroke-width:1\"/><line x1=\"75.5\" y1=\"75.0\" x2=\"112.75\" y2=\"38.0\" style=\"stroke:#7856FA;stroke-width:1\"/><line x1=\"75.5\" y1=\"75.0\" x2=\"75.5\" y2=\"38.0\" style=\"stroke:#7856FA;stroke-width:1\"/><line x1=\"112.75\" y1=\"38.0\" x2=\"75.5\" y2=\"38.0\" style=\"stroke:#7856FA;stroke-width:1\"/><line x1=\"224.5\" y1=\"75.0\" x2=\"261.75\" y2=\"38.0\" style=\"stroke:#7856FA;stroke-width:1\"/><line x1=\"224.5\" y1=\"75.0\" x2=\"224.5\" y2=\"38.0\" style=\"stroke:#7856FA;stroke-width:1\"/><line x1=\"261.75\" y1=\"38.0\" x2=\"224.5\" y2=\"38.0\" style=\"stroke:#7856FA;stroke-width:1\"/><line x1=\"75.5\" y1=\"75.0\" x2=\"112.75\" y2=\"38.0\" style=\"stroke:#7856FA;stroke-width:1\"/><line x1=\"75.5\" y1=\"75.0\" x2=\"112.75\" y2=\"75.0\" style=\"stroke:#7856FA;stroke-width:1\"/><line x1=\"112.75\" y1=\"38.0\" x2=\"112.75\" y2=\"75.0\" style=\"stroke:#7856FA;stroke-width:1\"/><line x1=\"224.5\" y1=\"75.0\" x2=\"261.75\" y2=\"38.0\" style=\"stroke:#7856FA;stroke-width:1\"/><line x1=\"224.5\" y1=\"75.0\" x2=\"261.75\" y2=\"75.0\" style=\"stroke:#7856FA;stroke-width:1\"/><line x1=\"261.75\" y1=\"38.0\" x2=\"261.75\" y2=\"75.0\" style=\"stroke:#7856FA;stroke-width:1\"/><line x1=\"75.5\" y1=\"75.0\" x2=\"38.25\" y2=\"75.0\" style=\"stroke:#7856FA;stroke-width:1\"/><line x1=\"75.5\" y1=\"75.0\" x2=\"75.5\" y2=\"38.0\" style=\"stroke:#7856FA;stroke-width:1\"/><line x1=\"38.25\" y1=\"75.0\" x2=\"75.5\" y2=\"38.0\" style=\"stroke:#7856FA;stroke-width:1\"/><line x1=\"224.5\" y1=\"75.0\" x2=\"187.25\" y2=\"75.0\" style=\"stroke:#7856FA;stroke-width:1\"/><line x1=\"224.5\" y1=\"75.0\" x2=\"224.5\" y2=\"38.0\" style=\"stroke:#7856FA;stroke-width:1\"/><line x1=\"187.25\" y1=\"75.0\" x2=\"224.5\" y2=\"38.0\" style=\"stroke:#7856FA;stroke-width:1\"/><line x1=\"75.5\" y1=\"75.0\" x2=\"75.5\" y2=\"112.0\" style=\"stroke:#7856FA;stroke-width:1\"/><line x1=\"75.5\" y1=\"75.0\" x2=\"112.75\" y2=\"75.0\" style=\"stroke:#7856FA;stroke-width:1\"/><line x1=\"75.5\" y1=\"112.0\" x2=\"112.75\" y2=\"75.0\" style=\"stroke:#7856FA;stroke-width:1\"/><line x1=\"224.5\" y1=\"75.0\" x2=\"224.5\" y2=\"112.0\" style=\"stroke:#7856FA;stroke-width:1\"/><line x1=\"224.5\" y1=\"75.0\" x2=\"261.75\" y2=\"75.0\" style=\"stroke:#7856FA;stroke-width:1\"/><line x1=\"224.5\" y1=\"112.0\" x2=\"261.75\" y2=\"75.0\" style=\"stroke:#7856FA;stroke-width:1\"/><line x1=\"75.5\" y1=\"75.0\" x2=\"38.25\" y2=\"112.0\" style=\"stroke:#7856FA;stroke-width:1\"/><line x1=\"75.5\" y1=\"75.0\" x2=\"38.25\" y2=\"75.0\" style=\"stroke:#7856FA;stroke-width:1\"/><line x1=\"38.25\" y1=\"112.0\" x2=\"38.25\" y2=\"75.0\" style=\"stroke:#7856FA;stroke-width:1\"/><line x1=\"224.5\" y1=\"75.0\" x2=\"187.25\" y2=\"112.0\" style=\"stroke:#7856FA;stroke-width:1\"/><line x1=\"224.5\" y1=\"75.0\" x2=\"187.25\" y2=\"75.0\" style=\"stroke:#7856FA;stroke-width:1\"/><line x1=\"187.25\" y1=\"112.0\" x2=\"187.25\" y2=\"75.0\" style=\"stroke:#7856FA;stroke-width:1\"/><line x1=\"75.5\" y1=\"75.0\" x2=\"38.25\" y2=\"112.0\" style=\"stroke:#7856FA;stroke-width:1\"/><line x1=\"75.5\" y1=\"75.0\" x2=\"75.5\" y2=\"112.0\" style=\"stroke:#7856FA;stroke-width:1\"/><line x1=\"38.25\" y1=\"112.0\" x2=\"75.5\" y2=\"112.0\" style=\"stroke:#7856FA;stroke-width:1\"/><line x1=\"224.5\" y1=\"75.0\" x2=\"187.25\" y2=\"112.0\" style=\"stroke:#7856FA;stroke-width:1\"/><line x1=\"224.5\" y1=\"75.0\" x2=\"224.5\" y2=\"112.0\" style=\"stroke:#7856FA;stroke-width:1\"/><line x1=\"187.25\" y1=\"112.0\" x2=\"224.5\" y2=\"112.0\" style=\"stroke:#7856FA;stroke-width:1\"/><line x1=\"75.5\" y1=\"1.0\" x2=\"38.25\" y2=\"1.0\" style=\"stroke:#7856FA;stroke-width:1\"/><line x1=\"75.5\" y1=\"1.0\" x2=\"38.25\" y2=\"38.0\" style=\"stroke:#7856FA;stroke-width:1\"/><line x1=\"38.25\" y1=\"1.0\" x2=\"38.25\" y2=\"38.0\" style=\"stroke:#7856FA;stroke-width:1\"/><line x1=\"224.5\" y1=\"1.0\" x2=\"187.25\" y2=\"1.0\" style=\"stroke:#7856FA;stroke-width:1\"/><line x1=\"224.5\" y1=\"1.0\" x2=\"187.25\" y2=\"38.0\" style=\"stroke:#7856FA;stroke-width:1\"/><line x1=\"187.25\" y1=\"1.0\" x2=\"187.25\" y2=\"38.0\" style=\"stroke:#7856FA;stroke-width:1\"/><line x1=\"150.0\" y1=\"75.0\" x2=\"150.0\" y2=\"112.0\" style=\"stroke:#7856FA;stroke-width:1\"/><line x1=\"150.0\" y1=\"75.0\" x2=\"112.75\" y2=\"112.0\" style=\"stroke:#7856FA;stroke-width:1\"/><line x1=\"150.0\" y1=\"112.0\" x2=\"112.75\" y2=\"112.0\" style=\"stroke:#7856FA;stroke-width:1\"/><line x1=\"299.0\" y1=\"75.0\" x2=\"299.0\" y2=\"112.0\" style=\"stroke:#7856FA;stroke-width:1\"/><line x1=\"299.0\" y1=\"75.0\" x2=\"261.75\" y2=\"112.0\" style=\"stroke:#7856FA;stroke-width:1\"/><line x1=\"299.0\" y1=\"112.0\" x2=\"261.75\" y2=\"112.0\" style=\"stroke:#7856FA;stroke-width:1\"/><line x1=\"75.5\" y1=\"1.0\" x2=\"112.75\" y2=\"1.0\" style=\"stroke:#7856FA;stroke-width:1\"/><line x1=\"75.5\" y1=\"1.0\" x2=\"75.5\" y2=\"38.0\" style=\"stroke:#7856FA;stroke-width:1\"/><line x1=\"112.75\" y1=\"1.0\" x2=\"75.5\" y2=\"38.0\" style=\"stroke:#7856FA;stroke-width:1\"/><line x1=\"224.5\" y1=\"1.0\" x2=\"261.75\" y2=\"1.0\" style=\"stroke:#7856FA;stroke-width:1\"/><line x1=\"224.5\" y1=\"1.0\" x2=\"224.5\" y2=\"38.0\" style=\"stroke:#7856FA;stroke-width:1\"/><line x1=\"261.75\" y1=\"1.0\" x2=\"224.5\" y2=\"38.0\" style=\"stroke:#7856FA;stroke-width:1\"/><line x1=\"150.0\" y1=\"75.0\" x2=\"150.0\" y2=\"38.0\" style=\"stroke:#7856FA;stroke-width:1\"/><line x1=\"150.0\" y1=\"75.0\" x2=\"112.75\" y2=\"75.0\" style=\"stroke:#7856FA;stroke-width:1\"/><line x1=\"150.0\" y1=\"38.0\" x2=\"112.75\" y2=\"75.0\" style=\"stroke:#7856FA;stroke-width:1\"/><line x1=\"299.0\" y1=\"75.0\" x2=\"299.0\" y2=\"38.0\" style=\"stroke:#7856FA;stroke-width:1\"/><line x1=\"299.0\" y1=\"75.0\" x2=\"261.75\" y2=\"75.0\" style=\"stroke:#7856FA;stroke-width:1\"/><line x1=\"299.0\" y1=\"38.0\" x2=\"261.75\" y2=\"75.0\" style=\"stroke:#7856FA;stroke-width:1\"/><line x1=\"75.5\" y1=\"1.0\" x2=\"38.25\" y2=\"38.0\" style=\"stroke:#7856FA;stroke-width:1\"/><line x1=\"75.5\" y1=\"1.0\" x2=\"75.5\" y2=\"38.0\" style=\"stroke:#7856FA;stroke-width:1\"/><line x1=\"38.25\" y1=\"38.0\" x2=\"75.5\" y2=\"38.0\" style=\"stroke:#7856FA;stroke-width:1\"/><line x1=\"224.5\" y1=\"1.0\" x2=\"187.25\" y2=\"38.0\" style=\"stroke:#7856FA;stroke-width:1\"/><line x1=\"224.5\" y1=\"1.0\" x2=\"224.5\" y2=\"38.0\" style=\"stroke:#7856FA;stroke-width:1\"/><line x1=\"187.25\" y1=\"38.0\" x2=\"224.5\" y2=\"38.0\" style=\"stroke:#7856FA;stroke-width:1\"/><line x1=\"150.0\" y1=\"75.0\" x2=\"112.75\" y2=\"112.0\" style=\"stroke:#7856FA;stroke-width:1\"/><line x1=\"150.0\" y1=\"75.0\" x2=\"112.75\" y2=\"75.0\" style=\"stroke:#7856FA;stroke-width:1\"/><line x1=\"112.75\" y1=\"112.0\" x2=\"112.75\" y2=\"75.0\" style=\"stroke:#7856FA;stroke-width:1\"/><line x1=\"299.0\" y1=\"75.0\" x2=\"261.75\" y2=\"112.0\" style=\"stroke:#7856FA;stroke-width:1\"/><line x1=\"299.0\" y1=\"75.0\" x2=\"261.75\" y2=\"75.0\" style=\"stroke:#7856FA;stroke-width:1\"/><line x1=\"261.75\" y1=\"112.0\" x2=\"261.75\" y2=\"75.0\" style=\"stroke:#7856FA;stroke-width:1\"/><line x1=\"1.0\" y1=\"112.0\" x2=\"38.25\" y2=\"112.0\" style=\"stroke:#7856FA;stroke-width:1\"/><line x1=\"1.0\" y1=\"112.0\" x2=\"38.25\" y2=\"75.0\" style=\"stroke:#7856FA;stroke-width:1\"/><line x1=\"38.25\" y1=\"112.0\" x2=\"38.25\" y2=\"75.0\" style=\"stroke:#7856FA;stroke-width:1\"/><line x1=\"150.0\" y1=\"112.0\" x2=\"187.25\" y2=\"112.0\" style=\"stroke:#7856FA;stroke-width:1\"/><line x1=\"150.0\" y1=\"112.0\" x2=\"187.25\" y2=\"75.0\" style=\"stroke:#7856FA;stroke-width:1\"/><line x1=\"187.25\" y1=\"112.0\" x2=\"187.25\" y2=\"75.0\" style=\"stroke:#7856FA;stroke-width:1\"/><line x1=\"38.25\" y1=\"149.0\" x2=\"38.25\" y2=\"112.0\" style=\"stroke:#7856FA;stroke-width:1\"/><line x1=\"38.25\" y1=\"149.0\" x2=\"75.5\" y2=\"112.0\" style=\"stroke:#7856FA;stroke-width:1\"/><line x1=\"38.25\" y1=\"112.0\" x2=\"75.5\" y2=\"112.0\" style=\"stroke:#7856FA;stroke-width:1\"/><line x1=\"187.25\" y1=\"149.0\" x2=\"187.25\" y2=\"112.0\" style=\"stroke:#7856FA;stroke-width:1\"/><line x1=\"187.25\" y1=\"149.0\" x2=\"224.5\" y2=\"112.0\" style=\"stroke:#7856FA;stroke-width:1\"/><line x1=\"187.25\" y1=\"112.0\" x2=\"224.5\" y2=\"112.0\" style=\"stroke:#7856FA;stroke-width:1\"/><line x1=\"1.0\" y1=\"38.0\" x2=\"38.25\" y2=\"1.0\" style=\"stroke:#7856FA;stroke-width:1\"/><line x1=\"1.0\" y1=\"38.0\" x2=\"38.25\" y2=\"38.0\" style=\"stroke:#7856FA;stroke-width:1\"/><line x1=\"38.25\" y1=\"1.0\" x2=\"38.25\" y2=\"38.0\" style=\"stroke:#7856FA;stroke-width:1\"/><line x1=\"150.0\" y1=\"38.0\" x2=\"187.25\" y2=\"1.0\" style=\"stroke:#7856FA;stroke-width:1\"/><line x1=\"150.0\" y1=\"38.0\" x2=\"187.25\" y2=\"38.0\" style=\"stroke:#7856FA;stroke-width:1\"/><line x1=\"187.25\" y1=\"1.0\" x2=\"187.25\" y2=\"38.0\" style=\"stroke:#7856FA;stroke-width:1\"/><line x1=\"112.75\" y1=\"149.0\" x2=\"150.0\" y2=\"112.0\" style=\"stroke:#7856FA;stroke-width:1\"/><line x1=\"112.75\" y1=\"149.0\" x2=\"112.75\" y2=\"112.0\" style=\"stroke:#7856FA;stroke-width:1\"/><line x1=\"150.0\" y1=\"112.0\" x2=\"112.75\" y2=\"112.0\" style=\"stroke:#7856FA;stroke-width:1\"/><line x1=\"261.75\" y1=\"149.0\" x2=\"299.0\" y2=\"112.0\" style=\"stroke:#7856FA;stroke-width:1\"/><line x1=\"261.75\" y1=\"149.0\" x2=\"261.75\" y2=\"112.0\" style=\"stroke:#7856FA;stroke-width:1\"/><line x1=\"299.0\" y1=\"112.0\" x2=\"261.75\" y2=\"112.0\" style=\"stroke:#7856FA;stroke-width:1\"/><line x1=\"112.75\" y1=\"38.0\" x2=\"112.75\" y2=\"1.0\" style=\"stroke:#7856FA;stroke-width:1\"/><line x1=\"112.75\" y1=\"38.0\" x2=\"75.5\" y2=\"38.0\" style=\"stroke:#7856FA;stroke-width:1\"/><line x1=\"112.75\" y1=\"1.0\" x2=\"75.5\" y2=\"38.0\" style=\"stroke:#7856FA;stroke-width:1\"/><line x1=\"261.75\" y1=\"38.0\" x2=\"261.75\" y2=\"1.0\" style=\"stroke:#7856FA;stroke-width:1\"/><line x1=\"261.75\" y1=\"38.0\" x2=\"224.5\" y2=\"38.0\" style=\"stroke:#7856FA;stroke-width:1\"/><line x1=\"261.75\" y1=\"1.0\" x2=\"224.5\" y2=\"38.0\" style=\"stroke:#7856FA;stroke-width:1\"/><line x1=\"112.75\" y1=\"38.0\" x2=\"150.0\" y2=\"38.0\" style=\"stroke:#7856FA;stroke-width:1\"/><line x1=\"112.75\" y1=\"38.0\" x2=\"112.75\" y2=\"75.0\" style=\"stroke:#7856FA;stroke-width:1\"/><line x1=\"150.0\" y1=\"38.0\" x2=\"112.75\" y2=\"75.0\" style=\"stroke:#7856FA;stroke-width:1\"/><line x1=\"261.75\" y1=\"38.0\" x2=\"299.0\" y2=\"38.0\" style=\"stroke:#7856FA;stroke-width:1\"/><line x1=\"261.75\" y1=\"38.0\" x2=\"261.75\" y2=\"75.0\" style=\"stroke:#7856FA;stroke-width:1\"/><line x1=\"299.0\" y1=\"38.0\" x2=\"261.75\" y2=\"75.0\" style=\"stroke:#7856FA;stroke-width:1\"/><line x1=\"38.25\" y1=\"75.0\" x2=\"38.25\" y2=\"38.0\" style=\"stroke:#7856FA;stroke-width:1\"/><line x1=\"38.25\" y1=\"75.0\" x2=\"75.5\" y2=\"38.0\" style=\"stroke:#7856FA;stroke-width:1\"/><line x1=\"38.25\" y1=\"38.0\" x2=\"75.5\" y2=\"38.0\" style=\"stroke:#7856FA;stroke-width:1\"/><line x1=\"187.25\" y1=\"75.0\" x2=\"187.25\" y2=\"38.0\" style=\"stroke:#7856FA;stroke-width:1\"/><line x1=\"187.25\" y1=\"75.0\" x2=\"224.5\" y2=\"38.0\" style=\"stroke:#7856FA;stroke-width:1\"/><line x1=\"187.25\" y1=\"38.0\" x2=\"224.5\" y2=\"38.0\" style=\"stroke:#7856FA;stroke-width:1\"/><line x1=\"75.5\" y1=\"112.0\" x2=\"112.75\" y2=\"112.0\" style=\"stroke:#7856FA;stroke-width:1\"/><line x1=\"75.5\" y1=\"112.0\" x2=\"112.75\" y2=\"75.0\" style=\"stroke:#7856FA;stroke-width:1\"/><line x1=\"112.75\" y1=\"112.0\" x2=\"112.75\" y2=\"75.0\" style=\"stroke:#7856FA;stroke-width:1\"/><line x1=\"224.5\" y1=\"112.0\" x2=\"261.75\" y2=\"112.0\" style=\"stroke:#7856FA;stroke-width:1\"/><line x1=\"224.5\" y1=\"112.0\" x2=\"261.75\" y2=\"75.0\" style=\"stroke:#7856FA;stroke-width:1\"/><line x1=\"261.75\" y1=\"112.0\" x2=\"261.75\" y2=\"75.0\" style=\"stroke:#7856FA;stroke-width:1\"/></svg>"
      ],
      "text/plain": [
       "<skfem MeshTri1 object>\n",
       "  Number of elements: 64\n",
       "  Number of vertices: 45\n",
       "  Number of nodes: 45\n",
       "  Named boundaries [# facets]: left [4], bottom [8], right [4], top [8]"
      ]
     },
     "execution_count": 13,
     "metadata": {},
     "output_type": "execute_result"
    }
   ],
   "source": [
    "MeshTri.init_tensor(x=x, y=y).refined(2)"
   ]
  },
  {
   "cell_type": "code",
   "execution_count": 14,
   "id": "bd6a561b-a1fd-42eb-b684-21adacb20a6f",
   "metadata": {},
   "outputs": [
    {
     "data": {
      "text/html": [
       "<pre style=\"white-space:pre;overflow-x:auto;line-height:normal;font-family:Menlo,'DejaVu Sans Mono',consolas,'Courier New',monospace\"><span style=\"color: #808000; text-decoration-color: #808000; font-weight: bold\">Warning:</span><span style=\"color: #808000; text-decoration-color: #808000\"> VTK requires 3D points, but 2D points given. Appending </span><span style=\"color: #808000; text-decoration-color: #808000; font-weight: bold\">0</span><span style=\"color: #808000; text-decoration-color: #808000\"> third component.</span>\n",
       "</pre>\n"
      ],
      "text/plain": [
       "\u001b[1;33mWarning:\u001b[0m\u001b[33m VTK requires 3D points, but 2D points given. Appending \u001b[0m\u001b[1;33m0\u001b[0m\u001b[33m third component.\u001b[0m\n"
      ]
     },
     "metadata": {},
     "output_type": "display_data"
    }
   ],
   "source": [
    "m = MeshTri.init_tensor(x=x, y=y).refined(1)\n",
    "m.save(\"meshes-beyond_basic1.vtk\")"
   ]
  },
  {
   "cell_type": "markdown",
   "id": "fbfabb2c-20f7-43ce-b4c4-d5b3f518cde2",
   "metadata": {},
   "source": [
    "#### Non-equal x & y spacing"
   ]
  },
  {
   "cell_type": "code",
   "execution_count": 15,
   "id": "deb96a08-6aa4-4857-8281-ecb2216971ff",
   "metadata": {},
   "outputs": [
    {
     "data": {
      "image/svg+xml": [
       "<svg xmlns=\"http://www.w3.org/2000/svg\" version=\"1.1\" width=\"300\" height=\"150.0\"><line x1=\"1.0\" y1=\"149.0\" x2=\"1.0\" y2=\"1.0\" style=\"stroke:#7856FA;stroke-width:1\"/><line x1=\"1.0\" y1=\"149.0\" x2=\"299.0\" y2=\"1.0\" style=\"stroke:#7856FA;stroke-width:1\"/><line x1=\"1.0\" y1=\"1.0\" x2=\"299.0\" y2=\"1.0\" style=\"stroke:#7856FA;stroke-width:1\"/><line x1=\"1.0\" y1=\"149.0\" x2=\"299.0\" y2=\"149.0\" style=\"stroke:#7856FA;stroke-width:1\"/><line x1=\"1.0\" y1=\"149.0\" x2=\"299.0\" y2=\"1.0\" style=\"stroke:#7856FA;stroke-width:1\"/><line x1=\"299.0\" y1=\"149.0\" x2=\"299.0\" y2=\"1.0\" style=\"stroke:#7856FA;stroke-width:1\"/></svg>"
      ],
      "text/plain": [
       "<skfem MeshTri1 object>\n",
       "  Number of elements: 2\n",
       "  Number of vertices: 4\n",
       "  Number of nodes: 4\n",
       "  Named boundaries [# facets]: left [1], bottom [1], right [1], top [1]"
      ]
     },
     "execution_count": 15,
     "metadata": {},
     "output_type": "execute_result"
    }
   ],
   "source": [
    "x = np.array([0,2])\n",
    "y = np.array([0,1])\n",
    "\n",
    "MeshTri.init_tensor(x=x, y=y)"
   ]
  },
  {
   "cell_type": "code",
   "execution_count": 16,
   "id": "66e55cee-1224-4282-b15a-00e53b7bc88f",
   "metadata": {},
   "outputs": [
    {
     "data": {
      "image/svg+xml": [
       "<svg xmlns=\"http://www.w3.org/2000/svg\" version=\"1.1\" width=\"300\" height=\"150.0\"><line x1=\"1.0\" y1=\"149.0\" x2=\"1.0\" y2=\"75.0\" style=\"stroke:#7856FA;stroke-width:1\"/><line x1=\"1.0\" y1=\"149.0\" x2=\"150.0\" y2=\"75.0\" style=\"stroke:#7856FA;stroke-width:1\"/><line x1=\"1.0\" y1=\"75.0\" x2=\"150.0\" y2=\"75.0\" style=\"stroke:#7856FA;stroke-width:1\"/><line x1=\"1.0\" y1=\"149.0\" x2=\"150.0\" y2=\"149.0\" style=\"stroke:#7856FA;stroke-width:1\"/><line x1=\"1.0\" y1=\"149.0\" x2=\"150.0\" y2=\"75.0\" style=\"stroke:#7856FA;stroke-width:1\"/><line x1=\"150.0\" y1=\"149.0\" x2=\"150.0\" y2=\"75.0\" style=\"stroke:#7856FA;stroke-width:1\"/><line x1=\"1.0\" y1=\"1.0\" x2=\"1.0\" y2=\"75.0\" style=\"stroke:#7856FA;stroke-width:1\"/><line x1=\"1.0\" y1=\"1.0\" x2=\"150.0\" y2=\"1.0\" style=\"stroke:#7856FA;stroke-width:1\"/><line x1=\"1.0\" y1=\"75.0\" x2=\"150.0\" y2=\"1.0\" style=\"stroke:#7856FA;stroke-width:1\"/><line x1=\"299.0\" y1=\"149.0\" x2=\"150.0\" y2=\"149.0\" style=\"stroke:#7856FA;stroke-width:1\"/><line x1=\"299.0\" y1=\"149.0\" x2=\"299.0\" y2=\"75.0\" style=\"stroke:#7856FA;stroke-width:1\"/><line x1=\"150.0\" y1=\"149.0\" x2=\"299.0\" y2=\"75.0\" style=\"stroke:#7856FA;stroke-width:1\"/><line x1=\"299.0\" y1=\"1.0\" x2=\"150.0\" y2=\"75.0\" style=\"stroke:#7856FA;stroke-width:1\"/><line x1=\"299.0\" y1=\"1.0\" x2=\"150.0\" y2=\"1.0\" style=\"stroke:#7856FA;stroke-width:1\"/><line x1=\"150.0\" y1=\"75.0\" x2=\"150.0\" y2=\"1.0\" style=\"stroke:#7856FA;stroke-width:1\"/><line x1=\"299.0\" y1=\"1.0\" x2=\"150.0\" y2=\"75.0\" style=\"stroke:#7856FA;stroke-width:1\"/><line x1=\"299.0\" y1=\"1.0\" x2=\"299.0\" y2=\"75.0\" style=\"stroke:#7856FA;stroke-width:1\"/><line x1=\"150.0\" y1=\"75.0\" x2=\"299.0\" y2=\"75.0\" style=\"stroke:#7856FA;stroke-width:1\"/><line x1=\"1.0\" y1=\"75.0\" x2=\"150.0\" y2=\"75.0\" style=\"stroke:#7856FA;stroke-width:1\"/><line x1=\"1.0\" y1=\"75.0\" x2=\"150.0\" y2=\"1.0\" style=\"stroke:#7856FA;stroke-width:1\"/><line x1=\"150.0\" y1=\"75.0\" x2=\"150.0\" y2=\"1.0\" style=\"stroke:#7856FA;stroke-width:1\"/><line x1=\"150.0\" y1=\"149.0\" x2=\"150.0\" y2=\"75.0\" style=\"stroke:#7856FA;stroke-width:1\"/><line x1=\"150.0\" y1=\"149.0\" x2=\"299.0\" y2=\"75.0\" style=\"stroke:#7856FA;stroke-width:1\"/><line x1=\"150.0\" y1=\"75.0\" x2=\"299.0\" y2=\"75.0\" style=\"stroke:#7856FA;stroke-width:1\"/></svg>"
      ],
      "text/plain": [
       "<skfem MeshTri1 object>\n",
       "  Number of elements: 8\n",
       "  Number of vertices: 9\n",
       "  Number of nodes: 9\n",
       "  Named boundaries [# facets]: left [2], bottom [2], right [2], top [2]"
      ]
     },
     "execution_count": 16,
     "metadata": {},
     "output_type": "execute_result"
    }
   ],
   "source": [
    "MeshTri.init_tensor(x=x, y=y).refined(1)"
   ]
  },
  {
   "cell_type": "markdown",
   "id": "9f1fdb04-4abb-4574-9b45-8b180c733cf9",
   "metadata": {},
   "source": [
    "### Use np.linspace() to create x & y"
   ]
  },
  {
   "cell_type": "code",
   "execution_count": 10,
   "id": "87d1fd5b-1861-4710-80b8-55a10f79ab13",
   "metadata": {},
   "outputs": [
    {
     "name": "stdout",
     "output_type": "stream",
     "text": [
      "[0.  0.5 1.  1.5 2. ]\n",
      "[0.  0.5 1. ]\n"
     ]
    }
   ],
   "source": [
    "print(np.linspace(0, 2, 5))\n",
    "print(np.linspace(0, 1, 3))"
   ]
  },
  {
   "cell_type": "code",
   "execution_count": 9,
   "id": "69c7a66d-0304-44d2-87fe-aea4ae40d063",
   "metadata": {},
   "outputs": [
    {
     "data": {
      "image/svg+xml": [
       "<svg xmlns=\"http://www.w3.org/2000/svg\" version=\"1.1\" width=\"300\" height=\"150.0\"><line x1=\"1.0\" y1=\"149.0\" x2=\"1.0\" y2=\"75.0\" style=\"stroke:#7856FA;stroke-width:1\"/><line x1=\"1.0\" y1=\"149.0\" x2=\"75.5\" y2=\"75.0\" style=\"stroke:#7856FA;stroke-width:1\"/><line x1=\"1.0\" y1=\"75.0\" x2=\"75.5\" y2=\"75.0\" style=\"stroke:#7856FA;stroke-width:1\"/><line x1=\"1.0\" y1=\"75.0\" x2=\"1.0\" y2=\"1.0\" style=\"stroke:#7856FA;stroke-width:1\"/><line x1=\"1.0\" y1=\"75.0\" x2=\"75.5\" y2=\"1.0\" style=\"stroke:#7856FA;stroke-width:1\"/><line x1=\"1.0\" y1=\"1.0\" x2=\"75.5\" y2=\"1.0\" style=\"stroke:#7856FA;stroke-width:1\"/><line x1=\"75.5\" y1=\"149.0\" x2=\"75.5\" y2=\"75.0\" style=\"stroke:#7856FA;stroke-width:1\"/><line x1=\"75.5\" y1=\"149.0\" x2=\"150.0\" y2=\"75.0\" style=\"stroke:#7856FA;stroke-width:1\"/><line x1=\"75.5\" y1=\"75.0\" x2=\"150.0\" y2=\"75.0\" style=\"stroke:#7856FA;stroke-width:1\"/><line x1=\"75.5\" y1=\"75.0\" x2=\"75.5\" y2=\"1.0\" style=\"stroke:#7856FA;stroke-width:1\"/><line x1=\"75.5\" y1=\"75.0\" x2=\"150.0\" y2=\"1.0\" style=\"stroke:#7856FA;stroke-width:1\"/><line x1=\"75.5\" y1=\"1.0\" x2=\"150.0\" y2=\"1.0\" style=\"stroke:#7856FA;stroke-width:1\"/><line x1=\"150.0\" y1=\"149.0\" x2=\"150.0\" y2=\"75.0\" style=\"stroke:#7856FA;stroke-width:1\"/><line x1=\"150.0\" y1=\"149.0\" x2=\"224.5\" y2=\"75.0\" style=\"stroke:#7856FA;stroke-width:1\"/><line x1=\"150.0\" y1=\"75.0\" x2=\"224.5\" y2=\"75.0\" style=\"stroke:#7856FA;stroke-width:1\"/><line x1=\"150.0\" y1=\"75.0\" x2=\"150.0\" y2=\"1.0\" style=\"stroke:#7856FA;stroke-width:1\"/><line x1=\"150.0\" y1=\"75.0\" x2=\"224.5\" y2=\"1.0\" style=\"stroke:#7856FA;stroke-width:1\"/><line x1=\"150.0\" y1=\"1.0\" x2=\"224.5\" y2=\"1.0\" style=\"stroke:#7856FA;stroke-width:1\"/><line x1=\"224.5\" y1=\"149.0\" x2=\"224.5\" y2=\"75.0\" style=\"stroke:#7856FA;stroke-width:1\"/><line x1=\"224.5\" y1=\"149.0\" x2=\"299.0\" y2=\"75.0\" style=\"stroke:#7856FA;stroke-width:1\"/><line x1=\"224.5\" y1=\"75.0\" x2=\"299.0\" y2=\"75.0\" style=\"stroke:#7856FA;stroke-width:1\"/><line x1=\"224.5\" y1=\"75.0\" x2=\"224.5\" y2=\"1.0\" style=\"stroke:#7856FA;stroke-width:1\"/><line x1=\"224.5\" y1=\"75.0\" x2=\"299.0\" y2=\"1.0\" style=\"stroke:#7856FA;stroke-width:1\"/><line x1=\"224.5\" y1=\"1.0\" x2=\"299.0\" y2=\"1.0\" style=\"stroke:#7856FA;stroke-width:1\"/><line x1=\"1.0\" y1=\"149.0\" x2=\"75.5\" y2=\"149.0\" style=\"stroke:#7856FA;stroke-width:1\"/><line x1=\"1.0\" y1=\"149.0\" x2=\"75.5\" y2=\"75.0\" style=\"stroke:#7856FA;stroke-width:1\"/><line x1=\"75.5\" y1=\"149.0\" x2=\"75.5\" y2=\"75.0\" style=\"stroke:#7856FA;stroke-width:1\"/><line x1=\"1.0\" y1=\"75.0\" x2=\"75.5\" y2=\"75.0\" style=\"stroke:#7856FA;stroke-width:1\"/><line x1=\"1.0\" y1=\"75.0\" x2=\"75.5\" y2=\"1.0\" style=\"stroke:#7856FA;stroke-width:1\"/><line x1=\"75.5\" y1=\"75.0\" x2=\"75.5\" y2=\"1.0\" style=\"stroke:#7856FA;stroke-width:1\"/><line x1=\"75.5\" y1=\"149.0\" x2=\"150.0\" y2=\"149.0\" style=\"stroke:#7856FA;stroke-width:1\"/><line x1=\"75.5\" y1=\"149.0\" x2=\"150.0\" y2=\"75.0\" style=\"stroke:#7856FA;stroke-width:1\"/><line x1=\"150.0\" y1=\"149.0\" x2=\"150.0\" y2=\"75.0\" style=\"stroke:#7856FA;stroke-width:1\"/><line x1=\"75.5\" y1=\"75.0\" x2=\"150.0\" y2=\"75.0\" style=\"stroke:#7856FA;stroke-width:1\"/><line x1=\"75.5\" y1=\"75.0\" x2=\"150.0\" y2=\"1.0\" style=\"stroke:#7856FA;stroke-width:1\"/><line x1=\"150.0\" y1=\"75.0\" x2=\"150.0\" y2=\"1.0\" style=\"stroke:#7856FA;stroke-width:1\"/><line x1=\"150.0\" y1=\"149.0\" x2=\"224.5\" y2=\"149.0\" style=\"stroke:#7856FA;stroke-width:1\"/><line x1=\"150.0\" y1=\"149.0\" x2=\"224.5\" y2=\"75.0\" style=\"stroke:#7856FA;stroke-width:1\"/><line x1=\"224.5\" y1=\"149.0\" x2=\"224.5\" y2=\"75.0\" style=\"stroke:#7856FA;stroke-width:1\"/><line x1=\"150.0\" y1=\"75.0\" x2=\"224.5\" y2=\"75.0\" style=\"stroke:#7856FA;stroke-width:1\"/><line x1=\"150.0\" y1=\"75.0\" x2=\"224.5\" y2=\"1.0\" style=\"stroke:#7856FA;stroke-width:1\"/><line x1=\"224.5\" y1=\"75.0\" x2=\"224.5\" y2=\"1.0\" style=\"stroke:#7856FA;stroke-width:1\"/><line x1=\"224.5\" y1=\"149.0\" x2=\"299.0\" y2=\"149.0\" style=\"stroke:#7856FA;stroke-width:1\"/><line x1=\"224.5\" y1=\"149.0\" x2=\"299.0\" y2=\"75.0\" style=\"stroke:#7856FA;stroke-width:1\"/><line x1=\"299.0\" y1=\"149.0\" x2=\"299.0\" y2=\"75.0\" style=\"stroke:#7856FA;stroke-width:1\"/><line x1=\"224.5\" y1=\"75.0\" x2=\"299.0\" y2=\"75.0\" style=\"stroke:#7856FA;stroke-width:1\"/><line x1=\"224.5\" y1=\"75.0\" x2=\"299.0\" y2=\"1.0\" style=\"stroke:#7856FA;stroke-width:1\"/><line x1=\"299.0\" y1=\"75.0\" x2=\"299.0\" y2=\"1.0\" style=\"stroke:#7856FA;stroke-width:1\"/></svg>"
      ],
      "text/plain": [
       "<skfem MeshTri1 object>\n",
       "  Number of elements: 16\n",
       "  Number of vertices: 15\n",
       "  Number of nodes: 15\n",
       "  Named boundaries [# facets]: left [2], bottom [4], right [2], top [4]"
      ]
     },
     "execution_count": 9,
     "metadata": {},
     "output_type": "execute_result"
    }
   ],
   "source": [
    "MeshTri.init_tensor(np.linspace(0, 2, 5), np.linspace(0, 1, 3))"
   ]
  },
  {
   "cell_type": "code",
   "execution_count": null,
   "id": "12e969df-c129-4d64-9a72-0b7877999b79",
   "metadata": {},
   "outputs": [],
   "source": []
  }
 ],
 "metadata": {
  "kernelspec": {
   "display_name": "scikit-fem",
   "language": "python",
   "name": "scikit-fem"
  },
  "language_info": {
   "codemirror_mode": {
    "name": "ipython",
    "version": 3
   },
   "file_extension": ".py",
   "mimetype": "text/x-python",
   "name": "python",
   "nbconvert_exporter": "python",
   "pygments_lexer": "ipython3",
   "version": "3.12.2"
  }
 },
 "nbformat": 4,
 "nbformat_minor": 5
}
