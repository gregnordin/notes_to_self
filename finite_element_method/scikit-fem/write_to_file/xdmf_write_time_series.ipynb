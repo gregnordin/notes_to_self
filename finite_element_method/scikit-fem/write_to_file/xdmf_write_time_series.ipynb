{
 "cells": [
  {
   "cell_type": "markdown",
   "id": "7da0d31a-a8da-4696-8e95-bc5ef0538a6f",
   "metadata": {},
   "source": [
    "# Purpose\n",
    "\n",
    "Use `meshio` to write time series data to xdmf file. See **Time series** at [meshio](https://pypi.org/project/meshio/)."
   ]
  },
  {
   "cell_type": "markdown",
   "id": "60d7f217-da5e-4056-8fd9-fce5013f169c",
   "metadata": {},
   "source": [
    "# Imports"
   ]
  },
  {
   "cell_type": "code",
   "execution_count": 1,
   "id": "92b6639c-2c9f-4b57-8072-0768b71972f4",
   "metadata": {},
   "outputs": [],
   "source": [
    "from math import ceil\n",
    "from typing import Iterator, Tuple\n",
    "\n",
    "import numpy as np\n",
    "from scipy.sparse.linalg import splu\n",
    "\n",
    "import skfem\n",
    "# from skfem import *\n",
    "from skfem.models.poisson import laplace, mass\n",
    "\n",
    "import meshio\n",
    "\n",
    "from matplotlib.animation import FuncAnimation\n",
    "import matplotlib.pyplot as plt\n",
    "\n",
    "from skfem.visuals.matplotlib import plot"
   ]
  },
  {
   "cell_type": "markdown",
   "id": "3f2df7af-1cf5-4d43-8110-5448716cc65f",
   "metadata": {},
   "source": [
    "# Code"
   ]
  },
  {
   "cell_type": "code",
   "execution_count": 2,
   "id": "cf0df819-2d23-4b94-b37d-b62956ee5e18",
   "metadata": {},
   "outputs": [],
   "source": [
    "def points_and_cells(mesh):\n",
    "    if mesh.t.shape[0] == 4:\n",
    "        cell_type = \"quad\"\n",
    "    elif mesh.t.shape[0] == 3:\n",
    "        cell_type = \"triangle\"\n",
    "    elif mesh.t.shape[0] == 2:\n",
    "        cell_type = \"line\"\n",
    "    else:\n",
    "        raise ValueError(f\"Number of cell nodes is {mesh.t.shape[0]}, must be in range 2 to 4 for 2D mesh\")\n",
    "\n",
    "    cells = []\n",
    "    for i in range(mesh.t.shape[1]):\n",
    "        cells.append([index for index in mesh.t[:, i]])\n",
    "    \n",
    "    return mesh.p, np.array(cells)\n",
    "\n",
    "def add_z_coordinate(points_2D):\n",
    "    return np.vstack((points_2D, np.zeros(points_2D.shape[1])))"
   ]
  },
  {
   "cell_type": "markdown",
   "id": "341cb896-6a06-4742-bfeb-1b91a896806f",
   "metadata": {},
   "source": [
    "# Mesh with quad cells"
   ]
  },
  {
   "cell_type": "markdown",
   "id": "7e0d71d6-0b8b-4b30-b655-6dc013d9d574",
   "metadata": {},
   "source": [
    "## Mesh"
   ]
  },
  {
   "cell_type": "code",
   "execution_count": 3,
   "id": "9d9776d6-b1f5-4ec5-9877-2efbfc8898db",
   "metadata": {},
   "outputs": [
    {
     "name": "stdout",
     "output_type": "stream",
     "text": [
      "<skfem MeshQuad1 object>\n",
      "  Number of elements: 16\n",
      "  Number of vertices: 25\n",
      "  Number of nodes: 25\n",
      "  Named boundaries [# facets]: left [4], bottom [4], right [4], top [4]\n"
     ]
    },
    {
     "data": {
      "image/svg+xml": [
       "<svg xmlns=\"http://www.w3.org/2000/svg\" version=\"1.1\" width=\"300\" height=\"300.0\"><line x1=\"1.0\" y1=\"299.0\" x2=\"75.5\" y2=\"299.0\" style=\"stroke:#7856FA;stroke-width:1\"/><line x1=\"1.0\" y1=\"299.0\" x2=\"1.0\" y2=\"224.5\" style=\"stroke:#7856FA;stroke-width:1\"/><line x1=\"75.5\" y1=\"299.0\" x2=\"75.5\" y2=\"224.5\" style=\"stroke:#7856FA;stroke-width:1\"/><line x1=\"75.5\" y1=\"224.5\" x2=\"1.0\" y2=\"224.5\" style=\"stroke:#7856FA;stroke-width:1\"/><line x1=\"150.0\" y1=\"299.0\" x2=\"224.5\" y2=\"299.0\" style=\"stroke:#7856FA;stroke-width:1\"/><line x1=\"150.0\" y1=\"299.0\" x2=\"150.0\" y2=\"224.5\" style=\"stroke:#7856FA;stroke-width:1\"/><line x1=\"224.5\" y1=\"299.0\" x2=\"224.5\" y2=\"224.5\" style=\"stroke:#7856FA;stroke-width:1\"/><line x1=\"224.5\" y1=\"224.5\" x2=\"150.0\" y2=\"224.5\" style=\"stroke:#7856FA;stroke-width:1\"/><line x1=\"150.0\" y1=\"150.0\" x2=\"224.5\" y2=\"150.0\" style=\"stroke:#7856FA;stroke-width:1\"/><line x1=\"150.0\" y1=\"150.0\" x2=\"150.0\" y2=\"75.5\" style=\"stroke:#7856FA;stroke-width:1\"/><line x1=\"224.5\" y1=\"150.0\" x2=\"224.5\" y2=\"75.5\" style=\"stroke:#7856FA;stroke-width:1\"/><line x1=\"224.5\" y1=\"75.5\" x2=\"150.0\" y2=\"75.5\" style=\"stroke:#7856FA;stroke-width:1\"/><line x1=\"1.0\" y1=\"150.0\" x2=\"75.5\" y2=\"150.0\" style=\"stroke:#7856FA;stroke-width:1\"/><line x1=\"1.0\" y1=\"150.0\" x2=\"1.0\" y2=\"75.5\" style=\"stroke:#7856FA;stroke-width:1\"/><line x1=\"75.5\" y1=\"150.0\" x2=\"75.5\" y2=\"75.5\" style=\"stroke:#7856FA;stroke-width:1\"/><line x1=\"75.5\" y1=\"75.5\" x2=\"1.0\" y2=\"75.5\" style=\"stroke:#7856FA;stroke-width:1\"/><line x1=\"75.5\" y1=\"299.0\" x2=\"150.0\" y2=\"299.0\" style=\"stroke:#7856FA;stroke-width:1\"/><line x1=\"75.5\" y1=\"299.0\" x2=\"75.5\" y2=\"224.5\" style=\"stroke:#7856FA;stroke-width:1\"/><line x1=\"150.0\" y1=\"299.0\" x2=\"150.0\" y2=\"224.5\" style=\"stroke:#7856FA;stroke-width:1\"/><line x1=\"150.0\" y1=\"224.5\" x2=\"75.5\" y2=\"224.5\" style=\"stroke:#7856FA;stroke-width:1\"/><line x1=\"224.5\" y1=\"299.0\" x2=\"299.0\" y2=\"299.0\" style=\"stroke:#7856FA;stroke-width:1\"/><line x1=\"224.5\" y1=\"299.0\" x2=\"224.5\" y2=\"224.5\" style=\"stroke:#7856FA;stroke-width:1\"/><line x1=\"299.0\" y1=\"299.0\" x2=\"299.0\" y2=\"224.5\" style=\"stroke:#7856FA;stroke-width:1\"/><line x1=\"299.0\" y1=\"224.5\" x2=\"224.5\" y2=\"224.5\" style=\"stroke:#7856FA;stroke-width:1\"/><line x1=\"224.5\" y1=\"150.0\" x2=\"299.0\" y2=\"150.0\" style=\"stroke:#7856FA;stroke-width:1\"/><line x1=\"224.5\" y1=\"150.0\" x2=\"224.5\" y2=\"75.5\" style=\"stroke:#7856FA;stroke-width:1\"/><line x1=\"299.0\" y1=\"150.0\" x2=\"299.0\" y2=\"75.5\" style=\"stroke:#7856FA;stroke-width:1\"/><line x1=\"299.0\" y1=\"75.5\" x2=\"224.5\" y2=\"75.5\" style=\"stroke:#7856FA;stroke-width:1\"/><line x1=\"75.5\" y1=\"150.0\" x2=\"150.0\" y2=\"150.0\" style=\"stroke:#7856FA;stroke-width:1\"/><line x1=\"75.5\" y1=\"150.0\" x2=\"75.5\" y2=\"75.5\" style=\"stroke:#7856FA;stroke-width:1\"/><line x1=\"150.0\" y1=\"150.0\" x2=\"150.0\" y2=\"75.5\" style=\"stroke:#7856FA;stroke-width:1\"/><line x1=\"150.0\" y1=\"75.5\" x2=\"75.5\" y2=\"75.5\" style=\"stroke:#7856FA;stroke-width:1\"/><line x1=\"75.5\" y1=\"224.5\" x2=\"150.0\" y2=\"224.5\" style=\"stroke:#7856FA;stroke-width:1\"/><line x1=\"75.5\" y1=\"224.5\" x2=\"75.5\" y2=\"150.0\" style=\"stroke:#7856FA;stroke-width:1\"/><line x1=\"150.0\" y1=\"224.5\" x2=\"150.0\" y2=\"150.0\" style=\"stroke:#7856FA;stroke-width:1\"/><line x1=\"150.0\" y1=\"150.0\" x2=\"75.5\" y2=\"150.0\" style=\"stroke:#7856FA;stroke-width:1\"/><line x1=\"224.5\" y1=\"224.5\" x2=\"299.0\" y2=\"224.5\" style=\"stroke:#7856FA;stroke-width:1\"/><line x1=\"224.5\" y1=\"224.5\" x2=\"224.5\" y2=\"150.0\" style=\"stroke:#7856FA;stroke-width:1\"/><line x1=\"299.0\" y1=\"224.5\" x2=\"299.0\" y2=\"150.0\" style=\"stroke:#7856FA;stroke-width:1\"/><line x1=\"299.0\" y1=\"150.0\" x2=\"224.5\" y2=\"150.0\" style=\"stroke:#7856FA;stroke-width:1\"/><line x1=\"224.5\" y1=\"75.5\" x2=\"299.0\" y2=\"75.5\" style=\"stroke:#7856FA;stroke-width:1\"/><line x1=\"224.5\" y1=\"75.5\" x2=\"224.5\" y2=\"1.0\" style=\"stroke:#7856FA;stroke-width:1\"/><line x1=\"299.0\" y1=\"75.5\" x2=\"299.0\" y2=\"1.0\" style=\"stroke:#7856FA;stroke-width:1\"/><line x1=\"299.0\" y1=\"1.0\" x2=\"224.5\" y2=\"1.0\" style=\"stroke:#7856FA;stroke-width:1\"/><line x1=\"75.5\" y1=\"75.5\" x2=\"150.0\" y2=\"75.5\" style=\"stroke:#7856FA;stroke-width:1\"/><line x1=\"75.5\" y1=\"75.5\" x2=\"75.5\" y2=\"1.0\" style=\"stroke:#7856FA;stroke-width:1\"/><line x1=\"150.0\" y1=\"75.5\" x2=\"150.0\" y2=\"1.0\" style=\"stroke:#7856FA;stroke-width:1\"/><line x1=\"150.0\" y1=\"1.0\" x2=\"75.5\" y2=\"1.0\" style=\"stroke:#7856FA;stroke-width:1\"/><line x1=\"1.0\" y1=\"224.5\" x2=\"75.5\" y2=\"224.5\" style=\"stroke:#7856FA;stroke-width:1\"/><line x1=\"1.0\" y1=\"224.5\" x2=\"1.0\" y2=\"150.0\" style=\"stroke:#7856FA;stroke-width:1\"/><line x1=\"75.5\" y1=\"224.5\" x2=\"75.5\" y2=\"150.0\" style=\"stroke:#7856FA;stroke-width:1\"/><line x1=\"75.5\" y1=\"150.0\" x2=\"1.0\" y2=\"150.0\" style=\"stroke:#7856FA;stroke-width:1\"/><line x1=\"150.0\" y1=\"224.5\" x2=\"224.5\" y2=\"224.5\" style=\"stroke:#7856FA;stroke-width:1\"/><line x1=\"150.0\" y1=\"224.5\" x2=\"150.0\" y2=\"150.0\" style=\"stroke:#7856FA;stroke-width:1\"/><line x1=\"224.5\" y1=\"224.5\" x2=\"224.5\" y2=\"150.0\" style=\"stroke:#7856FA;stroke-width:1\"/><line x1=\"224.5\" y1=\"150.0\" x2=\"150.0\" y2=\"150.0\" style=\"stroke:#7856FA;stroke-width:1\"/><line x1=\"150.0\" y1=\"75.5\" x2=\"224.5\" y2=\"75.5\" style=\"stroke:#7856FA;stroke-width:1\"/><line x1=\"150.0\" y1=\"75.5\" x2=\"150.0\" y2=\"1.0\" style=\"stroke:#7856FA;stroke-width:1\"/><line x1=\"224.5\" y1=\"75.5\" x2=\"224.5\" y2=\"1.0\" style=\"stroke:#7856FA;stroke-width:1\"/><line x1=\"224.5\" y1=\"1.0\" x2=\"150.0\" y2=\"1.0\" style=\"stroke:#7856FA;stroke-width:1\"/><line x1=\"1.0\" y1=\"75.5\" x2=\"75.5\" y2=\"75.5\" style=\"stroke:#7856FA;stroke-width:1\"/><line x1=\"1.0\" y1=\"75.5\" x2=\"1.0\" y2=\"1.0\" style=\"stroke:#7856FA;stroke-width:1\"/><line x1=\"75.5\" y1=\"75.5\" x2=\"75.5\" y2=\"1.0\" style=\"stroke:#7856FA;stroke-width:1\"/><line x1=\"75.5\" y1=\"1.0\" x2=\"1.0\" y2=\"1.0\" style=\"stroke:#7856FA;stroke-width:1\"/></svg>"
      ],
      "text/plain": [
       "<skfem MeshQuad1 object>\n",
       "  Number of elements: 16\n",
       "  Number of vertices: 25\n",
       "  Number of nodes: 25\n",
       "  Named boundaries [# facets]: left [4], bottom [4], right [4], top [4]"
      ]
     },
     "execution_count": 3,
     "metadata": {},
     "output_type": "execute_result"
    }
   ],
   "source": [
    "mesh_quad = skfem.MeshQuad().refined(2)\n",
    "print(mesh_quad)\n",
    "mesh_quad"
   ]
  },
  {
   "cell_type": "code",
   "execution_count": 4,
   "id": "759e8f3b-53e9-4ab1-8d56-e95f0769b07b",
   "metadata": {},
   "outputs": [
    {
     "data": {
      "text/plain": [
       "(array([[0.  , 1.  , 1.  , 0.  , 0.5 , 0.  , 1.  , 0.5 , 0.5 , 0.25, 0.  ,\n",
       "         0.75, 1.  , 1.  , 0.75, 0.  , 0.25, 0.5 , 0.25, 0.75, 0.5 , 0.25,\n",
       "         0.75, 0.75, 0.25],\n",
       "        [0.  , 0.  , 1.  , 1.  , 0.  , 0.5 , 0.5 , 1.  , 0.5 , 0.  , 0.25,\n",
       "         0.  , 0.25, 0.75, 1.  , 0.75, 1.  , 0.25, 0.5 , 0.5 , 0.75, 0.25,\n",
       "         0.25, 0.75, 0.75]]),\n",
       " array([[ 0,  9, 21, 10],\n",
       "        [ 4, 11, 22, 17],\n",
       "        [ 8, 19, 23, 20],\n",
       "        [ 5, 18, 24, 15],\n",
       "        [ 9,  4, 17, 21],\n",
       "        [11,  1, 12, 22],\n",
       "        [19,  6, 13, 23],\n",
       "        [18,  8, 20, 24],\n",
       "        [21, 17,  8, 18],\n",
       "        [22, 12,  6, 19],\n",
       "        [23, 13,  2, 14],\n",
       "        [24, 20,  7, 16],\n",
       "        [10, 21, 18,  5],\n",
       "        [17, 22, 19,  8],\n",
       "        [20, 23, 14,  7],\n",
       "        [15, 24, 16,  3]]))"
      ]
     },
     "execution_count": 4,
     "metadata": {},
     "output_type": "execute_result"
    }
   ],
   "source": [
    "points_and_cells(mesh_quad)"
   ]
  },
  {
   "cell_type": "code",
   "execution_count": 5,
   "id": "078b10ba-c638-4eb4-a4b1-99462b8047e2",
   "metadata": {},
   "outputs": [
    {
     "data": {
      "text/plain": [
       "(4, 16)"
      ]
     },
     "execution_count": 5,
     "metadata": {},
     "output_type": "execute_result"
    }
   ],
   "source": [
    "mesh_quad.t.shape"
   ]
  },
  {
   "cell_type": "markdown",
   "id": "ae28596d-a8a2-4035-88b5-457c1f09a623",
   "metadata": {},
   "source": [
    "## Basis"
   ]
  },
  {
   "cell_type": "code",
   "execution_count": 6,
   "id": "be1a2cc8-8af9-473a-abc1-7c5e5884572c",
   "metadata": {},
   "outputs": [
    {
     "name": "stdout",
     "output_type": "stream",
     "text": [
      "<skfem CellBasis(MeshQuad1, ElementQuad2) object>\n",
      "  Number of elements: 16\n",
      "  Number of DOFs: 81\n",
      "  Size: 86400 B\n"
     ]
    }
   ],
   "source": [
    "basis_quad = skfem.Basis(mesh_quad, skfem.ElementQuad2())\n",
    "print(basis_quad)"
   ]
  },
  {
   "cell_type": "markdown",
   "id": "fc42be75-58f0-470a-a6b7-75b96a5ec494",
   "metadata": {},
   "source": [
    "## Create array to hold data values"
   ]
  },
  {
   "cell_type": "code",
   "execution_count": 7,
   "id": "bb69e386-b258-45a7-87eb-33f820736d41",
   "metadata": {},
   "outputs": [
    {
     "data": {
      "text/plain": [
       "(81,)"
      ]
     },
     "execution_count": 7,
     "metadata": {},
     "output_type": "execute_result"
    }
   ],
   "source": [
    "values_quad = basis_quad.zeros()\n",
    "values_quad.shape"
   ]
  },
  {
   "cell_type": "markdown",
   "id": "da9583b4-d64f-43e9-8bec-f1fb236ac8de",
   "metadata": {},
   "source": [
    "### Initialize with arbitrary data"
   ]
  },
  {
   "cell_type": "code",
   "execution_count": 8,
   "id": "d8d75b05-9933-4969-a31d-945bf84c8505",
   "metadata": {},
   "outputs": [],
   "source": [
    "values_quad[0] = 2\n",
    "values_quad[1] = 1.5\n",
    "values_quad[7] = 1\n",
    "values_quad[10] = -1"
   ]
  },
  {
   "cell_type": "markdown",
   "id": "11a9fcbc-8b12-49c0-a4b5-ed6f98408145",
   "metadata": {},
   "source": [
    "## Write simple VTK file"
   ]
  },
  {
   "cell_type": "code",
   "execution_count": 9,
   "id": "de83289f-8793-42e9-9d49-f52d55da1b0c",
   "metadata": {},
   "outputs": [],
   "source": [
    "points, cells = points_and_cells(mesh_quad)\n",
    "points = add_z_coordinate(points).T\n",
    "\n",
    "meshio.write_points_cells(\n",
    "    \"xdmf_write_time_series_quad.vtk\", \n",
    "    points, \n",
    "    [(\"quad\", cells)], \n",
    "    point_data={\"values\": values_quad[:mesh_quad.nvertices]}\n",
    ")"
   ]
  },
  {
   "cell_type": "markdown",
   "id": "10b88c78-9456-4b38-82a8-e890331ab4ca",
   "metadata": {},
   "source": [
    "## Write time series XDMF file"
   ]
  },
  {
   "cell_type": "code",
   "execution_count": 10,
   "id": "cefd0a2f-5ff4-47a4-9594-c915ccec6891",
   "metadata": {},
   "outputs": [],
   "source": [
    "times = [0.0, 1.0, 2.0, 3.0]\n",
    "points, cells = points_and_cells(mesh_quad)\n",
    "points = add_z_coordinate(points).T\n",
    "\n",
    "with meshio.xdmf.TimeSeriesWriter(\"xdmf_write_time_series_quad.xdmf\") as writer:\n",
    "    writer.write_points_cells(points, [(\"quad\", cells)])\n",
    "    for t in times:\n",
    "        values_quad[3] = t\n",
    "        writer.write_data(t, point_data={\"solution\": values_quad[:mesh_quad.nvertices]})"
   ]
  },
  {
   "cell_type": "markdown",
   "id": "a9a17499-d3d3-42df-9944-7c9a1b2705c1",
   "metadata": {},
   "source": [
    "# Mesh with triangle cells"
   ]
  },
  {
   "cell_type": "code",
   "execution_count": 11,
   "id": "220852cd-b6d1-45bb-ae71-f7e0adb67e1e",
   "metadata": {},
   "outputs": [
    {
     "name": "stdout",
     "output_type": "stream",
     "text": [
      "<skfem MeshTri1 object>\n",
      "  Number of elements: 32\n",
      "  Number of vertices: 25\n",
      "  Number of nodes: 25\n",
      "  Named boundaries [# facets]: left [4], bottom [4], right [4], top [4]\n"
     ]
    },
    {
     "data": {
      "image/svg+xml": [
       "<svg xmlns=\"http://www.w3.org/2000/svg\" version=\"1.1\" width=\"300\" height=\"300.0\"><line x1=\"1.0\" y1=\"299.0\" x2=\"75.5\" y2=\"299.0\" style=\"stroke:#7856FA;stroke-width:1\"/><line x1=\"1.0\" y1=\"299.0\" x2=\"1.0\" y2=\"224.5\" style=\"stroke:#7856FA;stroke-width:1\"/><line x1=\"75.5\" y1=\"299.0\" x2=\"1.0\" y2=\"224.5\" style=\"stroke:#7856FA;stroke-width:1\"/><line x1=\"299.0\" y1=\"299.0\" x2=\"224.5\" y2=\"224.5\" style=\"stroke:#7856FA;stroke-width:1\"/><line x1=\"299.0\" y1=\"299.0\" x2=\"299.0\" y2=\"224.5\" style=\"stroke:#7856FA;stroke-width:1\"/><line x1=\"224.5\" y1=\"224.5\" x2=\"299.0\" y2=\"224.5\" style=\"stroke:#7856FA;stroke-width:1\"/><line x1=\"299.0\" y1=\"299.0\" x2=\"224.5\" y2=\"299.0\" style=\"stroke:#7856FA;stroke-width:1\"/><line x1=\"299.0\" y1=\"299.0\" x2=\"224.5\" y2=\"224.5\" style=\"stroke:#7856FA;stroke-width:1\"/><line x1=\"224.5\" y1=\"299.0\" x2=\"224.5\" y2=\"224.5\" style=\"stroke:#7856FA;stroke-width:1\"/><line x1=\"1.0\" y1=\"1.0\" x2=\"75.5\" y2=\"75.5\" style=\"stroke:#7856FA;stroke-width:1\"/><line x1=\"1.0\" y1=\"1.0\" x2=\"75.5\" y2=\"1.0\" style=\"stroke:#7856FA;stroke-width:1\"/><line x1=\"75.5\" y1=\"75.5\" x2=\"75.5\" y2=\"1.0\" style=\"stroke:#7856FA;stroke-width:1\"/><line x1=\"1.0\" y1=\"1.0\" x2=\"1.0\" y2=\"75.5\" style=\"stroke:#7856FA;stroke-width:1\"/><line x1=\"1.0\" y1=\"1.0\" x2=\"75.5\" y2=\"75.5\" style=\"stroke:#7856FA;stroke-width:1\"/><line x1=\"1.0\" y1=\"75.5\" x2=\"75.5\" y2=\"75.5\" style=\"stroke:#7856FA;stroke-width:1\"/><line x1=\"299.0\" y1=\"1.0\" x2=\"299.0\" y2=\"75.5\" style=\"stroke:#7856FA;stroke-width:1\"/><line x1=\"299.0\" y1=\"1.0\" x2=\"224.5\" y2=\"1.0\" style=\"stroke:#7856FA;stroke-width:1\"/><line x1=\"299.0\" y1=\"75.5\" x2=\"224.5\" y2=\"1.0\" style=\"stroke:#7856FA;stroke-width:1\"/><line x1=\"150.0\" y1=\"299.0\" x2=\"75.5\" y2=\"224.5\" style=\"stroke:#7856FA;stroke-width:1\"/><line x1=\"150.0\" y1=\"299.0\" x2=\"150.0\" y2=\"224.5\" style=\"stroke:#7856FA;stroke-width:1\"/><line x1=\"75.5\" y1=\"224.5\" x2=\"150.0\" y2=\"224.5\" style=\"stroke:#7856FA;stroke-width:1\"/><line x1=\"150.0\" y1=\"150.0\" x2=\"224.5\" y2=\"150.0\" style=\"stroke:#7856FA;stroke-width:1\"/><line x1=\"150.0\" y1=\"150.0\" x2=\"150.0\" y2=\"75.5\" style=\"stroke:#7856FA;stroke-width:1\"/><line x1=\"224.5\" y1=\"150.0\" x2=\"150.0\" y2=\"75.5\" style=\"stroke:#7856FA;stroke-width:1\"/><line x1=\"150.0\" y1=\"299.0\" x2=\"75.5\" y2=\"299.0\" style=\"stroke:#7856FA;stroke-width:1\"/><line x1=\"150.0\" y1=\"299.0\" x2=\"75.5\" y2=\"224.5\" style=\"stroke:#7856FA;stroke-width:1\"/><line x1=\"75.5\" y1=\"299.0\" x2=\"75.5\" y2=\"224.5\" style=\"stroke:#7856FA;stroke-width:1\"/><line x1=\"150.0\" y1=\"150.0\" x2=\"224.5\" y2=\"224.5\" style=\"stroke:#7856FA;stroke-width:1\"/><line x1=\"150.0\" y1=\"150.0\" x2=\"224.5\" y2=\"150.0\" style=\"stroke:#7856FA;stroke-width:1\"/><line x1=\"224.5\" y1=\"224.5\" x2=\"224.5\" y2=\"150.0\" style=\"stroke:#7856FA;stroke-width:1\"/><line x1=\"150.0\" y1=\"299.0\" x2=\"224.5\" y2=\"299.0\" style=\"stroke:#7856FA;stroke-width:1\"/><line x1=\"150.0\" y1=\"299.0\" x2=\"150.0\" y2=\"224.5\" style=\"stroke:#7856FA;stroke-width:1\"/><line x1=\"224.5\" y1=\"299.0\" x2=\"150.0\" y2=\"224.5\" style=\"stroke:#7856FA;stroke-width:1\"/><line x1=\"150.0\" y1=\"150.0\" x2=\"75.5\" y2=\"75.5\" style=\"stroke:#7856FA;stroke-width:1\"/><line x1=\"150.0\" y1=\"150.0\" x2=\"150.0\" y2=\"75.5\" style=\"stroke:#7856FA;stroke-width:1\"/><line x1=\"75.5\" y1=\"75.5\" x2=\"150.0\" y2=\"75.5\" style=\"stroke:#7856FA;stroke-width:1\"/><line x1=\"1.0\" y1=\"150.0\" x2=\"1.0\" y2=\"75.5\" style=\"stroke:#7856FA;stroke-width:1\"/><line x1=\"1.0\" y1=\"150.0\" x2=\"75.5\" y2=\"150.0\" style=\"stroke:#7856FA;stroke-width:1\"/><line x1=\"1.0\" y1=\"75.5\" x2=\"75.5\" y2=\"150.0\" style=\"stroke:#7856FA;stroke-width:1\"/><line x1=\"299.0\" y1=\"150.0\" x2=\"299.0\" y2=\"75.5\" style=\"stroke:#7856FA;stroke-width:1\"/><line x1=\"299.0\" y1=\"150.0\" x2=\"224.5\" y2=\"75.5\" style=\"stroke:#7856FA;stroke-width:1\"/><line x1=\"299.0\" y1=\"75.5\" x2=\"224.5\" y2=\"75.5\" style=\"stroke:#7856FA;stroke-width:1\"/><line x1=\"1.0\" y1=\"150.0\" x2=\"75.5\" y2=\"224.5\" style=\"stroke:#7856FA;stroke-width:1\"/><line x1=\"1.0\" y1=\"150.0\" x2=\"75.5\" y2=\"150.0\" style=\"stroke:#7856FA;stroke-width:1\"/><line x1=\"75.5\" y1=\"224.5\" x2=\"75.5\" y2=\"150.0\" style=\"stroke:#7856FA;stroke-width:1\"/><line x1=\"299.0\" y1=\"150.0\" x2=\"224.5\" y2=\"150.0\" style=\"stroke:#7856FA;stroke-width:1\"/><line x1=\"299.0\" y1=\"150.0\" x2=\"224.5\" y2=\"75.5\" style=\"stroke:#7856FA;stroke-width:1\"/><line x1=\"224.5\" y1=\"150.0\" x2=\"224.5\" y2=\"75.5\" style=\"stroke:#7856FA;stroke-width:1\"/><line x1=\"1.0\" y1=\"150.0\" x2=\"1.0\" y2=\"224.5\" style=\"stroke:#7856FA;stroke-width:1\"/><line x1=\"1.0\" y1=\"150.0\" x2=\"75.5\" y2=\"224.5\" style=\"stroke:#7856FA;stroke-width:1\"/><line x1=\"1.0\" y1=\"224.5\" x2=\"75.5\" y2=\"224.5\" style=\"stroke:#7856FA;stroke-width:1\"/><line x1=\"299.0\" y1=\"150.0\" x2=\"299.0\" y2=\"224.5\" style=\"stroke:#7856FA;stroke-width:1\"/><line x1=\"299.0\" y1=\"150.0\" x2=\"224.5\" y2=\"150.0\" style=\"stroke:#7856FA;stroke-width:1\"/><line x1=\"299.0\" y1=\"224.5\" x2=\"224.5\" y2=\"150.0\" style=\"stroke:#7856FA;stroke-width:1\"/><line x1=\"150.0\" y1=\"150.0\" x2=\"224.5\" y2=\"224.5\" style=\"stroke:#7856FA;stroke-width:1\"/><line x1=\"150.0\" y1=\"150.0\" x2=\"150.0\" y2=\"224.5\" style=\"stroke:#7856FA;stroke-width:1\"/><line x1=\"224.5\" y1=\"224.5\" x2=\"150.0\" y2=\"224.5\" style=\"stroke:#7856FA;stroke-width:1\"/><line x1=\"150.0\" y1=\"1.0\" x2=\"75.5\" y2=\"1.0\" style=\"stroke:#7856FA;stroke-width:1\"/><line x1=\"150.0\" y1=\"1.0\" x2=\"150.0\" y2=\"75.5\" style=\"stroke:#7856FA;stroke-width:1\"/><line x1=\"75.5\" y1=\"1.0\" x2=\"150.0\" y2=\"75.5\" style=\"stroke:#7856FA;stroke-width:1\"/><line x1=\"150.0\" y1=\"150.0\" x2=\"75.5\" y2=\"75.5\" style=\"stroke:#7856FA;stroke-width:1\"/><line x1=\"150.0\" y1=\"150.0\" x2=\"75.5\" y2=\"150.0\" style=\"stroke:#7856FA;stroke-width:1\"/><line x1=\"75.5\" y1=\"75.5\" x2=\"75.5\" y2=\"150.0\" style=\"stroke:#7856FA;stroke-width:1\"/><line x1=\"150.0\" y1=\"1.0\" x2=\"224.5\" y2=\"1.0\" style=\"stroke:#7856FA;stroke-width:1\"/><line x1=\"150.0\" y1=\"1.0\" x2=\"224.5\" y2=\"75.5\" style=\"stroke:#7856FA;stroke-width:1\"/><line x1=\"224.5\" y1=\"1.0\" x2=\"224.5\" y2=\"75.5\" style=\"stroke:#7856FA;stroke-width:1\"/><line x1=\"150.0\" y1=\"150.0\" x2=\"150.0\" y2=\"224.5\" style=\"stroke:#7856FA;stroke-width:1\"/><line x1=\"150.0\" y1=\"150.0\" x2=\"75.5\" y2=\"150.0\" style=\"stroke:#7856FA;stroke-width:1\"/><line x1=\"150.0\" y1=\"224.5\" x2=\"75.5\" y2=\"150.0\" style=\"stroke:#7856FA;stroke-width:1\"/><line x1=\"150.0\" y1=\"1.0\" x2=\"150.0\" y2=\"75.5\" style=\"stroke:#7856FA;stroke-width:1\"/><line x1=\"150.0\" y1=\"1.0\" x2=\"224.5\" y2=\"75.5\" style=\"stroke:#7856FA;stroke-width:1\"/><line x1=\"150.0\" y1=\"75.5\" x2=\"224.5\" y2=\"75.5\" style=\"stroke:#7856FA;stroke-width:1\"/><line x1=\"75.5\" y1=\"299.0\" x2=\"1.0\" y2=\"224.5\" style=\"stroke:#7856FA;stroke-width:1\"/><line x1=\"75.5\" y1=\"299.0\" x2=\"75.5\" y2=\"224.5\" style=\"stroke:#7856FA;stroke-width:1\"/><line x1=\"1.0\" y1=\"224.5\" x2=\"75.5\" y2=\"224.5\" style=\"stroke:#7856FA;stroke-width:1\"/><line x1=\"224.5\" y1=\"224.5\" x2=\"299.0\" y2=\"224.5\" style=\"stroke:#7856FA;stroke-width:1\"/><line x1=\"224.5\" y1=\"224.5\" x2=\"224.5\" y2=\"150.0\" style=\"stroke:#7856FA;stroke-width:1\"/><line x1=\"299.0\" y1=\"224.5\" x2=\"224.5\" y2=\"150.0\" style=\"stroke:#7856FA;stroke-width:1\"/><line x1=\"224.5\" y1=\"299.0\" x2=\"224.5\" y2=\"224.5\" style=\"stroke:#7856FA;stroke-width:1\"/><line x1=\"224.5\" y1=\"299.0\" x2=\"150.0\" y2=\"224.5\" style=\"stroke:#7856FA;stroke-width:1\"/><line x1=\"224.5\" y1=\"224.5\" x2=\"150.0\" y2=\"224.5\" style=\"stroke:#7856FA;stroke-width:1\"/><line x1=\"75.5\" y1=\"75.5\" x2=\"75.5\" y2=\"1.0\" style=\"stroke:#7856FA;stroke-width:1\"/><line x1=\"75.5\" y1=\"75.5\" x2=\"150.0\" y2=\"75.5\" style=\"stroke:#7856FA;stroke-width:1\"/><line x1=\"75.5\" y1=\"1.0\" x2=\"150.0\" y2=\"75.5\" style=\"stroke:#7856FA;stroke-width:1\"/><line x1=\"1.0\" y1=\"75.5\" x2=\"75.5\" y2=\"75.5\" style=\"stroke:#7856FA;stroke-width:1\"/><line x1=\"1.0\" y1=\"75.5\" x2=\"75.5\" y2=\"150.0\" style=\"stroke:#7856FA;stroke-width:1\"/><line x1=\"75.5\" y1=\"75.5\" x2=\"75.5\" y2=\"150.0\" style=\"stroke:#7856FA;stroke-width:1\"/><line x1=\"299.0\" y1=\"75.5\" x2=\"224.5\" y2=\"1.0\" style=\"stroke:#7856FA;stroke-width:1\"/><line x1=\"299.0\" y1=\"75.5\" x2=\"224.5\" y2=\"75.5\" style=\"stroke:#7856FA;stroke-width:1\"/><line x1=\"224.5\" y1=\"1.0\" x2=\"224.5\" y2=\"75.5\" style=\"stroke:#7856FA;stroke-width:1\"/><line x1=\"75.5\" y1=\"224.5\" x2=\"150.0\" y2=\"224.5\" style=\"stroke:#7856FA;stroke-width:1\"/><line x1=\"75.5\" y1=\"224.5\" x2=\"75.5\" y2=\"150.0\" style=\"stroke:#7856FA;stroke-width:1\"/><line x1=\"150.0\" y1=\"224.5\" x2=\"75.5\" y2=\"150.0\" style=\"stroke:#7856FA;stroke-width:1\"/><line x1=\"224.5\" y1=\"150.0\" x2=\"150.0\" y2=\"75.5\" style=\"stroke:#7856FA;stroke-width:1\"/><line x1=\"224.5\" y1=\"150.0\" x2=\"224.5\" y2=\"75.5\" style=\"stroke:#7856FA;stroke-width:1\"/><line x1=\"150.0\" y1=\"75.5\" x2=\"224.5\" y2=\"75.5\" style=\"stroke:#7856FA;stroke-width:1\"/></svg>"
      ],
      "text/plain": [
       "<skfem MeshTri1 object>\n",
       "  Number of elements: 32\n",
       "  Number of vertices: 25\n",
       "  Number of nodes: 25\n",
       "  Named boundaries [# facets]: left [4], bottom [4], right [4], top [4]"
      ]
     },
     "execution_count": 11,
     "metadata": {},
     "output_type": "execute_result"
    }
   ],
   "source": [
    "mesh_tri = mesh = skfem.MeshTri().refined(2)\n",
    "print(mesh_tri)\n",
    "mesh_tri"
   ]
  },
  {
   "cell_type": "markdown",
   "id": "9965a5f2-ddc6-4d2e-b3e9-5320369745a1",
   "metadata": {},
   "source": [
    "## Basis"
   ]
  },
  {
   "cell_type": "code",
   "execution_count": 12,
   "id": "55430cd5-87ef-426b-aea1-ce788282071c",
   "metadata": {},
   "outputs": [
    {
     "name": "stdout",
     "output_type": "stream",
     "text": [
      "<skfem CellBasis(MeshTri1, ElementTriP1) object>\n",
      "  Number of elements: 32\n",
      "  Number of DOFs: 25\n",
      "  Size: 6912 B\n"
     ]
    }
   ],
   "source": [
    "basis_tri = skfem.Basis(mesh_tri, skfem.ElementTriP1())\n",
    "print(basis_tri)"
   ]
  },
  {
   "cell_type": "markdown",
   "id": "8ab0f1e8-0c76-4cb2-b31c-bd62bf9a9e8e",
   "metadata": {},
   "source": [
    "## Create array to hold data values"
   ]
  },
  {
   "cell_type": "code",
   "execution_count": 13,
   "id": "fca0293b-02ef-424b-90f0-94595d15391d",
   "metadata": {},
   "outputs": [
    {
     "data": {
      "text/plain": [
       "(25,)"
      ]
     },
     "execution_count": 13,
     "metadata": {},
     "output_type": "execute_result"
    }
   ],
   "source": [
    "values_tri = basis_tri.zeros()\n",
    "values_tri.shape"
   ]
  },
  {
   "cell_type": "markdown",
   "id": "6db017e7-fbe1-45a3-8f1d-a4c47e37fcfe",
   "metadata": {},
   "source": [
    "### Initialize with arbitrary data"
   ]
  },
  {
   "cell_type": "code",
   "execution_count": 14,
   "id": "37481451-d068-4200-8405-3a4d5b29eac9",
   "metadata": {},
   "outputs": [],
   "source": [
    "values_tri[0] = 2\n",
    "values_tri[1] = 1.5\n",
    "values_tri[7] = 1\n",
    "values_tri[10] = -1"
   ]
  },
  {
   "cell_type": "markdown",
   "id": "dd8aaaee-9f73-4c7f-9b6f-3e8bd8a7f8a8",
   "metadata": {},
   "source": [
    "## Write simple VTK file"
   ]
  },
  {
   "cell_type": "code",
   "execution_count": 15,
   "id": "4ead3eb2-2a74-49f2-a5ba-46ade53c6b7e",
   "metadata": {},
   "outputs": [],
   "source": [
    "points, cells = points_and_cells(mesh_tri)\n",
    "points = add_z_coordinate(points).T\n",
    "\n",
    "meshio.write_points_cells(\n",
    "    \"xdmf_write_time_series_tri.vtk\", \n",
    "    points, \n",
    "    [(\"triangle\", cells)], \n",
    "    point_data={\"values\": values_tri[:mesh_tri.nvertices]}\n",
    ")"
   ]
  },
  {
   "cell_type": "markdown",
   "id": "6d0fc2da-6c91-4275-886d-2641f79ca3ac",
   "metadata": {},
   "source": [
    "## Write time series XDMF file"
   ]
  },
  {
   "cell_type": "code",
   "execution_count": 16,
   "id": "0cdd52fe-f68e-4f24-8660-9fd61b4204af",
   "metadata": {},
   "outputs": [],
   "source": [
    "times = [0.0, 1.0, 2.0, 3.0]\n",
    "points, cells = points_and_cells(mesh_tri)\n",
    "points = add_z_coordinate(points).T\n",
    "\n",
    "with meshio.xdmf.TimeSeriesWriter(\"xdmf_write_time_series_tri.xdmf\") as writer:\n",
    "    writer.write_points_cells(points, [(\"triangle\", cells)])\n",
    "    for t in times:\n",
    "        values_tri[3] = t\n",
    "        writer.write_data(t, point_data={\"solution\": values_tri[:mesh_tri.nvertices]})"
   ]
  },
  {
   "cell_type": "code",
   "execution_count": null,
   "id": "97ba6080-5e42-40f1-acd3-948cc73f7d26",
   "metadata": {},
   "outputs": [],
   "source": []
  }
 ],
 "metadata": {
  "kernelspec": {
   "display_name": "scikit-fem",
   "language": "python",
   "name": "scikit-fem"
  },
  "language_info": {
   "codemirror_mode": {
    "name": "ipython",
    "version": 3
   },
   "file_extension": ".py",
   "mimetype": "text/x-python",
   "name": "python",
   "nbconvert_exporter": "python",
   "pygments_lexer": "ipython3",
   "version": "3.12.2"
  }
 },
 "nbformat": 4,
 "nbformat_minor": 5
}
