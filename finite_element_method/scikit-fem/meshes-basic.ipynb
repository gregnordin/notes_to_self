{
 "cells": [
  {
   "cell_type": "markdown",
   "id": "69e6cea8-3a20-45b7-9813-aaaf41fbbad0",
   "metadata": {},
   "source": [
    "# Purpose\n",
    "\n",
    "Get a feel for available meshes and basis objects."
   ]
  },
  {
   "cell_type": "markdown",
   "id": "5fd25127-366b-4047-a7ce-5874d677d5c1",
   "metadata": {},
   "source": [
    "# Code"
   ]
  },
  {
   "cell_type": "code",
   "execution_count": 1,
   "id": "d4c27058-2a6a-42ce-b466-a1067e1f7260",
   "metadata": {},
   "outputs": [],
   "source": [
    "from skfem import Basis, MeshTri, MeshTri2, MeshQuad1, ElementQuad1, ElementTriP1, ElementTriP2"
   ]
  },
  {
   "cell_type": "code",
   "execution_count": 2,
   "id": "8ff2b2cc-c186-479c-bed1-6df55beee858",
   "metadata": {},
   "outputs": [],
   "source": [
    "def info_mesh_and_basis(mesh_kind, element, refinement_level=None):\n",
    "    if refinement_level:\n",
    "        m = mesh_kind().refined(refinement_level)\n",
    "    else:\n",
    "        m = mesh_kind()\n",
    "    print(f\"Mesh: {mesh_kind.__name__}, Element: {element.__name__}, refinement level: {refinement_level}\")\n",
    "    print()\n",
    "    print(m)\n",
    "    print()\n",
    "    print(Basis(m, element()))\n",
    "    print()\n",
    "    return m"
   ]
  },
  {
   "cell_type": "markdown",
   "id": "bfc29f68-b18d-48e4-8b08-138da97a6c6f",
   "metadata": {},
   "source": [
    "# MeshTri"
   ]
  },
  {
   "cell_type": "code",
   "execution_count": 3,
   "id": "8e8967f2-e1eb-4cbd-9e79-6c70a1c7e4fa",
   "metadata": {},
   "outputs": [
    {
     "data": {
      "text/plain": [
       "\u001b[0;31mInit signature:\u001b[0m\n",
       "\u001b[0mMeshTri\u001b[0m\u001b[0;34m(\u001b[0m\u001b[0;34m\u001b[0m\n",
       "\u001b[0;34m\u001b[0m    \u001b[0mdoflocs\u001b[0m\u001b[0;34m:\u001b[0m \u001b[0mnumpy\u001b[0m\u001b[0;34m.\u001b[0m\u001b[0mndarray\u001b[0m \u001b[0;34m=\u001b[0m \u001b[0;34m<\u001b[0m\u001b[0mfactory\u001b[0m\u001b[0;34m>\u001b[0m\u001b[0;34m,\u001b[0m\u001b[0;34m\u001b[0m\n",
       "\u001b[0;34m\u001b[0m    \u001b[0mt\u001b[0m\u001b[0;34m:\u001b[0m \u001b[0mnumpy\u001b[0m\u001b[0;34m.\u001b[0m\u001b[0mndarray\u001b[0m \u001b[0;34m=\u001b[0m \u001b[0;34m<\u001b[0m\u001b[0mfactory\u001b[0m\u001b[0;34m>\u001b[0m\u001b[0;34m,\u001b[0m\u001b[0;34m\u001b[0m\n",
       "\u001b[0;34m\u001b[0m    \u001b[0m_boundaries\u001b[0m\u001b[0;34m:\u001b[0m \u001b[0mOptional\u001b[0m\u001b[0;34m[\u001b[0m\u001b[0mDict\u001b[0m\u001b[0;34m[\u001b[0m\u001b[0mstr\u001b[0m\u001b[0;34m,\u001b[0m \u001b[0mnumpy\u001b[0m\u001b[0;34m.\u001b[0m\u001b[0mndarray\u001b[0m\u001b[0;34m]\u001b[0m\u001b[0;34m]\u001b[0m \u001b[0;34m=\u001b[0m \u001b[0;32mNone\u001b[0m\u001b[0;34m,\u001b[0m\u001b[0;34m\u001b[0m\n",
       "\u001b[0;34m\u001b[0m    \u001b[0m_subdomains\u001b[0m\u001b[0;34m:\u001b[0m \u001b[0mOptional\u001b[0m\u001b[0;34m[\u001b[0m\u001b[0mDict\u001b[0m\u001b[0;34m[\u001b[0m\u001b[0mstr\u001b[0m\u001b[0;34m,\u001b[0m \u001b[0mnumpy\u001b[0m\u001b[0;34m.\u001b[0m\u001b[0mndarray\u001b[0m\u001b[0;34m]\u001b[0m\u001b[0;34m]\u001b[0m \u001b[0;34m=\u001b[0m \u001b[0;32mNone\u001b[0m\u001b[0;34m,\u001b[0m\u001b[0;34m\u001b[0m\n",
       "\u001b[0;34m\u001b[0m    \u001b[0melem\u001b[0m\u001b[0;34m:\u001b[0m \u001b[0mType\u001b[0m\u001b[0;34m[\u001b[0m\u001b[0mskfem\u001b[0m\u001b[0;34m.\u001b[0m\u001b[0melement\u001b[0m\u001b[0;34m.\u001b[0m\u001b[0melement\u001b[0m\u001b[0;34m.\u001b[0m\u001b[0mElement\u001b[0m\u001b[0;34m]\u001b[0m \u001b[0;34m=\u001b[0m \u001b[0;34m<\u001b[0m\u001b[0;32mclass\u001b[0m \u001b[0;34m'skfem.element.element_tri.element_tri_p1.ElementTriP1'\u001b[0m\u001b[0;34m>\u001b[0m\u001b[0;34m,\u001b[0m\u001b[0;34m\u001b[0m\n",
       "\u001b[0;34m\u001b[0m    \u001b[0maffine\u001b[0m\u001b[0;34m:\u001b[0m \u001b[0mbool\u001b[0m \u001b[0;34m=\u001b[0m \u001b[0;32mTrue\u001b[0m\u001b[0;34m,\u001b[0m\u001b[0;34m\u001b[0m\n",
       "\u001b[0;34m\u001b[0m    \u001b[0msort_t\u001b[0m\u001b[0;34m:\u001b[0m \u001b[0mbool\u001b[0m \u001b[0;34m=\u001b[0m \u001b[0;32mTrue\u001b[0m\u001b[0;34m,\u001b[0m\u001b[0;34m\u001b[0m\n",
       "\u001b[0;34m\u001b[0m    \u001b[0mvalidate\u001b[0m\u001b[0;34m:\u001b[0m \u001b[0mbool\u001b[0m \u001b[0;34m=\u001b[0m \u001b[0;32mTrue\u001b[0m\u001b[0;34m,\u001b[0m\u001b[0;34m\u001b[0m\n",
       "\u001b[0;34m\u001b[0m\u001b[0;34m)\u001b[0m \u001b[0;34m->\u001b[0m \u001b[0;32mNone\u001b[0m\u001b[0;34m\u001b[0m\u001b[0;34m\u001b[0m\u001b[0m\n",
       "\u001b[0;31mDocstring:\u001b[0m      A standard first-order triangular mesh.\n",
       "\u001b[0;31mFile:\u001b[0m           ~/micromamba/envs/scikit-fem/lib/python3.12/site-packages/skfem/mesh/mesh_tri_1.py\n",
       "\u001b[0;31mType:\u001b[0m           type\n",
       "\u001b[0;31mSubclasses:\u001b[0m     MeshTri2, MeshTri1DG"
      ]
     },
     "metadata": {},
     "output_type": "display_data"
    }
   ],
   "source": [
    "MeshTri?"
   ]
  },
  {
   "cell_type": "markdown",
   "id": "eba79fb2-f85b-4dfb-8e87-dde79272e2df",
   "metadata": {},
   "source": [
    "## ElementTriP1"
   ]
  },
  {
   "cell_type": "code",
   "execution_count": 4,
   "id": "f3f02517-34a9-45a1-81e5-99406af90f4f",
   "metadata": {},
   "outputs": [
    {
     "data": {
      "text/plain": [
       "\u001b[0;31mInit signature:\u001b[0m \u001b[0mElementTriP1\u001b[0m\u001b[0;34m(\u001b[0m\u001b[0;34m)\u001b[0m\u001b[0;34m\u001b[0m\u001b[0;34m\u001b[0m\u001b[0m\n",
       "\u001b[0;31mDocstring:\u001b[0m      Piecewise linear element.\n",
       "\u001b[0;31mFile:\u001b[0m           ~/micromamba/envs/scikit-fem/lib/python3.12/site-packages/skfem/element/element_tri/element_tri_p1.py\n",
       "\u001b[0;31mType:\u001b[0m           type\n",
       "\u001b[0;31mSubclasses:\u001b[0m     ElementTriP1DG"
      ]
     },
     "metadata": {},
     "output_type": "display_data"
    }
   ],
   "source": [
    "ElementTriP1?"
   ]
  },
  {
   "cell_type": "markdown",
   "id": "cb09e6aa-37ef-4e77-becf-1a1da9aebed9",
   "metadata": {},
   "source": [
    "### Meshes"
   ]
  },
  {
   "cell_type": "code",
   "execution_count": 5,
   "id": "25e4bb17-d0c6-446d-aa6c-aab9cfb1282e",
   "metadata": {},
   "outputs": [
    {
     "name": "stdout",
     "output_type": "stream",
     "text": [
      "Mesh: MeshTri1, Element: ElementTriP1, refinement level: None\n",
      "\n",
      "<skfem MeshTri1 object>\n",
      "  Number of elements: 2\n",
      "  Number of vertices: 4\n",
      "  Number of nodes: 4\n",
      "  Named boundaries [# facets]: left [1], bottom [1], right [1], top [1]\n",
      "\n",
      "<skfem CellBasis(MeshTri1, ElementTriP1) object>\n",
      "  Number of elements: 2\n",
      "  Number of DOFs: 4\n",
      "  Size: 432 B\n",
      "\n"
     ]
    },
    {
     "data": {
      "image/svg+xml": [
       "<svg xmlns=\"http://www.w3.org/2000/svg\" version=\"1.1\" width=\"300\" height=\"300.0\"><line x1=\"1.0\" y1=\"299.0\" x2=\"299.0\" y2=\"299.0\" style=\"stroke:#7856FA;stroke-width:1\"/><line x1=\"1.0\" y1=\"299.0\" x2=\"1.0\" y2=\"1.0\" style=\"stroke:#7856FA;stroke-width:1\"/><line x1=\"299.0\" y1=\"299.0\" x2=\"1.0\" y2=\"1.0\" style=\"stroke:#7856FA;stroke-width:1\"/><line x1=\"299.0\" y1=\"299.0\" x2=\"1.0\" y2=\"1.0\" style=\"stroke:#7856FA;stroke-width:1\"/><line x1=\"299.0\" y1=\"299.0\" x2=\"299.0\" y2=\"1.0\" style=\"stroke:#7856FA;stroke-width:1\"/><line x1=\"1.0\" y1=\"1.0\" x2=\"299.0\" y2=\"1.0\" style=\"stroke:#7856FA;stroke-width:1\"/></svg>"
      ],
      "text/plain": [
       "<skfem MeshTri1 object>\n",
       "  Number of elements: 2\n",
       "  Number of vertices: 4\n",
       "  Number of nodes: 4\n",
       "  Named boundaries [# facets]: left [1], bottom [1], right [1], top [1]"
      ]
     },
     "execution_count": 5,
     "metadata": {},
     "output_type": "execute_result"
    }
   ],
   "source": [
    "info_mesh_and_basis(MeshTri, ElementTriP1)"
   ]
  },
  {
   "cell_type": "code",
   "execution_count": 6,
   "id": "c7e4476a-4b34-4e66-ae2a-db00aec16904",
   "metadata": {},
   "outputs": [
    {
     "name": "stdout",
     "output_type": "stream",
     "text": [
      "Mesh: MeshTri1, Element: ElementTriP1, refinement level: 1\n",
      "\n",
      "<skfem MeshTri1 object>\n",
      "  Number of elements: 8\n",
      "  Number of vertices: 9\n",
      "  Number of nodes: 9\n",
      "  Named boundaries [# facets]: left [2], bottom [2], right [2], top [2]\n",
      "\n",
      "<skfem CellBasis(MeshTri1, ElementTriP1) object>\n",
      "  Number of elements: 8\n",
      "  Number of DOFs: 9\n",
      "  Size: 1728 B\n",
      "\n"
     ]
    },
    {
     "data": {
      "image/svg+xml": [
       "<svg xmlns=\"http://www.w3.org/2000/svg\" version=\"1.1\" width=\"300\" height=\"300.0\"><line x1=\"1.0\" y1=\"299.0\" x2=\"150.0\" y2=\"299.0\" style=\"stroke:#7856FA;stroke-width:1\"/><line x1=\"1.0\" y1=\"299.0\" x2=\"1.0\" y2=\"150.0\" style=\"stroke:#7856FA;stroke-width:1\"/><line x1=\"150.0\" y1=\"299.0\" x2=\"1.0\" y2=\"150.0\" style=\"stroke:#7856FA;stroke-width:1\"/><line x1=\"299.0\" y1=\"299.0\" x2=\"150.0\" y2=\"150.0\" style=\"stroke:#7856FA;stroke-width:1\"/><line x1=\"299.0\" y1=\"299.0\" x2=\"299.0\" y2=\"150.0\" style=\"stroke:#7856FA;stroke-width:1\"/><line x1=\"150.0\" y1=\"150.0\" x2=\"299.0\" y2=\"150.0\" style=\"stroke:#7856FA;stroke-width:1\"/><line x1=\"299.0\" y1=\"299.0\" x2=\"150.0\" y2=\"299.0\" style=\"stroke:#7856FA;stroke-width:1\"/><line x1=\"299.0\" y1=\"299.0\" x2=\"150.0\" y2=\"150.0\" style=\"stroke:#7856FA;stroke-width:1\"/><line x1=\"150.0\" y1=\"299.0\" x2=\"150.0\" y2=\"150.0\" style=\"stroke:#7856FA;stroke-width:1\"/><line x1=\"1.0\" y1=\"1.0\" x2=\"150.0\" y2=\"150.0\" style=\"stroke:#7856FA;stroke-width:1\"/><line x1=\"1.0\" y1=\"1.0\" x2=\"150.0\" y2=\"1.0\" style=\"stroke:#7856FA;stroke-width:1\"/><line x1=\"150.0\" y1=\"150.0\" x2=\"150.0\" y2=\"1.0\" style=\"stroke:#7856FA;stroke-width:1\"/><line x1=\"1.0\" y1=\"1.0\" x2=\"1.0\" y2=\"150.0\" style=\"stroke:#7856FA;stroke-width:1\"/><line x1=\"1.0\" y1=\"1.0\" x2=\"150.0\" y2=\"150.0\" style=\"stroke:#7856FA;stroke-width:1\"/><line x1=\"1.0\" y1=\"150.0\" x2=\"150.0\" y2=\"150.0\" style=\"stroke:#7856FA;stroke-width:1\"/><line x1=\"299.0\" y1=\"1.0\" x2=\"299.0\" y2=\"150.0\" style=\"stroke:#7856FA;stroke-width:1\"/><line x1=\"299.0\" y1=\"1.0\" x2=\"150.0\" y2=\"1.0\" style=\"stroke:#7856FA;stroke-width:1\"/><line x1=\"299.0\" y1=\"150.0\" x2=\"150.0\" y2=\"1.0\" style=\"stroke:#7856FA;stroke-width:1\"/><line x1=\"150.0\" y1=\"299.0\" x2=\"1.0\" y2=\"150.0\" style=\"stroke:#7856FA;stroke-width:1\"/><line x1=\"150.0\" y1=\"299.0\" x2=\"150.0\" y2=\"150.0\" style=\"stroke:#7856FA;stroke-width:1\"/><line x1=\"1.0\" y1=\"150.0\" x2=\"150.0\" y2=\"150.0\" style=\"stroke:#7856FA;stroke-width:1\"/><line x1=\"150.0\" y1=\"150.0\" x2=\"299.0\" y2=\"150.0\" style=\"stroke:#7856FA;stroke-width:1\"/><line x1=\"150.0\" y1=\"150.0\" x2=\"150.0\" y2=\"1.0\" style=\"stroke:#7856FA;stroke-width:1\"/><line x1=\"299.0\" y1=\"150.0\" x2=\"150.0\" y2=\"1.0\" style=\"stroke:#7856FA;stroke-width:1\"/></svg>"
      ],
      "text/plain": [
       "<skfem MeshTri1 object>\n",
       "  Number of elements: 8\n",
       "  Number of vertices: 9\n",
       "  Number of nodes: 9\n",
       "  Named boundaries [# facets]: left [2], bottom [2], right [2], top [2]"
      ]
     },
     "execution_count": 6,
     "metadata": {},
     "output_type": "execute_result"
    }
   ],
   "source": [
    "info_mesh_and_basis(MeshTri, ElementTriP1, 1)"
   ]
  },
  {
   "cell_type": "code",
   "execution_count": 7,
   "id": "4759dc43-958c-42ee-a98a-2a1280113d40",
   "metadata": {},
   "outputs": [
    {
     "name": "stdout",
     "output_type": "stream",
     "text": [
      "Mesh: MeshTri1, Element: ElementTriP1, refinement level: 2\n",
      "\n",
      "<skfem MeshTri1 object>\n",
      "  Number of elements: 32\n",
      "  Number of vertices: 25\n",
      "  Number of nodes: 25\n",
      "  Named boundaries [# facets]: left [4], bottom [4], right [4], top [4]\n",
      "\n",
      "<skfem CellBasis(MeshTri1, ElementTriP1) object>\n",
      "  Number of elements: 32\n",
      "  Number of DOFs: 25\n",
      "  Size: 6912 B\n",
      "\n"
     ]
    },
    {
     "data": {
      "image/svg+xml": [
       "<svg xmlns=\"http://www.w3.org/2000/svg\" version=\"1.1\" width=\"300\" height=\"300.0\"><line x1=\"1.0\" y1=\"299.0\" x2=\"75.5\" y2=\"299.0\" style=\"stroke:#7856FA;stroke-width:1\"/><line x1=\"1.0\" y1=\"299.0\" x2=\"1.0\" y2=\"224.5\" style=\"stroke:#7856FA;stroke-width:1\"/><line x1=\"75.5\" y1=\"299.0\" x2=\"1.0\" y2=\"224.5\" style=\"stroke:#7856FA;stroke-width:1\"/><line x1=\"299.0\" y1=\"299.0\" x2=\"224.5\" y2=\"224.5\" style=\"stroke:#7856FA;stroke-width:1\"/><line x1=\"299.0\" y1=\"299.0\" x2=\"299.0\" y2=\"224.5\" style=\"stroke:#7856FA;stroke-width:1\"/><line x1=\"224.5\" y1=\"224.5\" x2=\"299.0\" y2=\"224.5\" style=\"stroke:#7856FA;stroke-width:1\"/><line x1=\"299.0\" y1=\"299.0\" x2=\"224.5\" y2=\"299.0\" style=\"stroke:#7856FA;stroke-width:1\"/><line x1=\"299.0\" y1=\"299.0\" x2=\"224.5\" y2=\"224.5\" style=\"stroke:#7856FA;stroke-width:1\"/><line x1=\"224.5\" y1=\"299.0\" x2=\"224.5\" y2=\"224.5\" style=\"stroke:#7856FA;stroke-width:1\"/><line x1=\"1.0\" y1=\"1.0\" x2=\"75.5\" y2=\"75.5\" style=\"stroke:#7856FA;stroke-width:1\"/><line x1=\"1.0\" y1=\"1.0\" x2=\"75.5\" y2=\"1.0\" style=\"stroke:#7856FA;stroke-width:1\"/><line x1=\"75.5\" y1=\"75.5\" x2=\"75.5\" y2=\"1.0\" style=\"stroke:#7856FA;stroke-width:1\"/><line x1=\"1.0\" y1=\"1.0\" x2=\"1.0\" y2=\"75.5\" style=\"stroke:#7856FA;stroke-width:1\"/><line x1=\"1.0\" y1=\"1.0\" x2=\"75.5\" y2=\"75.5\" style=\"stroke:#7856FA;stroke-width:1\"/><line x1=\"1.0\" y1=\"75.5\" x2=\"75.5\" y2=\"75.5\" style=\"stroke:#7856FA;stroke-width:1\"/><line x1=\"299.0\" y1=\"1.0\" x2=\"299.0\" y2=\"75.5\" style=\"stroke:#7856FA;stroke-width:1\"/><line x1=\"299.0\" y1=\"1.0\" x2=\"224.5\" y2=\"1.0\" style=\"stroke:#7856FA;stroke-width:1\"/><line x1=\"299.0\" y1=\"75.5\" x2=\"224.5\" y2=\"1.0\" style=\"stroke:#7856FA;stroke-width:1\"/><line x1=\"150.0\" y1=\"299.0\" x2=\"75.5\" y2=\"224.5\" style=\"stroke:#7856FA;stroke-width:1\"/><line x1=\"150.0\" y1=\"299.0\" x2=\"150.0\" y2=\"224.5\" style=\"stroke:#7856FA;stroke-width:1\"/><line x1=\"75.5\" y1=\"224.5\" x2=\"150.0\" y2=\"224.5\" style=\"stroke:#7856FA;stroke-width:1\"/><line x1=\"150.0\" y1=\"150.0\" x2=\"224.5\" y2=\"150.0\" style=\"stroke:#7856FA;stroke-width:1\"/><line x1=\"150.0\" y1=\"150.0\" x2=\"150.0\" y2=\"75.5\" style=\"stroke:#7856FA;stroke-width:1\"/><line x1=\"224.5\" y1=\"150.0\" x2=\"150.0\" y2=\"75.5\" style=\"stroke:#7856FA;stroke-width:1\"/><line x1=\"150.0\" y1=\"299.0\" x2=\"75.5\" y2=\"299.0\" style=\"stroke:#7856FA;stroke-width:1\"/><line x1=\"150.0\" y1=\"299.0\" x2=\"75.5\" y2=\"224.5\" style=\"stroke:#7856FA;stroke-width:1\"/><line x1=\"75.5\" y1=\"299.0\" x2=\"75.5\" y2=\"224.5\" style=\"stroke:#7856FA;stroke-width:1\"/><line x1=\"150.0\" y1=\"150.0\" x2=\"224.5\" y2=\"224.5\" style=\"stroke:#7856FA;stroke-width:1\"/><line x1=\"150.0\" y1=\"150.0\" x2=\"224.5\" y2=\"150.0\" style=\"stroke:#7856FA;stroke-width:1\"/><line x1=\"224.5\" y1=\"224.5\" x2=\"224.5\" y2=\"150.0\" style=\"stroke:#7856FA;stroke-width:1\"/><line x1=\"150.0\" y1=\"299.0\" x2=\"224.5\" y2=\"299.0\" style=\"stroke:#7856FA;stroke-width:1\"/><line x1=\"150.0\" y1=\"299.0\" x2=\"150.0\" y2=\"224.5\" style=\"stroke:#7856FA;stroke-width:1\"/><line x1=\"224.5\" y1=\"299.0\" x2=\"150.0\" y2=\"224.5\" style=\"stroke:#7856FA;stroke-width:1\"/><line x1=\"150.0\" y1=\"150.0\" x2=\"75.5\" y2=\"75.5\" style=\"stroke:#7856FA;stroke-width:1\"/><line x1=\"150.0\" y1=\"150.0\" x2=\"150.0\" y2=\"75.5\" style=\"stroke:#7856FA;stroke-width:1\"/><line x1=\"75.5\" y1=\"75.5\" x2=\"150.0\" y2=\"75.5\" style=\"stroke:#7856FA;stroke-width:1\"/><line x1=\"1.0\" y1=\"150.0\" x2=\"1.0\" y2=\"75.5\" style=\"stroke:#7856FA;stroke-width:1\"/><line x1=\"1.0\" y1=\"150.0\" x2=\"75.5\" y2=\"150.0\" style=\"stroke:#7856FA;stroke-width:1\"/><line x1=\"1.0\" y1=\"75.5\" x2=\"75.5\" y2=\"150.0\" style=\"stroke:#7856FA;stroke-width:1\"/><line x1=\"299.0\" y1=\"150.0\" x2=\"299.0\" y2=\"75.5\" style=\"stroke:#7856FA;stroke-width:1\"/><line x1=\"299.0\" y1=\"150.0\" x2=\"224.5\" y2=\"75.5\" style=\"stroke:#7856FA;stroke-width:1\"/><line x1=\"299.0\" y1=\"75.5\" x2=\"224.5\" y2=\"75.5\" style=\"stroke:#7856FA;stroke-width:1\"/><line x1=\"1.0\" y1=\"150.0\" x2=\"75.5\" y2=\"224.5\" style=\"stroke:#7856FA;stroke-width:1\"/><line x1=\"1.0\" y1=\"150.0\" x2=\"75.5\" y2=\"150.0\" style=\"stroke:#7856FA;stroke-width:1\"/><line x1=\"75.5\" y1=\"224.5\" x2=\"75.5\" y2=\"150.0\" style=\"stroke:#7856FA;stroke-width:1\"/><line x1=\"299.0\" y1=\"150.0\" x2=\"224.5\" y2=\"150.0\" style=\"stroke:#7856FA;stroke-width:1\"/><line x1=\"299.0\" y1=\"150.0\" x2=\"224.5\" y2=\"75.5\" style=\"stroke:#7856FA;stroke-width:1\"/><line x1=\"224.5\" y1=\"150.0\" x2=\"224.5\" y2=\"75.5\" style=\"stroke:#7856FA;stroke-width:1\"/><line x1=\"1.0\" y1=\"150.0\" x2=\"1.0\" y2=\"224.5\" style=\"stroke:#7856FA;stroke-width:1\"/><line x1=\"1.0\" y1=\"150.0\" x2=\"75.5\" y2=\"224.5\" style=\"stroke:#7856FA;stroke-width:1\"/><line x1=\"1.0\" y1=\"224.5\" x2=\"75.5\" y2=\"224.5\" style=\"stroke:#7856FA;stroke-width:1\"/><line x1=\"299.0\" y1=\"150.0\" x2=\"299.0\" y2=\"224.5\" style=\"stroke:#7856FA;stroke-width:1\"/><line x1=\"299.0\" y1=\"150.0\" x2=\"224.5\" y2=\"150.0\" style=\"stroke:#7856FA;stroke-width:1\"/><line x1=\"299.0\" y1=\"224.5\" x2=\"224.5\" y2=\"150.0\" style=\"stroke:#7856FA;stroke-width:1\"/><line x1=\"150.0\" y1=\"150.0\" x2=\"224.5\" y2=\"224.5\" style=\"stroke:#7856FA;stroke-width:1\"/><line x1=\"150.0\" y1=\"150.0\" x2=\"150.0\" y2=\"224.5\" style=\"stroke:#7856FA;stroke-width:1\"/><line x1=\"224.5\" y1=\"224.5\" x2=\"150.0\" y2=\"224.5\" style=\"stroke:#7856FA;stroke-width:1\"/><line x1=\"150.0\" y1=\"1.0\" x2=\"75.5\" y2=\"1.0\" style=\"stroke:#7856FA;stroke-width:1\"/><line x1=\"150.0\" y1=\"1.0\" x2=\"150.0\" y2=\"75.5\" style=\"stroke:#7856FA;stroke-width:1\"/><line x1=\"75.5\" y1=\"1.0\" x2=\"150.0\" y2=\"75.5\" style=\"stroke:#7856FA;stroke-width:1\"/><line x1=\"150.0\" y1=\"150.0\" x2=\"75.5\" y2=\"75.5\" style=\"stroke:#7856FA;stroke-width:1\"/><line x1=\"150.0\" y1=\"150.0\" x2=\"75.5\" y2=\"150.0\" style=\"stroke:#7856FA;stroke-width:1\"/><line x1=\"75.5\" y1=\"75.5\" x2=\"75.5\" y2=\"150.0\" style=\"stroke:#7856FA;stroke-width:1\"/><line x1=\"150.0\" y1=\"1.0\" x2=\"224.5\" y2=\"1.0\" style=\"stroke:#7856FA;stroke-width:1\"/><line x1=\"150.0\" y1=\"1.0\" x2=\"224.5\" y2=\"75.5\" style=\"stroke:#7856FA;stroke-width:1\"/><line x1=\"224.5\" y1=\"1.0\" x2=\"224.5\" y2=\"75.5\" style=\"stroke:#7856FA;stroke-width:1\"/><line x1=\"150.0\" y1=\"150.0\" x2=\"150.0\" y2=\"224.5\" style=\"stroke:#7856FA;stroke-width:1\"/><line x1=\"150.0\" y1=\"150.0\" x2=\"75.5\" y2=\"150.0\" style=\"stroke:#7856FA;stroke-width:1\"/><line x1=\"150.0\" y1=\"224.5\" x2=\"75.5\" y2=\"150.0\" style=\"stroke:#7856FA;stroke-width:1\"/><line x1=\"150.0\" y1=\"1.0\" x2=\"150.0\" y2=\"75.5\" style=\"stroke:#7856FA;stroke-width:1\"/><line x1=\"150.0\" y1=\"1.0\" x2=\"224.5\" y2=\"75.5\" style=\"stroke:#7856FA;stroke-width:1\"/><line x1=\"150.0\" y1=\"75.5\" x2=\"224.5\" y2=\"75.5\" style=\"stroke:#7856FA;stroke-width:1\"/><line x1=\"75.5\" y1=\"299.0\" x2=\"1.0\" y2=\"224.5\" style=\"stroke:#7856FA;stroke-width:1\"/><line x1=\"75.5\" y1=\"299.0\" x2=\"75.5\" y2=\"224.5\" style=\"stroke:#7856FA;stroke-width:1\"/><line x1=\"1.0\" y1=\"224.5\" x2=\"75.5\" y2=\"224.5\" style=\"stroke:#7856FA;stroke-width:1\"/><line x1=\"224.5\" y1=\"224.5\" x2=\"299.0\" y2=\"224.5\" style=\"stroke:#7856FA;stroke-width:1\"/><line x1=\"224.5\" y1=\"224.5\" x2=\"224.5\" y2=\"150.0\" style=\"stroke:#7856FA;stroke-width:1\"/><line x1=\"299.0\" y1=\"224.5\" x2=\"224.5\" y2=\"150.0\" style=\"stroke:#7856FA;stroke-width:1\"/><line x1=\"224.5\" y1=\"299.0\" x2=\"224.5\" y2=\"224.5\" style=\"stroke:#7856FA;stroke-width:1\"/><line x1=\"224.5\" y1=\"299.0\" x2=\"150.0\" y2=\"224.5\" style=\"stroke:#7856FA;stroke-width:1\"/><line x1=\"224.5\" y1=\"224.5\" x2=\"150.0\" y2=\"224.5\" style=\"stroke:#7856FA;stroke-width:1\"/><line x1=\"75.5\" y1=\"75.5\" x2=\"75.5\" y2=\"1.0\" style=\"stroke:#7856FA;stroke-width:1\"/><line x1=\"75.5\" y1=\"75.5\" x2=\"150.0\" y2=\"75.5\" style=\"stroke:#7856FA;stroke-width:1\"/><line x1=\"75.5\" y1=\"1.0\" x2=\"150.0\" y2=\"75.5\" style=\"stroke:#7856FA;stroke-width:1\"/><line x1=\"1.0\" y1=\"75.5\" x2=\"75.5\" y2=\"75.5\" style=\"stroke:#7856FA;stroke-width:1\"/><line x1=\"1.0\" y1=\"75.5\" x2=\"75.5\" y2=\"150.0\" style=\"stroke:#7856FA;stroke-width:1\"/><line x1=\"75.5\" y1=\"75.5\" x2=\"75.5\" y2=\"150.0\" style=\"stroke:#7856FA;stroke-width:1\"/><line x1=\"299.0\" y1=\"75.5\" x2=\"224.5\" y2=\"1.0\" style=\"stroke:#7856FA;stroke-width:1\"/><line x1=\"299.0\" y1=\"75.5\" x2=\"224.5\" y2=\"75.5\" style=\"stroke:#7856FA;stroke-width:1\"/><line x1=\"224.5\" y1=\"1.0\" x2=\"224.5\" y2=\"75.5\" style=\"stroke:#7856FA;stroke-width:1\"/><line x1=\"75.5\" y1=\"224.5\" x2=\"150.0\" y2=\"224.5\" style=\"stroke:#7856FA;stroke-width:1\"/><line x1=\"75.5\" y1=\"224.5\" x2=\"75.5\" y2=\"150.0\" style=\"stroke:#7856FA;stroke-width:1\"/><line x1=\"150.0\" y1=\"224.5\" x2=\"75.5\" y2=\"150.0\" style=\"stroke:#7856FA;stroke-width:1\"/><line x1=\"224.5\" y1=\"150.0\" x2=\"150.0\" y2=\"75.5\" style=\"stroke:#7856FA;stroke-width:1\"/><line x1=\"224.5\" y1=\"150.0\" x2=\"224.5\" y2=\"75.5\" style=\"stroke:#7856FA;stroke-width:1\"/><line x1=\"150.0\" y1=\"75.5\" x2=\"224.5\" y2=\"75.5\" style=\"stroke:#7856FA;stroke-width:1\"/></svg>"
      ],
      "text/plain": [
       "<skfem MeshTri1 object>\n",
       "  Number of elements: 32\n",
       "  Number of vertices: 25\n",
       "  Number of nodes: 25\n",
       "  Named boundaries [# facets]: left [4], bottom [4], right [4], top [4]"
      ]
     },
     "execution_count": 7,
     "metadata": {},
     "output_type": "execute_result"
    }
   ],
   "source": [
    "info_mesh_and_basis(MeshTri, ElementTriP1, 2)"
   ]
  },
  {
   "cell_type": "markdown",
   "id": "b0fe7a92-fcba-4db2-ac3f-a2ba8c90986e",
   "metadata": {},
   "source": [
    "## ElementTriP2"
   ]
  },
  {
   "cell_type": "code",
   "execution_count": 8,
   "id": "828d9a55-435e-48ad-ad4d-f318a818df61",
   "metadata": {},
   "outputs": [
    {
     "data": {
      "text/plain": [
       "\u001b[0;31mInit signature:\u001b[0m \u001b[0mElementTriP2\u001b[0m\u001b[0;34m(\u001b[0m\u001b[0;34m)\u001b[0m\u001b[0;34m\u001b[0m\u001b[0;34m\u001b[0m\u001b[0m\n",
       "\u001b[0;31mDocstring:\u001b[0m      Piecewise quadratic element.\n",
       "\u001b[0;31mFile:\u001b[0m           ~/micromamba/envs/scikit-fem/lib/python3.12/site-packages/skfem/element/element_tri/element_tri_p2.py\n",
       "\u001b[0;31mType:\u001b[0m           type\n",
       "\u001b[0;31mSubclasses:\u001b[0m     "
      ]
     },
     "metadata": {},
     "output_type": "display_data"
    }
   ],
   "source": [
    "ElementTriP2?"
   ]
  },
  {
   "cell_type": "markdown",
   "id": "135ba8bb-455d-4949-a9fb-8bbcf87006ca",
   "metadata": {},
   "source": [
    "### Meshes"
   ]
  },
  {
   "cell_type": "code",
   "execution_count": 9,
   "id": "f4801854-02d2-410d-b6f7-b9f20b939158",
   "metadata": {},
   "outputs": [
    {
     "name": "stdout",
     "output_type": "stream",
     "text": [
      "Mesh: MeshTri1, Element: ElementTriP2, refinement level: None\n",
      "\n",
      "<skfem MeshTri1 object>\n",
      "  Number of elements: 2\n",
      "  Number of vertices: 4\n",
      "  Number of nodes: 4\n",
      "  Named boundaries [# facets]: left [1], bottom [1], right [1], top [1]\n",
      "\n",
      "<skfem CellBasis(MeshTri1, ElementTriP2) object>\n",
      "  Number of elements: 2\n",
      "  Number of DOFs: 9\n",
      "  Size: 1728 B\n",
      "\n"
     ]
    },
    {
     "data": {
      "image/svg+xml": [
       "<svg xmlns=\"http://www.w3.org/2000/svg\" version=\"1.1\" width=\"300\" height=\"300.0\"><line x1=\"1.0\" y1=\"299.0\" x2=\"299.0\" y2=\"299.0\" style=\"stroke:#7856FA;stroke-width:1\"/><line x1=\"1.0\" y1=\"299.0\" x2=\"1.0\" y2=\"1.0\" style=\"stroke:#7856FA;stroke-width:1\"/><line x1=\"299.0\" y1=\"299.0\" x2=\"1.0\" y2=\"1.0\" style=\"stroke:#7856FA;stroke-width:1\"/><line x1=\"299.0\" y1=\"299.0\" x2=\"1.0\" y2=\"1.0\" style=\"stroke:#7856FA;stroke-width:1\"/><line x1=\"299.0\" y1=\"299.0\" x2=\"299.0\" y2=\"1.0\" style=\"stroke:#7856FA;stroke-width:1\"/><line x1=\"1.0\" y1=\"1.0\" x2=\"299.0\" y2=\"1.0\" style=\"stroke:#7856FA;stroke-width:1\"/></svg>"
      ],
      "text/plain": [
       "<skfem MeshTri1 object>\n",
       "  Number of elements: 2\n",
       "  Number of vertices: 4\n",
       "  Number of nodes: 4\n",
       "  Named boundaries [# facets]: left [1], bottom [1], right [1], top [1]"
      ]
     },
     "execution_count": 9,
     "metadata": {},
     "output_type": "execute_result"
    }
   ],
   "source": [
    "info_mesh_and_basis(MeshTri, ElementTriP2)"
   ]
  },
  {
   "cell_type": "code",
   "execution_count": 10,
   "id": "7f82c685-4abf-40cf-bdf2-0ba56e1c6857",
   "metadata": {},
   "outputs": [
    {
     "name": "stdout",
     "output_type": "stream",
     "text": [
      "Mesh: MeshTri1, Element: ElementTriP2, refinement level: 1\n",
      "\n",
      "<skfem MeshTri1 object>\n",
      "  Number of elements: 8\n",
      "  Number of vertices: 9\n",
      "  Number of nodes: 9\n",
      "  Named boundaries [# facets]: left [2], bottom [2], right [2], top [2]\n",
      "\n",
      "<skfem CellBasis(MeshTri1, ElementTriP2) object>\n",
      "  Number of elements: 8\n",
      "  Number of DOFs: 25\n",
      "  Size: 6912 B\n",
      "\n"
     ]
    },
    {
     "data": {
      "image/svg+xml": [
       "<svg xmlns=\"http://www.w3.org/2000/svg\" version=\"1.1\" width=\"300\" height=\"300.0\"><line x1=\"1.0\" y1=\"299.0\" x2=\"150.0\" y2=\"299.0\" style=\"stroke:#7856FA;stroke-width:1\"/><line x1=\"1.0\" y1=\"299.0\" x2=\"1.0\" y2=\"150.0\" style=\"stroke:#7856FA;stroke-width:1\"/><line x1=\"150.0\" y1=\"299.0\" x2=\"1.0\" y2=\"150.0\" style=\"stroke:#7856FA;stroke-width:1\"/><line x1=\"299.0\" y1=\"299.0\" x2=\"150.0\" y2=\"150.0\" style=\"stroke:#7856FA;stroke-width:1\"/><line x1=\"299.0\" y1=\"299.0\" x2=\"299.0\" y2=\"150.0\" style=\"stroke:#7856FA;stroke-width:1\"/><line x1=\"150.0\" y1=\"150.0\" x2=\"299.0\" y2=\"150.0\" style=\"stroke:#7856FA;stroke-width:1\"/><line x1=\"299.0\" y1=\"299.0\" x2=\"150.0\" y2=\"299.0\" style=\"stroke:#7856FA;stroke-width:1\"/><line x1=\"299.0\" y1=\"299.0\" x2=\"150.0\" y2=\"150.0\" style=\"stroke:#7856FA;stroke-width:1\"/><line x1=\"150.0\" y1=\"299.0\" x2=\"150.0\" y2=\"150.0\" style=\"stroke:#7856FA;stroke-width:1\"/><line x1=\"1.0\" y1=\"1.0\" x2=\"150.0\" y2=\"150.0\" style=\"stroke:#7856FA;stroke-width:1\"/><line x1=\"1.0\" y1=\"1.0\" x2=\"150.0\" y2=\"1.0\" style=\"stroke:#7856FA;stroke-width:1\"/><line x1=\"150.0\" y1=\"150.0\" x2=\"150.0\" y2=\"1.0\" style=\"stroke:#7856FA;stroke-width:1\"/><line x1=\"1.0\" y1=\"1.0\" x2=\"1.0\" y2=\"150.0\" style=\"stroke:#7856FA;stroke-width:1\"/><line x1=\"1.0\" y1=\"1.0\" x2=\"150.0\" y2=\"150.0\" style=\"stroke:#7856FA;stroke-width:1\"/><line x1=\"1.0\" y1=\"150.0\" x2=\"150.0\" y2=\"150.0\" style=\"stroke:#7856FA;stroke-width:1\"/><line x1=\"299.0\" y1=\"1.0\" x2=\"299.0\" y2=\"150.0\" style=\"stroke:#7856FA;stroke-width:1\"/><line x1=\"299.0\" y1=\"1.0\" x2=\"150.0\" y2=\"1.0\" style=\"stroke:#7856FA;stroke-width:1\"/><line x1=\"299.0\" y1=\"150.0\" x2=\"150.0\" y2=\"1.0\" style=\"stroke:#7856FA;stroke-width:1\"/><line x1=\"150.0\" y1=\"299.0\" x2=\"1.0\" y2=\"150.0\" style=\"stroke:#7856FA;stroke-width:1\"/><line x1=\"150.0\" y1=\"299.0\" x2=\"150.0\" y2=\"150.0\" style=\"stroke:#7856FA;stroke-width:1\"/><line x1=\"1.0\" y1=\"150.0\" x2=\"150.0\" y2=\"150.0\" style=\"stroke:#7856FA;stroke-width:1\"/><line x1=\"150.0\" y1=\"150.0\" x2=\"299.0\" y2=\"150.0\" style=\"stroke:#7856FA;stroke-width:1\"/><line x1=\"150.0\" y1=\"150.0\" x2=\"150.0\" y2=\"1.0\" style=\"stroke:#7856FA;stroke-width:1\"/><line x1=\"299.0\" y1=\"150.0\" x2=\"150.0\" y2=\"1.0\" style=\"stroke:#7856FA;stroke-width:1\"/></svg>"
      ],
      "text/plain": [
       "<skfem MeshTri1 object>\n",
       "  Number of elements: 8\n",
       "  Number of vertices: 9\n",
       "  Number of nodes: 9\n",
       "  Named boundaries [# facets]: left [2], bottom [2], right [2], top [2]"
      ]
     },
     "execution_count": 10,
     "metadata": {},
     "output_type": "execute_result"
    }
   ],
   "source": [
    "info_mesh_and_basis(MeshTri, ElementTriP2, 1)"
   ]
  },
  {
   "cell_type": "code",
   "execution_count": 11,
   "id": "7eda7a0d-19c5-4218-a961-c83a8fe4efa6",
   "metadata": {},
   "outputs": [
    {
     "name": "stdout",
     "output_type": "stream",
     "text": [
      "Mesh: MeshTri1, Element: ElementTriP2, refinement level: 2\n",
      "\n",
      "<skfem MeshTri1 object>\n",
      "  Number of elements: 32\n",
      "  Number of vertices: 25\n",
      "  Number of nodes: 25\n",
      "  Named boundaries [# facets]: left [4], bottom [4], right [4], top [4]\n",
      "\n",
      "<skfem CellBasis(MeshTri1, ElementTriP2) object>\n",
      "  Number of elements: 32\n",
      "  Number of DOFs: 81\n",
      "  Size: 27648 B\n",
      "\n"
     ]
    },
    {
     "data": {
      "image/svg+xml": [
       "<svg xmlns=\"http://www.w3.org/2000/svg\" version=\"1.1\" width=\"300\" height=\"300.0\"><line x1=\"1.0\" y1=\"299.0\" x2=\"75.5\" y2=\"299.0\" style=\"stroke:#7856FA;stroke-width:1\"/><line x1=\"1.0\" y1=\"299.0\" x2=\"1.0\" y2=\"224.5\" style=\"stroke:#7856FA;stroke-width:1\"/><line x1=\"75.5\" y1=\"299.0\" x2=\"1.0\" y2=\"224.5\" style=\"stroke:#7856FA;stroke-width:1\"/><line x1=\"299.0\" y1=\"299.0\" x2=\"224.5\" y2=\"224.5\" style=\"stroke:#7856FA;stroke-width:1\"/><line x1=\"299.0\" y1=\"299.0\" x2=\"299.0\" y2=\"224.5\" style=\"stroke:#7856FA;stroke-width:1\"/><line x1=\"224.5\" y1=\"224.5\" x2=\"299.0\" y2=\"224.5\" style=\"stroke:#7856FA;stroke-width:1\"/><line x1=\"299.0\" y1=\"299.0\" x2=\"224.5\" y2=\"299.0\" style=\"stroke:#7856FA;stroke-width:1\"/><line x1=\"299.0\" y1=\"299.0\" x2=\"224.5\" y2=\"224.5\" style=\"stroke:#7856FA;stroke-width:1\"/><line x1=\"224.5\" y1=\"299.0\" x2=\"224.5\" y2=\"224.5\" style=\"stroke:#7856FA;stroke-width:1\"/><line x1=\"1.0\" y1=\"1.0\" x2=\"75.5\" y2=\"75.5\" style=\"stroke:#7856FA;stroke-width:1\"/><line x1=\"1.0\" y1=\"1.0\" x2=\"75.5\" y2=\"1.0\" style=\"stroke:#7856FA;stroke-width:1\"/><line x1=\"75.5\" y1=\"75.5\" x2=\"75.5\" y2=\"1.0\" style=\"stroke:#7856FA;stroke-width:1\"/><line x1=\"1.0\" y1=\"1.0\" x2=\"1.0\" y2=\"75.5\" style=\"stroke:#7856FA;stroke-width:1\"/><line x1=\"1.0\" y1=\"1.0\" x2=\"75.5\" y2=\"75.5\" style=\"stroke:#7856FA;stroke-width:1\"/><line x1=\"1.0\" y1=\"75.5\" x2=\"75.5\" y2=\"75.5\" style=\"stroke:#7856FA;stroke-width:1\"/><line x1=\"299.0\" y1=\"1.0\" x2=\"299.0\" y2=\"75.5\" style=\"stroke:#7856FA;stroke-width:1\"/><line x1=\"299.0\" y1=\"1.0\" x2=\"224.5\" y2=\"1.0\" style=\"stroke:#7856FA;stroke-width:1\"/><line x1=\"299.0\" y1=\"75.5\" x2=\"224.5\" y2=\"1.0\" style=\"stroke:#7856FA;stroke-width:1\"/><line x1=\"150.0\" y1=\"299.0\" x2=\"75.5\" y2=\"224.5\" style=\"stroke:#7856FA;stroke-width:1\"/><line x1=\"150.0\" y1=\"299.0\" x2=\"150.0\" y2=\"224.5\" style=\"stroke:#7856FA;stroke-width:1\"/><line x1=\"75.5\" y1=\"224.5\" x2=\"150.0\" y2=\"224.5\" style=\"stroke:#7856FA;stroke-width:1\"/><line x1=\"150.0\" y1=\"150.0\" x2=\"224.5\" y2=\"150.0\" style=\"stroke:#7856FA;stroke-width:1\"/><line x1=\"150.0\" y1=\"150.0\" x2=\"150.0\" y2=\"75.5\" style=\"stroke:#7856FA;stroke-width:1\"/><line x1=\"224.5\" y1=\"150.0\" x2=\"150.0\" y2=\"75.5\" style=\"stroke:#7856FA;stroke-width:1\"/><line x1=\"150.0\" y1=\"299.0\" x2=\"75.5\" y2=\"299.0\" style=\"stroke:#7856FA;stroke-width:1\"/><line x1=\"150.0\" y1=\"299.0\" x2=\"75.5\" y2=\"224.5\" style=\"stroke:#7856FA;stroke-width:1\"/><line x1=\"75.5\" y1=\"299.0\" x2=\"75.5\" y2=\"224.5\" style=\"stroke:#7856FA;stroke-width:1\"/><line x1=\"150.0\" y1=\"150.0\" x2=\"224.5\" y2=\"224.5\" style=\"stroke:#7856FA;stroke-width:1\"/><line x1=\"150.0\" y1=\"150.0\" x2=\"224.5\" y2=\"150.0\" style=\"stroke:#7856FA;stroke-width:1\"/><line x1=\"224.5\" y1=\"224.5\" x2=\"224.5\" y2=\"150.0\" style=\"stroke:#7856FA;stroke-width:1\"/><line x1=\"150.0\" y1=\"299.0\" x2=\"224.5\" y2=\"299.0\" style=\"stroke:#7856FA;stroke-width:1\"/><line x1=\"150.0\" y1=\"299.0\" x2=\"150.0\" y2=\"224.5\" style=\"stroke:#7856FA;stroke-width:1\"/><line x1=\"224.5\" y1=\"299.0\" x2=\"150.0\" y2=\"224.5\" style=\"stroke:#7856FA;stroke-width:1\"/><line x1=\"150.0\" y1=\"150.0\" x2=\"75.5\" y2=\"75.5\" style=\"stroke:#7856FA;stroke-width:1\"/><line x1=\"150.0\" y1=\"150.0\" x2=\"150.0\" y2=\"75.5\" style=\"stroke:#7856FA;stroke-width:1\"/><line x1=\"75.5\" y1=\"75.5\" x2=\"150.0\" y2=\"75.5\" style=\"stroke:#7856FA;stroke-width:1\"/><line x1=\"1.0\" y1=\"150.0\" x2=\"1.0\" y2=\"75.5\" style=\"stroke:#7856FA;stroke-width:1\"/><line x1=\"1.0\" y1=\"150.0\" x2=\"75.5\" y2=\"150.0\" style=\"stroke:#7856FA;stroke-width:1\"/><line x1=\"1.0\" y1=\"75.5\" x2=\"75.5\" y2=\"150.0\" style=\"stroke:#7856FA;stroke-width:1\"/><line x1=\"299.0\" y1=\"150.0\" x2=\"299.0\" y2=\"75.5\" style=\"stroke:#7856FA;stroke-width:1\"/><line x1=\"299.0\" y1=\"150.0\" x2=\"224.5\" y2=\"75.5\" style=\"stroke:#7856FA;stroke-width:1\"/><line x1=\"299.0\" y1=\"75.5\" x2=\"224.5\" y2=\"75.5\" style=\"stroke:#7856FA;stroke-width:1\"/><line x1=\"1.0\" y1=\"150.0\" x2=\"75.5\" y2=\"224.5\" style=\"stroke:#7856FA;stroke-width:1\"/><line x1=\"1.0\" y1=\"150.0\" x2=\"75.5\" y2=\"150.0\" style=\"stroke:#7856FA;stroke-width:1\"/><line x1=\"75.5\" y1=\"224.5\" x2=\"75.5\" y2=\"150.0\" style=\"stroke:#7856FA;stroke-width:1\"/><line x1=\"299.0\" y1=\"150.0\" x2=\"224.5\" y2=\"150.0\" style=\"stroke:#7856FA;stroke-width:1\"/><line x1=\"299.0\" y1=\"150.0\" x2=\"224.5\" y2=\"75.5\" style=\"stroke:#7856FA;stroke-width:1\"/><line x1=\"224.5\" y1=\"150.0\" x2=\"224.5\" y2=\"75.5\" style=\"stroke:#7856FA;stroke-width:1\"/><line x1=\"1.0\" y1=\"150.0\" x2=\"1.0\" y2=\"224.5\" style=\"stroke:#7856FA;stroke-width:1\"/><line x1=\"1.0\" y1=\"150.0\" x2=\"75.5\" y2=\"224.5\" style=\"stroke:#7856FA;stroke-width:1\"/><line x1=\"1.0\" y1=\"224.5\" x2=\"75.5\" y2=\"224.5\" style=\"stroke:#7856FA;stroke-width:1\"/><line x1=\"299.0\" y1=\"150.0\" x2=\"299.0\" y2=\"224.5\" style=\"stroke:#7856FA;stroke-width:1\"/><line x1=\"299.0\" y1=\"150.0\" x2=\"224.5\" y2=\"150.0\" style=\"stroke:#7856FA;stroke-width:1\"/><line x1=\"299.0\" y1=\"224.5\" x2=\"224.5\" y2=\"150.0\" style=\"stroke:#7856FA;stroke-width:1\"/><line x1=\"150.0\" y1=\"150.0\" x2=\"224.5\" y2=\"224.5\" style=\"stroke:#7856FA;stroke-width:1\"/><line x1=\"150.0\" y1=\"150.0\" x2=\"150.0\" y2=\"224.5\" style=\"stroke:#7856FA;stroke-width:1\"/><line x1=\"224.5\" y1=\"224.5\" x2=\"150.0\" y2=\"224.5\" style=\"stroke:#7856FA;stroke-width:1\"/><line x1=\"150.0\" y1=\"1.0\" x2=\"75.5\" y2=\"1.0\" style=\"stroke:#7856FA;stroke-width:1\"/><line x1=\"150.0\" y1=\"1.0\" x2=\"150.0\" y2=\"75.5\" style=\"stroke:#7856FA;stroke-width:1\"/><line x1=\"75.5\" y1=\"1.0\" x2=\"150.0\" y2=\"75.5\" style=\"stroke:#7856FA;stroke-width:1\"/><line x1=\"150.0\" y1=\"150.0\" x2=\"75.5\" y2=\"75.5\" style=\"stroke:#7856FA;stroke-width:1\"/><line x1=\"150.0\" y1=\"150.0\" x2=\"75.5\" y2=\"150.0\" style=\"stroke:#7856FA;stroke-width:1\"/><line x1=\"75.5\" y1=\"75.5\" x2=\"75.5\" y2=\"150.0\" style=\"stroke:#7856FA;stroke-width:1\"/><line x1=\"150.0\" y1=\"1.0\" x2=\"224.5\" y2=\"1.0\" style=\"stroke:#7856FA;stroke-width:1\"/><line x1=\"150.0\" y1=\"1.0\" x2=\"224.5\" y2=\"75.5\" style=\"stroke:#7856FA;stroke-width:1\"/><line x1=\"224.5\" y1=\"1.0\" x2=\"224.5\" y2=\"75.5\" style=\"stroke:#7856FA;stroke-width:1\"/><line x1=\"150.0\" y1=\"150.0\" x2=\"150.0\" y2=\"224.5\" style=\"stroke:#7856FA;stroke-width:1\"/><line x1=\"150.0\" y1=\"150.0\" x2=\"75.5\" y2=\"150.0\" style=\"stroke:#7856FA;stroke-width:1\"/><line x1=\"150.0\" y1=\"224.5\" x2=\"75.5\" y2=\"150.0\" style=\"stroke:#7856FA;stroke-width:1\"/><line x1=\"150.0\" y1=\"1.0\" x2=\"150.0\" y2=\"75.5\" style=\"stroke:#7856FA;stroke-width:1\"/><line x1=\"150.0\" y1=\"1.0\" x2=\"224.5\" y2=\"75.5\" style=\"stroke:#7856FA;stroke-width:1\"/><line x1=\"150.0\" y1=\"75.5\" x2=\"224.5\" y2=\"75.5\" style=\"stroke:#7856FA;stroke-width:1\"/><line x1=\"75.5\" y1=\"299.0\" x2=\"1.0\" y2=\"224.5\" style=\"stroke:#7856FA;stroke-width:1\"/><line x1=\"75.5\" y1=\"299.0\" x2=\"75.5\" y2=\"224.5\" style=\"stroke:#7856FA;stroke-width:1\"/><line x1=\"1.0\" y1=\"224.5\" x2=\"75.5\" y2=\"224.5\" style=\"stroke:#7856FA;stroke-width:1\"/><line x1=\"224.5\" y1=\"224.5\" x2=\"299.0\" y2=\"224.5\" style=\"stroke:#7856FA;stroke-width:1\"/><line x1=\"224.5\" y1=\"224.5\" x2=\"224.5\" y2=\"150.0\" style=\"stroke:#7856FA;stroke-width:1\"/><line x1=\"299.0\" y1=\"224.5\" x2=\"224.5\" y2=\"150.0\" style=\"stroke:#7856FA;stroke-width:1\"/><line x1=\"224.5\" y1=\"299.0\" x2=\"224.5\" y2=\"224.5\" style=\"stroke:#7856FA;stroke-width:1\"/><line x1=\"224.5\" y1=\"299.0\" x2=\"150.0\" y2=\"224.5\" style=\"stroke:#7856FA;stroke-width:1\"/><line x1=\"224.5\" y1=\"224.5\" x2=\"150.0\" y2=\"224.5\" style=\"stroke:#7856FA;stroke-width:1\"/><line x1=\"75.5\" y1=\"75.5\" x2=\"75.5\" y2=\"1.0\" style=\"stroke:#7856FA;stroke-width:1\"/><line x1=\"75.5\" y1=\"75.5\" x2=\"150.0\" y2=\"75.5\" style=\"stroke:#7856FA;stroke-width:1\"/><line x1=\"75.5\" y1=\"1.0\" x2=\"150.0\" y2=\"75.5\" style=\"stroke:#7856FA;stroke-width:1\"/><line x1=\"1.0\" y1=\"75.5\" x2=\"75.5\" y2=\"75.5\" style=\"stroke:#7856FA;stroke-width:1\"/><line x1=\"1.0\" y1=\"75.5\" x2=\"75.5\" y2=\"150.0\" style=\"stroke:#7856FA;stroke-width:1\"/><line x1=\"75.5\" y1=\"75.5\" x2=\"75.5\" y2=\"150.0\" style=\"stroke:#7856FA;stroke-width:1\"/><line x1=\"299.0\" y1=\"75.5\" x2=\"224.5\" y2=\"1.0\" style=\"stroke:#7856FA;stroke-width:1\"/><line x1=\"299.0\" y1=\"75.5\" x2=\"224.5\" y2=\"75.5\" style=\"stroke:#7856FA;stroke-width:1\"/><line x1=\"224.5\" y1=\"1.0\" x2=\"224.5\" y2=\"75.5\" style=\"stroke:#7856FA;stroke-width:1\"/><line x1=\"75.5\" y1=\"224.5\" x2=\"150.0\" y2=\"224.5\" style=\"stroke:#7856FA;stroke-width:1\"/><line x1=\"75.5\" y1=\"224.5\" x2=\"75.5\" y2=\"150.0\" style=\"stroke:#7856FA;stroke-width:1\"/><line x1=\"150.0\" y1=\"224.5\" x2=\"75.5\" y2=\"150.0\" style=\"stroke:#7856FA;stroke-width:1\"/><line x1=\"224.5\" y1=\"150.0\" x2=\"150.0\" y2=\"75.5\" style=\"stroke:#7856FA;stroke-width:1\"/><line x1=\"224.5\" y1=\"150.0\" x2=\"224.5\" y2=\"75.5\" style=\"stroke:#7856FA;stroke-width:1\"/><line x1=\"150.0\" y1=\"75.5\" x2=\"224.5\" y2=\"75.5\" style=\"stroke:#7856FA;stroke-width:1\"/></svg>"
      ],
      "text/plain": [
       "<skfem MeshTri1 object>\n",
       "  Number of elements: 32\n",
       "  Number of vertices: 25\n",
       "  Number of nodes: 25\n",
       "  Named boundaries [# facets]: left [4], bottom [4], right [4], top [4]"
      ]
     },
     "execution_count": 11,
     "metadata": {},
     "output_type": "execute_result"
    }
   ],
   "source": [
    "info_mesh_and_basis(MeshTri, ElementTriP2, 2)"
   ]
  },
  {
   "cell_type": "markdown",
   "id": "9ff43d1a-cad0-40d8-b2f2-94709d1db016",
   "metadata": {},
   "source": [
    "# MeshTri2"
   ]
  },
  {
   "cell_type": "code",
   "execution_count": 12,
   "id": "31dba5c9-18f1-4850-bc85-573a02b6640b",
   "metadata": {},
   "outputs": [
    {
     "data": {
      "text/plain": [
       "\u001b[0;31mInit signature:\u001b[0m\n",
       "\u001b[0mMeshTri2\u001b[0m\u001b[0;34m(\u001b[0m\u001b[0;34m\u001b[0m\n",
       "\u001b[0;34m\u001b[0m    \u001b[0mdoflocs\u001b[0m\u001b[0;34m:\u001b[0m \u001b[0mnumpy\u001b[0m\u001b[0;34m.\u001b[0m\u001b[0mndarray\u001b[0m \u001b[0;34m=\u001b[0m \u001b[0;34m<\u001b[0m\u001b[0mfactory\u001b[0m\u001b[0;34m>\u001b[0m\u001b[0;34m,\u001b[0m\u001b[0;34m\u001b[0m\n",
       "\u001b[0;34m\u001b[0m    \u001b[0mt\u001b[0m\u001b[0;34m:\u001b[0m \u001b[0mnumpy\u001b[0m\u001b[0;34m.\u001b[0m\u001b[0mndarray\u001b[0m \u001b[0;34m=\u001b[0m \u001b[0;34m<\u001b[0m\u001b[0mfactory\u001b[0m\u001b[0;34m>\u001b[0m\u001b[0;34m,\u001b[0m\u001b[0;34m\u001b[0m\n",
       "\u001b[0;34m\u001b[0m    \u001b[0m_boundaries\u001b[0m\u001b[0;34m:\u001b[0m \u001b[0mOptional\u001b[0m\u001b[0;34m[\u001b[0m\u001b[0mDict\u001b[0m\u001b[0;34m[\u001b[0m\u001b[0mstr\u001b[0m\u001b[0;34m,\u001b[0m \u001b[0mnumpy\u001b[0m\u001b[0;34m.\u001b[0m\u001b[0mndarray\u001b[0m\u001b[0;34m]\u001b[0m\u001b[0;34m]\u001b[0m \u001b[0;34m=\u001b[0m \u001b[0;32mNone\u001b[0m\u001b[0;34m,\u001b[0m\u001b[0;34m\u001b[0m\n",
       "\u001b[0;34m\u001b[0m    \u001b[0m_subdomains\u001b[0m\u001b[0;34m:\u001b[0m \u001b[0mOptional\u001b[0m\u001b[0;34m[\u001b[0m\u001b[0mDict\u001b[0m\u001b[0;34m[\u001b[0m\u001b[0mstr\u001b[0m\u001b[0;34m,\u001b[0m \u001b[0mnumpy\u001b[0m\u001b[0;34m.\u001b[0m\u001b[0mndarray\u001b[0m\u001b[0;34m]\u001b[0m\u001b[0;34m]\u001b[0m \u001b[0;34m=\u001b[0m \u001b[0;32mNone\u001b[0m\u001b[0;34m,\u001b[0m\u001b[0;34m\u001b[0m\n",
       "\u001b[0;34m\u001b[0m    \u001b[0melem\u001b[0m\u001b[0;34m:\u001b[0m \u001b[0mType\u001b[0m\u001b[0;34m[\u001b[0m\u001b[0mskfem\u001b[0m\u001b[0;34m.\u001b[0m\u001b[0melement\u001b[0m\u001b[0;34m.\u001b[0m\u001b[0melement\u001b[0m\u001b[0;34m.\u001b[0m\u001b[0mElement\u001b[0m\u001b[0;34m]\u001b[0m \u001b[0;34m=\u001b[0m \u001b[0;34m<\u001b[0m\u001b[0;32mclass\u001b[0m \u001b[0;34m'skfem.element.element_tri.element_tri_p2.ElementTriP2'\u001b[0m\u001b[0;34m>\u001b[0m\u001b[0;34m,\u001b[0m\u001b[0;34m\u001b[0m\n",
       "\u001b[0;34m\u001b[0m    \u001b[0maffine\u001b[0m\u001b[0;34m:\u001b[0m \u001b[0mbool\u001b[0m \u001b[0;34m=\u001b[0m \u001b[0;32mFalse\u001b[0m\u001b[0;34m,\u001b[0m\u001b[0;34m\u001b[0m\n",
       "\u001b[0;34m\u001b[0m    \u001b[0msort_t\u001b[0m\u001b[0;34m:\u001b[0m \u001b[0mbool\u001b[0m \u001b[0;34m=\u001b[0m \u001b[0;32mFalse\u001b[0m\u001b[0;34m,\u001b[0m\u001b[0;34m\u001b[0m\n",
       "\u001b[0;34m\u001b[0m    \u001b[0mvalidate\u001b[0m\u001b[0;34m:\u001b[0m \u001b[0mbool\u001b[0m \u001b[0;34m=\u001b[0m \u001b[0;32mTrue\u001b[0m\u001b[0;34m,\u001b[0m\u001b[0;34m\u001b[0m\n",
       "\u001b[0;34m\u001b[0m\u001b[0;34m)\u001b[0m \u001b[0;34m->\u001b[0m \u001b[0;32mNone\u001b[0m\u001b[0;34m\u001b[0m\u001b[0;34m\u001b[0m\u001b[0m\n",
       "\u001b[0;31mDocstring:\u001b[0m      A quadratic triangular mesh.\n",
       "\u001b[0;31mFile:\u001b[0m           ~/micromamba/envs/scikit-fem/lib/python3.12/site-packages/skfem/mesh/mesh_tri_2.py\n",
       "\u001b[0;31mType:\u001b[0m           type\n",
       "\u001b[0;31mSubclasses:\u001b[0m     "
      ]
     },
     "metadata": {},
     "output_type": "display_data"
    }
   ],
   "source": [
    "MeshTri2?"
   ]
  },
  {
   "cell_type": "markdown",
   "id": "9023182e-aced-4fa8-8edb-61ecfe748384",
   "metadata": {},
   "source": [
    "## ElementTriP2"
   ]
  },
  {
   "cell_type": "code",
   "execution_count": 13,
   "id": "22591238-e532-43eb-b855-5a3fe180dbc8",
   "metadata": {},
   "outputs": [
    {
     "data": {
      "text/plain": [
       "\u001b[0;31mInit signature:\u001b[0m \u001b[0mElementTriP2\u001b[0m\u001b[0;34m(\u001b[0m\u001b[0;34m)\u001b[0m\u001b[0;34m\u001b[0m\u001b[0;34m\u001b[0m\u001b[0m\n",
       "\u001b[0;31mDocstring:\u001b[0m      Piecewise quadratic element.\n",
       "\u001b[0;31mFile:\u001b[0m           ~/micromamba/envs/scikit-fem/lib/python3.12/site-packages/skfem/element/element_tri/element_tri_p2.py\n",
       "\u001b[0;31mType:\u001b[0m           type\n",
       "\u001b[0;31mSubclasses:\u001b[0m     "
      ]
     },
     "metadata": {},
     "output_type": "display_data"
    }
   ],
   "source": [
    "ElementTriP2?"
   ]
  },
  {
   "cell_type": "markdown",
   "id": "a2e5a081-c035-4bd8-85fb-4d502da4e9be",
   "metadata": {},
   "source": [
    "### Meshes"
   ]
  },
  {
   "cell_type": "code",
   "execution_count": 14,
   "id": "f69ccc42-0b68-49ed-b316-d230bd2bdff9",
   "metadata": {},
   "outputs": [
    {
     "name": "stdout",
     "output_type": "stream",
     "text": [
      "Mesh: MeshTri2, Element: ElementTriP2, refinement level: None\n",
      "\n",
      "<skfem MeshTri2 object>\n",
      "  Number of elements: 2\n",
      "  Number of vertices: 4\n",
      "  Number of nodes: 9\n",
      "  Named boundaries [# facets]: left [1], bottom [1], right [1], top [1]\n",
      "\n",
      "<skfem CellBasis(MeshTri2, ElementTriP2) object>\n",
      "  Number of elements: 2\n",
      "  Number of DOFs: 9\n",
      "  Size: 1728 B\n",
      "\n"
     ]
    },
    {
     "data": {
      "image/svg+xml": [
       "<svg xmlns=\"http://www.w3.org/2000/svg\" version=\"1.1\" width=\"300\" height=\"300.0\"><line x1=\"1.0\" y1=\"299.0\" x2=\"75.5\" y2=\"299.0\" style=\"stroke:#7856FA;stroke-width:1\"/><line x1=\"1.0\" y1=\"299.0\" x2=\"1.0\" y2=\"224.5\" style=\"stroke:#7856FA;stroke-width:1\"/><line x1=\"299.0\" y1=\"299.0\" x2=\"224.5\" y2=\"299.0\" style=\"stroke:#7856FA;stroke-width:1\"/><line x1=\"299.0\" y1=\"299.0\" x2=\"224.5\" y2=\"224.5\" style=\"stroke:#7856FA;stroke-width:1\"/><line x1=\"1.0\" y1=\"1.0\" x2=\"1.0\" y2=\"75.5\" style=\"stroke:#7856FA;stroke-width:1\"/><line x1=\"1.0\" y1=\"1.0\" x2=\"75.5\" y2=\"75.5\" style=\"stroke:#7856FA;stroke-width:1\"/><line x1=\"150.0\" y1=\"299.0\" x2=\"75.5\" y2=\"299.0\" style=\"stroke:#7856FA;stroke-width:1\"/><line x1=\"150.0\" y1=\"299.0\" x2=\"224.5\" y2=\"299.0\" style=\"stroke:#7856FA;stroke-width:1\"/><line x1=\"1.0\" y1=\"150.0\" x2=\"1.0\" y2=\"224.5\" style=\"stroke:#7856FA;stroke-width:1\"/><line x1=\"1.0\" y1=\"150.0\" x2=\"1.0\" y2=\"75.5\" style=\"stroke:#7856FA;stroke-width:1\"/><line x1=\"150.0\" y1=\"150.0\" x2=\"224.5\" y2=\"224.5\" style=\"stroke:#7856FA;stroke-width:1\"/><line x1=\"150.0\" y1=\"150.0\" x2=\"75.5\" y2=\"75.5\" style=\"stroke:#7856FA;stroke-width:1\"/><line x1=\"299.0\" y1=\"299.0\" x2=\"299.0\" y2=\"224.5\" style=\"stroke:#7856FA;stroke-width:1\"/><line x1=\"299.0\" y1=\"299.0\" x2=\"224.5\" y2=\"224.5\" style=\"stroke:#7856FA;stroke-width:1\"/><line x1=\"299.0\" y1=\"1.0\" x2=\"299.0\" y2=\"75.5\" style=\"stroke:#7856FA;stroke-width:1\"/><line x1=\"299.0\" y1=\"1.0\" x2=\"224.5\" y2=\"1.0\" style=\"stroke:#7856FA;stroke-width:1\"/><line x1=\"1.0\" y1=\"1.0\" x2=\"75.5\" y2=\"75.5\" style=\"stroke:#7856FA;stroke-width:1\"/><line x1=\"1.0\" y1=\"1.0\" x2=\"75.5\" y2=\"1.0\" style=\"stroke:#7856FA;stroke-width:1\"/><line x1=\"299.0\" y1=\"150.0\" x2=\"299.0\" y2=\"224.5\" style=\"stroke:#7856FA;stroke-width:1\"/><line x1=\"299.0\" y1=\"150.0\" x2=\"299.0\" y2=\"75.5\" style=\"stroke:#7856FA;stroke-width:1\"/><line x1=\"150.0\" y1=\"150.0\" x2=\"224.5\" y2=\"224.5\" style=\"stroke:#7856FA;stroke-width:1\"/><line x1=\"150.0\" y1=\"150.0\" x2=\"75.5\" y2=\"75.5\" style=\"stroke:#7856FA;stroke-width:1\"/><line x1=\"150.0\" y1=\"1.0\" x2=\"224.5\" y2=\"1.0\" style=\"stroke:#7856FA;stroke-width:1\"/><line x1=\"150.0\" y1=\"1.0\" x2=\"75.5\" y2=\"1.0\" style=\"stroke:#7856FA;stroke-width:1\"/></svg>"
      ],
      "text/plain": [
       "<skfem MeshTri2 object>\n",
       "  Number of elements: 2\n",
       "  Number of vertices: 4\n",
       "  Number of nodes: 9\n",
       "  Named boundaries [# facets]: left [1], bottom [1], right [1], top [1]"
      ]
     },
     "execution_count": 14,
     "metadata": {},
     "output_type": "execute_result"
    }
   ],
   "source": [
    "info_mesh_and_basis(MeshTri2, ElementTriP2)"
   ]
  },
  {
   "cell_type": "code",
   "execution_count": 15,
   "id": "ba3780ee-f27c-457a-8dc6-822017e9c55d",
   "metadata": {},
   "outputs": [
    {
     "name": "stdout",
     "output_type": "stream",
     "text": [
      "Mesh: MeshTri2, Element: ElementTriP2, refinement level: 1\n",
      "\n",
      "<skfem MeshTri2 object>\n",
      "  Number of elements: 8\n",
      "  Number of vertices: 9\n",
      "  Number of nodes: 25\n",
      "  Named boundaries [# facets]: left [2], bottom [2], right [2], top [2]\n",
      "\n",
      "<skfem CellBasis(MeshTri2, ElementTriP2) object>\n",
      "  Number of elements: 8\n",
      "  Number of DOFs: 25\n",
      "  Size: 6912 B\n",
      "\n"
     ]
    },
    {
     "data": {
      "image/svg+xml": [
       "<svg xmlns=\"http://www.w3.org/2000/svg\" version=\"1.1\" width=\"300\" height=\"300.0\"><line x1=\"1.0\" y1=\"299.0\" x2=\"38.25\" y2=\"299.0\" style=\"stroke:#7856FA;stroke-width:1\"/><line x1=\"1.0\" y1=\"299.0\" x2=\"1.0\" y2=\"261.75\" style=\"stroke:#7856FA;stroke-width:1\"/><line x1=\"150.0\" y1=\"299.0\" x2=\"112.75\" y2=\"299.0\" style=\"stroke:#7856FA;stroke-width:1\"/><line x1=\"150.0\" y1=\"299.0\" x2=\"112.75\" y2=\"261.75\" style=\"stroke:#7856FA;stroke-width:1\"/><line x1=\"1.0\" y1=\"150.0\" x2=\"1.0\" y2=\"187.25\" style=\"stroke:#7856FA;stroke-width:1\"/><line x1=\"1.0\" y1=\"150.0\" x2=\"38.25\" y2=\"187.25\" style=\"stroke:#7856FA;stroke-width:1\"/><line x1=\"75.5\" y1=\"299.0\" x2=\"38.25\" y2=\"299.0\" style=\"stroke:#7856FA;stroke-width:1\"/><line x1=\"75.5\" y1=\"299.0\" x2=\"112.75\" y2=\"299.0\" style=\"stroke:#7856FA;stroke-width:1\"/><line x1=\"1.0\" y1=\"224.5\" x2=\"1.0\" y2=\"261.75\" style=\"stroke:#7856FA;stroke-width:1\"/><line x1=\"1.0\" y1=\"224.5\" x2=\"1.0\" y2=\"187.25\" style=\"stroke:#7856FA;stroke-width:1\"/><line x1=\"75.5\" y1=\"224.5\" x2=\"112.75\" y2=\"261.75\" style=\"stroke:#7856FA;stroke-width:1\"/><line x1=\"75.5\" y1=\"224.5\" x2=\"38.25\" y2=\"187.25\" style=\"stroke:#7856FA;stroke-width:1\"/><line x1=\"299.0\" y1=\"299.0\" x2=\"261.75\" y2=\"261.75\" style=\"stroke:#7856FA;stroke-width:1\"/><line x1=\"299.0\" y1=\"299.0\" x2=\"299.0\" y2=\"261.75\" style=\"stroke:#7856FA;stroke-width:1\"/><line x1=\"150.0\" y1=\"150.0\" x2=\"187.25\" y2=\"187.25\" style=\"stroke:#7856FA;stroke-width:1\"/><line x1=\"150.0\" y1=\"150.0\" x2=\"187.25\" y2=\"150.0\" style=\"stroke:#7856FA;stroke-width:1\"/><line x1=\"299.0\" y1=\"150.0\" x2=\"299.0\" y2=\"187.25\" style=\"stroke:#7856FA;stroke-width:1\"/><line x1=\"299.0\" y1=\"150.0\" x2=\"261.75\" y2=\"150.0\" style=\"stroke:#7856FA;stroke-width:1\"/><line x1=\"224.5\" y1=\"224.5\" x2=\"261.75\" y2=\"261.75\" style=\"stroke:#7856FA;stroke-width:1\"/><line x1=\"224.5\" y1=\"224.5\" x2=\"187.25\" y2=\"187.25\" style=\"stroke:#7856FA;stroke-width:1\"/><line x1=\"299.0\" y1=\"224.5\" x2=\"299.0\" y2=\"261.75\" style=\"stroke:#7856FA;stroke-width:1\"/><line x1=\"299.0\" y1=\"224.5\" x2=\"299.0\" y2=\"187.25\" style=\"stroke:#7856FA;stroke-width:1\"/><line x1=\"224.5\" y1=\"150.0\" x2=\"187.25\" y2=\"150.0\" style=\"stroke:#7856FA;stroke-width:1\"/><line x1=\"224.5\" y1=\"150.0\" x2=\"261.75\" y2=\"150.0\" style=\"stroke:#7856FA;stroke-width:1\"/><line x1=\"299.0\" y1=\"299.0\" x2=\"261.75\" y2=\"299.0\" style=\"stroke:#7856FA;stroke-width:1\"/><line x1=\"299.0\" y1=\"299.0\" x2=\"261.75\" y2=\"261.75\" style=\"stroke:#7856FA;stroke-width:1\"/><line x1=\"150.0\" y1=\"299.0\" x2=\"187.25\" y2=\"299.0\" style=\"stroke:#7856FA;stroke-width:1\"/><line x1=\"150.0\" y1=\"299.0\" x2=\"150.0\" y2=\"261.75\" style=\"stroke:#7856FA;stroke-width:1\"/><line x1=\"150.0\" y1=\"150.0\" x2=\"187.25\" y2=\"187.25\" style=\"stroke:#7856FA;stroke-width:1\"/><line x1=\"150.0\" y1=\"150.0\" x2=\"150.0\" y2=\"187.25\" style=\"stroke:#7856FA;stroke-width:1\"/><line x1=\"224.5\" y1=\"299.0\" x2=\"261.75\" y2=\"299.0\" style=\"stroke:#7856FA;stroke-width:1\"/><line x1=\"224.5\" y1=\"299.0\" x2=\"187.25\" y2=\"299.0\" style=\"stroke:#7856FA;stroke-width:1\"/><line x1=\"224.5\" y1=\"224.5\" x2=\"261.75\" y2=\"261.75\" style=\"stroke:#7856FA;stroke-width:1\"/><line x1=\"224.5\" y1=\"224.5\" x2=\"187.25\" y2=\"187.25\" style=\"stroke:#7856FA;stroke-width:1\"/><line x1=\"150.0\" y1=\"224.5\" x2=\"150.0\" y2=\"261.75\" style=\"stroke:#7856FA;stroke-width:1\"/><line x1=\"150.0\" y1=\"224.5\" x2=\"150.0\" y2=\"187.25\" style=\"stroke:#7856FA;stroke-width:1\"/><line x1=\"1.0\" y1=\"1.0\" x2=\"38.25\" y2=\"38.25\" style=\"stroke:#7856FA;stroke-width:1\"/><line x1=\"1.0\" y1=\"1.0\" x2=\"38.25\" y2=\"1.0\" style=\"stroke:#7856FA;stroke-width:1\"/><line x1=\"150.0\" y1=\"150.0\" x2=\"112.75\" y2=\"112.75\" style=\"stroke:#7856FA;stroke-width:1\"/><line x1=\"150.0\" y1=\"150.0\" x2=\"150.0\" y2=\"112.75\" style=\"stroke:#7856FA;stroke-width:1\"/><line x1=\"150.0\" y1=\"1.0\" x2=\"112.75\" y2=\"1.0\" style=\"stroke:#7856FA;stroke-width:1\"/><line x1=\"150.0\" y1=\"1.0\" x2=\"150.0\" y2=\"38.25\" style=\"stroke:#7856FA;stroke-width:1\"/><line x1=\"75.5\" y1=\"75.5\" x2=\"38.25\" y2=\"38.25\" style=\"stroke:#7856FA;stroke-width:1\"/><line x1=\"75.5\" y1=\"75.5\" x2=\"112.75\" y2=\"112.75\" style=\"stroke:#7856FA;stroke-width:1\"/><line x1=\"75.5\" y1=\"1.0\" x2=\"38.25\" y2=\"1.0\" style=\"stroke:#7856FA;stroke-width:1\"/><line x1=\"75.5\" y1=\"1.0\" x2=\"112.75\" y2=\"1.0\" style=\"stroke:#7856FA;stroke-width:1\"/><line x1=\"150.0\" y1=\"75.5\" x2=\"150.0\" y2=\"112.75\" style=\"stroke:#7856FA;stroke-width:1\"/><line x1=\"150.0\" y1=\"75.5\" x2=\"150.0\" y2=\"38.25\" style=\"stroke:#7856FA;stroke-width:1\"/><line x1=\"1.0\" y1=\"1.0\" x2=\"1.0\" y2=\"38.25\" style=\"stroke:#7856FA;stroke-width:1\"/><line x1=\"1.0\" y1=\"1.0\" x2=\"38.25\" y2=\"38.25\" style=\"stroke:#7856FA;stroke-width:1\"/><line x1=\"1.0\" y1=\"150.0\" x2=\"1.0\" y2=\"112.75\" style=\"stroke:#7856FA;stroke-width:1\"/><line x1=\"1.0\" y1=\"150.0\" x2=\"38.25\" y2=\"150.0\" style=\"stroke:#7856FA;stroke-width:1\"/><line x1=\"150.0\" y1=\"150.0\" x2=\"112.75\" y2=\"112.75\" style=\"stroke:#7856FA;stroke-width:1\"/><line x1=\"150.0\" y1=\"150.0\" x2=\"112.75\" y2=\"150.0\" style=\"stroke:#7856FA;stroke-width:1\"/><line x1=\"1.0\" y1=\"75.5\" x2=\"1.0\" y2=\"38.25\" style=\"stroke:#7856FA;stroke-width:1\"/><line x1=\"1.0\" y1=\"75.5\" x2=\"1.0\" y2=\"112.75\" style=\"stroke:#7856FA;stroke-width:1\"/><line x1=\"75.5\" y1=\"75.5\" x2=\"38.25\" y2=\"38.25\" style=\"stroke:#7856FA;stroke-width:1\"/><line x1=\"75.5\" y1=\"75.5\" x2=\"112.75\" y2=\"112.75\" style=\"stroke:#7856FA;stroke-width:1\"/><line x1=\"75.5\" y1=\"150.0\" x2=\"38.25\" y2=\"150.0\" style=\"stroke:#7856FA;stroke-width:1\"/><line x1=\"75.5\" y1=\"150.0\" x2=\"112.75\" y2=\"150.0\" style=\"stroke:#7856FA;stroke-width:1\"/><line x1=\"299.0\" y1=\"1.0\" x2=\"299.0\" y2=\"38.25\" style=\"stroke:#7856FA;stroke-width:1\"/><line x1=\"299.0\" y1=\"1.0\" x2=\"261.75\" y2=\"1.0\" style=\"stroke:#7856FA;stroke-width:1\"/><line x1=\"299.0\" y1=\"150.0\" x2=\"299.0\" y2=\"112.75\" style=\"stroke:#7856FA;stroke-width:1\"/><line x1=\"299.0\" y1=\"150.0\" x2=\"261.75\" y2=\"112.75\" style=\"stroke:#7856FA;stroke-width:1\"/><line x1=\"150.0\" y1=\"1.0\" x2=\"187.25\" y2=\"1.0\" style=\"stroke:#7856FA;stroke-width:1\"/><line x1=\"150.0\" y1=\"1.0\" x2=\"187.25\" y2=\"38.25\" style=\"stroke:#7856FA;stroke-width:1\"/><line x1=\"299.0\" y1=\"75.5\" x2=\"299.0\" y2=\"38.25\" style=\"stroke:#7856FA;stroke-width:1\"/><line x1=\"299.0\" y1=\"75.5\" x2=\"299.0\" y2=\"112.75\" style=\"stroke:#7856FA;stroke-width:1\"/><line x1=\"224.5\" y1=\"1.0\" x2=\"261.75\" y2=\"1.0\" style=\"stroke:#7856FA;stroke-width:1\"/><line x1=\"224.5\" y1=\"1.0\" x2=\"187.25\" y2=\"1.0\" style=\"stroke:#7856FA;stroke-width:1\"/><line x1=\"224.5\" y1=\"75.5\" x2=\"261.75\" y2=\"112.75\" style=\"stroke:#7856FA;stroke-width:1\"/><line x1=\"224.5\" y1=\"75.5\" x2=\"187.25\" y2=\"38.25\" style=\"stroke:#7856FA;stroke-width:1\"/><line x1=\"150.0\" y1=\"299.0\" x2=\"112.75\" y2=\"261.75\" style=\"stroke:#7856FA;stroke-width:1\"/><line x1=\"150.0\" y1=\"299.0\" x2=\"150.0\" y2=\"261.75\" style=\"stroke:#7856FA;stroke-width:1\"/><line x1=\"1.0\" y1=\"150.0\" x2=\"38.25\" y2=\"187.25\" style=\"stroke:#7856FA;stroke-width:1\"/><line x1=\"1.0\" y1=\"150.0\" x2=\"38.25\" y2=\"150.0\" style=\"stroke:#7856FA;stroke-width:1\"/><line x1=\"150.0\" y1=\"150.0\" x2=\"150.0\" y2=\"187.25\" style=\"stroke:#7856FA;stroke-width:1\"/><line x1=\"150.0\" y1=\"150.0\" x2=\"112.75\" y2=\"150.0\" style=\"stroke:#7856FA;stroke-width:1\"/><line x1=\"75.5\" y1=\"224.5\" x2=\"112.75\" y2=\"261.75\" style=\"stroke:#7856FA;stroke-width:1\"/><line x1=\"75.5\" y1=\"224.5\" x2=\"38.25\" y2=\"187.25\" style=\"stroke:#7856FA;stroke-width:1\"/><line x1=\"150.0\" y1=\"224.5\" x2=\"150.0\" y2=\"261.75\" style=\"stroke:#7856FA;stroke-width:1\"/><line x1=\"150.0\" y1=\"224.5\" x2=\"150.0\" y2=\"187.25\" style=\"stroke:#7856FA;stroke-width:1\"/><line x1=\"75.5\" y1=\"150.0\" x2=\"38.25\" y2=\"150.0\" style=\"stroke:#7856FA;stroke-width:1\"/><line x1=\"75.5\" y1=\"150.0\" x2=\"112.75\" y2=\"150.0\" style=\"stroke:#7856FA;stroke-width:1\"/><line x1=\"150.0\" y1=\"150.0\" x2=\"187.25\" y2=\"150.0\" style=\"stroke:#7856FA;stroke-width:1\"/><line x1=\"150.0\" y1=\"150.0\" x2=\"150.0\" y2=\"112.75\" style=\"stroke:#7856FA;stroke-width:1\"/><line x1=\"299.0\" y1=\"150.0\" x2=\"261.75\" y2=\"150.0\" style=\"stroke:#7856FA;stroke-width:1\"/><line x1=\"299.0\" y1=\"150.0\" x2=\"261.75\" y2=\"112.75\" style=\"stroke:#7856FA;stroke-width:1\"/><line x1=\"150.0\" y1=\"1.0\" x2=\"150.0\" y2=\"38.25\" style=\"stroke:#7856FA;stroke-width:1\"/><line x1=\"150.0\" y1=\"1.0\" x2=\"187.25\" y2=\"38.25\" style=\"stroke:#7856FA;stroke-width:1\"/><line x1=\"224.5\" y1=\"150.0\" x2=\"187.25\" y2=\"150.0\" style=\"stroke:#7856FA;stroke-width:1\"/><line x1=\"224.5\" y1=\"150.0\" x2=\"261.75\" y2=\"150.0\" style=\"stroke:#7856FA;stroke-width:1\"/><line x1=\"150.0\" y1=\"75.5\" x2=\"150.0\" y2=\"112.75\" style=\"stroke:#7856FA;stroke-width:1\"/><line x1=\"150.0\" y1=\"75.5\" x2=\"150.0\" y2=\"38.25\" style=\"stroke:#7856FA;stroke-width:1\"/><line x1=\"224.5\" y1=\"75.5\" x2=\"261.75\" y2=\"112.75\" style=\"stroke:#7856FA;stroke-width:1\"/><line x1=\"224.5\" y1=\"75.5\" x2=\"187.25\" y2=\"38.25\" style=\"stroke:#7856FA;stroke-width:1\"/></svg>"
      ],
      "text/plain": [
       "<skfem MeshTri2 object>\n",
       "  Number of elements: 8\n",
       "  Number of vertices: 9\n",
       "  Number of nodes: 25\n",
       "  Named boundaries [# facets]: left [2], bottom [2], right [2], top [2]"
      ]
     },
     "execution_count": 15,
     "metadata": {},
     "output_type": "execute_result"
    }
   ],
   "source": [
    "info_mesh_and_basis(MeshTri2, ElementTriP2, 1)"
   ]
  },
  {
   "cell_type": "markdown",
   "id": "f28ecd1b-c5ad-40dd-83e8-16875f29e25d",
   "metadata": {},
   "source": [
    "# MeshQuad1"
   ]
  },
  {
   "cell_type": "code",
   "execution_count": 16,
   "id": "c4e4f16e-48a1-4a06-93eb-59b37be95b2e",
   "metadata": {},
   "outputs": [
    {
     "data": {
      "text/plain": [
       "\u001b[0;31mInit signature:\u001b[0m\n",
       "\u001b[0mMeshQuad1\u001b[0m\u001b[0;34m(\u001b[0m\u001b[0;34m\u001b[0m\n",
       "\u001b[0;34m\u001b[0m    \u001b[0mdoflocs\u001b[0m\u001b[0;34m:\u001b[0m \u001b[0mnumpy\u001b[0m\u001b[0;34m.\u001b[0m\u001b[0mndarray\u001b[0m \u001b[0;34m=\u001b[0m \u001b[0;34m<\u001b[0m\u001b[0mfactory\u001b[0m\u001b[0;34m>\u001b[0m\u001b[0;34m,\u001b[0m\u001b[0;34m\u001b[0m\n",
       "\u001b[0;34m\u001b[0m    \u001b[0mt\u001b[0m\u001b[0;34m:\u001b[0m \u001b[0mnumpy\u001b[0m\u001b[0;34m.\u001b[0m\u001b[0mndarray\u001b[0m \u001b[0;34m=\u001b[0m \u001b[0;34m<\u001b[0m\u001b[0mfactory\u001b[0m\u001b[0;34m>\u001b[0m\u001b[0;34m,\u001b[0m\u001b[0;34m\u001b[0m\n",
       "\u001b[0;34m\u001b[0m    \u001b[0m_boundaries\u001b[0m\u001b[0;34m:\u001b[0m \u001b[0mOptional\u001b[0m\u001b[0;34m[\u001b[0m\u001b[0mDict\u001b[0m\u001b[0;34m[\u001b[0m\u001b[0mstr\u001b[0m\u001b[0;34m,\u001b[0m \u001b[0mnumpy\u001b[0m\u001b[0;34m.\u001b[0m\u001b[0mndarray\u001b[0m\u001b[0;34m]\u001b[0m\u001b[0;34m]\u001b[0m \u001b[0;34m=\u001b[0m \u001b[0;32mNone\u001b[0m\u001b[0;34m,\u001b[0m\u001b[0;34m\u001b[0m\n",
       "\u001b[0;34m\u001b[0m    \u001b[0m_subdomains\u001b[0m\u001b[0;34m:\u001b[0m \u001b[0mOptional\u001b[0m\u001b[0;34m[\u001b[0m\u001b[0mDict\u001b[0m\u001b[0;34m[\u001b[0m\u001b[0mstr\u001b[0m\u001b[0;34m,\u001b[0m \u001b[0mnumpy\u001b[0m\u001b[0;34m.\u001b[0m\u001b[0mndarray\u001b[0m\u001b[0;34m]\u001b[0m\u001b[0;34m]\u001b[0m \u001b[0;34m=\u001b[0m \u001b[0;32mNone\u001b[0m\u001b[0;34m,\u001b[0m\u001b[0;34m\u001b[0m\n",
       "\u001b[0;34m\u001b[0m    \u001b[0melem\u001b[0m\u001b[0;34m:\u001b[0m \u001b[0mType\u001b[0m\u001b[0;34m[\u001b[0m\u001b[0mskfem\u001b[0m\u001b[0;34m.\u001b[0m\u001b[0melement\u001b[0m\u001b[0;34m.\u001b[0m\u001b[0melement\u001b[0m\u001b[0;34m.\u001b[0m\u001b[0mElement\u001b[0m\u001b[0;34m]\u001b[0m \u001b[0;34m=\u001b[0m \u001b[0;34m<\u001b[0m\u001b[0;32mclass\u001b[0m \u001b[0;34m'skfem.element.element_quad.element_quad1.ElementQuad1'\u001b[0m\u001b[0;34m>\u001b[0m\u001b[0;34m,\u001b[0m\u001b[0;34m\u001b[0m\n",
       "\u001b[0;34m\u001b[0m    \u001b[0maffine\u001b[0m\u001b[0;34m:\u001b[0m \u001b[0mbool\u001b[0m \u001b[0;34m=\u001b[0m \u001b[0;32mFalse\u001b[0m\u001b[0;34m,\u001b[0m\u001b[0;34m\u001b[0m\n",
       "\u001b[0;34m\u001b[0m    \u001b[0msort_t\u001b[0m\u001b[0;34m:\u001b[0m \u001b[0mbool\u001b[0m \u001b[0;34m=\u001b[0m \u001b[0;32mFalse\u001b[0m\u001b[0;34m,\u001b[0m\u001b[0;34m\u001b[0m\n",
       "\u001b[0;34m\u001b[0m    \u001b[0mvalidate\u001b[0m\u001b[0;34m:\u001b[0m \u001b[0mbool\u001b[0m \u001b[0;34m=\u001b[0m \u001b[0;32mTrue\u001b[0m\u001b[0;34m,\u001b[0m\u001b[0;34m\u001b[0m\n",
       "\u001b[0;34m\u001b[0m\u001b[0;34m)\u001b[0m \u001b[0;34m->\u001b[0m \u001b[0;32mNone\u001b[0m\u001b[0;34m\u001b[0m\u001b[0;34m\u001b[0m\u001b[0m\n",
       "\u001b[0;31mDocstring:\u001b[0m     \n",
       "A standard first-order quadrilateral mesh.\n",
       "\n",
       "If ``t`` is provided, order of vertices in each element should match the\n",
       "numbering::\n",
       "\n",
       "      3---2\n",
       "      |   |\n",
       "      0---1\n",
       "\u001b[0;31mFile:\u001b[0m           ~/micromamba/envs/scikit-fem/lib/python3.12/site-packages/skfem/mesh/mesh_quad_1.py\n",
       "\u001b[0;31mType:\u001b[0m           type\n",
       "\u001b[0;31mSubclasses:\u001b[0m     MeshQuad2, MeshQuad1DG"
      ]
     },
     "metadata": {},
     "output_type": "display_data"
    }
   ],
   "source": [
    "MeshQuad1?"
   ]
  },
  {
   "cell_type": "markdown",
   "id": "a5c6570b-b2cc-43c5-ab5a-0ba12d47aefc",
   "metadata": {},
   "source": [
    "## ElementQuad1"
   ]
  },
  {
   "cell_type": "code",
   "execution_count": 17,
   "id": "6bbe43c2-cde1-40f2-a22b-e0b9d64acc26",
   "metadata": {},
   "outputs": [
    {
     "data": {
      "text/plain": [
       "\u001b[0;31mInit signature:\u001b[0m \u001b[0mElementQuad1\u001b[0m\u001b[0;34m(\u001b[0m\u001b[0;34m)\u001b[0m\u001b[0;34m\u001b[0m\u001b[0;34m\u001b[0m\u001b[0m\n",
       "\u001b[0;31mDocstring:\u001b[0m      Bilinear element.\n",
       "\u001b[0;31mFile:\u001b[0m           ~/micromamba/envs/scikit-fem/lib/python3.12/site-packages/skfem/element/element_quad/element_quad1.py\n",
       "\u001b[0;31mType:\u001b[0m           type\n",
       "\u001b[0;31mSubclasses:\u001b[0m     ElementQuad1DG"
      ]
     },
     "metadata": {},
     "output_type": "display_data"
    }
   ],
   "source": [
    "ElementQuad1?"
   ]
  },
  {
   "cell_type": "markdown",
   "id": "742a89a0-b546-4e6f-a378-9c20cbc4c706",
   "metadata": {},
   "source": [
    "### Meshes"
   ]
  },
  {
   "cell_type": "code",
   "execution_count": 18,
   "id": "f162c2ee-b840-4f21-bc7a-9ff50c94715d",
   "metadata": {},
   "outputs": [
    {
     "name": "stdout",
     "output_type": "stream",
     "text": [
      "Mesh: MeshQuad1, Element: ElementQuad1, refinement level: None\n",
      "\n",
      "<skfem MeshQuad1 object>\n",
      "  Number of elements: 1\n",
      "  Number of vertices: 4\n",
      "  Number of nodes: 4\n",
      "  Named boundaries [# facets]: left [1], bottom [1], right [1], top [1]\n",
      "\n",
      "<skfem CellBasis(MeshQuad1, ElementQuad1) object>\n",
      "  Number of elements: 1\n",
      "  Number of DOFs: 4\n",
      "  Size: 864 B\n",
      "\n"
     ]
    },
    {
     "data": {
      "image/svg+xml": [
       "<svg xmlns=\"http://www.w3.org/2000/svg\" version=\"1.1\" width=\"300\" height=\"300.0\"><line x1=\"1.0\" y1=\"299.0\" x2=\"299.0\" y2=\"299.0\" style=\"stroke:#7856FA;stroke-width:1\"/><line x1=\"1.0\" y1=\"299.0\" x2=\"1.0\" y2=\"1.0\" style=\"stroke:#7856FA;stroke-width:1\"/><line x1=\"299.0\" y1=\"299.0\" x2=\"299.0\" y2=\"1.0\" style=\"stroke:#7856FA;stroke-width:1\"/><line x1=\"299.0\" y1=\"1.0\" x2=\"1.0\" y2=\"1.0\" style=\"stroke:#7856FA;stroke-width:1\"/></svg>"
      ],
      "text/plain": [
       "<skfem MeshQuad1 object>\n",
       "  Number of elements: 1\n",
       "  Number of vertices: 4\n",
       "  Number of nodes: 4\n",
       "  Named boundaries [# facets]: left [1], bottom [1], right [1], top [1]"
      ]
     },
     "execution_count": 18,
     "metadata": {},
     "output_type": "execute_result"
    }
   ],
   "source": [
    "info_mesh_and_basis(MeshQuad1, ElementQuad1)"
   ]
  },
  {
   "cell_type": "code",
   "execution_count": 19,
   "id": "b8b057ae-9cbd-4c9b-a926-82bdc42dc950",
   "metadata": {},
   "outputs": [
    {
     "name": "stdout",
     "output_type": "stream",
     "text": [
      "Mesh: MeshQuad1, Element: ElementQuad1, refinement level: 1\n",
      "\n",
      "<skfem MeshQuad1 object>\n",
      "  Number of elements: 4\n",
      "  Number of vertices: 9\n",
      "  Number of nodes: 9\n",
      "  Named boundaries [# facets]: left [2], bottom [2], right [2], top [2]\n",
      "\n",
      "<skfem CellBasis(MeshQuad1, ElementQuad1) object>\n",
      "  Number of elements: 4\n",
      "  Number of DOFs: 9\n",
      "  Size: 3456 B\n",
      "\n"
     ]
    },
    {
     "data": {
      "image/svg+xml": [
       "<svg xmlns=\"http://www.w3.org/2000/svg\" version=\"1.1\" width=\"300\" height=\"300.0\"><line x1=\"1.0\" y1=\"299.0\" x2=\"150.0\" y2=\"299.0\" style=\"stroke:#7856FA;stroke-width:1\"/><line x1=\"1.0\" y1=\"299.0\" x2=\"1.0\" y2=\"150.0\" style=\"stroke:#7856FA;stroke-width:1\"/><line x1=\"150.0\" y1=\"299.0\" x2=\"150.0\" y2=\"150.0\" style=\"stroke:#7856FA;stroke-width:1\"/><line x1=\"150.0\" y1=\"150.0\" x2=\"1.0\" y2=\"150.0\" style=\"stroke:#7856FA;stroke-width:1\"/><line x1=\"150.0\" y1=\"299.0\" x2=\"299.0\" y2=\"299.0\" style=\"stroke:#7856FA;stroke-width:1\"/><line x1=\"150.0\" y1=\"299.0\" x2=\"150.0\" y2=\"150.0\" style=\"stroke:#7856FA;stroke-width:1\"/><line x1=\"299.0\" y1=\"299.0\" x2=\"299.0\" y2=\"150.0\" style=\"stroke:#7856FA;stroke-width:1\"/><line x1=\"299.0\" y1=\"150.0\" x2=\"150.0\" y2=\"150.0\" style=\"stroke:#7856FA;stroke-width:1\"/><line x1=\"150.0\" y1=\"150.0\" x2=\"299.0\" y2=\"150.0\" style=\"stroke:#7856FA;stroke-width:1\"/><line x1=\"150.0\" y1=\"150.0\" x2=\"150.0\" y2=\"1.0\" style=\"stroke:#7856FA;stroke-width:1\"/><line x1=\"299.0\" y1=\"150.0\" x2=\"299.0\" y2=\"1.0\" style=\"stroke:#7856FA;stroke-width:1\"/><line x1=\"299.0\" y1=\"1.0\" x2=\"150.0\" y2=\"1.0\" style=\"stroke:#7856FA;stroke-width:1\"/><line x1=\"1.0\" y1=\"150.0\" x2=\"150.0\" y2=\"150.0\" style=\"stroke:#7856FA;stroke-width:1\"/><line x1=\"1.0\" y1=\"150.0\" x2=\"1.0\" y2=\"1.0\" style=\"stroke:#7856FA;stroke-width:1\"/><line x1=\"150.0\" y1=\"150.0\" x2=\"150.0\" y2=\"1.0\" style=\"stroke:#7856FA;stroke-width:1\"/><line x1=\"150.0\" y1=\"1.0\" x2=\"1.0\" y2=\"1.0\" style=\"stroke:#7856FA;stroke-width:1\"/></svg>"
      ],
      "text/plain": [
       "<skfem MeshQuad1 object>\n",
       "  Number of elements: 4\n",
       "  Number of vertices: 9\n",
       "  Number of nodes: 9\n",
       "  Named boundaries [# facets]: left [2], bottom [2], right [2], top [2]"
      ]
     },
     "execution_count": 19,
     "metadata": {},
     "output_type": "execute_result"
    }
   ],
   "source": [
    "info_mesh_and_basis(MeshQuad1, ElementQuad1, 1)"
   ]
  },
  {
   "cell_type": "code",
   "execution_count": 20,
   "id": "555edcb3-2170-4f49-b198-4c99d2ce40d9",
   "metadata": {},
   "outputs": [
    {
     "name": "stdout",
     "output_type": "stream",
     "text": [
      "Mesh: MeshQuad1, Element: ElementQuad1, refinement level: 2\n",
      "\n",
      "<skfem MeshQuad1 object>\n",
      "  Number of elements: 16\n",
      "  Number of vertices: 25\n",
      "  Number of nodes: 25\n",
      "  Named boundaries [# facets]: left [4], bottom [4], right [4], top [4]\n",
      "\n",
      "<skfem CellBasis(MeshQuad1, ElementQuad1) object>\n",
      "  Number of elements: 16\n",
      "  Number of DOFs: 25\n",
      "  Size: 13824 B\n",
      "\n"
     ]
    },
    {
     "data": {
      "image/svg+xml": [
       "<svg xmlns=\"http://www.w3.org/2000/svg\" version=\"1.1\" width=\"300\" height=\"300.0\"><line x1=\"1.0\" y1=\"299.0\" x2=\"75.5\" y2=\"299.0\" style=\"stroke:#7856FA;stroke-width:1\"/><line x1=\"1.0\" y1=\"299.0\" x2=\"1.0\" y2=\"224.5\" style=\"stroke:#7856FA;stroke-width:1\"/><line x1=\"75.5\" y1=\"299.0\" x2=\"75.5\" y2=\"224.5\" style=\"stroke:#7856FA;stroke-width:1\"/><line x1=\"75.5\" y1=\"224.5\" x2=\"1.0\" y2=\"224.5\" style=\"stroke:#7856FA;stroke-width:1\"/><line x1=\"150.0\" y1=\"299.0\" x2=\"224.5\" y2=\"299.0\" style=\"stroke:#7856FA;stroke-width:1\"/><line x1=\"150.0\" y1=\"299.0\" x2=\"150.0\" y2=\"224.5\" style=\"stroke:#7856FA;stroke-width:1\"/><line x1=\"224.5\" y1=\"299.0\" x2=\"224.5\" y2=\"224.5\" style=\"stroke:#7856FA;stroke-width:1\"/><line x1=\"224.5\" y1=\"224.5\" x2=\"150.0\" y2=\"224.5\" style=\"stroke:#7856FA;stroke-width:1\"/><line x1=\"150.0\" y1=\"150.0\" x2=\"224.5\" y2=\"150.0\" style=\"stroke:#7856FA;stroke-width:1\"/><line x1=\"150.0\" y1=\"150.0\" x2=\"150.0\" y2=\"75.5\" style=\"stroke:#7856FA;stroke-width:1\"/><line x1=\"224.5\" y1=\"150.0\" x2=\"224.5\" y2=\"75.5\" style=\"stroke:#7856FA;stroke-width:1\"/><line x1=\"224.5\" y1=\"75.5\" x2=\"150.0\" y2=\"75.5\" style=\"stroke:#7856FA;stroke-width:1\"/><line x1=\"1.0\" y1=\"150.0\" x2=\"75.5\" y2=\"150.0\" style=\"stroke:#7856FA;stroke-width:1\"/><line x1=\"1.0\" y1=\"150.0\" x2=\"1.0\" y2=\"75.5\" style=\"stroke:#7856FA;stroke-width:1\"/><line x1=\"75.5\" y1=\"150.0\" x2=\"75.5\" y2=\"75.5\" style=\"stroke:#7856FA;stroke-width:1\"/><line x1=\"75.5\" y1=\"75.5\" x2=\"1.0\" y2=\"75.5\" style=\"stroke:#7856FA;stroke-width:1\"/><line x1=\"75.5\" y1=\"299.0\" x2=\"150.0\" y2=\"299.0\" style=\"stroke:#7856FA;stroke-width:1\"/><line x1=\"75.5\" y1=\"299.0\" x2=\"75.5\" y2=\"224.5\" style=\"stroke:#7856FA;stroke-width:1\"/><line x1=\"150.0\" y1=\"299.0\" x2=\"150.0\" y2=\"224.5\" style=\"stroke:#7856FA;stroke-width:1\"/><line x1=\"150.0\" y1=\"224.5\" x2=\"75.5\" y2=\"224.5\" style=\"stroke:#7856FA;stroke-width:1\"/><line x1=\"224.5\" y1=\"299.0\" x2=\"299.0\" y2=\"299.0\" style=\"stroke:#7856FA;stroke-width:1\"/><line x1=\"224.5\" y1=\"299.0\" x2=\"224.5\" y2=\"224.5\" style=\"stroke:#7856FA;stroke-width:1\"/><line x1=\"299.0\" y1=\"299.0\" x2=\"299.0\" y2=\"224.5\" style=\"stroke:#7856FA;stroke-width:1\"/><line x1=\"299.0\" y1=\"224.5\" x2=\"224.5\" y2=\"224.5\" style=\"stroke:#7856FA;stroke-width:1\"/><line x1=\"224.5\" y1=\"150.0\" x2=\"299.0\" y2=\"150.0\" style=\"stroke:#7856FA;stroke-width:1\"/><line x1=\"224.5\" y1=\"150.0\" x2=\"224.5\" y2=\"75.5\" style=\"stroke:#7856FA;stroke-width:1\"/><line x1=\"299.0\" y1=\"150.0\" x2=\"299.0\" y2=\"75.5\" style=\"stroke:#7856FA;stroke-width:1\"/><line x1=\"299.0\" y1=\"75.5\" x2=\"224.5\" y2=\"75.5\" style=\"stroke:#7856FA;stroke-width:1\"/><line x1=\"75.5\" y1=\"150.0\" x2=\"150.0\" y2=\"150.0\" style=\"stroke:#7856FA;stroke-width:1\"/><line x1=\"75.5\" y1=\"150.0\" x2=\"75.5\" y2=\"75.5\" style=\"stroke:#7856FA;stroke-width:1\"/><line x1=\"150.0\" y1=\"150.0\" x2=\"150.0\" y2=\"75.5\" style=\"stroke:#7856FA;stroke-width:1\"/><line x1=\"150.0\" y1=\"75.5\" x2=\"75.5\" y2=\"75.5\" style=\"stroke:#7856FA;stroke-width:1\"/><line x1=\"75.5\" y1=\"224.5\" x2=\"150.0\" y2=\"224.5\" style=\"stroke:#7856FA;stroke-width:1\"/><line x1=\"75.5\" y1=\"224.5\" x2=\"75.5\" y2=\"150.0\" style=\"stroke:#7856FA;stroke-width:1\"/><line x1=\"150.0\" y1=\"224.5\" x2=\"150.0\" y2=\"150.0\" style=\"stroke:#7856FA;stroke-width:1\"/><line x1=\"150.0\" y1=\"150.0\" x2=\"75.5\" y2=\"150.0\" style=\"stroke:#7856FA;stroke-width:1\"/><line x1=\"224.5\" y1=\"224.5\" x2=\"299.0\" y2=\"224.5\" style=\"stroke:#7856FA;stroke-width:1\"/><line x1=\"224.5\" y1=\"224.5\" x2=\"224.5\" y2=\"150.0\" style=\"stroke:#7856FA;stroke-width:1\"/><line x1=\"299.0\" y1=\"224.5\" x2=\"299.0\" y2=\"150.0\" style=\"stroke:#7856FA;stroke-width:1\"/><line x1=\"299.0\" y1=\"150.0\" x2=\"224.5\" y2=\"150.0\" style=\"stroke:#7856FA;stroke-width:1\"/><line x1=\"224.5\" y1=\"75.5\" x2=\"299.0\" y2=\"75.5\" style=\"stroke:#7856FA;stroke-width:1\"/><line x1=\"224.5\" y1=\"75.5\" x2=\"224.5\" y2=\"1.0\" style=\"stroke:#7856FA;stroke-width:1\"/><line x1=\"299.0\" y1=\"75.5\" x2=\"299.0\" y2=\"1.0\" style=\"stroke:#7856FA;stroke-width:1\"/><line x1=\"299.0\" y1=\"1.0\" x2=\"224.5\" y2=\"1.0\" style=\"stroke:#7856FA;stroke-width:1\"/><line x1=\"75.5\" y1=\"75.5\" x2=\"150.0\" y2=\"75.5\" style=\"stroke:#7856FA;stroke-width:1\"/><line x1=\"75.5\" y1=\"75.5\" x2=\"75.5\" y2=\"1.0\" style=\"stroke:#7856FA;stroke-width:1\"/><line x1=\"150.0\" y1=\"75.5\" x2=\"150.0\" y2=\"1.0\" style=\"stroke:#7856FA;stroke-width:1\"/><line x1=\"150.0\" y1=\"1.0\" x2=\"75.5\" y2=\"1.0\" style=\"stroke:#7856FA;stroke-width:1\"/><line x1=\"1.0\" y1=\"224.5\" x2=\"75.5\" y2=\"224.5\" style=\"stroke:#7856FA;stroke-width:1\"/><line x1=\"1.0\" y1=\"224.5\" x2=\"1.0\" y2=\"150.0\" style=\"stroke:#7856FA;stroke-width:1\"/><line x1=\"75.5\" y1=\"224.5\" x2=\"75.5\" y2=\"150.0\" style=\"stroke:#7856FA;stroke-width:1\"/><line x1=\"75.5\" y1=\"150.0\" x2=\"1.0\" y2=\"150.0\" style=\"stroke:#7856FA;stroke-width:1\"/><line x1=\"150.0\" y1=\"224.5\" x2=\"224.5\" y2=\"224.5\" style=\"stroke:#7856FA;stroke-width:1\"/><line x1=\"150.0\" y1=\"224.5\" x2=\"150.0\" y2=\"150.0\" style=\"stroke:#7856FA;stroke-width:1\"/><line x1=\"224.5\" y1=\"224.5\" x2=\"224.5\" y2=\"150.0\" style=\"stroke:#7856FA;stroke-width:1\"/><line x1=\"224.5\" y1=\"150.0\" x2=\"150.0\" y2=\"150.0\" style=\"stroke:#7856FA;stroke-width:1\"/><line x1=\"150.0\" y1=\"75.5\" x2=\"224.5\" y2=\"75.5\" style=\"stroke:#7856FA;stroke-width:1\"/><line x1=\"150.0\" y1=\"75.5\" x2=\"150.0\" y2=\"1.0\" style=\"stroke:#7856FA;stroke-width:1\"/><line x1=\"224.5\" y1=\"75.5\" x2=\"224.5\" y2=\"1.0\" style=\"stroke:#7856FA;stroke-width:1\"/><line x1=\"224.5\" y1=\"1.0\" x2=\"150.0\" y2=\"1.0\" style=\"stroke:#7856FA;stroke-width:1\"/><line x1=\"1.0\" y1=\"75.5\" x2=\"75.5\" y2=\"75.5\" style=\"stroke:#7856FA;stroke-width:1\"/><line x1=\"1.0\" y1=\"75.5\" x2=\"1.0\" y2=\"1.0\" style=\"stroke:#7856FA;stroke-width:1\"/><line x1=\"75.5\" y1=\"75.5\" x2=\"75.5\" y2=\"1.0\" style=\"stroke:#7856FA;stroke-width:1\"/><line x1=\"75.5\" y1=\"1.0\" x2=\"1.0\" y2=\"1.0\" style=\"stroke:#7856FA;stroke-width:1\"/></svg>"
      ],
      "text/plain": [
       "<skfem MeshQuad1 object>\n",
       "  Number of elements: 16\n",
       "  Number of vertices: 25\n",
       "  Number of nodes: 25\n",
       "  Named boundaries [# facets]: left [4], bottom [4], right [4], top [4]"
      ]
     },
     "execution_count": 20,
     "metadata": {},
     "output_type": "execute_result"
    }
   ],
   "source": [
    "info_mesh_and_basis(MeshQuad1, ElementQuad1, 2)"
   ]
  },
  {
   "cell_type": "code",
   "execution_count": null,
   "id": "910e33ce-6897-471a-8e8b-60a2b0cd472f",
   "metadata": {},
   "outputs": [],
   "source": []
  }
 ],
 "metadata": {
  "kernelspec": {
   "display_name": "scikit-fem",
   "language": "python",
   "name": "scikit-fem"
  },
  "language_info": {
   "codemirror_mode": {
    "name": "ipython",
    "version": 3
   },
   "file_extension": ".py",
   "mimetype": "text/x-python",
   "name": "python",
   "nbconvert_exporter": "python",
   "pygments_lexer": "ipython3",
   "version": "3.12.2"
  }
 },
 "nbformat": 4,
 "nbformat_minor": 5
}
